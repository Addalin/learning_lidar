{
 "cells": [
  {
   "cell_type": "code",
   "execution_count": 1,
   "metadata": {
    "collapsed": false,
    "jupyter": {
     "outputs_hidden": false
    },
    "pycharm": {
     "name": "#%% Imports\n"
    }
   },
   "outputs": [
    {
     "name": "stdout",
     "output_type": "stream",
     "text": [
      "fast_funcs not available\n"
     ]
    }
   ],
   "source": [
    "import glob\n",
    "import os\n",
    "from datetime import datetime, timedelta, time\n",
    "\n",
    "import matplotlib.pyplot as plt\n",
    "import numpy as np\n",
    "import pandas as pd\n",
    "import xarray as xr\n",
    "\n",
    "import learning_lidar.preprocessing.preprocessing as prep\n",
    "import learning_lidar.preprocessing.preprocessing_utils as prep_utils\n",
    "from learning_lidar.utils import xr_utils, global_settings as gs\n",
    "import learning_lidar.utils.vis_utils as vis_utils\n",
    "%matplotlib inline\n",
    "from IPython.display import display\n",
    "\n",
    "vis_utils.set_visualization_settings()"
   ]
  },
  {
   "cell_type": "code",
   "execution_count": 2,
   "metadata": {
    "collapsed": false,
    "jupyter": {
     "outputs_hidden": false
    },
    "pycharm": {
     "name": "#%%\n"
    }
   },
   "outputs": [],
   "source": [
    "def daily_ds_histogram(dataset, profile_type='range_corr',\n",
    "                       SAVE_FIG = False , dst_folder = os.path.join ( '..' , 'Figures' )\n",
    "                       , format_fig = 'png'):\n",
    "    import matplotlib.ticker as mticker\n",
    "    from decimal import Decimal\n",
    "    #logger = logging.getLogger ( )\n",
    "\n",
    "    date_datetime = prep.get_daily_ds_date ( dataset )\n",
    "    ds_profile = dataset.get(profile_type)\n",
    "    df_stats = pd.DataFrame(columns=['wavelength [nm]', 'valid size', 'positive %', 'negative %'])\n",
    "    fig, axes = plt.subplots(nrows=1, ncols=2, figsize=(11, 6),sharey=True)\n",
    "    ax = axes.ravel()\n",
    "    th = 0\n",
    "    wavelengths = dataset.Wavelength.values.tolist()\n",
    "    for ind,(wavelength) in enumerate(wavelengths):\n",
    "        sub_ds = ds_profile.sel(Wavelength = wavelength)\n",
    "        orig_size = sub_ds.where(sub_ds != np.nan ).values.size\n",
    "\n",
    "        # positive values histogram\n",
    "        pos_vals = sub_ds.where(sub_ds > th).where(sub_ds != np.nan).values\n",
    "        pos_vals = pos_vals[~np.isnan(pos_vals)]\n",
    "        pos_size = pos_vals.size\n",
    "\n",
    "        nbins = 100 #if pos_size>100 else 10\n",
    "        hist, bins =np.histogram(pos_vals, bins=nbins)\n",
    "        logbins = np.logspace(np.log10(bins[0]),np.log10(bins[-1]),len(bins))\n",
    "        ax[1].hist(pos_vals, bins=logbins, label = f\"$\\lambda={wavelength}$\",\n",
    "                   alpha=0.4)\n",
    "        ax[1].set_xscale('symlog')\n",
    "\n",
    "        #negative values histogram\n",
    "        neg_ds = sub_ds.where(sub_ds < -th).where(sub_ds != np.nan )#.values\n",
    "        neg_vals= neg_ds.values[~np.isnan(neg_ds.values)]\n",
    "        neg_size = neg_vals.size\n",
    "        if neg_size>0:\n",
    "            nbins = 100 if neg_size>100 else 1\n",
    "            histneg, binsneg =np.histogram(neg_vals, bins=nbins)\n",
    "            neg_logbins = np.logspace(np.log10(-binsneg[-1]),np.log10(-binsneg[0]),len(binsneg))\n",
    "            ax[0].hist(-neg_vals, bins=neg_logbins, label = f\"$\\lambda={wavelength}$\",\n",
    "                       alpha=0.5)\n",
    "\n",
    "        df_stats.loc[ind] = [wavelength, orig_size, f\"{100.0*pos_size/orig_size:.2f}\" ,\n",
    "                           f\"{100.0*neg_size/orig_size :.2f}\"]\n",
    "\n",
    "    # fixing xticks with FixedLocator but also using MaxNLocator to avoid cramped x-labels\n",
    "    ticks_loc = ax[1].get_xticks().tolist()\n",
    "    ax[1].xaxis.set_major_locator(mticker.FixedLocator(ticks_loc))\n",
    "    new_posx_ticks = [f\"$10^{np.log10(Decimal(n))}$\" if n>0 else round(n) for n in ticks_loc]\n",
    "    ax[1].set_xticklabels(new_posx_ticks)\n",
    "    if neg_size>0:\n",
    "        ax[0].set_xscale('log')\n",
    "        ax[0].invert_xaxis()\n",
    "        ax[0].set_xscale('symlog')\n",
    "        #ax[0].legend()\n",
    "        ticks_loc = ax[0].get_xticks()#.tolist()\n",
    "        ax[0].xaxis.set_major_locator(mticker.FixedLocator(ticks_loc))\n",
    "        new_negx_ticks = [f\"$-10^{np.log10(Decimal(n))}$\" if n>0 else round(n) for n in ticks_loc]\n",
    "        ax[0].set_xticklabels(new_negx_ticks)\n",
    "\n",
    "    ax[1].legend(loc= 'upper left')\n",
    "    y_lim = ax[1].get_ylim()\n",
    "    ax[0].set_ylim(y_lim)\n",
    "    ax[0].ticklabel_format(axis='y', style='sci', scilimits=(0,0))\n",
    "    ax[0].tick_params(axis='both', which='major')\n",
    "    ax[0].set_ylabel('counts')\n",
    "    ax[1].tick_params(axis='both', which='major')\n",
    "    xlabels = f\"{ds_profile.long_name}\\n[{ds_profile.units}]\"\n",
    "    ax[0].set_xlabel(xlabels,position=(1.05, 1e6),\n",
    "                     horizontalalignment='center')\n",
    "    print(date_datetime)\n",
    "    stitle = f\"Histogram of {ds_profile.info.lower()} \" \\\n",
    "             f\"\\n {dataset.attrs['location']} {date_datetime.strftime('%Y-%m-%d')}\"\n",
    "    fig.suptitle(stitle)\n",
    "    plt.tight_layout()\n",
    "    plt.show()\n",
    "\n",
    "    if SAVE_FIG :\n",
    "        fname = f\"{date_datetime.strftime ( '%Y-%m-%d' )}_{dataset.attrs ['location']}_{profile_type}_\" \\\n",
    "                f\"source_{dataset.attrs['source_type']}_histogram.{format_fig}\"\n",
    "        if not os.path.exists ( dst_folder ) :\n",
    "            try :\n",
    "                os.makedirs ( dst_folder , exist_ok = True )\n",
    "                print (f\"Creating folder: {dst_folder}\") # logger.debug ( f\"Creating folder: {dst_folder}\" )\n",
    "            except Exception :\n",
    "                raise OSError ( f\"Failed to create folder: {dst_folder}\" )\n",
    "        fpath = os.path.join ( dst_folder , fname )\n",
    "        fig.savefig(fpath,bbox_inches='tight', format = format_fig)\n",
    "        print(f\"Figure saved at {fpath}\") # logger.debug ( f\"Figure saved at {fpath}\" )\n",
    "    return (fig,axes,df_stats)\n",
    "\n",
    "def get_TROPOS_raw_nc_timestamp(nc_path):\n",
    "\tformat_filename = r\"(.*)_(.*)_TROPOS_(.*)_01.nc\"\n",
    "\tformat_times = [\"%Y_%m_%d\",\"%a\", \"%H_%M\"]\n",
    "\tdate_time = prep.extract_date_time(nc_path,format_filename, format_times)\n",
    "\ttimestamp = datetime.combine(date = date_time[0].date(),time=date_time[2].time())\n",
    "\treturn timestamp\n"
   ]
  },
  {
   "cell_type": "markdown",
   "metadata": {
    "jupyter": {
     "outputs_hidden": false
    },
    "pycharm": {
     "name": "#%% md\n"
    }
   },
   "source": [
    "# Exploring dynamic range of the signal\n",
    "#### This notebook compares the range corrected signal retrieved from two sources:\n",
    "#### 1. The raw lidar measurements as : $(p-p_{bg})\\cdot r^2 $\n",
    "#### 2. The post analysed signal by TROPOS as: $att\\_bsc \\cdot CL $\n",
    "> Where:\n",
    "> 1. $att\\_bsc = \\beta \\cdot \\exp(-2\\tau)$\n",
    "> $(p - p_{bg})\\cdot r^2 \\cdot  = att\\_bsc\\cdot CL$\n",
    "> 2. The values $att\\_bsc$ and $CL$ are found in the files: `*att_bsc.nc`\n",
    "> 3. The lidar measurements are found in the files: `measure_datetime.strftime(%Y_%m_%d_%a_TROPOS_%H_%m_01.nc)`,\n",
    "> where `measure_datetime` is the start measure time of the file, e.g., 2017_09_12_Tue_TROPOS_18_00_01.nc`\n"
   ]
  },
  {
   "cell_type": "code",
   "execution_count": 3,
   "metadata": {
    "collapsed": false,
    "jupyter": {
     "outputs_hidden": false
    },
    "pycharm": {
     "name": "#%%\n"
    }
   },
   "outputs": [
    {
     "name": "stdout",
     "output_type": "stream",
     "text": [
      "load station and setting date\n",
      "2017-09-13 00:00:00\n",
      "\n",
      " <class 'learning_lidar.utils.global_settings.Station'>:\n",
      "  {'name': 'Haifa',\n",
      "   'location': 'Haifa',\n",
      "   'state': 'Israel',\n",
      "   'lon': 35.02,\n",
      "   'lat': 32.8,\n",
      "   'altitude': 230.0,\n",
      "   'start_bin_height': 78.75,\n",
      "   'end_bin_height': 22485.66016,\n",
      "   'n_bins': 3000,\n",
      "   'dt': 5.0000000000000004e-08,\n",
      "   'freq': 30,\n",
      "   'total_time_bins': 2880,\n",
      "   'pt_bin': 250,\n",
      "   'gdas1_folder': 'H:\\\\data_haifa\\\\DATA FROM TROPOS\\\\GDAS\\\\haifa',\n",
      "   'gdastxt_folder': 'H:\\\\data_haifa\\\\DATA FROM TROPOS\\\\GDAS\\\\haifa_preproc',\n",
      "   'lidar_src_calib_folder': 'H:\\\\data_haifa\\\\DATA FROM TROPOS\\\\data\\\\level1a\\\\PollyXT_TROPOS',\n",
      "   'lidar_src_folder': 'H:\\\\data_haifa\\\\DATA FROM TROPOS\\\\data\\\\level0\\\\PollyXT_TROPOS',\n",
      "   'molecular_dataset': 'D:\\\\data_haifa\\\\DATA FROM TROPOS\\\\molecular_dataset',\n",
      "   'lidar_dataset': 'D:\\\\data_haifa\\\\DATA FROM TROPOS\\\\lidar_dataset',\n",
      "   'bg_dataset': 'D:\\\\data_haifa\\\\DATA FROM TROPOS\\\\bg_dataset',\n",
      "   'lidar_dataset_calib': 'D:\\\\data_haifa\\\\DATA FROM TROPOS\\\\lidar_dataset_calib',\n",
      "   'db_file': 'H:\\\\data_haifa\\\\DATA FROM TROPOS\\\\data\\\\level1a\\\\PollyXT_TROPOS\\\\pollyxt_tropos_calibration.db',\n",
      "   'aeronet_folder': 'D:\\\\data_haifa\\\\AERONET',\n",
      "   'aeronet_name': 'Technion_Haifa_IL',\n",
      "   'generation_folder': 'D:\\\\data_haifa\\\\GENERATION\\\\params_dataset',\n",
      "   'gen_lidar_dataset': 'D:\\\\data_haifa\\\\GENERATION\\\\lidar_dataset',\n",
      "   'gen_signal_dataset': 'D:\\\\data_haifa\\\\GENERATION\\\\signal_dataset',\n",
      "   'gen_aerosol_dataset': 'D:\\\\data_haifa\\\\GENERATION\\\\aerosol_dataset',\n",
      "   'gen_bg_dataset': 'D:\\\\data_haifa\\\\GENERATION\\\\bg_dataset',\n",
      "   'gen_density_dataset': 'D:\\\\data_haifa\\\\GENERATION\\\\density_dataset',\n",
      "   'Angstrom_LidarRatio': 'C:\\\\Users\\\\addalin\\\\Dropbox\\\\Lidar\\\\lidar_learning\\\\data\\\\Angstrom_LidarRatio\\\\plot_data\\\\data_points_with_error_bars.csv'}\n"
     ]
    }
   ],
   "source": [
    "print('load station and setting date')\n",
    "\n",
    "'''set day'''\n",
    "day_date = datetime(2017,9,13)\n",
    "print(day_date)\n",
    "\n",
    "'''set station'''\n",
    "\n",
    "station = gs.Station('Haifa')\n",
    "print(station)"
   ]
  },
  {
   "cell_type": "code",
   "execution_count": 4,
   "metadata": {
    "collapsed": false,
    "jupyter": {
     "outputs_hidden": false
    },
    "pycharm": {
     "name": "#%%\n"
    }
   },
   "outputs": [
    {
     "name": "stdout",
     "output_type": "stream",
     "text": [
      "[]\n"
     ]
    }
   ],
   "source": [
    "# TODO: fix folder location of original data from TROPOS\n",
    "LOAD_LIDAR_DS = True\n",
    "if LOAD_LIDAR_DS:\n",
    "\tlidar_ncpaths= xr_utils.get_prep_dataset_paths ( station , day_date ,\n",
    "\t                                             data_source = 'lidar',\n",
    "\t                                             file_type = 'range_corr')\n",
    "\n",
    "\tprint(lidar_ncpaths)"
   ]
  },
  {
   "cell_type": "code",
   "execution_count": 5,
   "metadata": {
    "collapsed": false,
    "jupyter": {
     "outputs_hidden": false
    },
    "pycharm": {
     "name": "#%% Load ds  - load all profiles\n"
    }
   },
   "outputs": [
    {
     "name": "stdout",
     "output_type": "stream",
     "text": [
      "Load range corr in all channels\n"
     ]
    },
    {
     "ename": "IndexError",
     "evalue": "list index out of range",
     "output_type": "error",
     "traceback": [
      "\u001B[1;31m---------------------------------------------------------------------------\u001B[0m",
      "\u001B[1;31mIndexError\u001B[0m                                Traceback (most recent call last)",
      "\u001B[1;32m<ipython-input-5-590d944b12d1>\u001B[0m in \u001B[0;36m<module>\u001B[1;34m\u001B[0m\n\u001B[0;32m      1\u001B[0m \u001B[1;32mif\u001B[0m \u001B[0mLOAD_LIDAR_DS\u001B[0m\u001B[1;33m:\u001B[0m\u001B[1;33m\u001B[0m\u001B[1;33m\u001B[0m\u001B[0m\n\u001B[0;32m      2\u001B[0m         \u001B[0mprint\u001B[0m\u001B[1;33m(\u001B[0m \u001B[1;34m'Load range corr in all channels'\u001B[0m\u001B[1;33m)\u001B[0m\u001B[1;33m\u001B[0m\u001B[1;33m\u001B[0m\u001B[0m\n\u001B[1;32m----> 3\u001B[1;33m         \u001B[0mnetcdf\u001B[0m \u001B[1;33m=\u001B[0m \u001B[0mlidar_ncpaths\u001B[0m\u001B[1;33m[\u001B[0m\u001B[1;33m-\u001B[0m\u001B[1;36m1\u001B[0m\u001B[1;33m]\u001B[0m\u001B[1;33m\u001B[0m\u001B[1;33m\u001B[0m\u001B[0m\n\u001B[0m\u001B[0;32m      4\u001B[0m         \u001B[0mds_range_corr_daily\u001B[0m \u001B[1;33m=\u001B[0m  \u001B[0mxr_utils\u001B[0m\u001B[1;33m.\u001B[0m\u001B[0mload_dataset\u001B[0m\u001B[1;33m(\u001B[0m\u001B[0mnetcdf\u001B[0m\u001B[1;33m)\u001B[0m\u001B[1;33m\u001B[0m\u001B[1;33m\u001B[0m\u001B[0m\n\u001B[0;32m      5\u001B[0m         \u001B[0mdisplay\u001B[0m\u001B[1;33m(\u001B[0m\u001B[0mds_range_corr_daily\u001B[0m\u001B[1;33m)\u001B[0m\u001B[1;33m\u001B[0m\u001B[1;33m\u001B[0m\u001B[0m\n",
      "\u001B[1;31mIndexError\u001B[0m: list index out of range"
     ]
    }
   ],
   "source": [
    "if LOAD_LIDAR_DS:\n",
    "\tprint( 'Load range corr in all channels')\n",
    "\tnetcdf = lidar_ncpaths[-1]\n",
    "\tds_range_corr_daily =  xr_utils.load_dataset(netcdf)\n",
    "\tdisplay(ds_range_corr_daily)"
   ]
  },
  {
   "cell_type": "code",
   "execution_count": null,
   "metadata": {
    "collapsed": false,
    "jupyter": {
     "outputs_hidden": false
    },
    "pycharm": {
     "name": "#%% Load profile_ds\n"
    }
   },
   "outputs": [],
   "source": [
    "if LOAD_LIDAR_DS:\n",
    "\tprint( 'Load range corr per channel')\n",
    "\tnetcdf = lidar_ncpaths[0]\n",
    "\tds_load_pr2_chan = xr_utils.load_dataset(netcdf)\n",
    "\tdisplay(ds_load_pr2_chan)"
   ]
  },
  {
   "cell_type": "code",
   "execution_count": null,
   "metadata": {
    "collapsed": false,
    "jupyter": {
     "outputs_hidden": false
    },
    "pycharm": {
     "name": "#%% FIGURE SAVE PARAMETERS\n"
    }
   },
   "outputs": [],
   "source": [
    "SAVE_FIG = False\n",
    "VIS_LIDAR_DS = True"
   ]
  },
  {
   "cell_type": "code",
   "execution_count": null,
   "outputs": [],
   "source": [
    "lidar_ncpaths[0]\n",
    "path = r'D:\\data_haifa\\DATA FROM TROPOS\\lidar_dataset_calib\\2017\\09'\n",
    "name = '2017_09_01_Haifa_lidar.nc'\n",
    "netcdf = os.path.join(path,name)\n",
    "ds_range_corr_daily.range_corr.dims\n",
    "ds_load_pr2 = xr_utils.load_dataset(netcdf)\n",
    "ds_load_pr2.dims\n",
    "ds_load_pr2.range_corr.where(ds_load_pr2.range_corr<76178499.24256036).sel(Wavelength = 532).plot(cmap='turbo')\n",
    "plt.show()"
   ],
   "metadata": {
    "collapsed": false,
    "pycharm": {
     "name": "#%%\n"
    }
   }
  },
  {
   "cell_type": "code",
   "execution_count": null,
   "outputs": [],
   "source": [
    "wavelengths = ds_range_corr_daily.Wavelength.values.tolist()"
   ],
   "metadata": {
    "collapsed": false,
    "pycharm": {
     "name": "#%%\n"
    }
   }
  },
  {
   "cell_type": "code",
   "execution_count": null,
   "metadata": {
    "collapsed": false,
    "jupyter": {
     "outputs_hidden": false
    },
    "pycharm": {
     "name": "#%% VISUALIZE RANGE CORRECTED - witout limits\n"
    }
   },
   "outputs": [],
   "source": [
    "if VIS_LIDAR_DS:\n",
    "\n",
    "\tprint('visualizing without range_plot:')\n",
    "\tfor wav in wavelengths:\n",
    "\t\tprofile_type = 'range_corr'\n",
    "\t\tUSE_RANGE = None\n",
    "\t\tg = prep_utils.visualize_ds_profile_chan(ds_range_corr_daily, wav,\n",
    "\t\t                                   profile_type = profile_type, SAVE_FIG= SAVE_FIG)"
   ]
  },
  {
   "cell_type": "code",
   "execution_count": null,
   "metadata": {
    "collapsed": false,
    "jupyter": {
     "outputs_hidden": false
    },
    "pycharm": {
     "name": "#%% VISUALIZE RANGE CORRECTED\n"
    }
   },
   "outputs": [],
   "source": [
    "if VIS_LIDAR_DS:\n",
    "\tprint(\"Visualizing within the 'range_plot' bounding values:\")\n",
    "\tfor wav in wavelengths:\n",
    "\t\tg = prep_utils.visualize_ds_profile_chan(ds_range_corr_daily, wav,\n",
    "\t\t                                   profile_type = profile_type,USE_RANGE='MID', SAVE_FIG= SAVE_FIG)"
   ]
  },
  {
   "cell_type": "code",
   "execution_count": null,
   "metadata": {
    "collapsed": false,
    "jupyter": {
     "outputs_hidden": false
    },
    "pycharm": {
     "name": "#%% VISUALIZE RANGE CORRECTED - lower range\n"
    }
   },
   "outputs": [],
   "source": [
    "if VIS_LIDAR_DS:\n",
    "\tprint(\"Visualizing below the 'range_plot':\")\n",
    "\tfor wav in wavelengths:\n",
    "\t\tg = prep.visualize_ds_profile_chan(ds_range_corr_daily, wav,\n",
    "                                   profile_type = profile_type,USE_RANGE='LOW', SAVE_FIG= SAVE_FIG)"
   ]
  },
  {
   "cell_type": "code",
   "execution_count": null,
   "metadata": {
    "collapsed": false,
    "jupyter": {
     "outputs_hidden": false
    },
    "pycharm": {
     "name": "#%% VISUALIZE RANGE CORRECTED - upper range\n"
    }
   },
   "outputs": [],
   "source": [
    "if VIS_LIDAR_DS:\n",
    "\tprint(\"Visualizing above the 'range_plot':\")\n",
    "\tfor wav in wavelengths:\n",
    "\t\tg = prep_utils.visualize_ds_profile_chan(ds_range_corr_daily, wav,\n",
    "                                   profile_type = profile_type,USE_RANGE='HIGH', SAVE_FIG= SAVE_FIG)"
   ]
  },
  {
   "cell_type": "code",
   "execution_count": null,
   "metadata": {
    "collapsed": false,
    "jupyter": {
     "outputs_hidden": false
    },
    "pycharm": {
     "name": "#%% Values ststistics\n"
    }
   },
   "outputs": [],
   "source": [
    "if VIS_LIDAR_DS:\n",
    "\t_,_,df_stats= daily_ds_histogram(ds_range_corr_daily)#, profile='range_corr', SAVE_FIG = True)\n",
    "\tdisplay(df_stats)\n"
   ]
  },
  {
   "cell_type": "code",
   "execution_count": null,
   "metadata": {
    "collapsed": false,
    "jupyter": {
     "outputs_hidden": false
    },
    "pycharm": {
     "name": "#%% raw lidar measurments\n"
    }
   },
   "outputs": [],
   "source": [
    "#base_folder =\n",
    "\n",
    "base_path = (os.path.dirname(os.path.abspath(os.curdir)))\n",
    "data_path = os.path.join(base_path,'data')\n",
    "examples_path= os.path.join(data_path,'data examples')\n",
    "netcdf_folder = os.path.join(examples_path,'lidar netcdf')"
   ]
  },
  {
   "cell_type": "code",
   "execution_count": null,
   "outputs": [],
   "source": [
    "raw_nc_paths = sorted(glob.glob(os.path.join(netcdf_folder,\"*.nc\")))\n",
    "timestamps = [get_TROPOS_raw_nc_timestamp(path) for path in raw_nc_paths]\n",
    "print(timestamps)\n",
    "df_times = pd.DataFrame(data = timestamps, columns = ['timestamp'])\n",
    "\n",
    "days_g = df_times.groupby([df_times.timestamp.dt.date]).groups\n",
    "days = list(days_g.keys())\n",
    "#print(days)\n",
    "\n",
    "for day in days[1:2]:\n",
    "\tdt_day = datetime.combine(date = day, time =  time.min)\n",
    "\tdstamps = [timestamps[ind] for ind in days_g[day].tolist()]\n",
    "\tprint(f'day: {day}, hours:{dstamps}')\n",
    "\tds_hours = []\n",
    "\tfor stamp in dstamps:\n",
    "\t\tfilename = f\"{stamp.strftime('%Y_%m_%d')}_{stamp.strftime('%a')}_TROPOS_{stamp.strftime('%H_%M')}_01.nc\"\n",
    "\t\tlidar_ds = prep.load_dataset(os.path.join(netcdf_folder,filename))\n",
    "\t\tprint(filename)\n",
    "\t\t#print()\n",
    "\t\t#display(lidar_ds)\n",
    "\n",
    "\t\tchannels =  gs.CHANNELS().get_elastic()\n",
    "\t\twavelengths = gs.LAMBDA_nm().get_elastic()\n",
    "\t\tds_chans = []\n",
    "\n",
    "\t\t# Separate bins to:\n",
    "\t\t# 1. background bins (pre-triggered)\n",
    "\t\t# 2. height bins of the raw signal (post-triggered)\n",
    "\t\ttotal_bins = lidar_ds.height.shape[0]\n",
    "\t\tpt_bin = 248 # pre-triggered bins\n",
    "\t\theight_bins = lidar_ds.height.values[pt_bin:total_bins]\n",
    "\t\tbg_bins = lidar_ds.height.values[0:pt_bin]\n",
    "\t\tn_heights =  height_bins.shape[0] # This value is useful for estimation of background signal from poisson distribution.\n",
    "\n",
    "\t\t# Calculate range and range^2\n",
    "\t\theight_res = lidar_ds.measurement_height_resolution.values * 1e-9\n",
    "\t\trange = np.array([(h_ind+1) * (gs.C_m_s*height_res)/2 for h_ind in (height_bins-pt_bin)])\n",
    "\t\tr2 = range**2  # this value is used to calculate range corrected signal: pr^2\n",
    "\n",
    "\n",
    "\t\t# Set height indexes\n",
    "\t\taltitude = lidar_ds.location_height.values\n",
    "\t\trange_km  = (range + altitude)* 1e-3\n",
    "\n",
    "\t\t# Set time indexes\n",
    "\t\tend_time = stamp + timedelta(hours=6) - timedelta(seconds = 30)\n",
    "\t\ttimes = pd.date_range(start =stamp,end = end_time, freq = '30S')\n",
    "\n",
    "\t\t# get raw signal per channel\n",
    "\t\tfor chan,lambda_nm in zip(channels, wavelengths):\n",
    "\t\t\tdf_bg = lidar_ds.sel(channel = chan , height = bg_bins).raw_signal.transpose(transpose_coords = True).to_pandas()\n",
    "\t\t\tdf_raw = lidar_ds.sel(channel = chan, height = height_bins).raw_signal.transpose(transpose_coords = True).to_pandas()\n",
    "\n",
    "\t\t\t# calculate background signal\n",
    "\t\t\tdf_mean_bg = df_bg.mean(axis=0)\n",
    "\t\t\t# bg_df = pd.DataFrame(np.array([misc_lidar.generate_poisson_signal(mu= mu_k,n= n_heights) for mu_k in mean_bg]).astype(np.int).T)\n",
    "\n",
    "\t\t\t# remove bg signal\n",
    "\t\t\tdf_signal = df_raw - df_mean_bg\n",
    "\t\t\t#df_signal[df_signal<0]=0\n",
    "\n",
    "\t\t\t#calc range corrected signal\n",
    "\t\t\tdf_pr2 = df_signal.apply(lambda row,r2: row*r2, axis=0,args = (r2,), result_type ='expand')\n",
    "\t\t\t#display(df_pr2)\n",
    "\n",
    "\n",
    "\t\t\tds_chan= xr.Dataset (\n",
    "\t\t\t        data_vars = {'range_corr' : (('Height' , 'Time') , df_pr2    ),\n",
    "\t\t\t                     'bg_mean'    : (('Time')            , df_mean_bg),\n",
    "\t\t\t                     'raw_signal' : (('Height' , 'Time') , df_raw    ),\n",
    "\t\t\t                     'lambda_nm'  : ('Wavelength'        , [ lambda_nm ]   )\n",
    "\t\t\t                     } ,\n",
    "\t\t\t        coords = {'Height' : range_km ,\n",
    "\t\t\t                  'Time' : times.values,\n",
    "\t\t\t\t\t\t\t  'Wavelength' : [ lambda_nm ]})\n",
    "\t\t\tds_chan.range_corr.attrs = {'long_name' : r'$p r^2$' ,\n",
    "\t\t\t                                       'units' : r'$photons \\cdot m^2$' ,\n",
    "\t\t\t                                       'info' : 'Range corrected from raw lidar signal'}\n",
    "\t\t\tds_chan.bg_mean.attrs = {'long_name' : r'$<p_{bg}>$' ,\n",
    "\t\t\t                                       'units' : r'$photons$' ,\n",
    "\t\t\t                                       'info' : 'Mean background from raw lidar signal'}\n",
    "\t\t\tds_chan.raw_signal.attrs = {'long_name' : r'$p$' ,\n",
    "\t\t\t                                       'units' : r'$photons$' ,\n",
    "\t\t\t                                       'info' : 'Raw lidar signal'}\n",
    "\t\t\t# set attributes of coordinates\n",
    "\t\t\tds_chan.Height.attrs = {'units' : '{}'.format ( '{}'.format ( 'km' ) ) ,\n",
    "\t\t\t                     'info' : 'Measurements heights above ground level'}\n",
    "\t\t\tds_chan.Wavelength.attrs = {'long_name' : r'$\\lambda$' , 'units' : r'$nm$'}\n",
    "\n",
    "\t\t\tds_chans.append(ds_chan)\n",
    "\n",
    "\t\tcur_ds = xr.concat ( ds_chans , dim = 'Wavelength' )\n",
    "\t\tds_hours.append(cur_ds)\n",
    "\n",
    "ds_lidar_daily = xr.merge ( ds_hours , compat = 'no_conflicts' )\n",
    "#display(ds_lidar_daily)\n",
    "\n",
    "# Fixing missing timestamps values:\n",
    "time_indx = pd.date_range(start = dt_day, end = (dt_day+timedelta(hours = 24)-timedelta(seconds = 30)), freq = '30S')\n",
    "ds_lidar_daily = ds_lidar_daily.reindex ( {\"Time\" : time_indx} , fill_value = 0 )\n",
    "# Adding info attributes:\n",
    "ds_lidar_daily [ 'date' ] = dt_day\n",
    "ds_lidar_daily.attrs [ 'location' ] = station.location\n",
    "ds_lidar_daily.attrs [ 'info' ] = 'Daily measured lidar signals'\n",
    "ds_lidar_daily.attrs ['source_type'] = 'raw'\n",
    "display(ds_lidar_daily)"
   ],
   "metadata": {
    "collapsed": false,
    "pycharm": {
     "name": "#%%\n"
    }
   }
  },
  {
   "cell_type": "code",
   "execution_count": null,
   "metadata": {
    "collapsed": false,
    "jupyter": {
     "outputs_hidden": false
    },
    "pycharm": {
     "name": "#%% Visualize raw signal values\n"
    }
   },
   "outputs": [],
   "source": [
    "top_h =ds_lidar_daily.Height[3000].values.tolist()\n",
    "min_h = ds_lidar_daily.Height[0].values.tolist()\n",
    "\n",
    "topCL_h_gnd = 15.0 + altitude * 1e-3 # km\n",
    "micCL_h_gnd = 0.0 + altitude * 1e-3\n",
    "topCL_h = ds_lidar_daily.Height[np.abs(ds_lidar_daily.Height.values - topCL_h_gnd).argmin()].values\n",
    "minCL_h = ds_lidar_daily.Height[np.abs(ds_lidar_daily.Height.values - micCL_h_gnd).argmin()].values\n",
    "print(f'calibration range: [{minCL_h:.2f},{topCL_h:.2f}] [km] - above sea level')"
   ]
  },
  {
   "cell_type": "code",
   "execution_count": null,
   "metadata": {
    "collapsed": false,
    "jupyter": {
     "outputs_hidden": false
    },
    "pycharm": {
     "name": "#%%\n"
    }
   },
   "outputs": [],
   "source": [
    "SAVE_FIG = False\n",
    "lambda_nm=532\n",
    "g1 = prep.visualize_ds_profile_chan(ds_lidar_daily.sel( Height = slice(minCL_h,topCL_h)), lambda_nm,\n",
    "\t\t                                   profile_type = 'range_corr', SAVE_FIG= SAVE_FIG)\n",
    "for lambda_nm in wavelengths:\n",
    "\tg2 = prep.visualize_ds_profile_chan(ds_lidar_daily, lambda_nm = lambda_nm,\n",
    "\t                                    profile_type = 'bg_mean', SAVE_FIG= SAVE_FIG)"
   ]
  },
  {
   "cell_type": "code",
   "execution_count": null,
   "metadata": {
    "collapsed": false,
    "jupyter": {
     "outputs_hidden": false
    },
    "pycharm": {
     "name": "#%%\n"
    }
   },
   "outputs": [],
   "source": [
    "fig, ax = plt.subplots(nrows=1, ncols=1, figsize=(10, 7))\n",
    "ds_lidar_daily.bg_mean.plot(hue = 'Wavelength',ax=ax)\n",
    "ax.xaxis.set_major_formatter(gs.TIMEFORMAT)\n",
    "ax.xaxis.set_tick_params(rotation=0)\n",
    "plt.title(ds_lidar_daily.bg_mean.attrs['info'])\n",
    "plt.show()"
   ]
  },
  {
   "cell_type": "code",
   "execution_count": null,
   "metadata": {
    "collapsed": false,
    "jupyter": {
     "outputs_hidden": false
    },
    "pycharm": {
     "name": "#%%\n"
    }
   },
   "outputs": [],
   "source": [
    "maxbg_g = ds_lidar_daily.bg_mean.sel(Wavelength=532).max().item()\n",
    "maxbg_ir = ds_lidar_daily.bg_mean.sel(Wavelength=1064).max().item()\n",
    "maxbg_b = ds_lidar_daily.bg_mean.sel(Wavelength=355).max().item()\n",
    "(maxbg_g,maxbg_ir,maxbg_b)\n",
    "(maxbg_g,maxbg_g/maxbg_ir,maxbg_g/maxbg_b)"
   ]
  },
  {
   "cell_type": "code",
   "execution_count": null,
   "metadata": {
    "collapsed": false,
    "jupyter": {
     "outputs_hidden": false
    },
    "pycharm": {
     "name": "#%%\n"
    }
   },
   "outputs": [],
   "source": [
    "g3 = prep.visualize_ds_profile_chan(ds_lidar_daily.sel( Height = slice(minCL_h,topCL_h)),\n",
    "                               lambda_nm = lambda_nm,profile_type = 'raw_signal',SAVE_FIG= SAVE_FIG)\n",
    "\n",
    "for wav in wavelengths:\n",
    "\tg = prep.visualize_ds_profile_chan(ds_lidar_daily.sel( Height = slice(minCL_h,topCL_h)), lambda_nm,\n",
    "\t\t                                   profile_type = 'range_corr', SAVE_FIG= SAVE_FIG, USE_RANGE='LOW')"
   ]
  },
  {
   "cell_type": "code",
   "execution_count": null,
   "metadata": {
    "collapsed": false,
    "jupyter": {
     "outputs_hidden": false
    },
    "pycharm": {
     "name": "#%% stats of raw signal and range corrected signals\n"
    }
   },
   "outputs": [],
   "source": [
    "_,_,df_stats = daily_ds_histogram(ds_lidar_daily.sel( Height = slice(minCL_h,topCL_h)),\n",
    "                                  profile_type='raw_signal', SAVE_FIG = SAVE_FIG)\n",
    "display(df_stats)\n",
    "\n",
    "_,_,df_stats = daily_ds_histogram(ds_lidar_daily.sel( Height = slice(minCL_h,topCL_h)),\n",
    "                                  profile_type='range_corr', SAVE_FIG = SAVE_FIG)\n",
    "display(df_stats)\n"
   ]
  },
  {
   "cell_type": "code",
   "execution_count": null,
   "metadata": {
    "collapsed": false,
    "jupyter": {
     "outputs_hidden": false
    },
    "pycharm": {
     "name": "#%%\n"
    }
   },
   "outputs": [],
   "source": []
  }
 ],
 "metadata": {
  "kernelspec": {
   "display_name": "lidar",
   "language": "python",
   "name": "lidar"
  },
  "language_info": {
   "codemirror_mode": {
    "name": "ipython",
    "version": 3
   },
   "file_extension": ".py",
   "mimetype": "text/x-python",
   "name": "python",
   "nbconvert_exporter": "python",
   "pygments_lexer": "ipython3",
   "version": "3.8.8"
  }
 },
 "nbformat": 4,
 "nbformat_minor": 4
}