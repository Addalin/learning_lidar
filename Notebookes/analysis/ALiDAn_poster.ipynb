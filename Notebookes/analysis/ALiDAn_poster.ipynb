{
 "cells": [
  {
   "cell_type": "code",
   "execution_count": null,
   "metadata": {
    "collapsed": true
   },
   "outputs": [],
   "source": [
    "import os, sys\n",
    "from datetime import datetime, timedelta,date\n",
    "import pandas as pd\n",
    "from IPython.display import display\n",
    "import xarray as xr\n",
    "from matplotlib import dates as mdates\n",
    "import seaborn as sns\n",
    "import learning_lidar.generation.generation_utils as gen_utils\n",
    "from scipy.stats import ks_2samp\n",
    "from learning_lidar.utils import utils, xr_utils, vis_utils, proc_utils, global_settings as gs\n",
    "vis_utils.set_visualization_settings()\n",
    "TIMEFORMAT = mdates.DateFormatter(r'%H')\n",
    "import numpy as np\n",
    "import matplotlib.pyplot as plt\n",
    "import pickle\n",
    "from sklearn.mixture import  BayesianGaussianMixture as BayesGMM\n",
    "from pytictoc import TicToc\n",
    "import sklearn\n",
    "import learning_lidar.dataseting.dataseting_utils as ds_utils\n",
    "from pathlib import Path\n",
    "import platform\n",
    "import learning_lidar.generation.valid_utils  as valid_utils\n",
    "import glob"
   ]
  },
  {
   "cell_type": "markdown",
   "source": [
    "## 1. Run Settings"
   ],
   "metadata": {
    "collapsed": false
   }
  },
  {
   "cell_type": "code",
   "execution_count": null,
   "outputs": [],
   "source": [
    "# Data source info\n",
    "station_name='haifa'\n",
    "station = gs.Station(station_name)\n",
    "day_date = datetime(2017,10,2)\n",
    "daily_times = station.calc_daily_time_index(day_date)\n",
    "wavelength = 532\n",
    "\n",
    "# Paths\n",
    "TGRS_folder = os.path.abspath(os.path.join(gs.PKG_ROOT_DIR ,\"..\",\"E\",\"TGRS_GMM_appendix\")) if \\\n",
    "    (sys.platform in ['linux', 'ubuntu']) else \\\n",
    "    os.path.abspath(os.path.join(gs.PKG_ROOT_DIR ,\"..\",'TGRS_GMM_appendix'))\n",
    "figs_folder = os.path.join(TGRS_folder,'figures_for_talk') # prev: 'figures'\n",
    "figs_folder = r'C:\\Users\\addalin\\Dropbox\\PHD\\נסיעות לחול\\ICCP pasadena 2022\\poster'\n",
    "model_base_name = 'sklearn_GMM_Model'\n",
    "models_folder = os.path.join(TGRS_folder,'models')\n",
    "csv_models = os.path.join(models_folder,'models.csv')\n",
    "name_str = f\"TGRS_TROPOS_{day_date.strftime('%Y-%m-%d')}_profiles\"\n",
    "table_name = name_str+\"_info.csv\"\n",
    "profiles_ds_name = name_str+\".nc\"\n",
    "\n",
    "# Flags\n",
    "LOAD_MODEL = True\n",
    "SAMPLE_BETA = False\n",
    "GEN_PROFILES = False # True - crate and save the profiles; False - upload previous generated data\n",
    "SAVE_FIG = True\n",
    "LOAD_CLIB_CSV = False\n",
    "\n",
    "# Global print settings\n",
    "FORMAT_FIG = 'svg' # 'svg'\n",
    "figsize=(12, 6)  # presentation: (12,5) , manuscript: (8,5)\n",
    "max_height = 15 # km\n",
    "height_slice=slice(0,max_height)\n",
    "sns.set_context('talk')"
   ],
   "metadata": {
    "collapsed": false,
    "pycharm": {
     "name": "#%%\n"
    }
   }
  }
 ],
 "metadata": {
  "kernelspec": {
   "display_name": "Python 3",
   "language": "python",
   "name": "python3"
  },
  "language_info": {
   "codemirror_mode": {
    "name": "ipython",
    "version": 2
   },
   "file_extension": ".py",
   "mimetype": "text/x-python",
   "name": "python",
   "nbconvert_exporter": "python",
   "pygments_lexer": "ipython2",
   "version": "2.7.6"
  }
 },
 "nbformat": 4,
 "nbformat_minor": 0
}