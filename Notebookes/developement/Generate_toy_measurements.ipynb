{
 "cells": [
  {
   "cell_type": "code",
   "execution_count": null,
   "metadata": {
    "collapsed": true
   },
   "outputs": [],
   "source": []
  },
  {
   "cell_type": "markdown",
   "source": [
    "# Generate toy measurement\n",
    "## missions\n",
    "1. Take densities of aerosols and air molecules from 1/Sept 2017\n",
    "2. Make two types of aerosol profiles  (rectify and average aerosol profile of 1/Sept 2017)\n",
    "3. Replicate each aerosol profile through the day\n",
    "4. Use the average LR of 1/Sept 2017 for each wavelength\n",
    "5. Create ALiDAn_toy.jason and update accordingly the fields:   \"LR355\", \"LR532\", \"LR1064\"\n",
    "6. Append daily molecular profile to aerosols --> this should yield two daily densities.\n",
    "7. Choose 3 values of LC from the period of Apr-May and Sept-Oct  (low, mid, high) ( use some clustering method) - per each wavelength\n",
    "8. Choose 3 values of BG (low, mid, high) - per each wavelength\n",
    "9. Generate 18 Toy measurements of 1/Sept 2017:\n",
    "    - x 2 options of profiles\n",
    "    - x 3 options of BG(low, mid, high)\n",
    "    - x 3 options of LC(low, mid, high)\n",
    "\n",
    "Overall for each measurement we have : single type of aerosols, single LC values, single BG values.\n",
    "In such way we want to compare the performance of PollyNet on different types of SNR per wavelength."
   ],
   "metadata": {
    "collapsed": false
   }
  }
 ],
 "metadata": {
  "kernelspec": {
   "display_name": "Python 3",
   "language": "python",
   "name": "python3"
  },
  "language_info": {
   "codemirror_mode": {
    "name": "ipython",
    "version": 2
   },
   "file_extension": ".py",
   "mimetype": "text/x-python",
   "name": "python",
   "nbconvert_exporter": "python",
   "pygments_lexer": "ipython2",
   "version": "2.7.6"
  }
 },
 "nbformat": 4,
 "nbformat_minor": 0
}