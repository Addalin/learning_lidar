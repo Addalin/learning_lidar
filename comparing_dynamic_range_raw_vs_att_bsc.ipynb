{
 "cells": [
  {
   "cell_type": "code",
   "execution_count": 2,
   "metadata": {
    "collapsed": false,
    "jupyter": {
     "outputs_hidden": false
    },
    "pycharm": {
     "name": "#%% Imports\n"
    }
   },
   "outputs": [
    {
     "name": "stderr",
     "output_type": "stream",
     "text": [
      "C:\\Users\\addalin\\Dropbox\\Lidar\\code\\miscLidar.py:40: MatplotlibDeprecationWarning: Support for setting the 'text.latex.preamble' or 'pgf.preamble' rcParam to a list of strings is deprecated since 3.3 and will be removed two minor releases later; set it to a single string instead.\n",
      "  plt.rcParams['text.latex.preamble'] = [r\"\\usepackage{amsmath}\"]\n"
     ]
    }
   ],
   "source": [
    "import os,sys\n",
    "import numpy as np\n",
    "import scipy as sp\n",
    "import pandas as pd\n",
    "import matplotlib\n",
    "from datetime import datetime, timedelta, time\n",
    "import glob\n",
    "from generate_atmosphere import LidarProfile,RadiosondeProfile\n",
    "import miscLidar as mscLid\n",
    "from molecular import rayleigh_scattering\n",
    "import global_settings as gs\n",
    "import pandas as pd\n",
    "import preprocessing as prep\n",
    "import matplotlib.dates as mdates\n",
    "import matplotlib.pyplot as plt\n",
    "import xarray as xr\n",
    "%matplotlib inline\n",
    "from IPython.display import display\n",
    "\n",
    "SMALL_SIZE = 12\n",
    "MEDIUM_SIZE = 14\n",
    "BIG_SIZE = 16\n",
    "\n",
    "plt.rc('font', size=SMALL_SIZE)          # controls default text sizes\n",
    "plt.rc('axes', titlesize=BIG_SIZE)       # fontsize of the axes title\n",
    "plt.rc('axes', labelsize=MEDIUM_SIZE)    # fontsize of the x and y labels\n",
    "plt.rc('xtick', labelsize=SMALL_SIZE)    # fontsize of the tick labels\n",
    "plt.rc('ytick', labelsize=SMALL_SIZE)    # fontsize of the tick labels\n",
    "plt.rc('legend', fontsize=SMALL_SIZE)    # legend fontsize\n",
    "plt.rc('figure', titlesize=BIG_SIZE)     # fontsize of the figure title"
   ]
  },
  {
   "cell_type": "markdown",
   "metadata": {
    "collapsed": false,
    "jupyter": {
     "outputs_hidden": false
    },
    "pycharm": {
     "name": "#%% md\n"
    }
   },
   "source": [
    "# Exploring dynamic range of the signal\n",
    "#### This notebook compares the range corrected signal retrieved from two sources:\n",
    "#### 1. The raw lidar measurements as : $(p-p_{bg})\\cdot r^2 $\n",
    "#### 2. The post analysed signal by TROPOS as: $att\\_bsc \\cdot CL $\n",
    "> Where:\n",
    "> 1. $att\\_bsc = \\beta \\cdot \\exp(-2\\tau)$\n",
    "> $(p - p_{bg})\\cdot r^2 \\cdot  = att\\_bsc\\cdot CL$\n",
    "> 2. The values $att\\_bsc$ and $CL$ are found in the files: `*att_bsc.nc`\n",
    "> 3. The lidar measurements are found in the files: `measure_datetime.strftime(%Y_%m_%d_%a_TROPOS_%H_%m_01.nc)`,\n",
    "> where `measure_datetime` is the start measure time of the file, e.g., 2017_09_12_Tue_TROPOS_18_00_01.nc`\n"
   ]
  },
  {
   "cell_type": "code",
   "execution_count": 3,
   "outputs": [
    {
     "name": "stdout",
     "output_type": "stream",
     "text": [
      "load station and setting date\n",
      "2017-09-13 00:00:00\n",
      "\n",
      " <class 'global_settings.Station'>:\n",
      "  {'name': 'Haifa',\n",
      "   'location': 'Haifa',\n",
      "   'lon': 35.02,\n",
      "   'lat': 32.8,\n",
      "   'altitude': 229.0,\n",
      "   'start_bin_height': 78.75,\n",
      "   'end_bin_height': 22485.66016,\n",
      "   'n_bins': 3000,\n",
      "   'dt': 5.0000000000000004e-08,\n",
      "   'gdas1_folder': 'H:\\\\data_haifa\\\\DATA FROM TROPOS\\\\GDAS\\\\haifa',\n",
      "   'gdastxt_folder': 'H:\\\\data_haifa\\\\DATA FROM TROPOS\\\\GDAS\\\\haifa_preproc',\n",
      "   'lidar_src_folder': 'H:\\\\data_haifa\\\\DATA FROM TROPOS\\\\data\\\\level1a\\\\PollyXT_TROPOS',\n",
      "   'molecular_dataset': 'H:\\\\data_haifa\\\\DATA FROM TROPOS\\\\molecular_dataset',\n",
      "   'lidar_dataset': 'H:\\\\data_haifa\\\\DATA FROM TROPOS\\\\lidar_dataset',\n",
      "   'db_file': 'H:\\\\data_haifa\\\\DATA FROM TROPOS\\\\data\\\\level1a\\\\PollyXT_TROPOS\\\\pollyxt_tropos_calibration.db'}\n"
     ]
    }
   ],
   "source": [
    "print('load station and setting date')\n",
    "\n",
    "'''set day'''\n",
    "day_date = datetime(2017,9,13)\n",
    "print(day_date)\n",
    "\n",
    "'''set station'''\n",
    "\n",
    "station = gs.Station('Haifa')\n",
    "print(station)"
   ],
   "metadata": {
    "collapsed": false,
    "pycharm": {
     "name": "#%%\n"
    }
   }
  },
  {
   "cell_type": "code",
   "execution_count": 4,
   "metadata": {
    "collapsed": false,
    "jupyter": {
     "outputs_hidden": false
    },
    "pycharm": {
     "name": "#%%\n"
    }
   },
   "outputs": [
    {
     "name": "stdout",
     "output_type": "stream",
     "text": [
      "['H:\\\\data_haifa\\\\DATA FROM TROPOS\\\\lidar_dataset\\\\2017\\\\09\\\\2017_09_13_Haifa_range_corr_1064_lidar.nc', 'H:\\\\data_haifa\\\\DATA FROM TROPOS\\\\lidar_dataset\\\\2017\\\\09\\\\2017_09_13_Haifa_range_corr_355_lidar.nc', 'H:\\\\data_haifa\\\\DATA FROM TROPOS\\\\lidar_dataset\\\\2017\\\\09\\\\2017_09_13_Haifa_range_corr_532_lidar.nc', 'H:\\\\data_haifa\\\\DATA FROM TROPOS\\\\lidar_dataset\\\\2017\\\\09\\\\2017_09_13_Haifa_range_corr_lidar.nc']\n"
     ]
    }
   ],
   "source": [
    "LOAD_LIDAR_DS = True\n",
    "if LOAD_LIDAR_DS:\n",
    "\tlidar_ncpaths= prep.get_prep_dataset_paths ( station , day_date ,\n",
    "\t                                             data_source = 'lidar',\n",
    "\t                                             file_type = 'range_corr')\n",
    "\n",
    "\tprint(lidar_ncpaths)"
   ]
  },
  {
   "cell_type": "code",
   "execution_count": 5,
   "metadata": {
    "collapsed": false,
    "jupyter": {
     "outputs_hidden": false
    },
    "pycharm": {
     "name": "#%% Load ds  - load all profiles\n"
    }
   },
   "outputs": [
    {
     "name": "stdout",
     "output_type": "stream",
     "text": [
      "Load range corr in all channels\n"
     ]
    },
    {
     "data": {
      "text/plain": "<xarray.Dataset>\nDimensions:         (Height: 3000, Time: 2880, Wavelength: 3)\nCoordinates:\n  * Time            (Time) datetime64[ns] 2017-09-13 ... 2017-09-13T23:59:30\n  * Height          (Height) float64 0.3088 0.3162 0.3237 ... 22.7 22.71 22.72\n  * Wavelength      (Wavelength) uint64 355 532 1064\nData variables:\n    range_corr      (Wavelength, Height, Time) float32 102790.03 ... -2188765.8\n    lambda_nm       (Wavelength) uint32 355 532 1064\n    plot_min_range  (Wavelength) float64 0.0 0.0 0.0\n    plot_max_range  (Wavelength) float64 9.582e+07 1.276e+08 7.618e+07\n    date            datetime64[ns] 2017-09-13\nAttributes:\n    location:     Haifa\n    info:         Daily range corrected lidar signal\n    source_type:  att_bsc",
      "text/html": "<div><svg style=\"position: absolute; width: 0; height: 0; overflow: hidden\">\n<defs>\n<symbol id=\"icon-database\" viewBox=\"0 0 32 32\">\n<path d=\"M16 0c-8.837 0-16 2.239-16 5v4c0 2.761 7.163 5 16 5s16-2.239 16-5v-4c0-2.761-7.163-5-16-5z\"></path>\n<path d=\"M16 17c-8.837 0-16-2.239-16-5v6c0 2.761 7.163 5 16 5s16-2.239 16-5v-6c0 2.761-7.163 5-16 5z\"></path>\n<path d=\"M16 26c-8.837 0-16-2.239-16-5v6c0 2.761 7.163 5 16 5s16-2.239 16-5v-6c0 2.761-7.163 5-16 5z\"></path>\n</symbol>\n<symbol id=\"icon-file-text2\" viewBox=\"0 0 32 32\">\n<path d=\"M28.681 7.159c-0.694-0.947-1.662-2.053-2.724-3.116s-2.169-2.030-3.116-2.724c-1.612-1.182-2.393-1.319-2.841-1.319h-15.5c-1.378 0-2.5 1.121-2.5 2.5v27c0 1.378 1.122 2.5 2.5 2.5h23c1.378 0 2.5-1.122 2.5-2.5v-19.5c0-0.448-0.137-1.23-1.319-2.841zM24.543 5.457c0.959 0.959 1.712 1.825 2.268 2.543h-4.811v-4.811c0.718 0.556 1.584 1.309 2.543 2.268zM28 29.5c0 0.271-0.229 0.5-0.5 0.5h-23c-0.271 0-0.5-0.229-0.5-0.5v-27c0-0.271 0.229-0.5 0.5-0.5 0 0 15.499-0 15.5 0v7c0 0.552 0.448 1 1 1h7v19.5z\"></path>\n<path d=\"M23 26h-14c-0.552 0-1-0.448-1-1s0.448-1 1-1h14c0.552 0 1 0.448 1 1s-0.448 1-1 1z\"></path>\n<path d=\"M23 22h-14c-0.552 0-1-0.448-1-1s0.448-1 1-1h14c0.552 0 1 0.448 1 1s-0.448 1-1 1z\"></path>\n<path d=\"M23 18h-14c-0.552 0-1-0.448-1-1s0.448-1 1-1h14c0.552 0 1 0.448 1 1s-0.448 1-1 1z\"></path>\n</symbol>\n</defs>\n</svg>\n<style>/* CSS stylesheet for displaying xarray objects in jupyterlab.\n *\n */\n\n:root {\n  --xr-font-color0: var(--jp-content-font-color0, rgba(0, 0, 0, 1));\n  --xr-font-color2: var(--jp-content-font-color2, rgba(0, 0, 0, 0.54));\n  --xr-font-color3: var(--jp-content-font-color3, rgba(0, 0, 0, 0.38));\n  --xr-border-color: var(--jp-border-color2, #e0e0e0);\n  --xr-disabled-color: var(--jp-layout-color3, #bdbdbd);\n  --xr-background-color: var(--jp-layout-color0, white);\n  --xr-background-color-row-even: var(--jp-layout-color1, white);\n  --xr-background-color-row-odd: var(--jp-layout-color2, #eeeeee);\n}\n\nhtml[theme=dark],\nbody.vscode-dark {\n  --xr-font-color0: rgba(255, 255, 255, 1);\n  --xr-font-color2: rgba(255, 255, 255, 0.54);\n  --xr-font-color3: rgba(255, 255, 255, 0.38);\n  --xr-border-color: #1F1F1F;\n  --xr-disabled-color: #515151;\n  --xr-background-color: #111111;\n  --xr-background-color-row-even: #111111;\n  --xr-background-color-row-odd: #313131;\n}\n\n.xr-wrap {\n  display: block;\n  min-width: 300px;\n  max-width: 700px;\n}\n\n.xr-text-repr-fallback {\n  /* fallback to plain text repr when CSS is not injected (untrusted notebook) */\n  display: none;\n}\n\n.xr-header {\n  padding-top: 6px;\n  padding-bottom: 6px;\n  margin-bottom: 4px;\n  border-bottom: solid 1px var(--xr-border-color);\n}\n\n.xr-header > div,\n.xr-header > ul {\n  display: inline;\n  margin-top: 0;\n  margin-bottom: 0;\n}\n\n.xr-obj-type,\n.xr-array-name {\n  margin-left: 2px;\n  margin-right: 10px;\n}\n\n.xr-obj-type {\n  color: var(--xr-font-color2);\n}\n\n.xr-sections {\n  padding-left: 0 !important;\n  display: grid;\n  grid-template-columns: 150px auto auto 1fr 20px 20px;\n}\n\n.xr-section-item {\n  display: contents;\n}\n\n.xr-section-item input {\n  display: none;\n}\n\n.xr-section-item input + label {\n  color: var(--xr-disabled-color);\n}\n\n.xr-section-item input:enabled + label {\n  cursor: pointer;\n  color: var(--xr-font-color2);\n}\n\n.xr-section-item input:enabled + label:hover {\n  color: var(--xr-font-color0);\n}\n\n.xr-section-summary {\n  grid-column: 1;\n  color: var(--xr-font-color2);\n  font-weight: 500;\n}\n\n.xr-section-summary > span {\n  display: inline-block;\n  padding-left: 0.5em;\n}\n\n.xr-section-summary-in:disabled + label {\n  color: var(--xr-font-color2);\n}\n\n.xr-section-summary-in + label:before {\n  display: inline-block;\n  content: '►';\n  font-size: 11px;\n  width: 15px;\n  text-align: center;\n}\n\n.xr-section-summary-in:disabled + label:before {\n  color: var(--xr-disabled-color);\n}\n\n.xr-section-summary-in:checked + label:before {\n  content: '▼';\n}\n\n.xr-section-summary-in:checked + label > span {\n  display: none;\n}\n\n.xr-section-summary,\n.xr-section-inline-details {\n  padding-top: 4px;\n  padding-bottom: 4px;\n}\n\n.xr-section-inline-details {\n  grid-column: 2 / -1;\n}\n\n.xr-section-details {\n  display: none;\n  grid-column: 1 / -1;\n  margin-bottom: 5px;\n}\n\n.xr-section-summary-in:checked ~ .xr-section-details {\n  display: contents;\n}\n\n.xr-array-wrap {\n  grid-column: 1 / -1;\n  display: grid;\n  grid-template-columns: 20px auto;\n}\n\n.xr-array-wrap > label {\n  grid-column: 1;\n  vertical-align: top;\n}\n\n.xr-preview {\n  color: var(--xr-font-color3);\n}\n\n.xr-array-preview,\n.xr-array-data {\n  padding: 0 5px !important;\n  grid-column: 2;\n}\n\n.xr-array-data,\n.xr-array-in:checked ~ .xr-array-preview {\n  display: none;\n}\n\n.xr-array-in:checked ~ .xr-array-data,\n.xr-array-preview {\n  display: inline-block;\n}\n\n.xr-dim-list {\n  display: inline-block !important;\n  list-style: none;\n  padding: 0 !important;\n  margin: 0;\n}\n\n.xr-dim-list li {\n  display: inline-block;\n  padding: 0;\n  margin: 0;\n}\n\n.xr-dim-list:before {\n  content: '(';\n}\n\n.xr-dim-list:after {\n  content: ')';\n}\n\n.xr-dim-list li:not(:last-child):after {\n  content: ',';\n  padding-right: 5px;\n}\n\n.xr-has-index {\n  font-weight: bold;\n}\n\n.xr-var-list,\n.xr-var-item {\n  display: contents;\n}\n\n.xr-var-item > div,\n.xr-var-item label,\n.xr-var-item > .xr-var-name span {\n  background-color: var(--xr-background-color-row-even);\n  margin-bottom: 0;\n}\n\n.xr-var-item > .xr-var-name:hover span {\n  padding-right: 5px;\n}\n\n.xr-var-list > li:nth-child(odd) > div,\n.xr-var-list > li:nth-child(odd) > label,\n.xr-var-list > li:nth-child(odd) > .xr-var-name span {\n  background-color: var(--xr-background-color-row-odd);\n}\n\n.xr-var-name {\n  grid-column: 1;\n}\n\n.xr-var-dims {\n  grid-column: 2;\n}\n\n.xr-var-dtype {\n  grid-column: 3;\n  text-align: right;\n  color: var(--xr-font-color2);\n}\n\n.xr-var-preview {\n  grid-column: 4;\n}\n\n.xr-var-name,\n.xr-var-dims,\n.xr-var-dtype,\n.xr-preview,\n.xr-attrs dt {\n  white-space: nowrap;\n  overflow: hidden;\n  text-overflow: ellipsis;\n  padding-right: 10px;\n}\n\n.xr-var-name:hover,\n.xr-var-dims:hover,\n.xr-var-dtype:hover,\n.xr-attrs dt:hover {\n  overflow: visible;\n  width: auto;\n  z-index: 1;\n}\n\n.xr-var-attrs,\n.xr-var-data {\n  display: none;\n  background-color: var(--xr-background-color) !important;\n  padding-bottom: 5px !important;\n}\n\n.xr-var-attrs-in:checked ~ .xr-var-attrs,\n.xr-var-data-in:checked ~ .xr-var-data {\n  display: block;\n}\n\n.xr-var-data > table {\n  float: right;\n}\n\n.xr-var-name span,\n.xr-var-data,\n.xr-attrs {\n  padding-left: 25px !important;\n}\n\n.xr-attrs,\n.xr-var-attrs,\n.xr-var-data {\n  grid-column: 1 / -1;\n}\n\ndl.xr-attrs {\n  padding: 0;\n  margin: 0;\n  display: grid;\n  grid-template-columns: 125px auto;\n}\n\n.xr-attrs dt, dd {\n  padding: 0;\n  margin: 0;\n  float: left;\n  padding-right: 10px;\n  width: auto;\n}\n\n.xr-attrs dt {\n  font-weight: normal;\n  grid-column: 1;\n}\n\n.xr-attrs dt:hover span {\n  display: inline-block;\n  background: var(--xr-background-color);\n  padding-right: 10px;\n}\n\n.xr-attrs dd {\n  grid-column: 2;\n  white-space: pre-wrap;\n  word-break: break-all;\n}\n\n.xr-icon-database,\n.xr-icon-file-text2 {\n  display: inline-block;\n  vertical-align: middle;\n  width: 1em;\n  height: 1.5em !important;\n  stroke-width: 0;\n  stroke: currentColor;\n  fill: currentColor;\n}\n</style><pre class='xr-text-repr-fallback'>&lt;xarray.Dataset&gt;\nDimensions:         (Height: 3000, Time: 2880, Wavelength: 3)\nCoordinates:\n  * Time            (Time) datetime64[ns] 2017-09-13 ... 2017-09-13T23:59:30\n  * Height          (Height) float64 0.3088 0.3162 0.3237 ... 22.7 22.71 22.72\n  * Wavelength      (Wavelength) uint64 355 532 1064\nData variables:\n    range_corr      (Wavelength, Height, Time) float32 102790.03 ... -2188765.8\n    lambda_nm       (Wavelength) uint32 355 532 1064\n    plot_min_range  (Wavelength) float64 0.0 0.0 0.0\n    plot_max_range  (Wavelength) float64 9.582e+07 1.276e+08 7.618e+07\n    date            datetime64[ns] 2017-09-13\nAttributes:\n    location:     Haifa\n    info:         Daily range corrected lidar signal\n    source_type:  att_bsc</pre><div class='xr-wrap' hidden><div class='xr-header'><div class='xr-obj-type'>xarray.Dataset</div></div><ul class='xr-sections'><li class='xr-section-item'><input id='section-78a2dcf4-63de-48c2-9772-27429e314a0a' class='xr-section-summary-in' type='checkbox' disabled ><label for='section-78a2dcf4-63de-48c2-9772-27429e314a0a' class='xr-section-summary'  title='Expand/collapse section'>Dimensions:</label><div class='xr-section-inline-details'><ul class='xr-dim-list'><li><span class='xr-has-index'>Height</span>: 3000</li><li><span class='xr-has-index'>Time</span>: 2880</li><li><span class='xr-has-index'>Wavelength</span>: 3</li></ul></div><div class='xr-section-details'></div></li><li class='xr-section-item'><input id='section-ddd90ae2-54d3-4381-99bf-210d470a4eeb' class='xr-section-summary-in' type='checkbox'  checked><label for='section-ddd90ae2-54d3-4381-99bf-210d470a4eeb' class='xr-section-summary' >Coordinates: <span>(3)</span></label><div class='xr-section-inline-details'></div><div class='xr-section-details'><ul class='xr-var-list'><li class='xr-var-item'><div class='xr-var-name'><span class='xr-has-index'>Time</span></div><div class='xr-var-dims'>(Time)</div><div class='xr-var-dtype'>datetime64[ns]</div><div class='xr-var-preview xr-preview'>2017-09-13 ... 2017-09-13T23:59:30</div><input id='attrs-e6fe2502-c796-421e-93d4-fd623f171851' class='xr-var-attrs-in' type='checkbox' disabled><label for='attrs-e6fe2502-c796-421e-93d4-fd623f171851' title='Show/Hide attributes'><svg class='icon xr-icon-file-text2'><use xlink:href='#icon-file-text2'></use></svg></label><input id='data-d21facfc-a1ac-430c-91ad-ce2cc64ee589' class='xr-var-data-in' type='checkbox'><label for='data-d21facfc-a1ac-430c-91ad-ce2cc64ee589' title='Show/Hide data repr'><svg class='icon xr-icon-database'><use xlink:href='#icon-database'></use></svg></label><div class='xr-var-attrs'><dl class='xr-attrs'></dl></div><div class='xr-var-data'><pre>array([&#x27;2017-09-13T00:00:00.000000000&#x27;, &#x27;2017-09-13T00:00:30.000000000&#x27;,\n       &#x27;2017-09-13T00:01:00.000000000&#x27;, ..., &#x27;2017-09-13T23:58:30.000000000&#x27;,\n       &#x27;2017-09-13T23:59:00.000000000&#x27;, &#x27;2017-09-13T23:59:30.000000000&#x27;],\n      dtype=&#x27;datetime64[ns]&#x27;)</pre></div></li><li class='xr-var-item'><div class='xr-var-name'><span class='xr-has-index'>Height</span></div><div class='xr-var-dims'>(Height)</div><div class='xr-var-dtype'>float64</div><div class='xr-var-preview xr-preview'>0.3088 0.3162 ... 22.71 22.72</div><input id='attrs-d1eb57a0-54f2-4745-b1d4-b0940de7e488' class='xr-var-attrs-in' type='checkbox' ><label for='attrs-d1eb57a0-54f2-4745-b1d4-b0940de7e488' title='Show/Hide attributes'><svg class='icon xr-icon-file-text2'><use xlink:href='#icon-file-text2'></use></svg></label><input id='data-0a73463d-a8d3-461c-bccb-a8cb25033fcb' class='xr-var-data-in' type='checkbox'><label for='data-0a73463d-a8d3-461c-bccb-a8cb25033fcb' title='Show/Hide data repr'><svg class='icon xr-icon-database'><use xlink:href='#icon-database'></use></svg></label><div class='xr-var-attrs'><dl class='xr-attrs'><dt><span>units :</span></dt><dd>Km</dd><dt><span>info :</span></dt><dd>Measurements heights above sea level</dd></dl></div><div class='xr-var-data'><pre>array([ 0.30875 ,  0.316221,  0.323693, ..., 22.700717, 22.708188, 22.71566 ])</pre></div></li><li class='xr-var-item'><div class='xr-var-name'><span class='xr-has-index'>Wavelength</span></div><div class='xr-var-dims'>(Wavelength)</div><div class='xr-var-dtype'>uint64</div><div class='xr-var-preview xr-preview'>355 532 1064</div><input id='attrs-6faadf99-69ba-46a3-850c-d4bb1868d241' class='xr-var-attrs-in' type='checkbox' ><label for='attrs-6faadf99-69ba-46a3-850c-d4bb1868d241' title='Show/Hide attributes'><svg class='icon xr-icon-file-text2'><use xlink:href='#icon-file-text2'></use></svg></label><input id='data-28113025-56dc-4c8e-a3d9-b3823ce6ef3d' class='xr-var-data-in' type='checkbox'><label for='data-28113025-56dc-4c8e-a3d9-b3823ce6ef3d' title='Show/Hide data repr'><svg class='icon xr-icon-database'><use xlink:href='#icon-database'></use></svg></label><div class='xr-var-attrs'><dl class='xr-attrs'><dt><span>long_name :</span></dt><dd>$\\lambda$</dd><dt><span>units :</span></dt><dd>$nm$</dd></dl></div><div class='xr-var-data'><pre>array([ 355,  532, 1064], dtype=uint64)</pre></div></li></ul></div></li><li class='xr-section-item'><input id='section-c43ce335-b8f2-47c5-998c-a378e3f1de41' class='xr-section-summary-in' type='checkbox'  checked><label for='section-c43ce335-b8f2-47c5-998c-a378e3f1de41' class='xr-section-summary' >Data variables: <span>(5)</span></label><div class='xr-section-inline-details'></div><div class='xr-section-details'><ul class='xr-var-list'><li class='xr-var-item'><div class='xr-var-name'><span>range_corr</span></div><div class='xr-var-dims'>(Wavelength, Height, Time)</div><div class='xr-var-dtype'>float32</div><div class='xr-var-preview xr-preview'>102790.03 127037.086 ... -2188765.8</div><input id='attrs-d7262ea8-1da3-4184-aca7-d505e9e8fa04' class='xr-var-attrs-in' type='checkbox' ><label for='attrs-d7262ea8-1da3-4184-aca7-d505e9e8fa04' title='Show/Hide attributes'><svg class='icon xr-icon-file-text2'><use xlink:href='#icon-file-text2'></use></svg></label><input id='data-c0b50f8c-b9d7-428b-b1db-95655ae473ba' class='xr-var-data-in' type='checkbox'><label for='data-c0b50f8c-b9d7-428b-b1db-95655ae473ba' title='Show/Hide data repr'><svg class='icon xr-icon-database'><use xlink:href='#icon-database'></use></svg></label><div class='xr-var-attrs'><dl class='xr-attrs'><dt><span>long_name :</span></dt><dd>$LC \\beta \\cdot \\exp(-2\\tau)$</dd><dt><span>units :</span></dt><dd>$photons \\cdot m^2$</dd><dt><span>info :</span></dt><dd>Range corrected lidar signal from attenuated backscatter multiplied by LC</dd></dl></div><div class='xr-var-data'><pre>array([[[  102790.03  ,   127037.086 ,   163451.31  , ...,\n           236436.53  ,   236436.53  ,   218170.66  ],\n        [  145016.89  ,   174104.05  ,   101438.46  , ...,\n           239652.02  ,   261532.67  ,   217787.03  ],\n        [  162656.97  ,   196995.36  ,   145500.12  , ...,\n           257166.73  ,   231366.67  ,   214176.89  ],\n        ...,\n        [       0.    ,        0.    ,        0.    , ...,\n                0.    ,        0.    ,        0.    ],\n        [       0.    ,        0.    ,        0.    , ...,\n                0.    ,        0.    ,        0.    ],\n        [       0.    ,        0.    ,        0.    , ...,\n                0.    ,        0.    ,        0.    ]],\n\n       [[  140645.52  ,    54975.125 ,    67202.125 , ...,\n           263376.2   ,   343382.28  ,   232654.03  ],\n        [   95220.47  ,   109886.81  ,    95220.47  , ...,\n           286257.72  ,   374716.16  ,   308354.7   ],\n        [  138417.48  ,   147080.05  ,   121096.445 , ...,\n           381513.22  ,   416337.1   ,   425046.97  ],\n...\n        [       0.    ,        0.    ,        0.    , ...,\n                0.    ,        0.    ,        0.    ],\n        [       0.    ,        0.    ,        0.    , ...,\n                0.    ,        0.    ,        0.    ],\n        [       0.    ,        0.    ,        0.    , ...,\n                0.    ,        0.    ,        0.    ]],\n\n       [[       0.    ,    12403.125 ,     6201.5625, ...,\n            49558.81  ,    99225.    ,   105399.72  ],\n        [    7434.14  ,    22302.42  ,     7434.14  , ...,\n            74277.04  ,    89209.68  ,    74309.23  ],\n        [       0.    ,     8778.362 ,     8778.362 , ...,\n           105264.35  ,    87783.63  ,   105302.35  ],\n        ...,\n        [       0.    ,        0.    ,        0.    , ...,\n         -4371715.5   ,        0.    , -2185857.8   ],\n        [       0.    ,        0.    ,        0.    , ...,\n         -4374622.5   ,        0.    , -2187311.2   ],\n        [       0.    ,        0.    ,        0.    , ...,\n         -4377531.5   ,        0.    , -2188765.8   ]]], dtype=float32)</pre></div></li><li class='xr-var-item'><div class='xr-var-name'><span>lambda_nm</span></div><div class='xr-var-dims'>(Wavelength)</div><div class='xr-var-dtype'>uint32</div><div class='xr-var-preview xr-preview'>355 532 1064</div><input id='attrs-e3dd043e-127b-4a68-a943-dc330509e2c8' class='xr-var-attrs-in' type='checkbox' disabled><label for='attrs-e3dd043e-127b-4a68-a943-dc330509e2c8' title='Show/Hide attributes'><svg class='icon xr-icon-file-text2'><use xlink:href='#icon-file-text2'></use></svg></label><input id='data-39bd600f-dada-4ac3-82e0-db03886b13de' class='xr-var-data-in' type='checkbox'><label for='data-39bd600f-dada-4ac3-82e0-db03886b13de' title='Show/Hide data repr'><svg class='icon xr-icon-database'><use xlink:href='#icon-database'></use></svg></label><div class='xr-var-attrs'><dl class='xr-attrs'></dl></div><div class='xr-var-data'><pre>array([ 355,  532, 1064], dtype=uint32)</pre></div></li><li class='xr-var-item'><div class='xr-var-name'><span>plot_min_range</span></div><div class='xr-var-dims'>(Wavelength)</div><div class='xr-var-dtype'>float64</div><div class='xr-var-preview xr-preview'>0.0 0.0 0.0</div><input id='attrs-e7aa772d-318f-4128-844a-0a26d3127596' class='xr-var-attrs-in' type='checkbox' disabled><label for='attrs-e7aa772d-318f-4128-844a-0a26d3127596' title='Show/Hide attributes'><svg class='icon xr-icon-file-text2'><use xlink:href='#icon-file-text2'></use></svg></label><input id='data-888f1536-8128-4d44-aea9-d7dfeae7baf9' class='xr-var-data-in' type='checkbox'><label for='data-888f1536-8128-4d44-aea9-d7dfeae7baf9' title='Show/Hide data repr'><svg class='icon xr-icon-database'><use xlink:href='#icon-database'></use></svg></label><div class='xr-var-attrs'><dl class='xr-attrs'></dl></div><div class='xr-var-data'><pre>array([0., 0., 0.])</pre></div></li><li class='xr-var-item'><div class='xr-var-name'><span>plot_max_range</span></div><div class='xr-var-dims'>(Wavelength)</div><div class='xr-var-dtype'>float64</div><div class='xr-var-preview xr-preview'>9.582e+07 1.276e+08 7.618e+07</div><input id='attrs-734c3d39-e6db-4f3d-8f76-e740fe4c1c59' class='xr-var-attrs-in' type='checkbox' disabled><label for='attrs-734c3d39-e6db-4f3d-8f76-e740fe4c1c59' title='Show/Hide attributes'><svg class='icon xr-icon-file-text2'><use xlink:href='#icon-file-text2'></use></svg></label><input id='data-f7736ca7-1919-44fb-9b0b-580a25aa8362' class='xr-var-data-in' type='checkbox'><label for='data-f7736ca7-1919-44fb-9b0b-580a25aa8362' title='Show/Hide data repr'><svg class='icon xr-icon-database'><use xlink:href='#icon-database'></use></svg></label><div class='xr-var-attrs'><dl class='xr-attrs'></dl></div><div class='xr-var-data'><pre>array([9.58203687e+07, 1.27585914e+08, 7.61784992e+07])</pre></div></li><li class='xr-var-item'><div class='xr-var-name'><span>date</span></div><div class='xr-var-dims'>()</div><div class='xr-var-dtype'>datetime64[ns]</div><div class='xr-var-preview xr-preview'>2017-09-13</div><input id='attrs-e5af43b1-5fc5-4b7d-b655-32d14e8a55f6' class='xr-var-attrs-in' type='checkbox' disabled><label for='attrs-e5af43b1-5fc5-4b7d-b655-32d14e8a55f6' title='Show/Hide attributes'><svg class='icon xr-icon-file-text2'><use xlink:href='#icon-file-text2'></use></svg></label><input id='data-7f918329-33cf-4865-aa34-02cc73b54c3c' class='xr-var-data-in' type='checkbox'><label for='data-7f918329-33cf-4865-aa34-02cc73b54c3c' title='Show/Hide data repr'><svg class='icon xr-icon-database'><use xlink:href='#icon-database'></use></svg></label><div class='xr-var-attrs'><dl class='xr-attrs'></dl></div><div class='xr-var-data'><pre>array(&#x27;2017-09-13T00:00:00.000000000&#x27;, dtype=&#x27;datetime64[ns]&#x27;)</pre></div></li></ul></div></li><li class='xr-section-item'><input id='section-7c2f2909-cb1e-4d0e-9db3-efc2d7f617f9' class='xr-section-summary-in' type='checkbox'  checked><label for='section-7c2f2909-cb1e-4d0e-9db3-efc2d7f617f9' class='xr-section-summary' >Attributes: <span>(3)</span></label><div class='xr-section-inline-details'></div><div class='xr-section-details'><dl class='xr-attrs'><dt><span>location :</span></dt><dd>Haifa</dd><dt><span>info :</span></dt><dd>Daily range corrected lidar signal</dd><dt><span>source_type :</span></dt><dd>att_bsc</dd></dl></div></li></ul></div></div>"
     },
     "metadata": {},
     "output_type": "display_data"
    }
   ],
   "source": [
    "if LOAD_LIDAR_DS:\n",
    "\tprint( 'Load range corr in all channels')\n",
    "\tnetcdf = lidar_ncpaths[-1]\n",
    "\tds_range_corr_daily =  prep.load_dataset(netcdf)\n",
    "\tdisplay(ds_range_corr_daily)"
   ]
  },
  {
   "cell_type": "code",
   "execution_count": 6,
   "metadata": {
    "collapsed": false,
    "jupyter": {
     "outputs_hidden": false
    },
    "pycharm": {
     "name": "#%% Load profile_ds\n"
    }
   },
   "outputs": [
    {
     "name": "stdout",
     "output_type": "stream",
     "text": [
      "Load range corr per channel\n"
     ]
    },
    {
     "data": {
      "text/plain": "<xarray.Dataset>\nDimensions:         (Height: 3000, Time: 2880)\nCoordinates:\n  * Time            (Time) datetime64[ns] 2017-09-13 ... 2017-09-13T23:59:30\n  * Height          (Height) float64 0.3088 0.3162 0.3237 ... 22.7 22.71 22.72\n    Wavelength      uint64 ...\nData variables:\n    range_corr      (Height, Time) float32 0.0 12403.125 ... 0.0 -2188765.8\n    lambda_nm       uint32 1064\n    plot_min_range  float64 0.0\n    plot_max_range  float64 7.618e+07\n    date            datetime64[ns] 2017-09-13\nAttributes:\n    location:     Haifa\n    info:         Daily range corrected lidar signal\n    source_type:  att_bsc",
      "text/html": "<div><svg style=\"position: absolute; width: 0; height: 0; overflow: hidden\">\n<defs>\n<symbol id=\"icon-database\" viewBox=\"0 0 32 32\">\n<path d=\"M16 0c-8.837 0-16 2.239-16 5v4c0 2.761 7.163 5 16 5s16-2.239 16-5v-4c0-2.761-7.163-5-16-5z\"></path>\n<path d=\"M16 17c-8.837 0-16-2.239-16-5v6c0 2.761 7.163 5 16 5s16-2.239 16-5v-6c0 2.761-7.163 5-16 5z\"></path>\n<path d=\"M16 26c-8.837 0-16-2.239-16-5v6c0 2.761 7.163 5 16 5s16-2.239 16-5v-6c0 2.761-7.163 5-16 5z\"></path>\n</symbol>\n<symbol id=\"icon-file-text2\" viewBox=\"0 0 32 32\">\n<path d=\"M28.681 7.159c-0.694-0.947-1.662-2.053-2.724-3.116s-2.169-2.030-3.116-2.724c-1.612-1.182-2.393-1.319-2.841-1.319h-15.5c-1.378 0-2.5 1.121-2.5 2.5v27c0 1.378 1.122 2.5 2.5 2.5h23c1.378 0 2.5-1.122 2.5-2.5v-19.5c0-0.448-0.137-1.23-1.319-2.841zM24.543 5.457c0.959 0.959 1.712 1.825 2.268 2.543h-4.811v-4.811c0.718 0.556 1.584 1.309 2.543 2.268zM28 29.5c0 0.271-0.229 0.5-0.5 0.5h-23c-0.271 0-0.5-0.229-0.5-0.5v-27c0-0.271 0.229-0.5 0.5-0.5 0 0 15.499-0 15.5 0v7c0 0.552 0.448 1 1 1h7v19.5z\"></path>\n<path d=\"M23 26h-14c-0.552 0-1-0.448-1-1s0.448-1 1-1h14c0.552 0 1 0.448 1 1s-0.448 1-1 1z\"></path>\n<path d=\"M23 22h-14c-0.552 0-1-0.448-1-1s0.448-1 1-1h14c0.552 0 1 0.448 1 1s-0.448 1-1 1z\"></path>\n<path d=\"M23 18h-14c-0.552 0-1-0.448-1-1s0.448-1 1-1h14c0.552 0 1 0.448 1 1s-0.448 1-1 1z\"></path>\n</symbol>\n</defs>\n</svg>\n<style>/* CSS stylesheet for displaying xarray objects in jupyterlab.\n *\n */\n\n:root {\n  --xr-font-color0: var(--jp-content-font-color0, rgba(0, 0, 0, 1));\n  --xr-font-color2: var(--jp-content-font-color2, rgba(0, 0, 0, 0.54));\n  --xr-font-color3: var(--jp-content-font-color3, rgba(0, 0, 0, 0.38));\n  --xr-border-color: var(--jp-border-color2, #e0e0e0);\n  --xr-disabled-color: var(--jp-layout-color3, #bdbdbd);\n  --xr-background-color: var(--jp-layout-color0, white);\n  --xr-background-color-row-even: var(--jp-layout-color1, white);\n  --xr-background-color-row-odd: var(--jp-layout-color2, #eeeeee);\n}\n\nhtml[theme=dark],\nbody.vscode-dark {\n  --xr-font-color0: rgba(255, 255, 255, 1);\n  --xr-font-color2: rgba(255, 255, 255, 0.54);\n  --xr-font-color3: rgba(255, 255, 255, 0.38);\n  --xr-border-color: #1F1F1F;\n  --xr-disabled-color: #515151;\n  --xr-background-color: #111111;\n  --xr-background-color-row-even: #111111;\n  --xr-background-color-row-odd: #313131;\n}\n\n.xr-wrap {\n  display: block;\n  min-width: 300px;\n  max-width: 700px;\n}\n\n.xr-text-repr-fallback {\n  /* fallback to plain text repr when CSS is not injected (untrusted notebook) */\n  display: none;\n}\n\n.xr-header {\n  padding-top: 6px;\n  padding-bottom: 6px;\n  margin-bottom: 4px;\n  border-bottom: solid 1px var(--xr-border-color);\n}\n\n.xr-header > div,\n.xr-header > ul {\n  display: inline;\n  margin-top: 0;\n  margin-bottom: 0;\n}\n\n.xr-obj-type,\n.xr-array-name {\n  margin-left: 2px;\n  margin-right: 10px;\n}\n\n.xr-obj-type {\n  color: var(--xr-font-color2);\n}\n\n.xr-sections {\n  padding-left: 0 !important;\n  display: grid;\n  grid-template-columns: 150px auto auto 1fr 20px 20px;\n}\n\n.xr-section-item {\n  display: contents;\n}\n\n.xr-section-item input {\n  display: none;\n}\n\n.xr-section-item input + label {\n  color: var(--xr-disabled-color);\n}\n\n.xr-section-item input:enabled + label {\n  cursor: pointer;\n  color: var(--xr-font-color2);\n}\n\n.xr-section-item input:enabled + label:hover {\n  color: var(--xr-font-color0);\n}\n\n.xr-section-summary {\n  grid-column: 1;\n  color: var(--xr-font-color2);\n  font-weight: 500;\n}\n\n.xr-section-summary > span {\n  display: inline-block;\n  padding-left: 0.5em;\n}\n\n.xr-section-summary-in:disabled + label {\n  color: var(--xr-font-color2);\n}\n\n.xr-section-summary-in + label:before {\n  display: inline-block;\n  content: '►';\n  font-size: 11px;\n  width: 15px;\n  text-align: center;\n}\n\n.xr-section-summary-in:disabled + label:before {\n  color: var(--xr-disabled-color);\n}\n\n.xr-section-summary-in:checked + label:before {\n  content: '▼';\n}\n\n.xr-section-summary-in:checked + label > span {\n  display: none;\n}\n\n.xr-section-summary,\n.xr-section-inline-details {\n  padding-top: 4px;\n  padding-bottom: 4px;\n}\n\n.xr-section-inline-details {\n  grid-column: 2 / -1;\n}\n\n.xr-section-details {\n  display: none;\n  grid-column: 1 / -1;\n  margin-bottom: 5px;\n}\n\n.xr-section-summary-in:checked ~ .xr-section-details {\n  display: contents;\n}\n\n.xr-array-wrap {\n  grid-column: 1 / -1;\n  display: grid;\n  grid-template-columns: 20px auto;\n}\n\n.xr-array-wrap > label {\n  grid-column: 1;\n  vertical-align: top;\n}\n\n.xr-preview {\n  color: var(--xr-font-color3);\n}\n\n.xr-array-preview,\n.xr-array-data {\n  padding: 0 5px !important;\n  grid-column: 2;\n}\n\n.xr-array-data,\n.xr-array-in:checked ~ .xr-array-preview {\n  display: none;\n}\n\n.xr-array-in:checked ~ .xr-array-data,\n.xr-array-preview {\n  display: inline-block;\n}\n\n.xr-dim-list {\n  display: inline-block !important;\n  list-style: none;\n  padding: 0 !important;\n  margin: 0;\n}\n\n.xr-dim-list li {\n  display: inline-block;\n  padding: 0;\n  margin: 0;\n}\n\n.xr-dim-list:before {\n  content: '(';\n}\n\n.xr-dim-list:after {\n  content: ')';\n}\n\n.xr-dim-list li:not(:last-child):after {\n  content: ',';\n  padding-right: 5px;\n}\n\n.xr-has-index {\n  font-weight: bold;\n}\n\n.xr-var-list,\n.xr-var-item {\n  display: contents;\n}\n\n.xr-var-item > div,\n.xr-var-item label,\n.xr-var-item > .xr-var-name span {\n  background-color: var(--xr-background-color-row-even);\n  margin-bottom: 0;\n}\n\n.xr-var-item > .xr-var-name:hover span {\n  padding-right: 5px;\n}\n\n.xr-var-list > li:nth-child(odd) > div,\n.xr-var-list > li:nth-child(odd) > label,\n.xr-var-list > li:nth-child(odd) > .xr-var-name span {\n  background-color: var(--xr-background-color-row-odd);\n}\n\n.xr-var-name {\n  grid-column: 1;\n}\n\n.xr-var-dims {\n  grid-column: 2;\n}\n\n.xr-var-dtype {\n  grid-column: 3;\n  text-align: right;\n  color: var(--xr-font-color2);\n}\n\n.xr-var-preview {\n  grid-column: 4;\n}\n\n.xr-var-name,\n.xr-var-dims,\n.xr-var-dtype,\n.xr-preview,\n.xr-attrs dt {\n  white-space: nowrap;\n  overflow: hidden;\n  text-overflow: ellipsis;\n  padding-right: 10px;\n}\n\n.xr-var-name:hover,\n.xr-var-dims:hover,\n.xr-var-dtype:hover,\n.xr-attrs dt:hover {\n  overflow: visible;\n  width: auto;\n  z-index: 1;\n}\n\n.xr-var-attrs,\n.xr-var-data {\n  display: none;\n  background-color: var(--xr-background-color) !important;\n  padding-bottom: 5px !important;\n}\n\n.xr-var-attrs-in:checked ~ .xr-var-attrs,\n.xr-var-data-in:checked ~ .xr-var-data {\n  display: block;\n}\n\n.xr-var-data > table {\n  float: right;\n}\n\n.xr-var-name span,\n.xr-var-data,\n.xr-attrs {\n  padding-left: 25px !important;\n}\n\n.xr-attrs,\n.xr-var-attrs,\n.xr-var-data {\n  grid-column: 1 / -1;\n}\n\ndl.xr-attrs {\n  padding: 0;\n  margin: 0;\n  display: grid;\n  grid-template-columns: 125px auto;\n}\n\n.xr-attrs dt, dd {\n  padding: 0;\n  margin: 0;\n  float: left;\n  padding-right: 10px;\n  width: auto;\n}\n\n.xr-attrs dt {\n  font-weight: normal;\n  grid-column: 1;\n}\n\n.xr-attrs dt:hover span {\n  display: inline-block;\n  background: var(--xr-background-color);\n  padding-right: 10px;\n}\n\n.xr-attrs dd {\n  grid-column: 2;\n  white-space: pre-wrap;\n  word-break: break-all;\n}\n\n.xr-icon-database,\n.xr-icon-file-text2 {\n  display: inline-block;\n  vertical-align: middle;\n  width: 1em;\n  height: 1.5em !important;\n  stroke-width: 0;\n  stroke: currentColor;\n  fill: currentColor;\n}\n</style><pre class='xr-text-repr-fallback'>&lt;xarray.Dataset&gt;\nDimensions:         (Height: 3000, Time: 2880)\nCoordinates:\n  * Time            (Time) datetime64[ns] 2017-09-13 ... 2017-09-13T23:59:30\n  * Height          (Height) float64 0.3088 0.3162 0.3237 ... 22.7 22.71 22.72\n    Wavelength      uint64 1064\nData variables:\n    range_corr      (Height, Time) float32 0.0 12403.125 ... 0.0 -2188765.8\n    lambda_nm       uint32 1064\n    plot_min_range  float64 0.0\n    plot_max_range  float64 7.618e+07\n    date            datetime64[ns] 2017-09-13\nAttributes:\n    location:     Haifa\n    info:         Daily range corrected lidar signal\n    source_type:  att_bsc</pre><div class='xr-wrap' hidden><div class='xr-header'><div class='xr-obj-type'>xarray.Dataset</div></div><ul class='xr-sections'><li class='xr-section-item'><input id='section-87c8a4eb-1236-4c71-8e02-73d2f917cb30' class='xr-section-summary-in' type='checkbox' disabled ><label for='section-87c8a4eb-1236-4c71-8e02-73d2f917cb30' class='xr-section-summary'  title='Expand/collapse section'>Dimensions:</label><div class='xr-section-inline-details'><ul class='xr-dim-list'><li><span class='xr-has-index'>Height</span>: 3000</li><li><span class='xr-has-index'>Time</span>: 2880</li></ul></div><div class='xr-section-details'></div></li><li class='xr-section-item'><input id='section-01ec729a-ba73-4145-ae47-2a03165707ec' class='xr-section-summary-in' type='checkbox'  checked><label for='section-01ec729a-ba73-4145-ae47-2a03165707ec' class='xr-section-summary' >Coordinates: <span>(3)</span></label><div class='xr-section-inline-details'></div><div class='xr-section-details'><ul class='xr-var-list'><li class='xr-var-item'><div class='xr-var-name'><span class='xr-has-index'>Time</span></div><div class='xr-var-dims'>(Time)</div><div class='xr-var-dtype'>datetime64[ns]</div><div class='xr-var-preview xr-preview'>2017-09-13 ... 2017-09-13T23:59:30</div><input id='attrs-82d8c9f1-4fed-44c1-9c5e-a897ba8cd2a2' class='xr-var-attrs-in' type='checkbox' disabled><label for='attrs-82d8c9f1-4fed-44c1-9c5e-a897ba8cd2a2' title='Show/Hide attributes'><svg class='icon xr-icon-file-text2'><use xlink:href='#icon-file-text2'></use></svg></label><input id='data-30328fa9-25fb-480e-b4df-64c02b027735' class='xr-var-data-in' type='checkbox'><label for='data-30328fa9-25fb-480e-b4df-64c02b027735' title='Show/Hide data repr'><svg class='icon xr-icon-database'><use xlink:href='#icon-database'></use></svg></label><div class='xr-var-attrs'><dl class='xr-attrs'></dl></div><div class='xr-var-data'><pre>array([&#x27;2017-09-13T00:00:00.000000000&#x27;, &#x27;2017-09-13T00:00:30.000000000&#x27;,\n       &#x27;2017-09-13T00:01:00.000000000&#x27;, ..., &#x27;2017-09-13T23:58:30.000000000&#x27;,\n       &#x27;2017-09-13T23:59:00.000000000&#x27;, &#x27;2017-09-13T23:59:30.000000000&#x27;],\n      dtype=&#x27;datetime64[ns]&#x27;)</pre></div></li><li class='xr-var-item'><div class='xr-var-name'><span class='xr-has-index'>Height</span></div><div class='xr-var-dims'>(Height)</div><div class='xr-var-dtype'>float64</div><div class='xr-var-preview xr-preview'>0.3088 0.3162 ... 22.71 22.72</div><input id='attrs-d57a62c8-9633-4e4e-bdc5-2fed7864a200' class='xr-var-attrs-in' type='checkbox' ><label for='attrs-d57a62c8-9633-4e4e-bdc5-2fed7864a200' title='Show/Hide attributes'><svg class='icon xr-icon-file-text2'><use xlink:href='#icon-file-text2'></use></svg></label><input id='data-34a6b543-ef65-4ea7-8290-0eb42be1a858' class='xr-var-data-in' type='checkbox'><label for='data-34a6b543-ef65-4ea7-8290-0eb42be1a858' title='Show/Hide data repr'><svg class='icon xr-icon-database'><use xlink:href='#icon-database'></use></svg></label><div class='xr-var-attrs'><dl class='xr-attrs'><dt><span>units :</span></dt><dd>Km</dd><dt><span>info :</span></dt><dd>Measurements heights above sea level</dd></dl></div><div class='xr-var-data'><pre>array([ 0.30875 ,  0.316221,  0.323693, ..., 22.700717, 22.708188, 22.71566 ])</pre></div></li><li class='xr-var-item'><div class='xr-var-name'><span>Wavelength</span></div><div class='xr-var-dims'>()</div><div class='xr-var-dtype'>uint64</div><div class='xr-var-preview xr-preview'>...</div><input id='attrs-61b9c634-216c-4f43-abb6-dbbc7b6b6806' class='xr-var-attrs-in' type='checkbox' ><label for='attrs-61b9c634-216c-4f43-abb6-dbbc7b6b6806' title='Show/Hide attributes'><svg class='icon xr-icon-file-text2'><use xlink:href='#icon-file-text2'></use></svg></label><input id='data-3ed9bf1f-eea8-4e53-9e19-88576b2837cf' class='xr-var-data-in' type='checkbox'><label for='data-3ed9bf1f-eea8-4e53-9e19-88576b2837cf' title='Show/Hide data repr'><svg class='icon xr-icon-database'><use xlink:href='#icon-database'></use></svg></label><div class='xr-var-attrs'><dl class='xr-attrs'><dt><span>long_name :</span></dt><dd>$\\lambda$</dd><dt><span>units :</span></dt><dd>$nm$</dd></dl></div><div class='xr-var-data'><pre>array(1064, dtype=uint64)</pre></div></li></ul></div></li><li class='xr-section-item'><input id='section-1bc6c3fc-4914-42c4-8278-f7830f6f0e3a' class='xr-section-summary-in' type='checkbox'  checked><label for='section-1bc6c3fc-4914-42c4-8278-f7830f6f0e3a' class='xr-section-summary' >Data variables: <span>(5)</span></label><div class='xr-section-inline-details'></div><div class='xr-section-details'><ul class='xr-var-list'><li class='xr-var-item'><div class='xr-var-name'><span>range_corr</span></div><div class='xr-var-dims'>(Height, Time)</div><div class='xr-var-dtype'>float32</div><div class='xr-var-preview xr-preview'>0.0 12403.125 ... 0.0 -2188765.8</div><input id='attrs-1fa4c6d9-f664-4405-85ba-c8f83775b66a' class='xr-var-attrs-in' type='checkbox' ><label for='attrs-1fa4c6d9-f664-4405-85ba-c8f83775b66a' title='Show/Hide attributes'><svg class='icon xr-icon-file-text2'><use xlink:href='#icon-file-text2'></use></svg></label><input id='data-324b776c-c6bd-4437-a316-f40699bae1c1' class='xr-var-data-in' type='checkbox'><label for='data-324b776c-c6bd-4437-a316-f40699bae1c1' title='Show/Hide data repr'><svg class='icon xr-icon-database'><use xlink:href='#icon-database'></use></svg></label><div class='xr-var-attrs'><dl class='xr-attrs'><dt><span>long_name :</span></dt><dd>$LC \\beta \\cdot \\exp(-2\\tau)$</dd><dt><span>units :</span></dt><dd>$photons \\cdot m^2$</dd><dt><span>info :</span></dt><dd>Range corrected lidar signal from attenuated backscatter multiplied by LC</dd></dl></div><div class='xr-var-data'><pre>array([[       0.    ,    12403.125 ,     6201.5625, ...,    49558.81  ,\n           99225.    ,   105399.72  ],\n       [    7434.14  ,    22302.42  ,     7434.14  , ...,    74277.04  ,\n           89209.68  ,    74309.23  ],\n       [       0.    ,     8778.362 ,     8778.362 , ...,   105264.35  ,\n           87783.63  ,   105302.35  ],\n       ...,\n       [       0.    ,        0.    ,        0.    , ..., -4371715.5   ,\n               0.    , -2185857.8   ],\n       [       0.    ,        0.    ,        0.    , ..., -4374622.5   ,\n               0.    , -2187311.2   ],\n       [       0.    ,        0.    ,        0.    , ..., -4377531.5   ,\n               0.    , -2188765.8   ]], dtype=float32)</pre></div></li><li class='xr-var-item'><div class='xr-var-name'><span>lambda_nm</span></div><div class='xr-var-dims'>()</div><div class='xr-var-dtype'>uint32</div><div class='xr-var-preview xr-preview'>1064</div><input id='attrs-c3b69697-548b-4948-8e3b-ddc3d92c80cb' class='xr-var-attrs-in' type='checkbox' disabled><label for='attrs-c3b69697-548b-4948-8e3b-ddc3d92c80cb' title='Show/Hide attributes'><svg class='icon xr-icon-file-text2'><use xlink:href='#icon-file-text2'></use></svg></label><input id='data-e52b7e98-74fa-4a06-9d0b-6f0d942d57e4' class='xr-var-data-in' type='checkbox'><label for='data-e52b7e98-74fa-4a06-9d0b-6f0d942d57e4' title='Show/Hide data repr'><svg class='icon xr-icon-database'><use xlink:href='#icon-database'></use></svg></label><div class='xr-var-attrs'><dl class='xr-attrs'></dl></div><div class='xr-var-data'><pre>array(1064, dtype=uint32)</pre></div></li><li class='xr-var-item'><div class='xr-var-name'><span>plot_min_range</span></div><div class='xr-var-dims'>()</div><div class='xr-var-dtype'>float64</div><div class='xr-var-preview xr-preview'>0.0</div><input id='attrs-4ed33aff-ce6f-46c6-a6ed-a442fd41f33b' class='xr-var-attrs-in' type='checkbox' disabled><label for='attrs-4ed33aff-ce6f-46c6-a6ed-a442fd41f33b' title='Show/Hide attributes'><svg class='icon xr-icon-file-text2'><use xlink:href='#icon-file-text2'></use></svg></label><input id='data-b6793f74-633a-4c40-bdaa-448cf770668c' class='xr-var-data-in' type='checkbox'><label for='data-b6793f74-633a-4c40-bdaa-448cf770668c' title='Show/Hide data repr'><svg class='icon xr-icon-database'><use xlink:href='#icon-database'></use></svg></label><div class='xr-var-attrs'><dl class='xr-attrs'></dl></div><div class='xr-var-data'><pre>array(0.)</pre></div></li><li class='xr-var-item'><div class='xr-var-name'><span>plot_max_range</span></div><div class='xr-var-dims'>()</div><div class='xr-var-dtype'>float64</div><div class='xr-var-preview xr-preview'>7.618e+07</div><input id='attrs-cfd47bfa-6ca5-4756-8b05-d19e96b5c5b4' class='xr-var-attrs-in' type='checkbox' disabled><label for='attrs-cfd47bfa-6ca5-4756-8b05-d19e96b5c5b4' title='Show/Hide attributes'><svg class='icon xr-icon-file-text2'><use xlink:href='#icon-file-text2'></use></svg></label><input id='data-8c53ea3e-b094-4939-8617-57f0fd298380' class='xr-var-data-in' type='checkbox'><label for='data-8c53ea3e-b094-4939-8617-57f0fd298380' title='Show/Hide data repr'><svg class='icon xr-icon-database'><use xlink:href='#icon-database'></use></svg></label><div class='xr-var-attrs'><dl class='xr-attrs'></dl></div><div class='xr-var-data'><pre>array(76178499.24256036)</pre></div></li><li class='xr-var-item'><div class='xr-var-name'><span>date</span></div><div class='xr-var-dims'>()</div><div class='xr-var-dtype'>datetime64[ns]</div><div class='xr-var-preview xr-preview'>2017-09-13</div><input id='attrs-068611e5-acbd-45c2-8e97-da2c10364f36' class='xr-var-attrs-in' type='checkbox' disabled><label for='attrs-068611e5-acbd-45c2-8e97-da2c10364f36' title='Show/Hide attributes'><svg class='icon xr-icon-file-text2'><use xlink:href='#icon-file-text2'></use></svg></label><input id='data-285eabf3-7b62-4054-9ed7-91c87b0cab38' class='xr-var-data-in' type='checkbox'><label for='data-285eabf3-7b62-4054-9ed7-91c87b0cab38' title='Show/Hide data repr'><svg class='icon xr-icon-database'><use xlink:href='#icon-database'></use></svg></label><div class='xr-var-attrs'><dl class='xr-attrs'></dl></div><div class='xr-var-data'><pre>array(&#x27;2017-09-13T00:00:00.000000000&#x27;, dtype=&#x27;datetime64[ns]&#x27;)</pre></div></li></ul></div></li><li class='xr-section-item'><input id='section-1e8bd802-87df-48a6-8895-624b8119e83a' class='xr-section-summary-in' type='checkbox'  checked><label for='section-1e8bd802-87df-48a6-8895-624b8119e83a' class='xr-section-summary' >Attributes: <span>(3)</span></label><div class='xr-section-inline-details'></div><div class='xr-section-details'><dl class='xr-attrs'><dt><span>location :</span></dt><dd>Haifa</dd><dt><span>info :</span></dt><dd>Daily range corrected lidar signal</dd><dt><span>source_type :</span></dt><dd>att_bsc</dd></dl></div></li></ul></div></div>"
     },
     "metadata": {},
     "output_type": "display_data"
    }
   ],
   "source": [
    "if LOAD_LIDAR_DS:\n",
    "\tprint( 'Load range corr per channel')\n",
    "\tnetcdf = lidar_ncpaths[0]\n",
    "\tds_load_pr2_chan = prep.load_dataset(netcdf)\n",
    "\tdisplay(ds_load_pr2_chan)"
   ]
  },
  {
   "cell_type": "code",
   "execution_count": 7,
   "metadata": {
    "collapsed": false,
    "jupyter": {
     "outputs_hidden": false
    },
    "pycharm": {
     "name": "#%% FIGURE SAVE PARAMETERS\n"
    }
   },
   "outputs": [],
   "source": [
    "#format_fig = 'png'\n",
    "#dpi_ = 1000\n",
    "SAVE_FIG = False\n",
    "VIS_LIDAR_DS = False"
   ]
  },
  {
   "cell_type": "code",
   "execution_count": 8,
   "metadata": {
    "collapsed": false,
    "jupyter": {
     "outputs_hidden": false
    },
    "pycharm": {
     "name": "#%% VISUALIZE RANGE CORRECTED - witout limits\n"
    }
   },
   "outputs": [],
   "source": [
    "if VIS_LIDAR_DS:\n",
    "\twavelengths = ds_range_corr_daily.Wavelength.values.tolist()\n",
    "\tprint('visualizing without range_plot:')\n",
    "\tfor wav in wavelengths:\n",
    "\t\tprofile_type = 'range_corr'\n",
    "\t\tUSE_RANGE = None\n",
    "\t\tg = prep.visualize_ds_profile_chan(ds_range_corr_daily, wav,\n",
    "\t\t                                   profile_type = profile_type, SAVE_FIG= SAVE_FIG)"
   ]
  },
  {
   "cell_type": "code",
   "execution_count": 9,
   "metadata": {
    "collapsed": false,
    "jupyter": {
     "outputs_hidden": false
    },
    "pycharm": {
     "name": "#%% VISUALIZE RANGE CORRECTED\n"
    }
   },
   "outputs": [],
   "source": [
    "if VIS_LIDAR_DS:\n",
    "\tprint(\"Visualizing within the 'range_plot' bounding values:\")\n",
    "\tfor wav in wavelengths:\n",
    "\t\tg = prep.visualize_ds_profile_chan(ds_range_corr_daily, wav,\n",
    "\t\t                                   profile_type = profile_type,USE_RANGE='MID', SAVE_FIG= SAVE_FIG)"
   ]
  },
  {
   "cell_type": "code",
   "execution_count": 10,
   "metadata": {
    "collapsed": false,
    "jupyter": {
     "outputs_hidden": false
    },
    "pycharm": {
     "name": "#%% VISUALIZE RANGE CORRECTED - lower range\n"
    }
   },
   "outputs": [],
   "source": [
    "if VIS_LIDAR_DS:\n",
    "\tprint(\"Visualizing below the 'range_plot':\")\n",
    "\tfor wav in wavelengths:\n",
    "\t\tg = prep.visualize_ds_profile_chan(ds_range_corr_daily, wav,\n",
    "                                   profile_type = profile_type,USE_RANGE='LOW', SAVE_FIG= SAVE_FIG)"
   ]
  },
  {
   "cell_type": "code",
   "execution_count": 11,
   "metadata": {
    "collapsed": false,
    "jupyter": {
     "outputs_hidden": false
    },
    "pycharm": {
     "name": "#%% VISUALIZE RANGE CORRECTED - upper range\n"
    }
   },
   "outputs": [],
   "source": [
    "if VIS_LIDAR_DS:\n",
    "\tprint(\"Visualizing above the 'range_plot':\")\n",
    "\tfor wav in wavelengths:\n",
    "\t\tg = prep.visualize_ds_profile_chan(ds_range_corr_daily, wav,\n",
    "                                   profile_type = profile_type,USE_RANGE='HIGH', SAVE_FIG= SAVE_FIG)"
   ]
  },
  {
   "cell_type": "code",
   "execution_count": 12,
   "metadata": {
    "collapsed": false,
    "jupyter": {
     "outputs_hidden": false
    },
    "pycharm": {
     "name": "#%% Values ststistics\n"
    }
   },
   "outputs": [],
   "source": [
    "if VIS_LIDAR_DS:\n",
    "\t_,_,df_stats= daily_ds_histogram(ds_range_corr_daily, profile='range_corr', SAVE_FIG = True)\n",
    "\tdisplay(df_stats)"
   ]
  },
  {
   "cell_type": "code",
   "execution_count": 13,
   "metadata": {
    "collapsed": false,
    "jupyter": {
     "outputs_hidden": false
    },
    "pycharm": {
     "name": "#%%\n"
    }
   },
   "outputs": [],
   "source": [
    "def daily_ds_histogram(dataset, profile_type='range_corr',\n",
    "                       SAVE_FIG = False , dst_folder = os.path.join ( '..' , 'Figures' )\n",
    "                       , format_fig = 'png' , dpi = 1000 ):\n",
    "\timport matplotlib.ticker as mticker\n",
    "\tfrom decimal import Decimal\n",
    "\t#logger = logging.getLogger ( )\n",
    "\n",
    "\tdate_datetime = prep.get_daily_ds_date ( dataset )\n",
    "\tds_profile = dataset.get(profile_type)\n",
    "\tdf_stats = pd.DataFrame(columns=['wavelength [nm]', 'valid size', 'positive %', 'negative %'])\n",
    "\tfig, axes = plt.subplots(nrows=1, ncols=2, figsize=(12, 6),sharey=True)\n",
    "\tax = axes.ravel()\n",
    "\tth = 0\n",
    "\tcolors = ['b','g','r']\n",
    "\n",
    "\tfor ind,(wavelength,color) in enumerate(zip(wavelengths,colors)):\n",
    "\t\tsub_ds = ds_profile.sel(Wavelength = wavelength)\n",
    "\t\torig_size = sub_ds.where(sub_ds != np.nan ).values.size\n",
    "\n",
    "\t\t# positive values histogram\n",
    "\t\tpos_vals = sub_ds.where(sub_ds > th).where(sub_ds != np.nan).values\n",
    "\t\tpos_vals = pos_vals[~np.isnan(pos_vals)]\n",
    "\t\tpos_size = pos_vals.size\n",
    "\n",
    "\t\tnbins = 100 #if pos_size>100 else 10\n",
    "\t\thist, bins =np.histogram(pos_vals, bins=nbins)\n",
    "\t\tlogbins = np.logspace(np.log10(bins[0]),np.log10(bins[-1]),len(bins))\n",
    "\t\tax[1].hist(pos_vals, bins=logbins, label = f\"$\\lambda={wavelength}$\",\n",
    "\t\t           alpha=0.4, color= color )\n",
    "\t\tax[1].set_xscale('symlog')\n",
    "\n",
    "\t\t#negative values histogram\n",
    "\n",
    "\t\tneg_ds = sub_ds.where(sub_ds < -th).where(sub_ds != np.nan )#.values\n",
    "\t\tneg_vals= neg_ds.values[~np.isnan(neg_ds.values)]\n",
    "\t\tneg_size = neg_vals.size\n",
    "\t\tif neg_size>0:\n",
    "\t\t\tnbins = 100 if neg_size>100 else 1\n",
    "\t\t\thistneg, binsneg =np.histogram(neg_vals, bins=nbins)\n",
    "\t\t\tneg_logbins = np.logspace(np.log10(-binsneg[-1]),np.log10(-binsneg[0]),len(binsneg))\n",
    "\t\t\tax[0].hist(-neg_vals, bins=neg_logbins, label = f\"$\\lambda={wavelength}$\",\n",
    "\t\t\t           alpha=0.5 , color= color)\n",
    "\n",
    "\t\tdf_stats.loc[ind] = [wavelength, orig_size, f\"{100.0*pos_size/orig_size:.2f}\" ,\n",
    "\t\t                   f\"{100.0*neg_size/orig_size :.2f}\"]\n",
    "\n",
    "\t# fixing xticks with FixedLocator but also using MaxNLocator to avoid cramped x-labels\n",
    "\tticks_loc = ax[1].get_xticks().tolist()\n",
    "\tax[1].xaxis.set_major_locator(mticker.FixedLocator(ticks_loc))\n",
    "\tnew_posx_ticks = [f\"$10^{np.log10(Decimal(n))}$\" if n>0 else round(n) for n in ticks_loc]\n",
    "\tax[1].set_xticklabels(new_posx_ticks)\n",
    "\tif neg_size>0:\n",
    "\t\tax[0].set_xscale('log')\n",
    "\t\tax[0].invert_xaxis()\n",
    "\t\tax[0].set_xscale('symlog')\n",
    "\t\t#ax[0].legend()\n",
    "\t\tticks_loc = ax[0].get_xticks()#.tolist()\n",
    "\t\tax[0].xaxis.set_major_locator(mticker.FixedLocator(ticks_loc))\n",
    "\t\tnew_negx_ticks = [f\"$-10^{np.log10(Decimal(n))}$\" if n>0 else round(n) for n in ticks_loc]\n",
    "\t\tax[0].set_xticklabels(new_negx_ticks)\n",
    "\n",
    "\tax[1].legend(loc= 'upper left')\n",
    "\ty_lim = ax[1].get_ylim()\n",
    "\tax[0].set_ylim(y_lim)\n",
    "\tax[0].ticklabel_format(axis='y', style='sci', scilimits=(0,0))\n",
    "\tax[0].tick_params(axis='both', which='major', labelsize=14)\n",
    "\tax[0].set_ylabel('counts', fontsize =18)\n",
    "\tax[1].tick_params(axis='both', which='major', labelsize=14)\n",
    "\txlabels = f\"{ds_profile.long_name}\\n[{ds_profile.units}]\"\n",
    "\tax[0].set_xlabel(xlabels,position=(1.05, 1e6), horizontalalignment='center', fontsize =18)\n",
    "\tprint(date_datetime)\n",
    "\tstitle = f\"Histogram of {ds_profile.info.lower()} \" \\\n",
    "\t         f\"\\n {dataset.attrs['location']} {date_datetime.strftime('%Y-%m-%d')}\"\n",
    "\tfig.suptitle(stitle, fontsize = 24)\n",
    "\tplt.tight_layout()\n",
    "\tplt.show()\n",
    "\n",
    "\tif SAVE_FIG :\n",
    "\t\tfname = f\"{date_datetime.strftime ( '%Y-%m-%d' )}_{dataset.attrs ['location']}_{profile_type}_\" \\\n",
    "\t\t        f\"source_{dataset.attrs['source_type']}_histogram.{format_fig}\"\n",
    "\t\tif not os.path.exists ( dst_folder ) :\n",
    "\t\t\ttry :\n",
    "\t\t\t    os.makedirs ( dst_folder , exist_ok = True )\n",
    "\t\t\t    print (f\"Creating folder: {dst_folder}\") # logger.debug ( f\"Creating folder: {dst_folder}\" )\n",
    "\t\t\texcept Exception :\n",
    "\t\t\t\traise OSError ( f\"Failed to create folder: {dst_folder}\" )\n",
    "\t\tfpath = os.path.join ( dst_folder , fname )\n",
    "\t\tfig.savefig(fpath,bbox_inches='tight',dpi=dpi, format = format_fig)\n",
    "\t\tprint(f\"Figure saved at {fpath}\") # logger.debug ( f\"Figure saved at {fpath}\" )\n",
    "\treturn (fig,axes,df_stats)\n",
    "\n",
    "def get_TROPOS_raw_nc_timestamp(nc_path):\n",
    "\tformat_filename = r\"(.*)_(.*)_TROPOS_(.*)_01.nc\"\n",
    "\tformat_times = [\"%Y_%m_%d\",\"%a\", \"%H_%M\"]\n",
    "\tdate_time = prep.extract_date_time(nc_path,format_filename, format_times)\n",
    "\ttimestamp = datetime.combine(date = date_time[0].date(),time=date_time[2].time())\n",
    "\treturn timestamp"
   ]
  },
  {
   "cell_type": "code",
   "execution_count": 14,
   "metadata": {
    "collapsed": false,
    "jupyter": {
     "outputs_hidden": false
    },
    "pycharm": {
     "name": "#%% raw lidar measurments\n"
    }
   },
   "outputs": [
    {
     "name": "stdout",
     "output_type": "stream",
     "text": [
      "[datetime.datetime(2017, 9, 12, 18, 0), datetime.datetime(2017, 9, 13, 0, 0), datetime.datetime(2017, 9, 13, 6, 0), datetime.datetime(2017, 9, 13, 18, 0), datetime.datetime(2017, 9, 14, 0, 0), datetime.datetime(2017, 9, 14, 6, 0), datetime.datetime(2018, 9, 12, 18, 0), datetime.datetime(2018, 9, 13, 0, 0), datetime.datetime(2018, 9, 13, 18, 0)]\n",
      "day: 2017-09-13, hours:[datetime.datetime(2017, 9, 13, 0, 0), datetime.datetime(2017, 9, 13, 6, 0), datetime.datetime(2017, 9, 13, 18, 0)]\n",
      "2017_09_13_Wed_TROPOS_00_00_01.nc\n",
      "2017_09_13_Wed_TROPOS_06_00_01.nc\n",
      "2017_09_13_Wed_TROPOS_18_00_01.nc\n"
     ]
    }
   ],
   "source": [
    "netcdf_folder = r\"C:\\Users\\addalin\\Dropbox\\Lidar\\code\\data examples\\lidar netcdf\"\n",
    "raw_nc_paths = sorted(glob.glob(os.path.join(netcdf_folder,\"*.nc\")))\n",
    "timestamps = [get_TROPOS_raw_nc_timestamp(path) for path in raw_nc_paths]\n",
    "print(timestamps)\n",
    "df_times = pd.DataFrame(data = timestamps, columns = ['timestamp'])\n",
    "\n",
    "days_g = df_times.groupby([df_times.timestamp.dt.date]).groups\n",
    "days = list(days_g.keys())\n",
    "#print(days)\n",
    "\n",
    "for day in days[1:2]:\n",
    "\tdt_day = datetime.combine(date = day, time =  time.min)\n",
    "\tdstamps = [timestamps[ind] for ind in days_g[day].tolist()]\n",
    "\tprint(f'day: {day}, hours:{dstamps}')\n",
    "\tds_hours = []\n",
    "\tfor stamp in dstamps:\n",
    "\t\tfilename = f\"{stamp.strftime('%Y_%m_%d')}_{stamp.strftime('%a')}_TROPOS_{stamp.strftime('%H_%M')}_01.nc\"\n",
    "\t\tlidar_ds = prep.load_dataset(os.path.join(netcdf_folder,filename))\n",
    "\t\tprint(filename)\n",
    "\t\t#print()\n",
    "\t\t#display(lidar_ds)\n",
    "\n",
    "\t\tchannels =  gs.CHANNELS().get_elastic()\n",
    "\t\twavelengths = gs.LAMBDA_nm().get_elastic()\n",
    "\t\tds_chans = []\n",
    "\n",
    "\t\t# Separate bins to:\n",
    "\t\t# 1. background bins (pre-triggered)\n",
    "\t\t# 2. height bins of the raw signal (post-triggered)\n",
    "\t\ttotal_bins = lidar_ds.height.shape[0]\n",
    "\t\tpt_bin = 248 # pre-triggered bins\n",
    "\t\theight_bins = lidar_ds.height.values[pt_bin:total_bins]\n",
    "\t\tbg_bins = lidar_ds.height.values[0:pt_bin]\n",
    "\t\tn_heights =  height_bins.shape[0] # This value is useful for estimation of background signal from poisson distribution.\n",
    "\n",
    "\t\t# Calculate range and range^2\n",
    "\t\theight_res = lidar_ds.measurement_height_resolution.values * 1e-9\n",
    "\t\trange = np.array([(h_ind+1) * (gs.C_m_s*height_res)/2 for h_ind in (height_bins-pt_bin)])\n",
    "\t\tr2 = range**2  # this value is used to calculate range corrected signal: pr^2"
   ]
  },
  {
   "cell_type": "code",
   "execution_count": 26,
   "outputs": [
    {
     "data": {
      "text/plain": "7.49481145"
     },
     "execution_count": 26,
     "metadata": {},
     "output_type": "execute_result"
    }
   ],
   "source": [
    "dr = range[0]\n",
    "dr\n",
    "#np.arange(3000)\n",
    "#range_3000 = np.array([dr*(ind+1) for ind in np.arange(3000)])\n",
    "#range_3000"
   ],
   "metadata": {
    "collapsed": false,
    "pycharm": {
     "name": "#%%\n"
    }
   }
  },
  {
   "cell_type": "code",
   "execution_count": null,
   "outputs": [],
   "source": [
    "\t\t# Set height indexes\n",
    "\t\taltitude = lidar_ds.location_height.values\n",
    "\t\trange_km  = (range + altitude)* 1e-3\n",
    "\n",
    "\t\t# Set time indexes\n",
    "\t\tend_time = stamp + timedelta(hours=6) - timedelta(seconds = 30)\n",
    "\t\ttimes = pd.date_range(start =stamp,end = end_time, freq = '30S')\n",
    "\n",
    "\t\t# get raw signal per channel\n",
    "\t\tfor chan,lambda_nm in zip(channels, wavelengths):\n",
    "\t\t\tdf_bg = lidar_ds.sel(channel = chan , height = bg_bins).raw_signal.transpose(transpose_coords = True).to_pandas()\n",
    "\t\t\tdf_raw = lidar_ds.sel(channel = chan, height = height_bins).raw_signal.transpose(transpose_coords = True).to_pandas()\n",
    "\n",
    "\t\t\t# calculate background signal\n",
    "\t\t\tdf_mean_bg = df_bg.mean(axis=0)\n",
    "\t\t\t# bg_df = pd.DataFrame(np.array([mscLid.generate_poisson_signal(mu= mu_k,n= n_heights) for mu_k in mean_bg]).astype(np.int).T)\n",
    "\n",
    "\t\t\t# remove bg signal\n",
    "\t\t\tdf_signal = df_raw - df_mean_bg\n",
    "\t\t\t#df_signal[df_signal<0]=0\n",
    "\n",
    "\t\t\t#calc range corrected signal\n",
    "\t\t\tdf_pr2 = df_signal.apply(lambda row,r2: row*r2, axis=0,args = (r2,), result_type ='expand')\n",
    "\t\t\t#display(df_pr2)\n",
    "\n",
    "\n",
    "\t\t\tds_chan= xr.Dataset (\n",
    "\t\t\t        data_vars = {'range_corr' : (('Height' , 'Time') , df_pr2    ),\n",
    "\t\t\t                     'bg_mean'    : (('Time')            , df_mean_bg),\n",
    "\t\t\t                     'raw_signal' : (('Height' , 'Time') , df_raw    ),\n",
    "\t\t\t                     'lambda_nm'  : ('Wavelength'        , [ lambda_nm ]   )\n",
    "\t\t\t                     } ,\n",
    "\t\t\t        coords = {'Height' : range_km ,\n",
    "\t\t\t                  'Time' : times.values,\n",
    "\t\t\t\t\t\t\t  'Wavelength' : [ lambda_nm ]})\n",
    "\t\t\tds_chan.range_corr.attrs = {'long_name' : r'$p r^2$' ,\n",
    "\t\t\t                                       'units' : r'$photons \\cdot m^2$' ,\n",
    "\t\t\t                                       'info' : 'Range corrected from raw lidar signal'}\n",
    "\t\t\tds_chan.bg_mean.attrs = {'long_name' : r'$<p_{bg}>$' ,\n",
    "\t\t\t                                       'units' : r'$photons$' ,\n",
    "\t\t\t                                       'info' : 'Mean background from raw lidar signal'}\n",
    "\t\t\tds_chan.raw_signal.attrs = {'long_name' : r'$p$' ,\n",
    "\t\t\t                                       'units' : r'$photons$' ,\n",
    "\t\t\t                                       'info' : 'Raw lidar signal'}\n",
    "\t\t\t# set attributes of coordinates\n",
    "\t\t\tds_chan.Height.attrs = {'units' : '{}'.format ( '{}'.format ( 'km' ) ) ,\n",
    "\t\t\t                     'info' : 'Measurements heights above ground level'}\n",
    "\t\t\tds_chan.Wavelength.attrs = {'long_name' : r'$\\lambda$' , 'units' : r'$nm$'}\n",
    "\n",
    "\t\t\tds_chans.append(ds_chan)\n",
    "\n",
    "\t\tcur_ds = xr.concat ( ds_chans , dim = 'Wavelength' )\n",
    "\t\tds_hours.append(cur_ds)\n",
    "\n",
    "\tds_lidar_daily = xr.merge ( ds_hours , compat = 'no_conflicts' )\n",
    "\t#display(ds_lidar_daily)\n",
    "\n",
    "\t# Fixing missing timestamps values:\n",
    "\ttime_indx = pd.date_range(start = dt_day, end = (dt_day+timedelta(hours = 24)-timedelta(seconds = 30)), freq = '30S')\n",
    "\tds_lidar_daily = ds_lidar_daily.reindex ( {\"Time\" : time_indx} , fill_value = 0 )\n",
    "\t# Adding info attributes:\n",
    "\tds_lidar_daily [ 'date' ] = dt_day\n",
    "\tds_lidar_daily.attrs [ 'location' ] = station.location\n",
    "\tds_lidar_daily.attrs [ 'info' ] = 'Daily measured lidar signals'\n",
    "\tds_lidar_daily.attrs ['source_type'] = 'raw'\n",
    "\tdisplay(ds_lidar_daily)"
   ],
   "metadata": {
    "collapsed": false,
    "pycharm": {
     "name": "#%%\n"
    }
   }
  },
  {
   "cell_type": "code",
   "execution_count": null,
   "metadata": {
    "collapsed": false,
    "jupyter": {
     "outputs_hidden": false
    },
    "pycharm": {
     "name": "#%% Visualize raw signal values\n"
    }
   },
   "outputs": [],
   "source": [
    "top_h =ds_lidar_daily.Height[3000].values.tolist()\n",
    "min_h = ds_lidar_daily.Height[0].values.tolist()\n",
    "top_h"
   ]
  },
  {
   "cell_type": "code",
   "execution_count": null,
   "outputs": [],
   "source": [
    "ds_lidar_daily.Height.values[0]"
   ],
   "metadata": {
    "collapsed": false,
    "pycharm": {
     "name": "#%%\n"
    }
   }
  },
  {
   "cell_type": "code",
   "execution_count": null,
   "outputs": [],
   "source": [
    "topCL_h_gnd = 15.0 + altitude * 1e-3 # km\n",
    "micCL_h_gnd = 0.0 + altitude * 1e-3\n",
    "topCL_h = ds_lidar_daily.Height[np.abs(ds_lidar_daily.Height.values - topCL_h_gnd).argmin()].values\n",
    "minCL_h = ds_lidar_daily.Height[np.abs(ds_lidar_daily.Height.values - micCL_h_gnd).argmin()].values\n",
    "print(f'calibration range: [{minCL_h:.2f},{topCL_h:.2f}] [km] - above sea level')"
   ],
   "metadata": {
    "collapsed": false,
    "pycharm": {
     "name": "#%%\n"
    }
   }
  },
  {
   "cell_type": "code",
   "execution_count": null,
   "outputs": [],
   "source": [
    "SAVE_FIG = False\n",
    "lambda_nm=532\n",
    "g1 = prep.visualize_ds_profile_chan(ds_lidar_daily.sel( Height = slice(minCL_h,topCL_h)), lambda_nm,\n",
    "\t\t                                   profile_type = 'range_corr', SAVE_FIG= SAVE_FIG)\n",
    "\n",
    "g2 = prep.visualize_ds_profile_chan(ds_lidar_daily, lambda_nm = lambda_nm,\n",
    "                                    profile_type = 'bg_mean', SAVE_FIG= SAVE_FIG)"
   ],
   "metadata": {
    "collapsed": false,
    "pycharm": {
     "name": "#%%\n"
    }
   }
  },
  {
   "cell_type": "code",
   "execution_count": null,
   "outputs": [],
   "source": [
    "g3 = prep.visualize_ds_profile_chan(ds_lidar_daily.sel( Height = slice(minCL_h,topCL_h)),\n",
    "                               lambda_nm = lambda_nm,profile_type = 'raw_signal',SAVE_FIG= SAVE_FIG)\n",
    "\n",
    "for wav in wavelengths:\n",
    "\tg = prep.visualize_ds_profile_chan(ds_lidar_daily.sel( Height = slice(minCL_h,topCL_h)), lambda_nm,\n",
    "\t\t                                   profile_type = 'range_corr', SAVE_FIG= SAVE_FIG, USE_RANGE='LOW')"
   ],
   "metadata": {
    "collapsed": false,
    "pycharm": {
     "name": "#%%\n"
    }
   }
  },
  {
   "cell_type": "code",
   "execution_count": null,
   "metadata": {
    "collapsed": false,
    "jupyter": {
     "outputs_hidden": false
    },
    "pycharm": {
     "name": "#%% stats of raw signal and range corrected signals\n"
    }
   },
   "outputs": [],
   "source": [
    "_,_,df_stats = daily_ds_histogram(ds_lidar_daily.sel( Height = slice(minCL_h,topCL_h)),\n",
    "                                  profile_type='raw_signal', SAVE_FIG = SAVE_FIG)\n",
    "display(df_stats)\n",
    "\n",
    "_,_,df_stats = daily_ds_histogram(ds_lidar_daily.sel( Height = slice(minCL_h,topCL_h)),\n",
    "                                  profile_type='range_corr', SAVE_FIG = SAVE_FIG)\n",
    "display(df_stats)\n"
   ]
  },
  {
   "cell_type": "code",
   "execution_count": null,
   "metadata": {
    "collapsed": false,
    "jupyter": {
     "outputs_hidden": false
    },
    "pycharm": {
     "name": "#%%\n"
    }
   },
   "outputs": [],
   "source": []
  }
 ],
 "metadata": {
  "kernelspec": {
   "display_name": "lidar",
   "language": "python",
   "name": "lidar"
  },
  "language_info": {
   "codemirror_mode": {
    "name": "ipython",
    "version": 3
   },
   "file_extension": ".py",
   "mimetype": "text/x-python",
   "name": "python",
   "nbconvert_exporter": "python",
   "pygments_lexer": "ipython3",
   "version": "3.8.6"
  }
 },
 "nbformat": 4,
 "nbformat_minor": 4
}