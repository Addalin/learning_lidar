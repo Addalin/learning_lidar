{
 "cells": [
  {
   "cell_type": "code",
   "execution_count": 2,
   "metadata": {
    "collapsed": true,
    "pycharm": {
     "name": "#%% Imports\n"
    }
   },
   "outputs": [],
   "source": [
    "import preprocessing as prep\n",
    "import os,sys\n",
    "import numpy as np\n",
    "import scipy as sp\n",
    "import pandas as pd\n",
    "import matplotlib\n",
    "from datetime import datetime, timedelta, time\n",
    "import glob\n",
    "from generate_atmosphere import LidarProfile,RadiosondeProfile\n",
    "import miscLidar as mscLid\n",
    "from molecular import rayleigh_scattering\n",
    "import global_settings as gs\n",
    "import pandas as pd\n",
    "\n",
    "import matplotlib.dates as mdates\n",
    "import matplotlib.pyplot as plt\n",
    "import xarray as xr\n",
    "%matplotlib inline\n"
   ]
  },
  {
   "cell_type": "code",
   "execution_count": 4,
   "outputs": [],
   "source": [
    "import torch, torchvision\n",
    "# determine the supported device\n",
    "def get_device():\n",
    "    if torch.cuda.is_available():\n",
    "        device = torch.device('cuda:0')\n",
    "    else:\n",
    "        device = torch.device('cpu') # don't have GPU\n",
    "    return device\n",
    "\n",
    "device = get_device()"
   ],
   "metadata": {
    "collapsed": false,
    "pycharm": {
     "name": "#%%\n"
    }
   }
  },
  {
   "cell_type": "code",
   "execution_count": null,
   "outputs": [],
   "source": [
    "'''\n",
    "print ('sub dataset')\n",
    "sub_ds = ds.attbsc.sel(Time =slice(start_time,end_time), Wavelength = 532,drop = True)\n",
    "#sub_ds.sel(Wavelength = 532,drop = True)\n",
    "sub_ds.plot(cmap='turbo')\n",
    "#sub_df = sub_ds.to_pandas()\n",
    "#print(sub_df)\n",
    "'''"
   ],
   "metadata": {
    "collapsed": false,
    "pycharm": {
     "name": "#%%\n"
    }
   }
  },
  {
   "cell_type": "code",
   "execution_count": 18,
   "outputs": [],
   "source": [
    "class customDataSet ( torch.utils.data.Dataset ) :\n",
    "    \"\"\"TODO\"\"\"\n",
    "\n",
    "    def __init__ ( self , csv_file,\n",
    "                   top_height = 15.0 ,\n",
    "                   scales = {'range_corr':1E-6 , 'attbsc': 1E+3 ,\n",
    "                             'liconst': 1E-9, 'uncertainty_liconst': 1E-9 ,\n",
    "                             'r0': 1E-3 , 'delta_r': 1E-3 },\n",
    "                   powers= {'range_corr':0.2 , 'attbsc':0.2 ,\n",
    "                             'liconst': 0.2, 'uncertainty_liconst': 0.2 ,\n",
    "                             'r0': 1 , 'delta_r': 1 }) :\n",
    "        \"\"\"\n",
    "        Args:\n",
    "            csv_file (string): Path to the csv file of the database.\n",
    "        \"\"\"\n",
    "        self.data = pd.read_csv(csv_file)\n",
    "        self.key = [ 'date' , 'wavelength' , 'cali_method' , 'telescope' , 'cali_start_time' , 'cali_stop_time' ,\n",
    "                     'start_time_period' , 'end_time_period' ]\n",
    "        self.Y_features = [ 'LC' , 'LC_std' , 'r0','r1' ]\n",
    "        self.X_features = [ 'lidar_path' , 'molecular_path' ]\n",
    "        self.profiles =   ['range_corr', 'attbsc']\n",
    "        self.X_scales =   [scales[profile] for profile in self.profiles]\n",
    "        self.X_power =    [powers[profile] for profile in self.profiles]\n",
    "        self.Y_scales =   [scales[feature] for feature in self.Y_features]\n",
    "        self.Y_powers =   [powers[feature] for feature in self.Y_features]\n",
    "        self.top_height = top_height\n",
    "\n",
    "    def __len__ ( self ) :\n",
    "        return len ( self.data )\n",
    "\n",
    "    def __getitem__ ( self , idx ) :\n",
    "\t    # load data\n",
    "\t    row = self.data.loc [ idx , : ]\n",
    "\t    X_paths = row[self.X_features]\n",
    "\t    datasets = [prep.load_dataset(path) for path in X_paths]\n",
    "\t    hslices  = [slice(ds.Height.min().values.tolist(),ds.Height.min().values.tolist()+self.top_height)\n",
    "                    for ds in datasets]\n",
    "\t    tslice = slice ( row.start_time_period , row.end_time_period )\n",
    "\t    X = [ds.sel( Time = tslice , Height = hslice)[profile]\n",
    "             for ds,profile,hslice in zip(datasets,profiles,hslices)]\n",
    "\t    Y = row [self.Y_features ]\n",
    "\n",
    "\t    # transform the sample (units scale and gamma correction)\n",
    "\n",
    "\n",
    "\t    # convert to tensors\n",
    "\n",
    "\n",
    "\t    return {'x':X,'y':Y}"
   ],
   "metadata": {
    "collapsed": false,
    "pycharm": {
     "name": "#%%\n"
    }
   }
  },
  {
   "cell_type": "code",
   "execution_count": null,
   "outputs": [],
   "source": [
    "start_date = datetime ( 2017 , 9 , 1 )\n",
    "end_date = datetime ( 2017 , 10 , 31)\n",
    "csv_path = f\"dataset_{start_date.strftime('%Y-%m-%d')}_{end_date.strftime('%Y-%m-%d')}.csv\"\n",
    "dataset = pd.read_csv(csv_path)\n",
    "dataset"
   ],
   "metadata": {
    "collapsed": false,
    "pycharm": {
     "name": "#%%\n"
    }
   }
  },
  {
   "cell_type": "code",
   "execution_count": 19,
   "outputs": [],
   "source": [
    "dataloader = torch.utils.data.DataLoader ( csv_path , batch_size = 4 ,\n",
    "                                           shuffle = True )"
   ],
   "metadata": {
    "collapsed": false,
    "pycharm": {
     "name": "#%%\n"
    }
   }
  },
  {
   "cell_type": "code",
   "execution_count": 20,
   "outputs": [
    {
     "name": "stdout",
     "output_type": "stream",
     "text": [
      "0 ['1', '_', '-', '-']\n",
      "1 ['c', '.', 't', 'a']\n",
      "2 ['1', '0', '9', 's']\n",
      "3 ['t', '7', '3', '0']\n",
      "4 ['2', 's', '0', '1']\n",
      "5 ['0', '7', '1', '-']\n",
      "6 ['1', 'v', '0', '-']\n",
      "7 ['2', 'd', '_', 'a']\n",
      "8 ['e']\n"
     ]
    }
   ],
   "source": [
    "\n",
    "\n",
    "for i_batch , sample_batched in enumerate ( dataloader ) :\n",
    "    print ( i_batch , sample_batched )"
   ],
   "metadata": {
    "collapsed": false,
    "pycharm": {
     "name": "#%%\n"
    }
   }
  },
  {
   "cell_type": "code",
   "execution_count": 38,
   "outputs": [],
   "source": [
    "top_height = 15.0\n",
    "scales = {'range_corr':1E-6 , 'attbsc': 1E+3 ,\n",
    "          'LC': 1E-9, 'LC_std': 1E-9 ,\n",
    "          'r0': 1E-3 , 'r1': 1E-3 }\n",
    "\n",
    "powers= {'range_corr':0.2 , 'attbsc': 0.2 ,\n",
    "          'LC': 0.2, 'LC_std': 0.2 ,\n",
    "          'r0': 1 , 'r1': 1 }\n",
    "data = pd.read_csv(csv_path)\n",
    "key = [ 'date' , 'wavelength' , 'cali_method' , 'telescope' , 'cali_start_time' , 'cali_stop_time' ,\n",
    "             'start_time_period' , 'end_time_period' ]\n",
    "Y_features = [ 'LC' , 'LC_std' , 'r0','r1' ]\n",
    "X_features = [ 'lidar_path' , 'molecular_path' ]\n",
    "profiles =   ['range_corr', 'attbsc']\n",
    "X_scales = [scales[profile] for profile in profiles]\n",
    "X_powers =   [powers[profile] for profile in profiles]\n",
    "Y_scales =   [scales[feature] for feature in Y_features]\n",
    "Y_powers =   [powers[feature] for feature in Y_features]"
   ],
   "metadata": {
    "collapsed": false,
    "pycharm": {
     "name": "#%%\n"
    }
   }
  },
  {
   "cell_type": "code",
   "execution_count": 41,
   "outputs": [],
   "source": [
    "idx = 1625\n",
    "row = data.loc [ idx , : ]\n",
    "X_paths = row[X_features]\n",
    "datasets = [prep.load_dataset(path) for path in X_paths]"
   ],
   "metadata": {
    "collapsed": false,
    "pycharm": {
     "name": "#%%\n"
    }
   }
  },
  {
   "cell_type": "code",
   "execution_count": 42,
   "outputs": [],
   "source": [
    "hslices  = [slice(ds.Height.min().values.tolist(),ds.Height.min().values.tolist()+top_height)\n",
    "            for ds in datasets]\n",
    "tslice = slice ( row.start_time_period , row.end_time_period )"
   ],
   "metadata": {
    "collapsed": false,
    "pycharm": {
     "name": "#%%\n"
    }
   }
  },
  {
   "cell_type": "code",
   "execution_count": 93,
   "outputs": [
    {
     "name": "stdout",
     "output_type": "stream",
     "text": [
      "x:[<xarray.DataArray 'range_corr' (Height: 2008, Time: 60)>\n",
      "array([[ 9.47471875e+04,  1.19496406e+05,  8.90777188e+04, ...,\n",
      "         1.30978422e+05,  8.86548047e+04,  1.00681961e+05],\n",
      "       [ 9.15771875e+04,  9.18939531e+04,  7.74540781e+04, ...,\n",
      "         1.05641562e+05,  9.16088438e+04,  2.45590047e+05],\n",
      "       [ 6.48639922e+04,  1.43152047e+05,  1.34751453e+05, ...,\n",
      "         1.76731469e+05,  1.51479375e+05,  2.11867234e+05],\n",
      "       ...,\n",
      "       [-1.11136336e+08, -1.01473544e+08,  1.28525000e+08, ...,\n",
      "         9.37317600e+07, -1.10170544e+08,  1.05329608e+08],\n",
      "       [ 1.12205576e+08, -1.01574264e+08, -9.47996480e+07, ...,\n",
      "        -1.29627424e+08, -1.10279896e+08, -1.18018064e+08],\n",
      "       [-1.11356992e+08, -1.01675016e+08,  3.52487520e+08, ...,\n",
      "        -1.29756008e+08, -1.10389288e+08,  1.05538736e+08]], dtype=float32)\n",
      "Coordinates:\n",
      "  * Time        (Time) datetime64[ns] 2017-10-23T05:30:00 ... 2017-10-23T05:5...\n",
      "  * Height      (Height) float64 0.3088 0.3162 0.3237 0.3312 ... 15.29 15.3 15.3\n",
      "    Wavelength  uint64 ...\n",
      "Attributes:\n",
      "    long_name:  $LC \\beta \\cdot \\exp(-2\\tau)$\n",
      "    units:      $photons \\cdot m^2$\n",
      "    info:       Range corrected lidar signal from attenuated backscatter mult..., <xarray.DataArray 'attbsc' (Height: 2008, Time: 60)>\n",
      "array([[1.4753664e-06, 1.4753705e-06, 1.4753745e-06, ..., 1.4755964e-06,\n",
      "        1.4756005e-06, 1.4756044e-06],\n",
      "       [1.4744556e-06, 1.4744597e-06, 1.4744638e-06, ..., 1.4746885e-06,\n",
      "        1.4746926e-06, 1.4746967e-06],\n",
      "       [1.4735446e-06, 1.4735488e-06, 1.4735529e-06, ..., 1.4737801e-06,\n",
      "        1.4737843e-06, 1.4737884e-06],\n",
      "       ...,\n",
      "       [2.5886126e-07, 2.5885706e-07, 2.5885282e-07, ..., 2.5862096e-07,\n",
      "        2.5861675e-07, 2.5861254e-07],\n",
      "       [2.5855977e-07, 2.5855556e-07, 2.5855135e-07, ..., 2.5832011e-07,\n",
      "        2.5831591e-07, 2.5831170e-07],\n",
      "       [2.5825824e-07, 2.5825403e-07, 2.5824986e-07, ..., 2.5801924e-07,\n",
      "        2.5801504e-07, 2.5801086e-07]], dtype=float32)\n",
      "Coordinates:\n",
      "  * Height      (Height) float64 0.3078 0.3152 0.3227 0.3302 ... 15.29 15.3 15.3\n",
      "  * Time        (Time) datetime64[ns] 2017-10-23T05:30:00 ... 2017-10-23T05:5...\n",
      "    Wavelength  uint64 ...\n",
      "Attributes:\n",
      "    long_name:  $\\beta \\cdot \\exp(-2\\tau)$\n",
      "    units:      $1/m \\cdot sr$\n",
      "    info:       Molecular attenuated backscatter coefficient] \n",
      " y : [21838704107131.734, 21053924369.8485, 1259.24072265625, 2753.53271484375]\n"
     ]
    }
   ],
   "source": [
    "X = [ds.sel( Time = tslice , Height = hslice)[profile]\n",
    "     for ds,profile,hslice in zip(datasets,profiles,hslices)]\n",
    "Y = row[Y_features].tolist()\n",
    "\n",
    "print(f\"x:{X} \\n y : {Y}\")"
   ],
   "metadata": {
    "collapsed": false,
    "pycharm": {
     "name": "#%%\n"
    }
   }
  },
  {
   "cell_type": "code",
   "execution_count": 94,
   "outputs": [],
   "source": [
    "def scale_X (X, scales): # x - xr.dataset, self.X_scales\n",
    "\treturn  [xr.apply_ufunc(lambda x: x*scale, x_i)\n",
    "                for (scale,x_i) in zip(scales,X)]\n",
    "\n",
    "def pow_X (X, powers): # self.X_powers\n",
    "\treturn  [xr.apply_ufunc(lambda x: x**pow, x_i)\n",
    "                for (pow,x_i) in zip(powers,X)]\n",
    "\n",
    "def scale_Y (Y, scales): # self.Y_scales\n",
    "\treturn [y_i*scale for (scale,y_i) in zip(scales,Y)]\n",
    "\n",
    "def pow_Y (Y ,powers): # self.Y_powers\n",
    "\treturn [y_i**pow for (pow,y_i) in zip(powers,Y)]"
   ],
   "metadata": {
    "collapsed": false,
    "pycharm": {
     "name": "#%%\n"
    }
   }
  },
  {
   "cell_type": "code",
   "execution_count": 95,
   "outputs": [
    {
     "name": "stdout",
     "output_type": "stream",
     "text": [
      "x:[<xarray.DataArray 'range_corr' (Height: 2008, Time: 60)>\n",
      "array([[0.6241849 , 0.65383923, 0.6165294 , ..., 0.66594744, 0.6159429 ,\n",
      "        0.63181555],\n",
      "       [0.6199511 , 0.62037945, 0.5995271 , ..., 0.6379211 , 0.619994  ,\n",
      "        0.7551655 ],\n",
      "       [0.57862973, 0.6778904 , 0.6697407 , ..., 0.7070706 , 0.6855998 ,\n",
      "        0.7331836 ],\n",
      "       ...,\n",
      "       [       nan,        nan, 2.6411772 , ..., 2.4795756 ,        nan,\n",
      "        2.538108  ],\n",
      "       [2.5704129 ,        nan,        nan, ...,        nan,        nan,\n",
      "               nan],\n",
      "       [       nan,        nan, 3.231683  , ...,        nan,        nan,\n",
      "        2.539115  ]], dtype=float32)\n",
      "Coordinates:\n",
      "  * Time        (Time) datetime64[ns] 2017-10-23T05:30:00 ... 2017-10-23T05:5...\n",
      "  * Height      (Height) float64 0.3088 0.3162 0.3237 0.3312 ... 15.29 15.3 15.3\n",
      "    Wavelength  uint64 ..., <xarray.DataArray 'attbsc' (Height: 2008, Time: 60)>\n",
      "array([[0.27150634, 0.2715065 , 0.27150664, ..., 0.2715148 , 0.27151495,\n",
      "        0.2715151 ],\n",
      "       [0.2714728 , 0.27147296, 0.2714731 , ..., 0.2714814 , 0.27148154,\n",
      "        0.2714817 ],\n",
      "       [0.27143925, 0.2714394 , 0.27143955, ..., 0.27144793, 0.27144808,\n",
      "        0.27144822],\n",
      "       ...,\n",
      "       [0.19169615, 0.19169553, 0.1916949 , ..., 0.19166055, 0.19165993,\n",
      "        0.1916593 ],\n",
      "       [0.19165148, 0.19165085, 0.19165023, ..., 0.19161594, 0.19161531,\n",
      "        0.19161469],\n",
      "       [0.19160676, 0.19160613, 0.19160551, ..., 0.19157128, 0.19157065,\n",
      "        0.19157004]], dtype=float32)\n",
      "Coordinates:\n",
      "  * Height      (Height) float64 0.3078 0.3152 0.3227 0.3302 ... 15.29 15.3 15.3\n",
      "  * Time        (Time) datetime64[ns] 2017-10-23T05:30:00 ... 2017-10-23T05:5...\n",
      "    Wavelength  uint64 ...] \n",
      " y : [7.376415518118162, 1.8393594660272146, 1.25924072265625, 2.75353271484375]\n"
     ]
    }
   ],
   "source": [
    "X_trans = pow_X(scale_X(X, X_scales),X_powers)\n",
    "Y_trans = pow_Y(scale_Y(Y, Y_scales), Y_powers)\n",
    "print(f\"x:{X_trans} \\n y : {Y_trans}\")"
   ],
   "metadata": {
    "collapsed": false,
    "pycharm": {
     "name": "#%%\n"
    }
   }
  },
  {
   "cell_type": "code",
   "execution_count": null,
   "outputs": [],
   "source": [
    "'''\n",
    "Xtensor = torch.from_numpy(sub_ds.values).float().to(device)\n",
    "print(type(Xtensor), Xtensor.shape)\n",
    "from PIL import Image\n",
    "plt.figure()\n",
    "plt.imshow(Xtensor.cpu() ,#torchvision.transforms.ToPILImage()(Xtensor),\n",
    "           vmin=Xtensor.min().item(),\n",
    "           vmax= Xtensor.max().item(),  cmap = 'turbo',aspect='auto')#, interpolation=\"bicubic\")\n",
    "plt.gca().invert_yaxis()\n",
    "plt.colorbar()\n",
    "#tensor_image = Xtensor.view(Xtensor.shape[0], Xtensor.shape[1])\n",
    "\n",
    "plt.show()\n",
    "'''"
   ],
   "metadata": {
    "collapsed": false,
    "pycharm": {
     "name": "#%% show sample :\n"
    }
   }
  }
 ],
 "metadata": {
  "kernelspec": {
   "name": "lidar",
   "language": "python",
   "display_name": "lidar"
  },
  "language_info": {
   "codemirror_mode": {
    "name": "ipython",
    "version": 2
   },
   "file_extension": ".py",
   "mimetype": "text/x-python",
   "name": "python",
   "nbconvert_exporter": "python",
   "pygments_lexer": "ipython2",
   "version": "2.7.6"
  }
 },
 "nbformat": 4,
 "nbformat_minor": 0
}