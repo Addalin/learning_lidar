{
 "cells": [
  {
   "cell_type": "code",
   "execution_count": null,
   "metadata": {
    "collapsed": true,
    "pycharm": {
     "name": "#%% Imports\n"
    }
   },
   "outputs": [],
   "source": [
    "import os,sys\n",
    "import numpy as np\n",
    "import scipy as sp\n",
    "import pandas as pd\n",
    "import matplotlib\n",
    "from datetime import datetime, timedelta, time\n",
    "import glob\n",
    "from generate_atmosphere import LidarProfile,RadiosondeProfile\n",
    "import miscLidar as mscLid\n",
    "from molecular import rayleigh_scattering\n",
    "import global_settings as gs\n",
    "import pandas as pd\n",
    "import preprocessing as prep\n",
    "import matplotlib.dates as mdates\n",
    "import matplotlib.pyplot as plt\n",
    "import xarray as xr\n",
    "%matplotlib inline\n"
   ]
  },
  {
   "cell_type": "code",
   "execution_count": null,
   "outputs": [],
   "source": [
    "import torch, torchvision\n",
    "# determine the supported device\n",
    "def get_device():\n",
    "    if torch.cuda.is_available():\n",
    "        device = torch.device('cuda:0')\n",
    "    else:\n",
    "        device = torch.device('cpu') # don't have GPU\n",
    "    return device\n",
    "\n",
    "device = get_device()\n",
    "\n",
    "print ('sub dataset')\n",
    "sub_ds = ds.attbsc.sel(Time =slice(start_time,end_time), Wavelength = 532,drop = True)\n",
    "#sub_ds.sel(Wavelength = 532,drop = True)\n",
    "sub_ds.plot(cmap='turbo')\n",
    "#sub_df = sub_ds.to_pandas()\n",
    "#print(sub_df)"
   ],
   "metadata": {
    "collapsed": false,
    "pycharm": {
     "name": "#%%\n"
    }
   }
  },
  {
   "cell_type": "code",
   "execution_count": null,
   "outputs": [],
   "source": [
    "#sub_df.max()"
   ],
   "metadata": {
    "collapsed": false,
    "pycharm": {
     "name": "#%%\n"
    }
   }
  },
  {
   "cell_type": "code",
   "execution_count": null,
   "outputs": [],
   "source": [
    "Xtensor = torch.from_numpy(sub_ds.values).float().to(device)\n",
    "print(type(Xtensor), Xtensor.shape)\n",
    "from PIL import Image\n",
    "plt.figure()\n",
    "plt.imshow(Xtensor.cpu() ,#torchvision.transforms.ToPILImage()(Xtensor),\n",
    "           vmin=Xtensor.min().item(),\n",
    "           vmax= Xtensor.max().item(),  cmap = 'turbo',aspect='auto')#, interpolation=\"bicubic\")\n",
    "plt.gca().invert_yaxis()\n",
    "plt.colorbar()\n",
    "#tensor_image = Xtensor.view(Xtensor.shape[0], Xtensor.shape[1])\n",
    "\n",
    "plt.figure()\n",
    "\n",
    "plt.show()"
   ],
   "metadata": {
    "collapsed": false,
    "pycharm": {
     "name": "#%%\n"
    }
   }
  },
  {
   "cell_type": "code",
   "execution_count": null,
   "outputs": [],
   "source": [
    "vals = Xtensor.cpu().detach().numpy()\n",
    "vals.shape"
   ],
   "metadata": {
    "collapsed": false,
    "pycharm": {
     "name": "#%%\n"
    }
   }
  },
  {
   "cell_type": "code",
   "execution_count": null,
   "outputs": [],
   "source": [
    "print(Xtensor.min().item())\n",
    "print(Xtensor.max().item())"
   ],
   "metadata": {
    "collapsed": false,
    "pycharm": {
     "name": "#%%\n"
    }
   }
  }
 ],
 "metadata": {
  "kernelspec": {
   "display_name": "Python 3",
   "language": "python",
   "name": "python3"
  },
  "language_info": {
   "codemirror_mode": {
    "name": "ipython",
    "version": 2
   },
   "file_extension": ".py",
   "mimetype": "text/x-python",
   "name": "python",
   "nbconvert_exporter": "python",
   "pygments_lexer": "ipython2",
   "version": "2.7.6"
  }
 },
 "nbformat": 4,
 "nbformat_minor": 0
}