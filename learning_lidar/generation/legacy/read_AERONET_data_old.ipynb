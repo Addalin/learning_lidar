{
 "cells": [
  {
   "cell_type": "code",
   "execution_count": 2,
   "metadata": {
    "collapsed": false,
    "jupyter": {
     "outputs_hidden": false
    },
    "pycharm": {
     "name": "#%% #General\n"
    }
   },
   "outputs": [],
   "source": [
    "import warnings\n",
    "warnings.filterwarnings ( \"ignore\" )\n",
    "import os\n",
    "from datetime import datetime , timedelta , time , date\n",
    "import matplotlib.pyplot as plt\n",
    "from IPython.display import display\n",
    "import pandas as pd\n",
    "import xarray as xr\n",
    "import global_settings as gs\n",
    "import numpy as np\n",
    "import preprocessing as prep\n",
    "def angstrom(tau_1,tau_2, lambda_1,lambda_2):\n",
    "\t\"\"\"\n",
    "\tcalculates angstrom exponent\n",
    "\t:param tau_1: AOD Aerosol optical depth at wavelength lambda_1\n",
    "\t:param tau_2: AOD Aerosol optical depth at wavelength lambda_2\n",
    "\t:param lambda_1: wavelength lambda_1 , lambda_1<lambda_2 (e.g. 355 nm)\n",
    "\t:param lambda_2: wavelength lambda_2 , lambda_1<lambda_2 (e.g. 532 nm)\n",
    "\t:return: angstrom exponent A_1,2\n",
    "\t\"\"\"\n",
    "\treturn -np.log(tau_1/tau_2)/np.log(lambda_1/lambda_2)"
   ]
  },
  {
   "cell_type": "markdown",
   "metadata": {
    "pycharm": {
     "name": "#%% md\n"
    }
   },
   "source": [
    "## Load AERONET file of September 2017\n",
    "\n",
    "##### This notebook shows how to calculate Angstrom exponent based on AERONET measurements taken from the sunphotometere on EE building.\n",
    "\n",
    "##### Mean values per day will be using as typical values for aerosols creation"
   ]
  },
  {
   "cell_type": "code",
   "execution_count": 3,
   "metadata": {
    "collapsed": false,
    "jupyter": {
     "outputs_hidden": false
    },
    "pycharm": {
     "name": "#%%\n"
    }
   },
   "outputs": [],
   "source": [
    "station = gs.Station('haifa')\n",
    "month = 9\n",
    "year = 2017\n",
    "monthdays = (date(year,month+1,1)-date(year,month,1)).days\n",
    "start_day = datetime(year,month,1,0,0)\n",
    "end_day = datetime(year,month,monthdays,0,0)\n",
    "wavelengths = [355,532,1064]\n",
    "\n",
    "base_name = f\"{start_day.strftime('%Y%m%d')}_{end_day.strftime('%Y%m%d')}_{station.aeronet_name}\"\n",
    "file_name = os.path.join(station.aeronet_folder,base_name,base_name+'.lev20')\n",
    "aeronet_data = pd.read_csv ( file_name , skiprows = 6).dropna ( )"
   ]
  },
  {
   "cell_type": "markdown",
   "metadata": {
    "pycharm": {
     "name": "#%% md\n"
    }
   },
   "source": [
    "#### Parse data and rename columns for easier extrapolation of AOD values"
   ]
  },
  {
   "cell_type": "code",
   "execution_count": 4,
   "metadata": {
    "collapsed": false,
    "jupyter": {
     "outputs_hidden": false
    },
    "pycharm": {
     "name": "#%%\n"
    }
   },
   "outputs": [],
   "source": [
    "df_dt = pd.to_datetime(aeronet_data['Date(dd:mm:yyyy)']+aeronet_data['Time(hh:mm:ss)'], format = \"%d:%m:%Y%H:%M:%S\")\n",
    "columns = ['AOD_1640nm', 'AOD_1020nm','AOD_675nm','AOD_500nm','AOD_380nm','AOD_340nm']\n",
    "df_AOD_ANGSTROM = aeronet_data[columns]\n",
    "df_AOD_ANGSTROM.index = df_dt\n",
    "for col in sorted(columns):\n",
    "\tcol_new = int(col.split('_')[1].replace('nm',''))\n",
    "\tdf_AOD_ANGSTROM.rename(columns = {col:col_new},inplace = True)\n",
    "\n",
    "cols =  df_AOD_ANGSTROM.columns.values.tolist()\n",
    "cols.extend(wavelengths)\n",
    "df_AOD_ANGSTROM = df_AOD_ANGSTROM.reindex(cols, axis = 'columns').sort_index(axis = 1)"
   ]
  },
  {
   "cell_type": "markdown",
   "metadata": {
    "pycharm": {
     "name": "#%% md\n"
    }
   },
   "source": [
    "#### Calculate AOD for missing wavelengths as $355,532,1064$ by interpolation values from the nearest existing measured wavelengths."
   ]
  },
  {
   "cell_type": "code",
   "execution_count": 5,
   "metadata": {
    "collapsed": false,
    "jupyter": {
     "outputs_hidden": false
    },
    "pycharm": {
     "name": "#%%\n"
    }
   },
   "outputs": [],
   "source": [
    "cols = df_AOD_ANGSTROM.columns.values.tolist()\n",
    "# %%\n",
    "for wavelength in wavelengths:\n",
    "\tcol_ind = df_AOD_ANGSTROM.columns.get_loc(wavelength)\n",
    "\tratio = (cols[col_ind+1] - cols[col_ind])/(cols[col_ind+1] - cols[col_ind-1])\n",
    "\tdf_AOD_ANGSTROM[wavelength] = df_AOD_ANGSTROM.iloc[:,col_ind-1]*ratio+ (1-ratio)*df_AOD_ANGSTROM.iloc[:,col_ind+1]"
   ]
  },
  {
   "cell_type": "code",
   "execution_count": 6,
   "metadata": {
    "collapsed": false,
    "jupyter": {
     "outputs_hidden": false
    },
    "pycharm": {
     "name": "#%%\n"
    }
   },
   "outputs": [],
   "source": [
    "#df_AOD_ANGSTROM"
   ]
  },
  {
   "cell_type": "markdown",
   "metadata": {
    "pycharm": {
     "name": "#%% md\n"
    }
   },
   "source": [
    "Create dataset of AOD per wavelength"
   ]
  },
  {
   "cell_type": "code",
   "execution_count": 7,
   "metadata": {
    "collapsed": false,
    "jupyter": {
     "outputs_hidden": false
    },
    "pycharm": {
     "name": "#%%\n"
    }
   },
   "outputs": [],
   "source": [
    "ds_chans =[]\n",
    "\n",
    "for wavelength in wavelengths:\n",
    "\tfield_name = f\"AOD_{wavelength}\"\n",
    "\taeronet_ds_chan = xr.Dataset (\n",
    "\t    data_vars = {'aod' : (('Time') , df_AOD_ANGSTROM[wavelength]) ,\n",
    "                     'lambda_nm' : ('Wavelength' , [ wavelength ])\n",
    "                     } ,\n",
    "        coords = {'Time' : df_AOD_ANGSTROM.index.tolist() ,\n",
    "                  'Wavelength' : [ wavelength ]\n",
    "                  })\n",
    "\tds_chans.append(aeronet_ds_chan)\n",
    "ds_aod = xr.concat ( ds_chans , dim = 'Wavelength' )\n",
    "ds_aod.aod.attrs['long_name']= r'$\\tau$'\n",
    "ds_aod.attrs = {'info': 'Aerosol Optical Depth - generated from AERONET - level 2.0',\n",
    "                'location': station.name, 'source_file': file_name,\n",
    "                'start_time': start_day.strftime ( \"%Y-%d-%m\" ), 'end_time': end_day.strftime ( \"%Y-%d-%m\" )}\n",
    "ds_aod = ds_aod.aod.where(ds_aod>=0,drop=True)"
   ]
  },
  {
   "cell_type": "markdown",
   "metadata": {
    "pycharm": {
     "name": "#%% md\n"
    }
   },
   "source": [
    "Calculate Angstrom Exponent\n",
    "## $A = -\\frac {\\ln(\\tau_1/\\tau_2)}{\\ln(\\lambda_1/\\lambda_2)},\\; \\lambda_1\\leq\\lambda_2$"
   ]
  },
  {
   "cell_type": "code",
   "execution_count": 8,
   "metadata": {
    "collapsed": false,
    "jupyter": {
     "outputs_hidden": false
    },
    "pycharm": {
     "name": "#%%\n"
    }
   },
   "outputs": [],
   "source": [
    "couples = [(355,532),(355,1064),(532,1064)]\n",
    "angstrom_daily = []\n",
    "for lambda_1,lambda_2 in couples:\n",
    "\tangstrom_couple = xr.apply_ufunc(lambda x,y:angstrom(ds_aod.sel(Wavelength=x),\n",
    "\t                                                     ds_aod.sel(Wavelength=y),x,y),lambda_1,lambda_2,keep_attrs = True)\n",
    "\tangstrom_ds_chan = xr.Dataset (\n",
    "\t    data_vars = {'angstrom' : (('Time') , angstrom_couple.aod) ,\n",
    "                     'lambda_nm' : ('Wavelengths' , [ f\"{lambda_1}-{lambda_2}\" ])\n",
    "                     } ,\n",
    "        coords = {'Time' : df_AOD_ANGSTROM.index.tolist() ,\n",
    "                  'Wavelengths' :[ f\"{lambda_1}-{lambda_2}\" ]\n",
    "                  })\n",
    "\n",
    "\n",
    "\tangstrom_daily.append(angstrom_ds_chan)\n",
    "ds_ang = xr.concat ( angstrom_daily,dim = 'Wavelengths')\n",
    "ds_ang.angstrom.attrs['long_name']= r'$\\AA$'\n",
    "ds_ang.attrs = {'info': 'Angstrom Exponent - generated from AERONET AOD',\n",
    "                'location': station.name, 'source_file': file_name,\n",
    "                'start_time': start_day.strftime ( \"%Y-%d-%m\" ), 'end_time': end_day.strftime ( \"%Y-%d-%m\" )}"
   ]
  },
  {
   "cell_type": "markdown",
   "metadata": {
    "pycharm": {
     "name": "#%% md\n"
    }
   },
   "source": [
    "Show AOD and Angstrom Exponent for a period"
   ]
  },
  {
   "cell_type": "code",
   "execution_count": 28,
   "metadata": {
    "collapsed": false,
    "jupyter": {
     "outputs_hidden": false
    },
    "pycharm": {
     "name": "#%%\n"
    }
   },
   "outputs": [
    {
     "data": {
      "text/plain": "<Figure size 576x576 with 2 Axes>",
      "image/png": "[encoded data removed]"
     },
     "metadata": {
      "needs_background": "light"
     },
     "output_type": "display_data"
    }
   ],
   "source": [
    "fig, axes = plt.subplots(nrows=2, ncols=1, figsize=(8,8))\n",
    "t_slice =slice(start_day,start_day+timedelta(days =30)-timedelta(seconds = 30))\n",
    "ax = axes.ravel()\n",
    "for wavelength in wavelengths:\n",
    "\taod_mean = ds_aod.aod.sel(Wavelength = wavelength,Time=t_slice).mean().item()\n",
    "\taod_std =  ds_aod.aod.sel(Wavelength = wavelength,Time=t_slice).std().item()\n",
    "\ttextstr = ' '.join((\n",
    "\tr'$\\mu=%.2f$, ' % (aod_mean, ),\n",
    "\tr'$\\sigma=%.2f$' % (aod_std, )))\n",
    "\tds_aod.aod.sel(Wavelength = wavelength,Time=t_slice).plot(label = fr\"{wavelength}, \"+textstr,ax=ax[0])\n",
    "ax[0].set_title(ds_aod.attrs['info'])\n",
    "ax[0].legend()\n",
    "ax[0].set_ylabel( r'$\\tau$')\n",
    "\n",
    "couples = [(355,532),(355,1064),(532,1064)]\n",
    "angstrom_daily = []\n",
    "for lambda_1,lambda_2 in couples:\n",
    "\tangstrom_mean = ds_ang.angstrom.sel(Wavelengths = f\"{lambda_1}-{lambda_2}\" ,Time=t_slice).mean().item()\n",
    "\tangstrom_std = ds_ang.angstrom.sel(Wavelengths = f\"{lambda_1}-{lambda_2}\" ,Time=t_slice).std().item()\n",
    "\ttextstr = ' '.join((\n",
    "\tr'$\\mu=%.2f$, ' % (angstrom_mean, ),\n",
    "\tr'$\\sigma=%.2f$' % (angstrom_std, )))\n",
    "\tds_ang.angstrom.sel(Wavelengths = f\"{lambda_1}-{lambda_2}\" ,Time=t_slice).\\\n",
    "\t\tplot(x='Time',label =fr\"$ \\AA \\, {lambda_1},{lambda_2}$, \"+textstr,ax = ax[1])\n",
    "ax[1].legend()\n",
    "ax[1].set_title('Angstrom Exponent')\n",
    "plt.tight_layout()\n",
    "plt.show()"
   ]
  },
  {
   "cell_type": "markdown",
   "source": [
    "Angstrom Exponent distribution of a month"
   ],
   "metadata": {
    "collapsed": false,
    "pycharm": {
     "name": "#%% md\n"
    }
   }
  },
  {
   "cell_type": "code",
   "execution_count": 31,
   "outputs": [
    {
     "data": {
      "text/plain": "<Figure size 432x288 with 1 Axes>",
      "image/png": "[encoded data removed]"
     },
     "metadata": {
      "needs_background": "light"
     },
     "output_type": "display_data"
    }
   ],
   "source": [
    "couple_0 = f\"{355}-{532}\"\n",
    "couple_1 = f\"{532}-{1064}\"\n",
    "angstrom_daily = []\n",
    "\n",
    "x = ds_ang.angstrom.sel(Time=t_slice,Wavelengths = couple_0).values\n",
    "y = ds_ang.angstrom.sel(Time=t_slice,Wavelengths = couple_1).values\n",
    "\n",
    "fig, ax = plt.subplots(nrows=1, ncols=1)\n",
    "ax.scatter(x=x,y=y)\n",
    "ax.set_ylabel(couple_0)\n",
    "ax.set_xlabel(couple_1)\n",
    "ax.set_title(f\"Angstrom Exponent distribution {t_slice.start.strftime('%Y-%m')}\")\n",
    "plt.tight_layout()\n",
    "plt.show()"
   ],
   "metadata": {
    "collapsed": false,
    "pycharm": {
     "name": "#%%\n"
    }
   }
  },
  {
   "cell_type": "code",
   "execution_count": 30,
   "outputs": [
    {
     "data": {
      "text/plain": "slice(datetime.datetime(2017, 9, 1, 0, 0), datetime.datetime(2017, 9, 30, 23, 59, 30), None)"
     },
     "execution_count": 30,
     "metadata": {},
     "output_type": "execute_result"
    }
   ],
   "source": [
    "t_slice"
   ],
   "metadata": {
    "collapsed": false,
    "pycharm": {
     "name": "#%%\n"
    }
   }
  },
  {
   "cell_type": "markdown",
   "metadata": {
    "pycharm": {
     "name": "#%% md\n"
    }
   },
   "source": [
    "Save AOD and  Angstrom Exponent datasets"
   ]
  },
  {
   "cell_type": "code",
   "execution_count": 9,
   "metadata": {
    "collapsed": false,
    "jupyter": {
     "outputs_hidden": false
    },
    "pycharm": {
     "name": "#%%\n"
    }
   },
   "outputs": [
    {
     "data": {
      "text/plain": [
       "'D:\\\\data_haifa\\\\AERONET\\\\20170901_20170930_haifa_ang.nc'"
      ]
     },
     "execution_count": 9,
     "metadata": {},
     "output_type": "execute_result"
    }
   ],
   "source": [
    "folder_name = station.aeronet_folder\n",
    "nc_name = f\"{start_day.strftime('%Y%m%d')}_{end_day.strftime('%Y%m%d')}_{station.name}_aod.nc\"\n",
    "prep.save_dataset ( ds_aod , folder_name , nc_name )\n",
    "\n",
    "nc_name = f\"{start_day.strftime('%Y%m%d')}_{end_day.strftime('%Y%m%d')}_{station.name}_ang.nc\"\n",
    "prep.save_dataset ( ds_ang , folder_name , nc_name )"
   ]
  },
  {
   "cell_type": "markdown",
   "metadata": {
    "pycharm": {
     "name": "#%% md\n"
    }
   },
   "source": [
    "#### TODOs:\n",
    "1. Add a section of AERONET dataset preparation to preprocessing.py\n",
    "2. Apply this notebook on any month measured during the year.\n",
    "2. Add the calibration info to ds_day in synthisize_lidar_measurments.ipynb"
   ]
  },
  {
   "cell_type": "code",
   "execution_count": 10,
   "metadata": {
    "collapsed": false,
    "jupyter": {
     "outputs_hidden": false
    },
    "pycharm": {
     "name": "#%%\n"
    }
   },
   "outputs": [
    {
     "data": {
      "text/html": [
       "<div><svg style=\"position: absolute; width: 0; height: 0; overflow: hidden\">\n",
       "<defs>\n",
       "<symbol id=\"icon-database\" viewBox=\"0 0 32 32\">\n",
       "<path d=\"M16 0c-8.837 0-16 2.239-16 5v4c0 2.761 7.163 5 16 5s16-2.239 16-5v-4c0-2.761-7.163-5-16-5z\"></path>\n",
       "<path d=\"M16 17c-8.837 0-16-2.239-16-5v6c0 2.761 7.163 5 16 5s16-2.239 16-5v-6c0 2.761-7.163 5-16 5z\"></path>\n",
       "<path d=\"M16 26c-8.837 0-16-2.239-16-5v6c0 2.761 7.163 5 16 5s16-2.239 16-5v-6c0 2.761-7.163 5-16 5z\"></path>\n",
       "</symbol>\n",
       "<symbol id=\"icon-file-text2\" viewBox=\"0 0 32 32\">\n",
       "<path d=\"M28.681 7.159c-0.694-0.947-1.662-2.053-2.724-3.116s-2.169-2.030-3.116-2.724c-1.612-1.182-2.393-1.319-2.841-1.319h-15.5c-1.378 0-2.5 1.121-2.5 2.5v27c0 1.378 1.122 2.5 2.5 2.5h23c1.378 0 2.5-1.122 2.5-2.5v-19.5c0-0.448-0.137-1.23-1.319-2.841zM24.543 5.457c0.959 0.959 1.712 1.825 2.268 2.543h-4.811v-4.811c0.718 0.556 1.584 1.309 2.543 2.268zM28 29.5c0 0.271-0.229 0.5-0.5 0.5h-23c-0.271 0-0.5-0.229-0.5-0.5v-27c0-0.271 0.229-0.5 0.5-0.5 0 0 15.499-0 15.5 0v7c0 0.552 0.448 1 1 1h7v19.5z\"></path>\n",
       "<path d=\"M23 26h-14c-0.552 0-1-0.448-1-1s0.448-1 1-1h14c0.552 0 1 0.448 1 1s-0.448 1-1 1z\"></path>\n",
       "<path d=\"M23 22h-14c-0.552 0-1-0.448-1-1s0.448-1 1-1h14c0.552 0 1 0.448 1 1s-0.448 1-1 1z\"></path>\n",
       "<path d=\"M23 18h-14c-0.552 0-1-0.448-1-1s0.448-1 1-1h14c0.552 0 1 0.448 1 1s-0.448 1-1 1z\"></path>\n",
       "</symbol>\n",
       "</defs>\n",
       "</svg>\n",
       "<style>/* CSS stylesheet for displaying xarray objects in jupyterlab.\n",
       " *\n",
       " */\n",
       "\n",
       ":root {\n",
       "  --xr-font-color0: var(--jp-content-font-color0, rgba(0, 0, 0, 1));\n",
       "  --xr-font-color2: var(--jp-content-font-color2, rgba(0, 0, 0, 0.54));\n",
       "  --xr-font-color3: var(--jp-content-font-color3, rgba(0, 0, 0, 0.38));\n",
       "  --xr-border-color: var(--jp-border-color2, #e0e0e0);\n",
       "  --xr-disabled-color: var(--jp-layout-color3, #bdbdbd);\n",
       "  --xr-background-color: var(--jp-layout-color0, white);\n",
       "  --xr-background-color-row-even: var(--jp-layout-color1, white);\n",
       "  --xr-background-color-row-odd: var(--jp-layout-color2, #eeeeee);\n",
       "}\n",
       "\n",
       "html[theme=dark],\n",
       "body.vscode-dark {\n",
       "  --xr-font-color0: rgba(255, 255, 255, 1);\n",
       "  --xr-font-color2: rgba(255, 255, 255, 0.54);\n",
       "  --xr-font-color3: rgba(255, 255, 255, 0.38);\n",
       "  --xr-border-color: #1F1F1F;\n",
       "  --xr-disabled-color: #515151;\n",
       "  --xr-background-color: #111111;\n",
       "  --xr-background-color-row-even: #111111;\n",
       "  --xr-background-color-row-odd: #313131;\n",
       "}\n",
       "\n",
       ".xr-wrap {\n",
       "  display: block;\n",
       "  min-width: 300px;\n",
       "  max-width: 700px;\n",
       "}\n",
       "\n",
       ".xr-text-repr-fallback {\n",
       "  /* fallback to plain text repr when CSS is not injected (untrusted notebook) */\n",
       "  display: none;\n",
       "}\n",
       "\n",
       ".xr-header {\n",
       "  padding-top: 6px;\n",
       "  padding-bottom: 6px;\n",
       "  margin-bottom: 4px;\n",
       "  border-bottom: solid 1px var(--xr-border-color);\n",
       "}\n",
       "\n",
       ".xr-header > div,\n",
       ".xr-header > ul {\n",
       "  display: inline;\n",
       "  margin-top: 0;\n",
       "  margin-bottom: 0;\n",
       "}\n",
       "\n",
       ".xr-obj-type,\n",
       ".xr-array-name {\n",
       "  margin-left: 2px;\n",
       "  margin-right: 10px;\n",
       "}\n",
       "\n",
       ".xr-obj-type {\n",
       "  color: var(--xr-font-color2);\n",
       "}\n",
       "\n",
       ".xr-sections {\n",
       "  padding-left: 0 !important;\n",
       "  display: grid;\n",
       "  grid-template-columns: 150px auto auto 1fr 20px 20px;\n",
       "}\n",
       "\n",
       ".xr-section-item {\n",
       "  display: contents;\n",
       "}\n",
       "\n",
       ".xr-section-item input {\n",
       "  display: none;\n",
       "}\n",
       "\n",
       ".xr-section-item input + label {\n",
       "  color: var(--xr-disabled-color);\n",
       "}\n",
       "\n",
       ".xr-section-item input:enabled + label {\n",
       "  cursor: pointer;\n",
       "  color: var(--xr-font-color2);\n",
       "}\n",
       "\n",
       ".xr-section-item input:enabled + label:hover {\n",
       "  color: var(--xr-font-color0);\n",
       "}\n",
       "\n",
       ".xr-section-summary {\n",
       "  grid-column: 1;\n",
       "  color: var(--xr-font-color2);\n",
       "  font-weight: 500;\n",
       "}\n",
       "\n",
       ".xr-section-summary > span {\n",
       "  display: inline-block;\n",
       "  padding-left: 0.5em;\n",
       "}\n",
       "\n",
       ".xr-section-summary-in:disabled + label {\n",
       "  color: var(--xr-font-color2);\n",
       "}\n",
       "\n",
       ".xr-section-summary-in + label:before {\n",
       "  display: inline-block;\n",
       "  content: '►';\n",
       "  font-size: 11px;\n",
       "  width: 15px;\n",
       "  text-align: center;\n",
       "}\n",
       "\n",
       ".xr-section-summary-in:disabled + label:before {\n",
       "  color: var(--xr-disabled-color);\n",
       "}\n",
       "\n",
       ".xr-section-summary-in:checked + label:before {\n",
       "  content: '▼';\n",
       "}\n",
       "\n",
       ".xr-section-summary-in:checked + label > span {\n",
       "  display: none;\n",
       "}\n",
       "\n",
       ".xr-section-summary,\n",
       ".xr-section-inline-details {\n",
       "  padding-top: 4px;\n",
       "  padding-bottom: 4px;\n",
       "}\n",
       "\n",
       ".xr-section-inline-details {\n",
       "  grid-column: 2 / -1;\n",
       "}\n",
       "\n",
       ".xr-section-details {\n",
       "  display: none;\n",
       "  grid-column: 1 / -1;\n",
       "  margin-bottom: 5px;\n",
       "}\n",
       "\n",
       ".xr-section-summary-in:checked ~ .xr-section-details {\n",
       "  display: contents;\n",
       "}\n",
       "\n",
       ".xr-array-wrap {\n",
       "  grid-column: 1 / -1;\n",
       "  display: grid;\n",
       "  grid-template-columns: 20px auto;\n",
       "}\n",
       "\n",
       ".xr-array-wrap > label {\n",
       "  grid-column: 1;\n",
       "  vertical-align: top;\n",
       "}\n",
       "\n",
       ".xr-preview {\n",
       "  color: var(--xr-font-color3);\n",
       "}\n",
       "\n",
       ".xr-array-preview,\n",
       ".xr-array-data {\n",
       "  padding: 0 5px !important;\n",
       "  grid-column: 2;\n",
       "}\n",
       "\n",
       ".xr-array-data,\n",
       ".xr-array-in:checked ~ .xr-array-preview {\n",
       "  display: none;\n",
       "}\n",
       "\n",
       ".xr-array-in:checked ~ .xr-array-data,\n",
       ".xr-array-preview {\n",
       "  display: inline-block;\n",
       "}\n",
       "\n",
       ".xr-dim-list {\n",
       "  display: inline-block !important;\n",
       "  list-style: none;\n",
       "  padding: 0 !important;\n",
       "  margin: 0;\n",
       "}\n",
       "\n",
       ".xr-dim-list li {\n",
       "  display: inline-block;\n",
       "  padding: 0;\n",
       "  margin: 0;\n",
       "}\n",
       "\n",
       ".xr-dim-list:before {\n",
       "  content: '(';\n",
       "}\n",
       "\n",
       ".xr-dim-list:after {\n",
       "  content: ')';\n",
       "}\n",
       "\n",
       ".xr-dim-list li:not(:last-child):after {\n",
       "  content: ',';\n",
       "  padding-right: 5px;\n",
       "}\n",
       "\n",
       ".xr-has-index {\n",
       "  font-weight: bold;\n",
       "}\n",
       "\n",
       ".xr-var-list,\n",
       ".xr-var-item {\n",
       "  display: contents;\n",
       "}\n",
       "\n",
       ".xr-var-item > div,\n",
       ".xr-var-item label,\n",
       ".xr-var-item > .xr-var-name span {\n",
       "  background-color: var(--xr-background-color-row-even);\n",
       "  margin-bottom: 0;\n",
       "}\n",
       "\n",
       ".xr-var-item > .xr-var-name:hover span {\n",
       "  padding-right: 5px;\n",
       "}\n",
       "\n",
       ".xr-var-list > li:nth-child(odd) > div,\n",
       ".xr-var-list > li:nth-child(odd) > label,\n",
       ".xr-var-list > li:nth-child(odd) > .xr-var-name span {\n",
       "  background-color: var(--xr-background-color-row-odd);\n",
       "}\n",
       "\n",
       ".xr-var-name {\n",
       "  grid-column: 1;\n",
       "}\n",
       "\n",
       ".xr-var-dims {\n",
       "  grid-column: 2;\n",
       "}\n",
       "\n",
       ".xr-var-dtype {\n",
       "  grid-column: 3;\n",
       "  text-align: right;\n",
       "  color: var(--xr-font-color2);\n",
       "}\n",
       "\n",
       ".xr-var-preview {\n",
       "  grid-column: 4;\n",
       "}\n",
       "\n",
       ".xr-var-name,\n",
       ".xr-var-dims,\n",
       ".xr-var-dtype,\n",
       ".xr-preview,\n",
       ".xr-attrs dt {\n",
       "  white-space: nowrap;\n",
       "  overflow: hidden;\n",
       "  text-overflow: ellipsis;\n",
       "  padding-right: 10px;\n",
       "}\n",
       "\n",
       ".xr-var-name:hover,\n",
       ".xr-var-dims:hover,\n",
       ".xr-var-dtype:hover,\n",
       ".xr-attrs dt:hover {\n",
       "  overflow: visible;\n",
       "  width: auto;\n",
       "  z-index: 1;\n",
       "}\n",
       "\n",
       ".xr-var-attrs,\n",
       ".xr-var-data {\n",
       "  display: none;\n",
       "  background-color: var(--xr-background-color) !important;\n",
       "  padding-bottom: 5px !important;\n",
       "}\n",
       "\n",
       ".xr-var-attrs-in:checked ~ .xr-var-attrs,\n",
       ".xr-var-data-in:checked ~ .xr-var-data {\n",
       "  display: block;\n",
       "}\n",
       "\n",
       ".xr-var-data > table {\n",
       "  float: right;\n",
       "}\n",
       "\n",
       ".xr-var-name span,\n",
       ".xr-var-data,\n",
       ".xr-attrs {\n",
       "  padding-left: 25px !important;\n",
       "}\n",
       "\n",
       ".xr-attrs,\n",
       ".xr-var-attrs,\n",
       ".xr-var-data {\n",
       "  grid-column: 1 / -1;\n",
       "}\n",
       "\n",
       "dl.xr-attrs {\n",
       "  padding: 0;\n",
       "  margin: 0;\n",
       "  display: grid;\n",
       "  grid-template-columns: 125px auto;\n",
       "}\n",
       "\n",
       ".xr-attrs dt,\n",
       ".xr-attrs dd {\n",
       "  padding: 0;\n",
       "  margin: 0;\n",
       "  float: left;\n",
       "  padding-right: 10px;\n",
       "  width: auto;\n",
       "}\n",
       "\n",
       ".xr-attrs dt {\n",
       "  font-weight: normal;\n",
       "  grid-column: 1;\n",
       "}\n",
       "\n",
       ".xr-attrs dt:hover span {\n",
       "  display: inline-block;\n",
       "  background: var(--xr-background-color);\n",
       "  padding-right: 10px;\n",
       "}\n",
       "\n",
       ".xr-attrs dd {\n",
       "  grid-column: 2;\n",
       "  white-space: pre-wrap;\n",
       "  word-break: break-all;\n",
       "}\n",
       "\n",
       ".xr-icon-database,\n",
       ".xr-icon-file-text2 {\n",
       "  display: inline-block;\n",
       "  vertical-align: middle;\n",
       "  width: 1em;\n",
       "  height: 1.5em !important;\n",
       "  stroke-width: 0;\n",
       "  stroke: currentColor;\n",
       "  fill: currentColor;\n",
       "}\n",
       "</style><pre class='xr-text-repr-fallback'>&lt;xarray.Dataset&gt;\n",
       "Dimensions:      (Time: 944, Wavelengths: 3)\n",
       "Coordinates:\n",
       "  * Time         (Time) datetime64[ns] 2017-09-01T04:20:30 ... 2017-09-30T14:...\n",
       "  * Wavelengths  (Wavelengths) object &#x27;355-532&#x27; &#x27;355-1064&#x27; &#x27;532-1064&#x27;\n",
       "Data variables:\n",
       "    angstrom     (Wavelengths, Time) float64 1.311 1.306 1.237 ... 1.019 1.038\n",
       "    lambda_nm    (Wavelengths) &lt;U8 &#x27;355-532&#x27; &#x27;355-1064&#x27; &#x27;532-1064&#x27;\n",
       "Attributes:\n",
       "    info:         Angstrom Exponent - generated from AERONET AOD\n",
       "    location:     haifa\n",
       "    source_file:  D:\\data_haifa\\AERONET\\20170901_20170930_Technion_Haifa_IL\\2...\n",
       "    start_time:   2017-01-09\n",
       "    end_time:     2017-30-09</pre><div class='xr-wrap' hidden><div class='xr-header'><div class='xr-obj-type'>xarray.Dataset</div></div><ul class='xr-sections'><li class='xr-section-item'><input id='section-99c66acd-22c6-42ce-ac4c-a265eb60b2b1' class='xr-section-summary-in' type='checkbox' disabled ><label for='section-99c66acd-22c6-42ce-ac4c-a265eb60b2b1' class='xr-section-summary'  title='Expand/collapse section'>Dimensions:</label><div class='xr-section-inline-details'><ul class='xr-dim-list'><li><span class='xr-has-index'>Time</span>: 944</li><li><span class='xr-has-index'>Wavelengths</span>: 3</li></ul></div><div class='xr-section-details'></div></li><li class='xr-section-item'><input id='section-b2958d47-29f7-4a56-9bf4-66f90c3749e2' class='xr-section-summary-in' type='checkbox'  checked><label for='section-b2958d47-29f7-4a56-9bf4-66f90c3749e2' class='xr-section-summary' >Coordinates: <span>(2)</span></label><div class='xr-section-inline-details'></div><div class='xr-section-details'><ul class='xr-var-list'><li class='xr-var-item'><div class='xr-var-name'><span class='xr-has-index'>Time</span></div><div class='xr-var-dims'>(Time)</div><div class='xr-var-dtype'>datetime64[ns]</div><div class='xr-var-preview xr-preview'>2017-09-01T04:20:30 ... 2017-09-...</div><input id='attrs-f3ae5413-ae78-4ff6-a284-362631c6d813' class='xr-var-attrs-in' type='checkbox' disabled><label for='attrs-f3ae5413-ae78-4ff6-a284-362631c6d813' title='Show/Hide attributes'><svg class='icon xr-icon-file-text2'><use xlink:href='#icon-file-text2'></use></svg></label><input id='data-77404e21-9cd6-45dd-a00d-e28b00f226a7' class='xr-var-data-in' type='checkbox'><label for='data-77404e21-9cd6-45dd-a00d-e28b00f226a7' title='Show/Hide data repr'><svg class='icon xr-icon-database'><use xlink:href='#icon-database'></use></svg></label><div class='xr-var-attrs'><dl class='xr-attrs'></dl></div><div class='xr-var-data'><pre>array([&#x27;2017-09-01T04:20:30.000000000&#x27;, &#x27;2017-09-01T04:28:12.000000000&#x27;,\n",
       "       &#x27;2017-09-01T04:37:23.000000000&#x27;, ..., &#x27;2017-09-30T14:18:31.000000000&#x27;,\n",
       "       &#x27;2017-09-30T14:23:37.000000000&#x27;, &#x27;2017-09-30T14:34:40.000000000&#x27;],\n",
       "      dtype=&#x27;datetime64[ns]&#x27;)</pre></div></li><li class='xr-var-item'><div class='xr-var-name'><span class='xr-has-index'>Wavelengths</span></div><div class='xr-var-dims'>(Wavelengths)</div><div class='xr-var-dtype'>object</div><div class='xr-var-preview xr-preview'>&#x27;355-532&#x27; &#x27;355-1064&#x27; &#x27;532-1064&#x27;</div><input id='attrs-85852525-a3ff-46d3-8ce8-f9d943e5f6cf' class='xr-var-attrs-in' type='checkbox' disabled><label for='attrs-85852525-a3ff-46d3-8ce8-f9d943e5f6cf' title='Show/Hide attributes'><svg class='icon xr-icon-file-text2'><use xlink:href='#icon-file-text2'></use></svg></label><input id='data-ccd4469c-27e0-4436-a2bf-398a2b2848e7' class='xr-var-data-in' type='checkbox'><label for='data-ccd4469c-27e0-4436-a2bf-398a2b2848e7' title='Show/Hide data repr'><svg class='icon xr-icon-database'><use xlink:href='#icon-database'></use></svg></label><div class='xr-var-attrs'><dl class='xr-attrs'></dl></div><div class='xr-var-data'><pre>array([&#x27;355-532&#x27;, &#x27;355-1064&#x27;, &#x27;532-1064&#x27;], dtype=object)</pre></div></li></ul></div></li><li class='xr-section-item'><input id='section-27e61f6f-68c7-4dec-bdab-4e67bead1f17' class='xr-section-summary-in' type='checkbox'  checked><label for='section-27e61f6f-68c7-4dec-bdab-4e67bead1f17' class='xr-section-summary' >Data variables: <span>(2)</span></label><div class='xr-section-inline-details'></div><div class='xr-section-details'><ul class='xr-var-list'><li class='xr-var-item'><div class='xr-var-name'><span>angstrom</span></div><div class='xr-var-dims'>(Wavelengths, Time)</div><div class='xr-var-dtype'>float64</div><div class='xr-var-preview xr-preview'>1.311 1.306 1.237 ... 1.019 1.038</div><input id='attrs-8f13b83d-e651-4ac1-8d81-a60f3472800a' class='xr-var-attrs-in' type='checkbox' ><label for='attrs-8f13b83d-e651-4ac1-8d81-a60f3472800a' title='Show/Hide attributes'><svg class='icon xr-icon-file-text2'><use xlink:href='#icon-file-text2'></use></svg></label><input id='data-32563f07-781f-43b9-9e88-2db4e13377f1' class='xr-var-data-in' type='checkbox'><label for='data-32563f07-781f-43b9-9e88-2db4e13377f1' title='Show/Hide data repr'><svg class='icon xr-icon-database'><use xlink:href='#icon-database'></use></svg></label><div class='xr-var-attrs'><dl class='xr-attrs'><dt><span>long_name :</span></dt><dd>$\\AA$</dd></dl></div><div class='xr-var-data'><pre>array([[1.31125783, 1.30574376, 1.23700883, ..., 1.11153619, 1.05771668,\n",
       "        1.00672377],\n",
       "       [1.38156574, 1.37772439, 1.36597429, ..., 1.05621434, 1.03300715,\n",
       "        1.02628343],\n",
       "       [1.42259795, 1.41973281, 1.44123946, ..., 1.02392811, 1.0185865 ,\n",
       "        1.03769859]])</pre></div></li><li class='xr-var-item'><div class='xr-var-name'><span>lambda_nm</span></div><div class='xr-var-dims'>(Wavelengths)</div><div class='xr-var-dtype'>&lt;U8</div><div class='xr-var-preview xr-preview'>&#x27;355-532&#x27; &#x27;355-1064&#x27; &#x27;532-1064&#x27;</div><input id='attrs-8f926933-7e2d-4159-9c83-b88d69bc7485' class='xr-var-attrs-in' type='checkbox' disabled><label for='attrs-8f926933-7e2d-4159-9c83-b88d69bc7485' title='Show/Hide attributes'><svg class='icon xr-icon-file-text2'><use xlink:href='#icon-file-text2'></use></svg></label><input id='data-6f673829-aa3d-42b1-872b-621f14698a25' class='xr-var-data-in' type='checkbox'><label for='data-6f673829-aa3d-42b1-872b-621f14698a25' title='Show/Hide data repr'><svg class='icon xr-icon-database'><use xlink:href='#icon-database'></use></svg></label><div class='xr-var-attrs'><dl class='xr-attrs'></dl></div><div class='xr-var-data'><pre>array([&#x27;355-532&#x27;, &#x27;355-1064&#x27;, &#x27;532-1064&#x27;], dtype=&#x27;&lt;U8&#x27;)</pre></div></li></ul></div></li><li class='xr-section-item'><input id='section-614d7b98-ef50-43fb-b516-30a2d1636455' class='xr-section-summary-in' type='checkbox'  checked><label for='section-614d7b98-ef50-43fb-b516-30a2d1636455' class='xr-section-summary' >Attributes: <span>(5)</span></label><div class='xr-section-inline-details'></div><div class='xr-section-details'><dl class='xr-attrs'><dt><span>info :</span></dt><dd>Angstrom Exponent - generated from AERONET AOD</dd><dt><span>location :</span></dt><dd>haifa</dd><dt><span>source_file :</span></dt><dd>D:\\data_haifa\\AERONET\\20170901_20170930_Technion_Haifa_IL\\20170901_20170930_Technion_Haifa_IL.lev20</dd><dt><span>start_time :</span></dt><dd>2017-01-09</dd><dt><span>end_time :</span></dt><dd>2017-30-09</dd></dl></div></li></ul></div></div>"
      ],
      "text/plain": [
       "<xarray.Dataset>\n",
       "Dimensions:      (Time: 944, Wavelengths: 3)\n",
       "Coordinates:\n",
       "  * Time         (Time) datetime64[ns] 2017-09-01T04:20:30 ... 2017-09-30T14:...\n",
       "  * Wavelengths  (Wavelengths) object '355-532' '355-1064' '532-1064'\n",
       "Data variables:\n",
       "    angstrom     (Wavelengths, Time) float64 1.311 1.306 1.237 ... 1.019 1.038\n",
       "    lambda_nm    (Wavelengths) <U8 '355-532' '355-1064' '532-1064'\n",
       "Attributes:\n",
       "    info:         Angstrom Exponent - generated from AERONET AOD\n",
       "    location:     haifa\n",
       "    source_file:  D:\\data_haifa\\AERONET\\20170901_20170930_Technion_Haifa_IL\\2...\n",
       "    start_time:   2017-01-09\n",
       "    end_time:     2017-30-09"
      ]
     },
     "execution_count": 10,
     "metadata": {},
     "output_type": "execute_result"
    }
   ],
   "source": [
    "ds_ang"
   ]
  }
 ],
 "metadata": {
  "kernelspec": {
   "display_name": "lidar",
   "language": "python",
   "name": "lidar"
  },
  "language_info": {
   "codemirror_mode": {
    "name": "ipython",
    "version": 3
   },
   "file_extension": ".py",
   "mimetype": "text/x-python",
   "name": "python",
   "nbconvert_exporter": "python",
   "pygments_lexer": "ipython3",
   "version": "3.8.8"
  }
 },
 "nbformat": 4,
 "nbformat_minor": 4
}