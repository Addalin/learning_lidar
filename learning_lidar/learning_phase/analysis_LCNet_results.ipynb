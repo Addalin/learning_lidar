{
 "cells": [
  {
   "cell_type": "code",
   "execution_count": 131,
   "metadata": {
    "collapsed": true
   },
   "outputs": [],
   "source": [
    "import ray\n",
    "from ray import tune\n",
    "import os\n",
    "import pandas as pd\n",
    "import glob\n",
    "import numpy as np\n",
    "import matplotlib.pyplot as plt\n",
    "import  seaborn as sns\n",
    "import learning_lidar.utils.global_settings as gs\n",
    "import matplotlib as mpl\n",
    "sns.set_palette(sns.color_palette(\"tab10\"))\n",
    "\n",
    "plt.rcParams['figure.dpi'] = gs.FIGURE_DPI\n",
    "plt.rcParams['savefig.dpi'] = gs.SAVEFIG_DPI\n",
    "\n",
    "sns.set_theme()\n",
    "sns.set_context(\"paper\", font_scale=1.5, rc={\"lines.linewidth\": 2.5})"
   ]
  },
  {
   "cell_type": "code",
   "execution_count": 132,
   "outputs": [],
   "source": [
    "base_folder = os.path.dirname(os.path.dirname(os.path.abspath(os.curdir)))\n",
    "results_folder = os.path.join(base_folder, 'results')"
   ],
   "metadata": {
    "collapsed": false,
    "pycharm": {
     "name": "#%% paths\n"
    }
   }
  },
  {
   "cell_type": "markdown",
   "source": [
    "# postprocessing LCNET results from jason state files saved in  `runs_board.xlsx`"
   ],
   "metadata": {
    "collapsed": false,
    "pycharm": {
     "name": "#%% md\n"
    }
   }
  },
  {
   "cell_type": "code",
   "execution_count": 133,
   "outputs": [
    {
     "name": "stderr",
     "output_type": "stream",
     "text": [
      "No `self.trials`. Drawing logdirs from checkpoint file. This may result in some information that is out of sync, as checkpointing is periodic.\n",
      "No `self.trials`. Drawing logdirs from checkpoint file. This may result in some information that is out of sync, as checkpointing is periodic.\n",
      "No `self.trials`. Drawing logdirs from checkpoint file. This may result in some information that is out of sync, as checkpointing is periodic.\n",
      "No `self.trials`. Drawing logdirs from checkpoint file. This may result in some information that is out of sync, as checkpointing is periodic.\n",
      "No `self.trials`. Drawing logdirs from checkpoint file. This may result in some information that is out of sync, as checkpointing is periodic.\n",
      "No `self.trials`. Drawing logdirs from checkpoint file. This may result in some information that is out of sync, as checkpointing is periodic.\n",
      "Couldn't read config from 5 paths\n",
      "No `self.trials`. Drawing logdirs from checkpoint file. This may result in some information that is out of sync, as checkpointing is periodic.\n",
      "No `self.trials`. Drawing logdirs from checkpoint file. This may result in some information that is out of sync, as checkpointing is periodic.\n",
      "No `self.trials`. Drawing logdirs from checkpoint file. This may result in some information that is out of sync, as checkpointing is periodic.\n",
      "No `self.trials`. Drawing logdirs from checkpoint file. This may result in some information that is out of sync, as checkpointing is periodic.\n",
      "No `self.trials`. Drawing logdirs from checkpoint file. This may result in some information that is out of sync, as checkpointing is periodic.\n",
      "No `self.trials`. Drawing logdirs from checkpoint file. This may result in some information that is out of sync, as checkpointing is periodic.\n",
      "No `self.trials`. Drawing logdirs from checkpoint file. This may result in some information that is out of sync, as checkpointing is periodic.\n",
      "No `self.trials`. Drawing logdirs from checkpoint file. This may result in some information that is out of sync, as checkpointing is periodic.\n",
      "No `self.trials`. Drawing logdirs from checkpoint file. This may result in some information that is out of sync, as checkpointing is periodic.\n",
      "No `self.trials`. Drawing logdirs from checkpoint file. This may result in some information that is out of sync, as checkpointing is periodic.\n",
      "No `self.trials`. Drawing logdirs from checkpoint file. This may result in some information that is out of sync, as checkpointing is periodic.\n",
      "No `self.trials`. Drawing logdirs from checkpoint file. This may result in some information that is out of sync, as checkpointing is periodic.\n",
      "Couldn't read config from 44 paths\n",
      "No `self.trials`. Drawing logdirs from checkpoint file. This may result in some information that is out of sync, as checkpointing is periodic.\n",
      "No `self.trials`. Drawing logdirs from checkpoint file. This may result in some information that is out of sync, as checkpointing is periodic.\n",
      "Couldn't read config from 215 paths\n",
      "No `self.trials`. Drawing logdirs from checkpoint file. This may result in some information that is out of sync, as checkpointing is periodic.\n",
      "No `self.trials`. Drawing logdirs from checkpoint file. This may result in some information that is out of sync, as checkpointing is periodic.\n",
      "No `self.trials`. Drawing logdirs from checkpoint file. This may result in some information that is out of sync, as checkpointing is periodic.\n",
      "No `self.trials`. Drawing logdirs from checkpoint file. This may result in some information that is out of sync, as checkpointing is periodic.\n",
      "Couldn't read config from 11 paths\n",
      "No `self.trials`. Drawing logdirs from checkpoint file. This may result in some information that is out of sync, as checkpointing is periodic.\n",
      "No `self.trials`. Drawing logdirs from checkpoint file. This may result in some information that is out of sync, as checkpointing is periodic.\n",
      "No `self.trials`. Drawing logdirs from checkpoint file. This may result in some information that is out of sync, as checkpointing is periodic.\n",
      "No `self.trials`. Drawing logdirs from checkpoint file. This may result in some information that is out of sync, as checkpointing is periodic.\n",
      "No `self.trials`. Drawing logdirs from checkpoint file. This may result in some information that is out of sync, as checkpointing is periodic.\n",
      "No `self.trials`. Drawing logdirs from checkpoint file. This may result in some information that is out of sync, as checkpointing is periodic.\n",
      "No `self.trials`. Drawing logdirs from checkpoint file. This may result in some information that is out of sync, as checkpointing is periodic.\n",
      "No `self.trials`. Drawing logdirs from checkpoint file. This may result in some information that is out of sync, as checkpointing is periodic.\n"
     ]
    },
    {
     "name": "stdout",
     "output_type": "stream",
     "text": [
      "C:\\Users\\addalin\\Dropbox\\Lidar\\lidar_learning\\results\\main_2021-05-06_19-17-01\\experiment_results.csv\n",
      "C:\\Users\\addalin\\Dropbox\\Lidar\\lidar_learning\\results\\main_2021-05-08_17-45-11\\experiment_results.csv\n",
      "C:\\Users\\addalin\\Dropbox\\Lidar\\lidar_learning\\results\\main_2021-05-09_22-48-01\\experiment_results.csv\n",
      "C:\\Users\\addalin\\Dropbox\\Lidar\\lidar_learning\\results\\main_2021-05-12_11-54-20\\experiment_results.csv\n",
      "C:\\Users\\addalin\\Dropbox\\Lidar\\lidar_learning\\results\\main_2021-05-12_16-45-18\\experiment_results.csv\n",
      "C:\\Users\\addalin\\Dropbox\\Lidar\\lidar_learning\\results\\main_2021-05-12_21-04-44\\experiment_results.csv\n",
      "C:\\Users\\addalin\\Dropbox\\Lidar\\lidar_learning\\results\\main_2021-05-13_01-25-47\\experiment_results.csv\n",
      "C:\\Users\\addalin\\Dropbox\\Lidar\\lidar_learning\\results\\main_2021-05-13_09-42-44\\experiment_results.csv\n",
      "C:\\Users\\addalin\\Dropbox\\Lidar\\lidar_learning\\results\\main_2021-05-13_15-41-26\\experiment_results.csv\n",
      "C:\\Users\\addalin\\Dropbox\\Lidar\\lidar_learning\\results\\main_2021-05-13_23-14-02\\experiment_results.csv\n",
      "C:\\Users\\addalin\\Dropbox\\Lidar\\lidar_learning\\results\\main_2021-05-16_02-25-47\\experiment_results.csv\n",
      "C:\\Users\\addalin\\Dropbox\\Lidar\\lidar_learning\\results\\main_2021-05-17_01-06-46\\experiment_results.csv\n",
      "C:\\Users\\addalin\\Dropbox\\Lidar\\lidar_learning\\results\\main_2021-05-17_15-23-12\\experiment_results.csv\n",
      "C:\\Users\\addalin\\Dropbox\\Lidar\\lidar_learning\\results\\main_2021-05-18_22-13-12\\experiment_results.csv\n",
      "C:\\Users\\addalin\\Dropbox\\Lidar\\lidar_learning\\results\\main_2021-05-20_07-01-41\\experiment_results.csv\n",
      "C:\\Users\\addalin\\Dropbox\\Lidar\\lidar_learning\\results\\main_2021-05-20_13-05-53\\experiment_results.csv\n"
     ]
    }
   ],
   "source": [
    "runs_df = pd.read_excel(os.path.join(results_folder,'runs_board.xlsx'))\n",
    "for idx,row in runs_df.iterrows():\n",
    "    #row = runs_df.iloc[idx]\n",
    "    try:\n",
    "        state_fname = glob.glob(os.path.join( row.experiment_folder,r'experiment_state*.json'))[0]\n",
    "        analysis = tune.ExperimentAnalysis(state_fname)\n",
    "        ignore_MARELoss = \"MARELoss\" in [row.field_to_ignore]\n",
    "        analysis.default_metric = \"MARELoss\" if ignore_MARELoss else \"MARELoss\"\n",
    "        analysis.default_mode=\"min\"\n",
    "        results_df = analysis.dataframe(metric=\"MARELoss\", mode=\"min\",)\n",
    "\n",
    "        # update fields:\n",
    "        if ignore_MARELoss:\n",
    "            results_df[\"MARELoss\"]=None\n",
    "\n",
    "        # rename column names:\n",
    "        cols = results_df.columns.values.tolist()\n",
    "        new_cols = [col.replace('config/',\"\") for col in cols]\n",
    "        dict_cols ={}\n",
    "        for col,new_col in zip(cols, new_cols):\n",
    "            dict_cols.update({col:new_col})\n",
    "        results_df = results_df.rename(columns= dict_cols)\n",
    "\n",
    "        # update power values:\n",
    "        len_pow = len(results_df[results_df.use_power==True])\n",
    "        len_no_pow = len(results_df[results_df.use_power==False])\n",
    "        len_pows = len(results_df[results_df.use_power !=False])\n",
    "        if len_no_pow>0:\n",
    "            results_df.loc[results_df[results_df.use_power==False].index,'powers']= ''\n",
    "        if len_pows!=len_pow:\n",
    "            results_df.loc[results_df[results_df.use_power!=False].index,'powers']=results_df.use_power\n",
    "            results_df.loc[results_df[results_df.use_power!=False].index,'use_power']=True\n",
    "        else:\n",
    "            results_df.loc[results_df[results_df.use_power==True].index,'powers']= '([0.5,0.5],[0.5])'\n",
    "\n",
    "        # Update Notes\n",
    "        note = row['note']\n",
    "        results_df['note']= note if type(note)==str else 'ok'\n",
    "\n",
    "        # drop irrelevant columns:\n",
    "        drop_cols = [ 'time_this_iter_s', 'should_checkpoint', 'done',\n",
    "                   'timesteps_total', 'episodes_total',\n",
    "                   'experiment_id',  'timestamp',  'pid', 'hostname',\n",
    "                   'node_ip', 'time_since_restore', 'timesteps_since_restore',\n",
    "                   'iterations_since_restore']\n",
    "        results_df.drop(columns=drop_cols,inplace=True)\n",
    "\n",
    "\n",
    "        # reorganize columns:\n",
    "        new_order = ['trial_id', 'date','time_total_s','training_iteration',\n",
    "                     'loss', 'MARELoss',\n",
    "                     'bsize', 'dfilter', 'dnorm','fc_size', 'hsizes', 'lr',\n",
    "                     'ltype', 'source', 'use_bg', 'use_power','powers','note','logdir']\n",
    "        results_df = results_df.reindex(columns=new_order)\n",
    "\n",
    "        # keep index trial (especially for cases when trails are ignored)\n",
    "        #results_df['idx']=results_df.index\n",
    "        #new_cols = ['idx']\n",
    "        #new_cols.extend(cols)\n",
    "        #results_df = results_df.reindex(columns=new_cols)\n",
    "\n",
    "        # remove irrelevant trials (e.g. when dnorm had wrong calculation)\n",
    "        if row.trial_to_ignore is not np.nan:\n",
    "            key,cond = eval(row.trial_to_ignore)\n",
    "            results_df.drop(index=results_df[results_df[key]==cond].index,inplace=True)\n",
    "\n",
    "        # save csv\n",
    "        results_csv = os.path.join(analysis._experiment_dir, f'experiment_results.csv')\n",
    "        results_df.to_csv(results_csv, index=False)\n",
    "\n",
    "        # update csv path in main runs_board\n",
    "        runs_df.loc[idx,'results_csv']=results_csv\n",
    "        print(results_csv)\n",
    "        #runs_df.loc[idx,'best_trial']=analysis.best_trial\n",
    "        #runs_df.loc[idx,'best_config']=analysis.best_config\n",
    "        #runs_df.loc[idx,'best_logdir']=analysis.best_logdir\n",
    "        #runs_df.loc[idx,'best_checkpoint']=analysis.best_checkpoint\n",
    "        #runs_df.loc[idx,'best_result']=analysis.best_result\n",
    "    except:\n",
    "        continue\n",
    "# TODO: save runs_df with results_csv paths"
   ],
   "metadata": {
    "collapsed": false,
    "pycharm": {
     "name": "#%%\n"
    }
   }
  },
  {
   "cell_type": "code",
   "execution_count": 137,
   "outputs": [],
   "source": [
    "paths = [row['results_csv'] for idx,row in runs_df.iterrows() if (row['include'] and type (row['results_csv'])==str)]\n",
    "results_dfs=[pd.read_csv(path) for path in paths]"
   ],
   "metadata": {
    "collapsed": false,
    "pycharm": {
     "name": "#%% concatante all csv files with include =1\n"
    }
   }
  },
  {
   "cell_type": "code",
   "execution_count": 139,
   "outputs": [
    {
     "ename": "ValueError",
     "evalue": "The truth value of an array with more than one element is ambiguous. Use a.any() or a.all()",
     "output_type": "error",
     "traceback": [
      "\u001B[1;31m---------------------------------------------------------------------------\u001B[0m",
      "\u001B[1;31mValueError\u001B[0m                                Traceback (most recent call last)",
      "\u001B[1;32m<ipython-input-139-b229f3d13e85>\u001B[0m in \u001B[0;36m<module>\u001B[1;34m\u001B[0m\n\u001B[0;32m      5\u001B[0m \u001B[0mpow_x\u001B[0m \u001B[1;33m=\u001B[0m \u001B[0mtotal_results\u001B[0m\u001B[1;33m.\u001B[0m\u001B[0mpowers\u001B[0m\u001B[1;33m.\u001B[0m\u001B[0mapply\u001B[0m\u001B[1;33m(\u001B[0m\u001B[1;32mlambda\u001B[0m \u001B[0mx\u001B[0m\u001B[1;33m:\u001B[0m \u001B[0mnp\u001B[0m\u001B[1;33m.\u001B[0m\u001B[0marray\u001B[0m\u001B[1;33m(\u001B[0m\u001B[0mx\u001B[0m\u001B[1;33m[\u001B[0m\u001B[1;36m0\u001B[0m\u001B[1;33m]\u001B[0m\u001B[1;33m)\u001B[0m \u001B[1;32mif\u001B[0m \u001B[0mtype\u001B[0m\u001B[1;33m(\u001B[0m\u001B[0mx\u001B[0m\u001B[1;33m)\u001B[0m\u001B[1;33m==\u001B[0m\u001B[0mtuple\u001B[0m \u001B[1;32melse\u001B[0m \u001B[1;32mNone\u001B[0m \u001B[1;33m)\u001B[0m\u001B[1;33m\u001B[0m\u001B[1;33m\u001B[0m\u001B[0m\n\u001B[0;32m      6\u001B[0m \u001B[1;32mfor\u001B[0m \u001B[0mchan\u001B[0m \u001B[1;32min\u001B[0m \u001B[0mrange\u001B[0m\u001B[1;33m(\u001B[0m\u001B[1;36m3\u001B[0m\u001B[1;33m)\u001B[0m\u001B[1;33m:\u001B[0m\u001B[1;33m\u001B[0m\u001B[1;33m\u001B[0m\u001B[0m\n\u001B[1;32m----> 7\u001B[1;33m     \u001B[0mtotal_results\u001B[0m\u001B[1;33m[\u001B[0m\u001B[1;34mf'pow_x{chan+1}'\u001B[0m\u001B[1;33m]\u001B[0m \u001B[1;33m=\u001B[0m \u001B[1;33m[\u001B[0m\u001B[0mpowx\u001B[0m\u001B[1;33m[\u001B[0m\u001B[0mchan\u001B[0m\u001B[1;33m]\u001B[0m \u001B[1;32mif\u001B[0m  \u001B[0mpowx\u001B[0m \u001B[1;32mand\u001B[0m \u001B[1;33m(\u001B[0m\u001B[0mlen\u001B[0m\u001B[1;33m(\u001B[0m\u001B[0mpowx\u001B[0m\u001B[1;33m)\u001B[0m\u001B[1;33m>=\u001B[0m\u001B[0mchan\u001B[0m\u001B[1;33m+\u001B[0m\u001B[1;36m1\u001B[0m\u001B[1;33m)\u001B[0m \u001B[1;32melse\u001B[0m \u001B[1;32mNone\u001B[0m \u001B[1;32mfor\u001B[0m \u001B[0mpowx\u001B[0m \u001B[1;32min\u001B[0m \u001B[0mpow_x\u001B[0m\u001B[1;33m]\u001B[0m\u001B[1;33m\u001B[0m\u001B[1;33m\u001B[0m\u001B[0m\n\u001B[0m\u001B[0;32m      8\u001B[0m \u001B[0mtotal_results\u001B[0m\u001B[1;33m[\u001B[0m\u001B[1;34m'pow_x'\u001B[0m\u001B[1;33m]\u001B[0m \u001B[1;33m=\u001B[0m \u001B[0mpow_x\u001B[0m\u001B[1;33m.\u001B[0m\u001B[0mapply\u001B[0m\u001B[1;33m(\u001B[0m\u001B[1;32mlambda\u001B[0m \u001B[0mx\u001B[0m\u001B[1;33m:\u001B[0m \u001B[0mstr\u001B[0m\u001B[1;33m(\u001B[0m\u001B[0mx\u001B[0m\u001B[1;33m)\u001B[0m \u001B[1;32mif\u001B[0m \u001B[0mx\u001B[0m \u001B[1;32melse\u001B[0m \u001B[1;32mNone\u001B[0m\u001B[1;33m)\u001B[0m\u001B[1;33m\u001B[0m\u001B[1;33m\u001B[0m\u001B[0m\n\u001B[0;32m      9\u001B[0m \u001B[1;33m\u001B[0m\u001B[0m\n",
      "\u001B[1;32m<ipython-input-139-b229f3d13e85>\u001B[0m in \u001B[0;36m<listcomp>\u001B[1;34m(.0)\u001B[0m\n\u001B[0;32m      5\u001B[0m \u001B[0mpow_x\u001B[0m \u001B[1;33m=\u001B[0m \u001B[0mtotal_results\u001B[0m\u001B[1;33m.\u001B[0m\u001B[0mpowers\u001B[0m\u001B[1;33m.\u001B[0m\u001B[0mapply\u001B[0m\u001B[1;33m(\u001B[0m\u001B[1;32mlambda\u001B[0m \u001B[0mx\u001B[0m\u001B[1;33m:\u001B[0m \u001B[0mnp\u001B[0m\u001B[1;33m.\u001B[0m\u001B[0marray\u001B[0m\u001B[1;33m(\u001B[0m\u001B[0mx\u001B[0m\u001B[1;33m[\u001B[0m\u001B[1;36m0\u001B[0m\u001B[1;33m]\u001B[0m\u001B[1;33m)\u001B[0m \u001B[1;32mif\u001B[0m \u001B[0mtype\u001B[0m\u001B[1;33m(\u001B[0m\u001B[0mx\u001B[0m\u001B[1;33m)\u001B[0m\u001B[1;33m==\u001B[0m\u001B[0mtuple\u001B[0m \u001B[1;32melse\u001B[0m \u001B[1;32mNone\u001B[0m \u001B[1;33m)\u001B[0m\u001B[1;33m\u001B[0m\u001B[1;33m\u001B[0m\u001B[0m\n\u001B[0;32m      6\u001B[0m \u001B[1;32mfor\u001B[0m \u001B[0mchan\u001B[0m \u001B[1;32min\u001B[0m \u001B[0mrange\u001B[0m\u001B[1;33m(\u001B[0m\u001B[1;36m3\u001B[0m\u001B[1;33m)\u001B[0m\u001B[1;33m:\u001B[0m\u001B[1;33m\u001B[0m\u001B[1;33m\u001B[0m\u001B[0m\n\u001B[1;32m----> 7\u001B[1;33m     \u001B[0mtotal_results\u001B[0m\u001B[1;33m[\u001B[0m\u001B[1;34mf'pow_x{chan+1}'\u001B[0m\u001B[1;33m]\u001B[0m \u001B[1;33m=\u001B[0m \u001B[1;33m[\u001B[0m\u001B[0mpowx\u001B[0m\u001B[1;33m[\u001B[0m\u001B[0mchan\u001B[0m\u001B[1;33m]\u001B[0m \u001B[1;32mif\u001B[0m  \u001B[0mpowx\u001B[0m \u001B[1;32mand\u001B[0m \u001B[1;33m(\u001B[0m\u001B[0mlen\u001B[0m\u001B[1;33m(\u001B[0m\u001B[0mpowx\u001B[0m\u001B[1;33m)\u001B[0m\u001B[1;33m>=\u001B[0m\u001B[0mchan\u001B[0m\u001B[1;33m+\u001B[0m\u001B[1;36m1\u001B[0m\u001B[1;33m)\u001B[0m \u001B[1;32melse\u001B[0m \u001B[1;32mNone\u001B[0m \u001B[1;32mfor\u001B[0m \u001B[0mpowx\u001B[0m \u001B[1;32min\u001B[0m \u001B[0mpow_x\u001B[0m\u001B[1;33m]\u001B[0m\u001B[1;33m\u001B[0m\u001B[1;33m\u001B[0m\u001B[0m\n\u001B[0m\u001B[0;32m      8\u001B[0m \u001B[0mtotal_results\u001B[0m\u001B[1;33m[\u001B[0m\u001B[1;34m'pow_x'\u001B[0m\u001B[1;33m]\u001B[0m \u001B[1;33m=\u001B[0m \u001B[0mpow_x\u001B[0m\u001B[1;33m.\u001B[0m\u001B[0mapply\u001B[0m\u001B[1;33m(\u001B[0m\u001B[1;32mlambda\u001B[0m \u001B[0mx\u001B[0m\u001B[1;33m:\u001B[0m \u001B[0mstr\u001B[0m\u001B[1;33m(\u001B[0m\u001B[0mx\u001B[0m\u001B[1;33m)\u001B[0m \u001B[1;32mif\u001B[0m \u001B[0mx\u001B[0m \u001B[1;32melse\u001B[0m \u001B[1;32mNone\u001B[0m\u001B[1;33m)\u001B[0m\u001B[1;33m\u001B[0m\u001B[1;33m\u001B[0m\u001B[0m\n\u001B[0;32m      9\u001B[0m \u001B[1;33m\u001B[0m\u001B[0m\n",
      "\u001B[1;31mValueError\u001B[0m: The truth value of an array with more than one element is ambiguous. Use a.any() or a.all()"
     ]
    }
   ],
   "source": [
    "total_results = pd.concat(results_dfs,ignore_index=True)\n",
    "total_results['powers'] = total_results.powers.apply(lambda x: eval(x) if type(x)==str else None)\n",
    "total_results['fc_size'] = total_results.fc_size.apply(lambda x: eval(str(x))[0])\n",
    "total_results['pow_y'] = total_results.powers.apply(lambda x: np.array(x[1])[0] if type(x)==tuple else None)\n",
    "pow_x = total_results.powers.apply(lambda x: np.array(x[0]) if type(x)==tuple else None )\n",
    "for chan in range(3):\n",
    "    total_results[f'pow_x{chan+1}'] = [powx[chan] if  powx and (len(powx)>=chan+1) else None for powx in pow_x]\n",
    "total_results['pow_x'] = pow_x.apply(lambda x: str(x) if x else None)"
   ],
   "metadata": {
    "collapsed": false,
    "pycharm": {
     "name": "#%%\n"
    }
   }
  },
  {
   "cell_type": "code",
   "execution_count": 140,
   "outputs": [
    {
     "data": {
      "text/plain": "([0.5, 0.5], [0.5])"
     },
     "execution_count": 140,
     "metadata": {},
     "output_type": "execute_result"
    }
   ],
   "source": [
    "row = total_results.iloc[0].powers\n",
    "row"
   ],
   "metadata": {
    "collapsed": false,
    "pycharm": {
     "name": "#%%\n"
    }
   }
  },
  {
   "cell_type": "code",
   "execution_count": 142,
   "outputs": [
    {
     "ename": "IndexError",
     "evalue": "too many indices for array: array is 0-dimensional, but 1 were indexed",
     "output_type": "error",
     "traceback": [
      "\u001B[1;31m---------------------------------------------------------------------------\u001B[0m",
      "\u001B[1;31mIndexError\u001B[0m                                Traceback (most recent call last)",
      "\u001B[1;32m<ipython-input-142-f03c59a146b4>\u001B[0m in \u001B[0;36m<module>\u001B[1;34m\u001B[0m\n\u001B[1;32m----> 1\u001B[1;33m \u001B[0mextract_powers\u001B[0m\u001B[1;33m(\u001B[0m\u001B[0mrow\u001B[0m\u001B[1;33m,\u001B[0m \u001B[1;36m3\u001B[0m\u001B[1;33m)\u001B[0m\u001B[1;33m\u001B[0m\u001B[1;33m\u001B[0m\u001B[0m\n\u001B[0m",
      "\u001B[1;32m<ipython-input-141-4ea14bbb9d17>\u001B[0m in \u001B[0;36mextract_powers\u001B[1;34m(row, in_channels)\u001B[0m\n\u001B[0;32m      9\u001B[0m     \u001B[1;32melse\u001B[0m\u001B[1;33m:\u001B[0m\u001B[1;33m\u001B[0m\u001B[1;33m\u001B[0m\u001B[0m\n\u001B[0;32m     10\u001B[0m         \u001B[1;32mfor\u001B[0m \u001B[0mchan\u001B[0m \u001B[1;32min\u001B[0m \u001B[0mrange\u001B[0m\u001B[1;33m(\u001B[0m\u001B[0min_channels\u001B[0m\u001B[1;33m)\u001B[0m\u001B[1;33m:\u001B[0m\u001B[1;33m\u001B[0m\u001B[1;33m\u001B[0m\u001B[0m\n\u001B[1;32m---> 11\u001B[1;33m             \u001B[0mpow_xi\u001B[0m\u001B[1;33m[\u001B[0m\u001B[0mchan\u001B[0m\u001B[1;33m]\u001B[0m \u001B[1;33m=\u001B[0m \u001B[1;32mNone\u001B[0m\u001B[1;33m\u001B[0m\u001B[1;33m\u001B[0m\u001B[0m\n\u001B[0m\u001B[0;32m     12\u001B[0m     \u001B[1;32mreturn\u001B[0m \u001B[0mpd\u001B[0m\u001B[1;33m.\u001B[0m\u001B[0mDataFrame\u001B[0m\u001B[1;33m(\u001B[0m\u001B[0mdata\u001B[0m\u001B[1;33m=\u001B[0m\u001B[1;33m[\u001B[0m\u001B[0mpow_y\u001B[0m\u001B[1;33m,\u001B[0m\u001B[1;33m*\u001B[0m\u001B[0mpow_xi\u001B[0m\u001B[1;33m]\u001B[0m\u001B[1;33m)\u001B[0m\u001B[1;33m\u001B[0m\u001B[1;33m\u001B[0m\u001B[0m\n\u001B[0;32m     13\u001B[0m \u001B[1;33m\u001B[0m\u001B[0m\n",
      "\u001B[1;31mIndexError\u001B[0m: too many indices for array: array is 0-dimensional, but 1 were indexed"
     ]
    }
   ],
   "source": [
    "extract_powers(row, 3)"
   ],
   "metadata": {
    "collapsed": false,
    "pycharm": {
     "name": "#%%\n"
    }
   }
  },
  {
   "cell_type": "code",
   "execution_count": 144,
   "outputs": [
    {
     "data": {
      "text/plain": "(array([ 1.,  2., nan]), [1, 1.0, 2.0, nan])"
     },
     "execution_count": 144,
     "metadata": {},
     "output_type": "execute_result"
    }
   ],
   "source": [
    "powx_test = np.array([1,2,np.nan])\n",
    "powx_test, [1,*powx_test]"
   ],
   "metadata": {
    "collapsed": false,
    "pycharm": {
     "name": "#%%\n"
    }
   }
  },
  {
   "cell_type": "code",
   "execution_count": 141,
   "outputs": [],
   "source": [
    "def extract_powers(row, in_channels):\n",
    "    powers = eval(row) if type(row)==str else None\n",
    "    pow_y = np.array(powers[1])[0] if type(powers)==tuple else None\n",
    "    pow_x = np.array(powers[0]) if type(powers)==tuple else None\n",
    "    pow_xi = np.array(in_channels)\n",
    "    if pow_x:\n",
    "        for chan in range(in_channels):\n",
    "            pow_xi[chan] = powx[chan] if  (len(powx)>=chan+1) else None\n",
    "    else:\n",
    "        for chan in range(in_channels):\n",
    "            pow_xi[chan] = None\n",
    "    return pd.DataFrame(data=[pow_y,*pow_xi])\n",
    "\n",
    "\n",
    "\n"
   ],
   "metadata": {
    "collapsed": false,
    "pycharm": {
     "name": "#%%\n"
    }
   }
  },
  {
   "cell_type": "code",
   "execution_count": null,
   "outputs": [],
   "source": [
    "analyse_results = total_results[total_results.training_iteration>=2]\n"
   ],
   "metadata": {
    "collapsed": false,
    "pycharm": {
     "name": "#%%\n"
    }
   }
  },
  {
   "cell_type": "code",
   "execution_count": null,
   "outputs": [],
   "source": [
    "lidar_res = total_results[total_results.source=='lidar' ]\n",
    "lidar_res = lidar_res[~lidar_res.use_bg]\n",
    "#lidar_res"
   ],
   "metadata": {
    "collapsed": false,
    "pycharm": {
     "name": "#%%\n"
    }
   }
  },
  {
   "cell_type": "markdown",
   "source": [
    "## 1. Choosing Learning rate\n",
    "1. X: range_corr(lidar), attbsc(molecular). Y:LC\n",
    "> use_normalization = False\n",
    "> use_power = True\n",
    "> source = lidar"
   ],
   "metadata": {
    "collapsed": false,
    "pycharm": {
     "name": "#%% md\n"
    }
   }
  },
  {
   "cell_type": "code",
   "execution_count": null,
   "outputs": [],
   "source": [
    "pow_lidar = lidar_res[(~lidar_res.dnorm & lidar_res.use_power ) ]\n",
    "pow_lidar = pow_lidar[pow_lidar.powers==([0.5,0.5],[0.5])]\n",
    "fig, ax = plt.subplots(nrows=1, ncols=1, figsize=(7, 5))\n",
    "pd.pivot_table(pow_lidar,\n",
    "               values=['loss'],\n",
    "               columns= ['lr'],\n",
    "               index=['fc_size','note'],\n",
    "               aggfunc=np.mean).\\\n",
    "    plot(kind='bar',ax =ax, title='Choosing learning Rate')\n",
    "ax.get_yaxis().set_minor_locator(mpl.ticker.AutoMinorLocator())\n",
    "ax.grid(b=True, which='minor', color='w', linewidth=0.8)\n",
    "ax.grid(b=True, which='major', color='w', linewidth=1.2)\n",
    "ax.xaxis.grid(False)\n",
    "plt.tight_layout()\n",
    "plt.show()"
   ],
   "metadata": {
    "collapsed": false,
    "pycharm": {
     "name": "#%%\n"
    }
   }
  },
  {
   "cell_type": "markdown",
   "source": [
    "## 2. FC vs. hidden sizes\n",
    "1. X: range_corr(lidar), attbsc(molecular). Y:LC\n",
    "> use_normalization = False\n",
    "> use_power = True\n",
    "> source = lidar\n",
    "> lr = 0.001 or lr = 0.005"
   ],
   "metadata": {
    "collapsed": false,
    "pycharm": {
     "name": "#%% md\n"
    }
   }
  },
  {
   "cell_type": "code",
   "execution_count": null,
   "outputs": [],
   "source": [
    "fig, ax = plt.subplots(nrows=1, ncols=1, figsize=(7, 5))\n",
    "\n",
    "pd.pivot_table(pow_lidar[pow_lidar.lr!=0.0001],\n",
    "               values=['loss'],\n",
    "               columns= ['hsizes'],\n",
    "               index=['fc_size','note'],\n",
    "               aggfunc=np.mean).\\\n",
    "    plot(kind='bar',ax =ax, title='FC size vs. inner layers` hidden sizes')\n",
    "ax.get_yaxis().set_minor_locator(mpl.ticker.AutoMinorLocator())\n",
    "ax.grid(b=True, which='minor', color='w', linewidth=0.8)\n",
    "ax.grid(b=True, which='major', color='w', linewidth=1.2)\n",
    "ax.xaxis.grid(False)\n",
    "plt.tight_layout()\n",
    "plt.show()"
   ],
   "metadata": {
    "collapsed": false,
    "pycharm": {
     "name": "#%%\n"
    }
   }
  },
  {
   "cell_type": "markdown",
   "source": [
    "## 3. Normalization vs. Power transform\n",
    "1. X: range_corr(lidar), attbsc(molecular). Y:LC\n",
    "> use_power = False\n",
    "> source = lidar"
   ],
   "metadata": {
    "collapsed": false
   }
  },
  {
   "cell_type": "code",
   "execution_count": null,
   "outputs": [],
   "source": [
    "fig, ax = plt.subplots(nrows=1, ncols=1, figsize=(7, 5))\n",
    "pd.pivot_table(lidar_res,\n",
    "               values=['MARELoss'],\n",
    "               columns= ['dnorm','use_power','note'],\n",
    "               index=['fc_size'],\n",
    "               aggfunc=np.mean).\\\n",
    "    plot(kind='bar',ax =ax, title='Normalization vs. Power transform')\n",
    "ax.get_yaxis().set_minor_locator(mpl.ticker.AutoMinorLocator())\n",
    "ax.grid(b=True, which='minor', color='w', linewidth=0.8)\n",
    "ax.grid(b=True, which='major', color='w', linewidth=1.2)\n",
    "ax.xaxis.grid(False)\n",
    "plt.tight_layout()\n",
    "plt.show()"
   ],
   "metadata": {
    "collapsed": false,
    "pycharm": {
     "name": "#%%\n"
    }
   }
  },
  {
   "cell_type": "markdown",
   "source": [
    "## 3. Type of Power transform\n",
    "1. X: range_corr(lidar), attbsc(molecular). Y:LC\n",
    "> source = lidar\n",
    "> use_bg = False\n",
    "> dnorm = False\n",
    "> lr = 0.001"
   ],
   "metadata": {
    "collapsed": false
   }
  },
  {
   "cell_type": "code",
   "execution_count": null,
   "outputs": [],
   "source": [
    "pow_lidar = total_results[total_results.source=='lidar']\n",
    "pow_lidar= pow_lidar[pow_lidar.use_power & ~pow_lidar.dnorm & ~total_results.use_bg]\n",
    "pow_lidar = pow_lidar[pow_lidar.lr==0.001]\n",
    "\n",
    "#pow_lidar['pow_y'] = pow_lidar.powers.apply(lambda x: np.array(x[1])[0])\n",
    "#pow_lidar['pow_x'] = pow_lidar.powers.apply(lambda x: np.array(x[0]))\n",
    "#pow_lidar['pow_x1'] = [powx[0] for powx in pow_lidar['pow_x']]\n",
    "#pow_lidar['pow_x2'] = [powx[1] for powx in pow_lidar['pow_x']]\n",
    "#pow_lidar['pow_x'] = pow_lidar.pow_x.apply(lambda x: (str(x[0]),str(x[1])))\n",
    "#pow_lidar['pow_y'] = pow_lidar.pow_y.apply(lambda x: str(x))\n"
   ],
   "metadata": {
    "collapsed": false,
    "pycharm": {
     "name": "#%%\n"
    }
   }
  },
  {
   "cell_type": "code",
   "execution_count": null,
   "outputs": [],
   "source": [
    "fig, ax = plt.subplots(nrows=1, ncols=1, figsize=(7, 5))\n",
    "pd.pivot_table(pow_lidar,\n",
    "               values=['MARELoss'],\n",
    "               columns= ['pow_y' ],\n",
    "               index=['fc_size'],\n",
    "               aggfunc=np.mean).\\\n",
    "    plot(kind='bar',ax =ax, title='Choosing Power Transform')\n",
    "ax.get_yaxis().set_minor_locator(mpl.ticker.AutoMinorLocator())\n",
    "ax.grid(b=True, which='minor', color='w', linewidth=0.8)\n",
    "ax.grid(b=True, which='major', color='w', linewidth=1.2)\n",
    "ax.xaxis.grid(False)\n",
    "plt.tight_layout()\n",
    "plt.show()"
   ],
   "metadata": {
    "collapsed": false,
    "pycharm": {
     "name": "#%%\n"
    }
   }
  },
  {
   "cell_type": "code",
   "execution_count": null,
   "outputs": [],
   "source": [
    "fig, ax = plt.subplots(nrows=1, ncols=1, figsize=(7, 5))\n",
    "pd.pivot_table(pow_lidar[pow_lidar['pow_y']==0.5][(pow_lidar['pow_x1']==0.5)],\n",
    "               values=['MARELoss'],\n",
    "               columns= ['pow_x2','note'],\n",
    "               index=['hsizes'],\n",
    "               aggfunc=np.mean).\\\n",
    "    plot(kind='bar',ax =ax, title='Choosing Power Transform. $\\gamma_{x1}=0.5 , \\gamma_y=0.5$')\n",
    "ax.get_yaxis().set_minor_locator(mpl.ticker.AutoMinorLocator())\n",
    "ax.grid(b=True, which='minor', color='w', linewidth=0.8)\n",
    "ax.grid(b=True, which='major', color='w', linewidth=1.2)\n",
    "ax.xaxis.grid(False)\n",
    "plt.tight_layout()\n",
    "plt.show()"
   ],
   "metadata": {
    "collapsed": false,
    "pycharm": {
     "name": "#%%\n"
    }
   }
  },
  {
   "cell_type": "code",
   "execution_count": null,
   "outputs": [],
   "source": [
    "fig, ax = plt.subplots(nrows=1, ncols=1, figsize=(7, 5))\n",
    "pd.pivot_table(pow_lidar[(pow_lidar['pow_y']==0.5)][(pow_lidar['pow_x1']==0.5)],\n",
    "               values=['MARELoss'],\n",
    "               columns= ['pow_x2','note'],\n",
    "               index=['fc_size'],\n",
    "               aggfunc=np.mean).\\\n",
    "    plot(kind='bar',ax =ax, title=r'Choosing Power Transform. $\\gamma_{x1}=0.5 , \\gamma_y=0.5$')\n",
    "ax.get_yaxis().set_minor_locator(mpl.ticker.AutoMinorLocator())\n",
    "ax.grid(b=True, which='minor', color='w', linewidth=0.8)\n",
    "ax.grid(b=True, which='major', color='w', linewidth=1.2)\n",
    "ax.xaxis.grid(False)\n",
    "plt.tight_layout()\n",
    "plt.show()"
   ],
   "metadata": {
    "collapsed": false,
    "pycharm": {
     "name": "#%%\n"
    }
   }
  },
  {
   "cell_type": "markdown",
   "source": [
    "## 3. Type of source\n",
    "1. X: range_corr(lidar), attbsc(molecular). Y:LC\n",
    "> use_power = True\n",
    "> use_bg = False\n",
    "> source = all\n",
    "> dnorm = True\n",
    "> lr > 0.0001"
   ],
   "metadata": {
    "collapsed": false
   }
  },
  {
   "cell_type": "code",
   "execution_count": null,
   "outputs": [],
   "source": [
    "sources_res = total_results[(total_results.use_power &\n",
    "                             ~total_results.dnorm &\n",
    "                             ~total_results.use_bg)]\n",
    "sources_res = sources_res[total_results.lr==0.001]\n",
    "sources_res = sources_res[total_results.fc_size>4]\n",
    "\n",
    "fig, ax = plt.subplots(nrows=1, ncols=1, figsize=(7, 5))\n",
    "pd.pivot_table(sources_res,\n",
    "               values=['MARELoss'],\n",
    "               columns= ['source'],\n",
    "               index=['fc_size'],\n",
    "               aggfunc=np.mean).\\\n",
    "    plot(kind='bar',ax =ax, title='Testing different sources')\n",
    "ax.get_yaxis().set_minor_locator(mpl.ticker.AutoMinorLocator())\n",
    "ax.grid(b=True, which='minor', color='w', linewidth=0.8)\n",
    "ax.grid(b=True, which='major', color='w', linewidth=1.2)\n",
    "ax.xaxis.grid(False)\n",
    "plt.tight_layout()\n",
    "plt.show()\n",
    "\n",
    "\n",
    "fig, ax = plt.subplots(nrows=1, ncols=1, figsize=(7, 5))\n",
    "pd.pivot_table(sources_res,\n",
    "               values=['MARELoss'],\n",
    "               columns= ['source'],\n",
    "               index=['hsizes'],\n",
    "               aggfunc=np.mean).\\\n",
    "    plot(kind='bar',ax =ax, title='Testing different sources')\n",
    "ax.get_yaxis().set_minor_locator(mpl.ticker.AutoMinorLocator())\n",
    "ax.grid(b=True, which='minor', color='w', linewidth=0.8)\n",
    "ax.grid(b=True, which='major', color='w', linewidth=1.2)\n",
    "ax.xaxis.grid(False)\n",
    "plt.tight_layout()\n",
    "plt.show()"
   ],
   "metadata": {
    "collapsed": false,
    "pycharm": {
     "name": "#%%\n"
    }
   }
  },
  {
   "cell_type": "code",
   "execution_count": null,
   "outputs": [],
   "source": [],
   "metadata": {
    "collapsed": false,
    "pycharm": {
     "name": "#%%\n"
    }
   }
  },
  {
   "cell_type": "markdown",
   "source": [
    "## 3. Adding\n",
    "1. X: range_corr(lidar), attbsc(molecular). Y:LC\n",
    "> use_power = True\n",
    "> fc_size>4\n",
    "> source = lidar\n",
    "> dnorm = False\n",
    "> lr==0.001\n",
    "> pow_y = 0.5"
   ],
   "metadata": {
    "collapsed": false
   }
  },
  {
   "cell_type": "code",
   "execution_count": null,
   "outputs": [],
   "source": [
    "bg_res = total_results[total_results.source=='lidar']\n",
    "bg_res = bg_res[bg_res.use_power &\n",
    "                ~bg_res.dnorm ]\n",
    "bg_res = bg_res[bg_res.lr==0.001]\n",
    "bg_res = bg_res[bg_res.fc_size>4]\n",
    "\n",
    "\n",
    "#bg_res['pow_y'] = bg_res.powers.apply(lambda x: np.array(x[1])[0])\n",
    "#bg_res['pow_x'] = bg_res.powers.apply(lambda x: np.array(x[0]))\n",
    "#bg_res = bg_res[bg_res['pow_y']==0.5]\n",
    "\n",
    "#bg_res['pow_x1'] = [powx[0] for powx in bg_res['pow_x']]\n",
    "#bg_res['pow_x2'] = [powx[1] for powx in bg_res['pow_x']]\n",
    "#bg_res['pow_x3'] =[powx[2] if len(powx)==3 else None for powx in bg_res['pow_x']]\n",
    "\n",
    "\n",
    "\n",
    "#bg_res['pow_x'] = bg_res.pow_x.apply(lambda x: str(x))\n",
    "#bg_res['pow_y'] = bg_res.pow_y.apply(lambda x: str(x))"
   ],
   "metadata": {
    "collapsed": false,
    "pycharm": {
     "name": "#%%\n"
    }
   }
  },
  {
   "cell_type": "code",
   "execution_count": null,
   "outputs": [],
   "source": [
    "fig, ax = plt.subplots(nrows=1, ncols=1, figsize=(10, 7))\n",
    "pd.pivot_table(bg_res,\n",
    "               values=['MARELoss'],\n",
    "               #columns= ['pow_x2'],#'pow_x'],\n",
    "               index=['use_bg','note'],\n",
    "               aggfunc=np.mean).\\\n",
    "    plot(kind='bar',ax =ax, title=r'Testing additional channel of $<p_{bg}> $')\n",
    "ax.get_yaxis().set_minor_locator(mpl.ticker.AutoMinorLocator())\n",
    "ax.grid(b=True, which='minor', color='w', linewidth=0.8)\n",
    "ax.grid(b=True, which='major', color='w', linewidth=1.2)\n",
    "ax.xaxis.grid(False)\n",
    "plt.tight_layout()\n",
    "plt.show()"
   ],
   "metadata": {
    "collapsed": false,
    "pycharm": {
     "name": "#%%\n"
    }
   }
  },
  {
   "cell_type": "code",
   "execution_count": null,
   "outputs": [],
   "source": [
    "fig, ax = plt.subplots(nrows=1, ncols=1, figsize=(10, 7))\n",
    "pd.pivot_table(bg_res,\n",
    "               values=['MARELoss'],\n",
    "               columns= ['pow_x2','note'],\n",
    "               index=['use_bg'],\n",
    "               aggfunc=np.mean).\\\n",
    "    plot(kind='bar',ax =ax, title=r'Testing additional channel of $<p_{bg}> $')\n",
    "plt.tight_layout()\n",
    "\n",
    "ax.get_yaxis().set_minor_locator(mpl.ticker.AutoMinorLocator())\n",
    "ax.grid(b=True, which='minor', color='w', linewidth=0.8)\n",
    "ax.grid(b=True, which='major', color='w', linewidth=1.2)\n",
    "ax.xaxis.grid(False)\n",
    "plt.show()"
   ],
   "metadata": {
    "collapsed": false,
    "pycharm": {
     "name": "#%%\n"
    }
   }
  },
  {
   "cell_type": "code",
   "execution_count": null,
   "outputs": [],
   "source": [
    "fig, ax = plt.subplots(nrows=1, ncols=1, figsize=(10, 7))\n",
    "pd.pivot_table(bg_res[bg_res.pow_x2==-0.25],\n",
    "               values=['MARELoss'],\n",
    "               columns= ['pow_x3','note'],#'fc_size'],\n",
    "               index=['hsizes'],\n",
    "               aggfunc=np.mean).\\\n",
    "    plot(kind='bar',ax =ax, title=r'Testing power transform on additional channel of $<p_{bg}>$,$\\gamma_{x1}=0.5$, $\\gamma_{x2}=-0.25$')\n",
    "ax.get_yaxis().set_minor_locator(mpl.ticker.AutoMinorLocator())\n",
    "ax.grid(b=True, which='minor', color='w', linewidth=0.8)\n",
    "ax.grid(b=True, which='major', color='w', linewidth=1.2)\n",
    "ax.xaxis.grid(False)\n",
    "plt.tight_layout()\n",
    "plt.show()"
   ],
   "metadata": {
    "collapsed": false,
    "pycharm": {
     "name": "#%%\n"
    }
   }
  },
  {
   "cell_type": "code",
   "execution_count": null,
   "outputs": [],
   "source": [
    "fig, ax = plt.subplots(nrows=1, ncols=1, figsize=(10, 7))\n",
    "pd.pivot_table(bg_res[bg_res.use_bg][bg_res.pow_x3==1.0][bg_res.pow_x2==-0.25],\n",
    "               values=['MARELoss'],\n",
    "               columns= ['fc_size','note'],\n",
    "               index=['hsizes'],\n",
    "               aggfunc=np.min).\\\n",
    "    plot(kind='bar',ax =ax, title=r'Testing layers vs FC for $\\gamma_{x1}=0.5$, $\\gamma_{x2}=-0.25$, $\\gamma_{x3}=1$')\n",
    "ax.get_yaxis().set_minor_locator(mpl.ticker.AutoMinorLocator())\n",
    "ax.grid(b=True, which='minor', color='w', linewidth=0.8)\n",
    "ax.grid(b=True, which='major', color='w', linewidth=1.2)\n",
    "ax.xaxis.grid(False)\n",
    "plt.tight_layout()\n",
    "plt.show()"
   ],
   "metadata": {
    "collapsed": false,
    "pycharm": {
     "name": "#%%\n"
    }
   }
  },
  {
   "cell_type": "code",
   "execution_count": null,
   "outputs": [],
   "source": [
    "fig, ax = plt.subplots(nrows=1, ncols=1, figsize=(10, 7))\n",
    "pd.pivot_table(bg_res[bg_res.pow_x2==-0.25],\n",
    "               values=['MARELoss'],\n",
    "               columns= ['fc_size','use_bg','note'],\n",
    "               index=['hsizes'],\n",
    "               aggfunc=np.min).\\\n",
    "    plot(kind='bar',ax =ax, title=r'Testing layers vs FC for $\\gamma_{x1}=0.5$, $\\gamma_{x2}=-0.25$, $\\gamma_{x3}=1$')\n",
    "ax.get_yaxis().set_minor_locator(mpl.ticker.AutoMinorLocator())\n",
    "ax.grid(b=True, which='minor', color='w', linewidth=0.8)\n",
    "ax.grid(b=True, which='major', color='w', linewidth=1.2)\n",
    "ax.xaxis.grid(False)\n",
    "plt.tight_layout()\n",
    "plt.show()\n"
   ],
   "metadata": {
    "collapsed": false,
    "pycharm": {
     "name": "#%%\n"
    }
   }
  },
  {
   "cell_type": "code",
   "execution_count": null,
   "outputs": [],
   "source": [
    "fig, ax = plt.subplots(nrows=1, ncols=1, figsize=(10, 7))\n",
    "pd.pivot_table(bg_res[bg_res.pow_x3==1.0],\n",
    "               values=['MARELoss'],\n",
    "               columns= ['hsizes','fc_size'],\n",
    "               index=['pow_x2','note'],\n",
    "               aggfunc=np.mean).\\\n",
    "    plot(kind='bar',ax =ax, title=r'Testing power transform on second channel $\\gamma_{x1}=0.5$, $\\gamma_{x3}=1$')\n",
    "ax.get_yaxis().set_minor_locator(mpl.ticker.AutoMinorLocator())\n",
    "ax.grid(b=True, which='minor', color='w', linewidth=0.8)\n",
    "ax.grid(b=True, which='major', color='w', linewidth=1.2)\n",
    "ax.xaxis.grid(False)\n",
    "plt.legend( loc=\"lower center\")\n",
    "plt.tight_layout()\n",
    "plt.show()"
   ],
   "metadata": {
    "collapsed": false,
    "pycharm": {
     "name": "#%%\n"
    }
   }
  },
  {
   "cell_type": "markdown",
   "source": [
    "# Create a list of chec_points/experiments to restore (run from begining)"
   ],
   "metadata": {
    "collapsed": false,
    "pycharm": {
     "name": "#%% md\n"
    }
   }
  },
  {
   "cell_type": "code",
   "execution_count": null,
   "outputs": [],
   "source": [
    "\n",
    "\n",
    "\n",
    "\n",
    "\n",
    "\n",
    "# TODO: show figure of different power transform on bg only\n",
    "# TODO: show r^2 * pbg\n",
    "# TODO: onclude O(r)\n",
    "# TODO : a single FC\n"
   ],
   "metadata": {
    "collapsed": false,
    "pycharm": {
     "name": "#%%\n"
    }
   }
  }
 ],
 "metadata": {
  "kernelspec": {
   "name": "lidar",
   "language": "python",
   "display_name": "lidar"
  },
  "language_info": {
   "codemirror_mode": {
    "name": "ipython",
    "version": 2
   },
   "file_extension": ".py",
   "mimetype": "text/x-python",
   "name": "python",
   "nbconvert_exporter": "python",
   "pygments_lexer": "ipython2",
   "version": "2.7.6"
  }
 },
 "nbformat": 4,
 "nbformat_minor": 0
}