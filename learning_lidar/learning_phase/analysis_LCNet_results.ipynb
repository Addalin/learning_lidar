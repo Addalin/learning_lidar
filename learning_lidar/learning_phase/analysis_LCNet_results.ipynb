{
 "cells": [
  {
   "cell_type": "code",
   "execution_count": 1,
   "outputs": [
    {
     "ename": "AttributeError",
     "evalue": "module 'learning_lidar.utils.global_settings' has no attribute 'FIGURE_DPI'",
     "output_type": "error",
     "traceback": [
      "\u001B[1;31m---------------------------------------------------------------------------\u001B[0m",
      "\u001B[1;31mAttributeError\u001B[0m                            Traceback (most recent call last)",
      "\u001B[1;32m<ipython-input-1-23e032a12523>\u001B[0m in \u001B[0;36m<module>\u001B[1;34m\u001B[0m\n\u001B[0;32m     11\u001B[0m \u001B[0msns\u001B[0m\u001B[1;33m.\u001B[0m\u001B[0mset_palette\u001B[0m\u001B[1;33m(\u001B[0m\u001B[0msns\u001B[0m\u001B[1;33m.\u001B[0m\u001B[0mcolor_palette\u001B[0m\u001B[1;33m(\u001B[0m\u001B[1;34m\"tab10\"\u001B[0m\u001B[1;33m)\u001B[0m\u001B[1;33m)\u001B[0m\u001B[1;33m\u001B[0m\u001B[1;33m\u001B[0m\u001B[0m\n\u001B[0;32m     12\u001B[0m \u001B[1;33m\u001B[0m\u001B[0m\n\u001B[1;32m---> 13\u001B[1;33m \u001B[0mplt\u001B[0m\u001B[1;33m.\u001B[0m\u001B[0mrcParams\u001B[0m\u001B[1;33m[\u001B[0m\u001B[1;34m'figure.dpi'\u001B[0m\u001B[1;33m]\u001B[0m \u001B[1;33m=\u001B[0m \u001B[0mgs\u001B[0m\u001B[1;33m.\u001B[0m\u001B[0mFIGURE_DPI\u001B[0m\u001B[1;33m\u001B[0m\u001B[1;33m\u001B[0m\u001B[0m\n\u001B[0m\u001B[0;32m     14\u001B[0m \u001B[0mplt\u001B[0m\u001B[1;33m.\u001B[0m\u001B[0mrcParams\u001B[0m\u001B[1;33m[\u001B[0m\u001B[1;34m'savefig.dpi'\u001B[0m\u001B[1;33m]\u001B[0m \u001B[1;33m=\u001B[0m \u001B[0mgs\u001B[0m\u001B[1;33m.\u001B[0m\u001B[0mSAVEFIG_DPI\u001B[0m\u001B[1;33m\u001B[0m\u001B[1;33m\u001B[0m\u001B[0m\n\u001B[0;32m     15\u001B[0m \u001B[1;33m\u001B[0m\u001B[0m\n",
      "\u001B[1;31mAttributeError\u001B[0m: module 'learning_lidar.utils.global_settings' has no attribute 'FIGURE_DPI'"
     ]
    }
   ],
   "source": [
    "import glob\n",
    "import os\n",
    "\n",
    "import matplotlib as mpl\n",
    "import matplotlib.pyplot as plt\n",
    "import numpy as np\n",
    "import pandas as pd\n",
    "import seaborn as sns\n",
    "from ray import tune\n",
    "\n",
    "import learning_lidar.utils.vis_utils as vis_utils\n",
    "\n",
    "sns.set_palette(sns.color_palette(\"tab10\"))\n",
    "\n",
    "plt.rcParams['figure.dpi'] = vis_utils.FIGURE_DPI\n",
    "plt.rcParams['savefig.dpi'] = vis_utils.SAVEFIG_DPI\n",
    "\n",
    "sns.set_theme()\n",
    "sns.set_context(\"paper\", font_scale=1.5, rc={\"lines.linewidth\": 2.5})"
   ],
   "metadata": {
    "collapsed": false,
    "pycharm": {
     "name": "#%%\n"
    }
   }
  },
  {
   "cell_type": "code",
   "execution_count": null,
   "outputs": [],
   "source": [
    "def extract_powers(row, in_channels):\n",
    "    powers = eval(row['powers']) if type(row['powers'])==str else None\n",
    "    pow_y = np.array(powers[1])[0] if type(powers)==tuple else None\n",
    "    pow_x = np.array(powers[0]) if type(powers)==tuple else None\n",
    "    pow_xi = np.zeros(in_channels)\n",
    "    if type(pow_x)==np.ndarray:\n",
    "        for chan in range(in_channels):\n",
    "            pow_xi[chan] = pow_x[chan] if  (len(pow_x)>=chan+1) else None\n",
    "    else:\n",
    "        for chan in range(in_channels):\n",
    "            pow_xi[chan] = None\n",
    "    return [pow_y,*pow_xi]"
   ],
   "metadata": {
    "collapsed": false,
    "pycharm": {
     "name": "#%%\n"
    }
   }
  },
  {
   "cell_type": "code",
   "execution_count": null,
   "outputs": [],
   "source": [
    "base_folder = os.path.dirname(os.path.dirname(os.path.abspath(os.curdir)))\n",
    "results_folder = os.path.join(base_folder, 'results')"
   ],
   "metadata": {
    "collapsed": false,
    "pycharm": {
     "name": "#%% paths\n"
    }
   }
  },
  {
   "cell_type": "markdown",
   "source": [
    "# postprocessing LCNET results from jason state files saved in  `runs_board.xlsx`"
   ],
   "metadata": {
    "collapsed": false
   }
  },
  {
   "cell_type": "code",
   "execution_count": null,
   "outputs": [],
   "source": [
    "runs_df = pd.read_excel(os.path.join(results_folder,'runs_board.xlsx'))\n",
    "runs_df = runs_df[runs_df.include==True][runs_df.state!='PENDING']"
   ],
   "metadata": {
    "collapsed": false,
    "pycharm": {
     "name": "#%%\n"
    }
   }
  },
  {
   "cell_type": "code",
   "execution_count": null,
   "outputs": [],
   "source": [
    "for idx,row in runs_df.iterrows():\n",
    "    #row = runs_df.iloc[idx]\n",
    "    try:\n",
    "        state_fname = sorted(glob.glob(os.path.join( row.experiment_folder,r'experiment_state*.json')))[-1]\n",
    "        analysis = tune.ExperimentAnalysis(state_fname)\n",
    "        ignore_MARELoss = \"MARELoss\" in [row.field_to_ignore]\n",
    "        analysis.default_metric = \"MARELoss\" if ignore_MARELoss else \"MARELoss\"\n",
    "        analysis.default_mode=\"min\"\n",
    "        results_df = analysis.dataframe(metric=\"MARELoss\", mode=\"min\",)\n",
    "\n",
    "        # update fields:\n",
    "        if ignore_MARELoss:\n",
    "            results_df[\"MARELoss\"]=None\n",
    "\n",
    "        # rename column names:\n",
    "        cols = results_df.columns.values.tolist()\n",
    "        new_cols = [col.replace('config/',\"\") for col in cols]\n",
    "        dict_cols ={}\n",
    "        for col,new_col in zip(cols, new_cols):\n",
    "            dict_cols.update({col:new_col})\n",
    "        results_df = results_df.rename(columns= dict_cols)\n",
    "\n",
    "        # update power values:\n",
    "        len_pow = len(results_df[results_df.use_power==True])\n",
    "        len_no_pow = len(results_df[results_df.use_power==False])\n",
    "        len_pows = len(results_df[results_df.use_power !=False])\n",
    "        if len_no_pow>0:\n",
    "            results_df.loc[results_df[results_df.use_power==False].index,'powers']= ''\n",
    "        if len_pows!=len_pow:\n",
    "            results_df.loc[results_df[results_df.use_power!=False].index,'powers']=results_df.use_power\n",
    "            results_df.loc[results_df[results_df.use_power!=False].index,'use_power']=True\n",
    "        else:\n",
    "            results_df.loc[results_df[results_df.use_power==True].index,'powers']= '([0.5,0.5],[0.5])'\n",
    "\n",
    "        # Update Notes\n",
    "        note = row['note']\n",
    "        results_df['note']= note if type(note)==str else 'ok'\n",
    "\n",
    "        # drop irrelevant columns:\n",
    "        drop_cols = [ 'time_this_iter_s', 'should_checkpoint', 'done',\n",
    "                   'timesteps_total', 'episodes_total',\n",
    "                   'experiment_id',  'timestamp',  'pid', 'hostname',\n",
    "                   'node_ip', 'time_since_restore', 'timesteps_since_restore',\n",
    "                   'iterations_since_restore']\n",
    "        results_df.drop(columns=drop_cols,inplace=True)\n",
    "\n",
    "\n",
    "        # reorganize columns:\n",
    "        new_order = ['trial_id', 'date','time_total_s','training_iteration',\n",
    "                     'loss', 'MARELoss',\n",
    "                     'bsize', 'dfilter', 'dnorm','fc_size', 'hsizes', 'lr',\n",
    "                     'ltype', 'source', 'use_bg', 'use_power','powers','note','logdir']\n",
    "        results_df = results_df.reindex(columns=new_order)\n",
    "\n",
    "        # keep index trial (especially for cases when trails are ignored)\n",
    "        #results_df['idx']=results_df.index\n",
    "        #new_cols = ['idx']\n",
    "        #new_cols.extend(cols)\n",
    "        #results_df = results_df.reindex(columns=new_cols)\n",
    "\n",
    "        # remove irrelevant trials (e.g. when dnorm had wrong calculation)\n",
    "        if row.trial_to_ignore is not np.nan:\n",
    "            key,cond = eval(row.trial_to_ignore)\n",
    "            results_df.drop(index=results_df[results_df[key]==cond].index,inplace=True)\n",
    "\n",
    "        # save csv\n",
    "        results_csv = os.path.join(analysis._experiment_dir, f'experiment_results.csv')\n",
    "        results_df.to_csv(results_csv, index=False)\n",
    "\n",
    "        # update csv path in main runs_board\n",
    "        runs_df.loc[idx,'results_csv']=results_csv\n",
    "        print(results_csv,idx)\n",
    "\n",
    "    except:\n",
    "        continue\n",
    "# TODO: save runs_df with results_csv paths\n",
    "\n",
    "# %%\n",
    "\n",
    "#runs_df\n",
    "\n",
    "\n",
    "# %% concatante all csv files with include =1\n",
    "\n",
    "paths = [row['results_csv'] for idx,row in runs_df.iterrows()]\n",
    "results_dfs=[pd.read_csv(path) for path in paths]\n",
    "total_results = pd.concat(results_dfs,ignore_index=True)\n",
    "# %%\n",
    "total_results['fc_size'] = total_results.fc_size.apply(lambda x: eval(str(x))[0])\n",
    "# update powers\n",
    "in_channels = 3\n",
    "res= total_results.apply(extract_powers,args=(in_channels,), axis=1, result_type='expand')\n",
    "cols_powx = [f\"pow_x{ind+1}\" for ind in range(in_channels)]\n",
    "res.rename( columns={0:'pow_y',1:cols_powx[0],2:cols_powx[1],3:cols_powx[2]},inplace=True)\n",
    "total_results[res.columns.values] = res\n",
    "total_results['powers'] = total_results.powers.apply(lambda x: eval(x) if type(x)==str else None)\n",
    "\n",
    "# %%\n",
    "\n",
    "hsizes=total_results.hsizes.apply(lambda x: eval(x))\n",
    "total_results['u_hsize']=hsizes.apply(lambda x: all([(hi==x[0]) for hi in x])) # The test of changing the with at the last level , didn't show improvements"
   ],
   "metadata": {
    "collapsed": false,
    "pycharm": {
     "name": "#%%\n"
    }
   }
  },
  {
   "cell_type": "code",
   "execution_count": null,
   "outputs": [],
   "source": [
    "wavelengths=[]\n",
    "filtered = total_results.dfilter.apply(lambda x:type(x)==str)\n",
    "inds = total_results.dfilter[filtered].index\n",
    "for ind,f in enumerate(filtered):\n",
    "    if f:\n",
    "        [filter_by,filter_values] = eval(total_results.dfilter.iloc[ind])\n",
    "        if filter_by=='wavelength':\n",
    "            wavelength = tuple(filter_values) if len(filter_values)>1 else filter_values[0]\n",
    "        else:\n",
    "            wavelength = 'all'\n",
    "    else:\n",
    "        wavelength='all'\n",
    "    wavelengths.append(wavelength)\n",
    "\n",
    "total_results['wavelength'] = wavelengths\n"
   ],
   "metadata": {
    "collapsed": false,
    "pycharm": {
     "name": "#%%\n"
    }
   }
  },
  {
   "cell_type": "code",
   "execution_count": null,
   "outputs": [],
   "source": [
    "analyse_results = total_results[total_results.training_iteration>=1]\n",
    "#analyse_results = analyse_results[analyse_results.note=='ok']\n",
    "analyse_results = analyse_results[analyse_results.u_hsize]\n",
    "\n",
    "# %%\n",
    "configs= []\n",
    "use_bg = []\n",
    "for idx,row in analyse_results.iterrows():\n",
    "    hsize = eval(row.hsizes)[0]\n",
    "    fcsize = row.fc_size\n",
    "    if (hsize==4) and (fcsize==16):\n",
    "        configs.append('A')\n",
    "    elif (hsize==4) and (fcsize==32):\n",
    "        configs.append('B')\n",
    "    elif (hsize==5) and (fcsize==16):\n",
    "        configs.append('C')\n",
    "    elif (hsize==5) and (fcsize==32):\n",
    "        configs.append('D')\n",
    "    elif (hsize==6) and (fcsize==16):\n",
    "        configs.append('E')\n",
    "    elif (hsize==6) and (fcsize==32):\n",
    "        configs.append('F')\n",
    "    else:\n",
    "        configs.append('Other')\n",
    "\n",
    "    flag_bg = row.use_bg\n",
    "    if type(flag_bg)==str:\n",
    "        if flag_bg=='False' or flag_bg=='True':\n",
    "            use_bg.append(eval(flag_bg))\n",
    "        else :\n",
    "            use_bg.append(flag_bg)\n",
    "    else:\n",
    "        use_bg.append(flag_bg)\n",
    "\n",
    "analyse_results['config'] = configs\n",
    "analyse_results['use_bg'] = use_bg"
   ],
   "metadata": {
    "collapsed": false,
    "pycharm": {
     "name": "#%%\n"
    }
   }
  },
  {
   "cell_type": "markdown",
   "source": [
    "## 1. Choosing Learning rate\n",
    "1. X: range_corr(lidar), attbsc(molecular). Y:LC\n",
    "> use_normalization = False\n",
    "> use_power = True\n",
    "> source = lidar"
   ],
   "metadata": {
    "collapsed": false
   }
  },
  {
   "cell_type": "code",
   "execution_count": null,
   "outputs": [],
   "source": [
    "lidar_res = analyse_results#[analyse_results.source=='lidar' ]\n",
    "lidar_res = lidar_res[lidar_res.use_bg==False]\n",
    "pow_lidar = lidar_res[(~lidar_res.dnorm & lidar_res.use_power ) ]\n",
    "\n",
    "fig, ax = plt.subplots(nrows=1, ncols=1, figsize=(7, 5))\n",
    "pd.pivot_table(pow_lidar[pow_lidar.bsize==32][pow_lidar.fc_size>4],#[pow_lidar.note=='ok'],\n",
    "               values=['MARELoss'],\n",
    "               columns= ['lr'],\n",
    "               index=['source'],#'fc_size'],\n",
    "               aggfunc=np.min).\\\n",
    "    plot(kind='bar',ax =ax, title='Choosing learning Rate')\n",
    "ax.get_yaxis().set_minor_locator(mpl.ticker.AutoMinorLocator())\n",
    "ax.grid(b=True, which='minor', color='w', linewidth=0.8)\n",
    "ax.grid(b=True, which='major', color='w', linewidth=1.2)\n",
    "ax.xaxis.grid(False)\n",
    "ax.set_ylabel(r'Relative error $[\\%]$')\n",
    "plt.tight_layout()\n",
    "plt.show()"
   ],
   "metadata": {
    "collapsed": false,
    "pycharm": {
     "name": "#%%\n"
    }
   }
  },
  {
   "cell_type": "markdown",
   "source": [
    "## 2. FC vs. hidden sizes\n",
    "1. X: range_corr(lidar), attbsc(molecular). Y:LC\n",
    "> use_normalization = False\n",
    "> use_power = True\n",
    "> source = lidar\n",
    "> lr = 0.001 or lr = 0.005"
   ],
   "metadata": {
    "collapsed": false
   }
  },
  {
   "cell_type": "code",
   "execution_count": null,
   "outputs": [],
   "source": [
    "all_wav = analyse_results #[analyse_results.wavelength=='all']\n",
    "all_wavs_configABCD = all_wav[all_wav.config!='Other']"
   ],
   "metadata": {
    "collapsed": false,
    "pycharm": {
     "name": "#%%\n"
    }
   }
  },
  {
   "cell_type": "code",
   "execution_count": null,
   "outputs": [],
   "source": [
    "fig, ax = plt.subplots(nrows=1, ncols=1, figsize=(7, 5))\n",
    "\n",
    "pd.pivot_table(all_wavs_configABCD[all_wavs_configABCD.use_bg!=True][all_wavs_configABCD.use_bg!='range_corr'][all_wavs_configABCD.use_power!=False][all_wavs_configABCD.note=='initial_db'][all_wavs_configABCD.wavelength=='all'],\n",
    "               values=['MARELoss'],\n",
    "               columns= ['config'],\n",
    "               index=['pow_x1','pow_x2'],\n",
    "               aggfunc=np.mean).\\\n",
    "    plot(kind='bar',ax =ax, title='Average loss on initial database \\n Searching for an optimal power transform ')\n",
    "ax.get_yaxis().set_minor_locator(mpl.ticker.AutoMinorLocator())\n",
    "ax.grid(b=True, which='minor', color='w', linewidth=0.8)\n",
    "ax.grid(b=True, which='major', color='w', linewidth=1.2)\n",
    "ax.set_ylabel(r'Relative error $[\\%]$')\n",
    "ax.xaxis.grid(False)\n",
    "plt.tight_layout()\n",
    "plt.show()\n"
   ],
   "metadata": {
    "collapsed": false,
    "pycharm": {
     "name": "#%%\n"
    }
   }
  },
  {
   "cell_type": "code",
   "execution_count": null,
   "outputs": [],
   "source": [
    "fig, ax = plt.subplots(nrows=1, ncols=1, figsize=(7, 5))\n",
    "\n",
    "pd.pivot_table(all_wavs_configABCD[all_wavs_configABCD.use_bg!=True][all_wavs_configABCD.use_bg!='range_corr'][all_wavs_configABCD.note=='initial_db'][all_wavs_configABCD.wavelength=='all'],\n",
    "               values=['MARELoss'],\n",
    "               columns= ['config'],\n",
    "               index=['use_power'],\n",
    "               aggfunc=np.min).\\\n",
    "    plot(kind='bar',ax =ax, title='Minimal loss on initial database \\n Testing the contribution of power transform ')\n",
    "ax.get_yaxis().set_minor_locator(mpl.ticker.AutoMinorLocator())\n",
    "ax.grid(b=True, which='minor', color='w', linewidth=0.8)\n",
    "ax.grid(b=True, which='major', color='w', linewidth=1.2)\n",
    "ax.set_ylabel(r'Relative error $[\\%]$')\n",
    "ax.xaxis.grid(False)\n",
    "plt.tight_layout()\n",
    "plt.show()"
   ],
   "metadata": {
    "collapsed": false,
    "pycharm": {
     "name": "#%%\n"
    }
   }
  },
  {
   "cell_type": "code",
   "execution_count": null,
   "outputs": [],
   "source": [
    "fig, ax = plt.subplots(nrows=1, ncols=1, figsize=(7, 5))\n",
    "\n",
    "pd.pivot_table(all_wavs_configABCD[all_wavs_configABCD.use_bg==False][all_wavs_configABCD.note=='initial_db'],\n",
    "               values=['MARELoss'],\n",
    "               columns= ['config'],\n",
    "               index=['wavelength'],\n",
    "               aggfunc=np.mean).\\\n",
    "    plot(kind='bar',ax =ax, title='Average loss on initial database \\n Wavelengths separation comparison ')\n",
    "ax.get_yaxis().set_minor_locator(mpl.ticker.AutoMinorLocator())\n",
    "ax.grid(b=True, which='minor', color='w', linewidth=0.8)\n",
    "ax.grid(b=True, which='major', color='w', linewidth=1.2)\n",
    "ax.set_ylabel(r'Relative error $[\\%]$')\n",
    "ax.xaxis.grid(False)\n",
    "plt.tight_layout()\n",
    "plt.show()"
   ],
   "metadata": {
    "collapsed": false,
    "pycharm": {
     "name": "#%%\n"
    }
   }
  },
  {
   "cell_type": "code",
   "execution_count": null,
   "outputs": [],
   "source": [
    "fig, ax = plt.subplots(nrows=1, ncols=1, figsize=(11, 7))\n",
    "\n",
    "pd.pivot_table(all_wavs_configABCD[all_wavs_configABCD.use_bg==False]\n",
    "               [all_wavs_configABCD.note=='initial_db'][all_wavs_configABCD.wavelength!='all'],\n",
    "               values=['MARELoss'],\n",
    "               columns= ['config'],\n",
    "               index=['wavelength','pow_x1','pow_x2'],\n",
    "               aggfunc=np.min).\\\n",
    "    plot(kind='bar',ax =ax, title='Average loss on initial database \\n Searching for an optimal power transform ')\n",
    "ax.get_yaxis().set_minor_locator(mpl.ticker.AutoMinorLocator())\n",
    "ax.grid(b=True, which='minor', color='w', linewidth=0.8)\n",
    "ax.grid(b=True, which='major', color='w', linewidth=1.2)\n",
    "ax.set_ylabel(r'Relative error $[\\%]$')\n",
    "ax.xaxis.grid(False)\n",
    "plt.tight_layout()\n",
    "plt.show()"
   ],
   "metadata": {
    "collapsed": false,
    "pycharm": {
     "name": "#%%\n"
    }
   }
  },
  {
   "cell_type": "code",
   "execution_count": null,
   "outputs": [],
   "source": [
    "fig, ax = plt.subplots(nrows=1, ncols=1, figsize=(11, 7))\n",
    "\n",
    "pd.pivot_table(all_wavs_configABCD[all_wavs_configABCD.note=='initial_db'][all_wavs_configABCD.wavelength=='all'],\n",
    "               values=['MARELoss'],\n",
    "               columns= ['config'],\n",
    "               index=['use_bg'],\n",
    "               aggfunc=np.min).\\\n",
    "    plot(kind='bar',ax =ax, title='Minimal loss on initial database \\n Testing the background contribution.')\n",
    "ax.get_yaxis().set_minor_locator(mpl.ticker.AutoMinorLocator())\n",
    "ax.grid(b=True, which='minor', color='w', linewidth=0.8)\n",
    "ax.grid(b=True, which='major', color='w', linewidth=1.2)\n",
    "ax.set_ylabel(r'Relative error $[\\%]$')\n",
    "ax.set_ylim([0.0, 0.175])\n",
    "ax.xaxis.grid(False)\n",
    "plt.tight_layout()\n",
    "plt.show()"
   ],
   "metadata": {
    "collapsed": false,
    "pycharm": {
     "name": "#%%\n"
    }
   }
  },
  {
   "cell_type": "code",
   "execution_count": null,
   "outputs": [],
   "source": [
    "fig, ax = plt.subplots(nrows=1, ncols=1, figsize=(11, 7))\n",
    "\n",
    "pd.pivot_table(all_wavs_configABCD[all_wavs_configABCD.note=='initial_db'][all_wavs_configABCD.wavelength!='all'],\n",
    "               values=['MARELoss'],\n",
    "               columns= ['config'],\n",
    "               index=['use_bg'],\n",
    "               aggfunc=np.min).\\\n",
    "    plot(kind='bar',ax =ax, title='Minimal loss on initial database \\n Testing the background contribution, for wavelength separation')\n",
    "ax.get_yaxis().set_minor_locator(mpl.ticker.AutoMinorLocator())\n",
    "ax.grid(b=True, which='minor', color='w', linewidth=0.8)\n",
    "ax.grid(b=True, which='major', color='w', linewidth=1.2)\n",
    "ax.set_ylim([0.0, 0.175])\n",
    "ax.set_ylabel(r'Relative error $[\\%]$')\n",
    "ax.xaxis.grid(False)\n",
    "plt.tight_layout()\n",
    "plt.show()"
   ],
   "metadata": {
    "collapsed": false,
    "pycharm": {
     "name": "#%%\n"
    }
   }
  },
  {
   "cell_type": "code",
   "execution_count": null,
   "outputs": [],
   "source": [
    "fig, ax = plt.subplots(nrows=1, ncols=1, figsize=(13, 7))\n",
    "\n",
    "pd.pivot_table(all_wavs_configABCD[all_wavs_configABCD.note=='initial_db'][all_wavs_configABCD.wavelength!='all'],\n",
    "               values=['MARELoss'],\n",
    "               columns= ['config'],\n",
    "               index=['wavelength','use_bg'],\n",
    "               aggfunc=np.mean).\\\n",
    "    plot(kind='bar',ax =ax, title='Minimal loss on initial database \\n Testing the background contribution - separated wavelengths')\n",
    "ax.get_yaxis().set_minor_locator(mpl.ticker.AutoMinorLocator())\n",
    "ax.grid(b=True, which='minor', color='w', linewidth=0.8)\n",
    "ax.grid(b=True, which='major', color='w', linewidth=1.2)\n",
    "ax.set_ylabel(r'Relative error $[\\%]$')\n",
    "ax.xaxis.grid(False)\n",
    "plt.tight_layout()\n",
    "plt.show()\n"
   ],
   "metadata": {
    "collapsed": false,
    "pycharm": {
     "name": "#%%\n"
    }
   }
  },
  {
   "cell_type": "code",
   "execution_count": null,
   "outputs": [],
   "source": [
    "#wavelength =532\n",
    "for wavelength in [355,532,1064]:\n",
    "    fig, ax = plt.subplots(nrows=1, ncols=1, figsize=(11, 7))\n",
    "\n",
    "    pd.pivot_table(all_wavs_configABCD[all_wavs_configABCD.note=='initial_db']\n",
    "                   [all_wavs_configABCD.wavelength==wavelength],\n",
    "                   values=['MARELoss'],\n",
    "                   columns= ['config'],\n",
    "                   index=['use_bg', 'pow_x2','pow_x3'],\n",
    "                   aggfunc=np.min).\\\n",
    "        plot(kind='bar',ax =ax, title=f'Minimal loss on initial database \\n'+fr'Testing the background contribution - ${wavelength}[\\rm nm]$')\n",
    "    ax.get_yaxis().set_minor_locator(mpl.ticker.AutoMinorLocator())\n",
    "    ax.grid(b=True, which='minor', color='w', linewidth=0.8)\n",
    "    ax.grid(b=True, which='major', color='w', linewidth=1.2)\n",
    "    ax.set_ylabel(r'Relative error $[\\%]$')\n",
    "    ax.xaxis.grid(False)\n",
    "    ax.set_ylim([0.0, 0.2])\n",
    "    plt.tight_layout()\n",
    "    plt.show()"
   ],
   "metadata": {
    "collapsed": false,
    "pycharm": {
     "name": "#%%\n"
    }
   }
  },
  {
   "cell_type": "code",
   "execution_count": null,
   "outputs": [],
   "source": [],
   "metadata": {
    "collapsed": false,
    "pycharm": {
     "name": "#%%\n"
    }
   }
  },
  {
   "cell_type": "code",
   "execution_count": null,
   "outputs": [],
   "source": [
    "fig, ax = plt.subplots(nrows=1, ncols=1, figsize=(7, 5))\n",
    "\n",
    "pd.pivot_table(all_wavs_configABCD[all_wavs_configABCD.use_bg!=True][all_wavs_configABCD.use_bg!='range_corr']\n",
    "               [all_wavs_configABCD.note=='extended_db'][all_wavs_configABCD.wavelength=='all'],\n",
    "               values=['MARELoss'],\n",
    "               columns= ['config'],\n",
    "               index=['use_power'],\n",
    "               aggfunc=np.min).\\\n",
    "    plot(kind='bar',ax =ax, title='Minimal loss on initial database \\n Testing the contribution of power transform ')\n",
    "ax.get_yaxis().set_minor_locator(mpl.ticker.AutoMinorLocator())\n",
    "ax.grid(b=True, which='minor', color='w', linewidth=0.8)\n",
    "ax.grid(b=True, which='major', color='w', linewidth=1.2)\n",
    "ax.set_ylabel(r'Relative error $[\\%]$')\n",
    "ax.xaxis.grid(False)\n",
    "plt.tight_layout()\n",
    "plt.show()"
   ],
   "metadata": {
    "collapsed": false,
    "pycharm": {
     "name": "#%%\n"
    }
   }
  },
  {
   "cell_type": "code",
   "execution_count": null,
   "outputs": [],
   "source": [
    "fig, ax = plt.subplots(nrows=1, ncols=1, figsize=(7, 5))\n",
    "\n",
    "pd.pivot_table(all_wavs_configABCD[all_wavs_configABCD.use_bg==False]\n",
    "               [all_wavs_configABCD.note=='extended_db'],\n",
    "               values=['MARELoss'],\n",
    "               columns= ['config'],\n",
    "               index=['wavelength'],\n",
    "               aggfunc=np.min).\\\n",
    "    plot(kind='bar',ax =ax, title='Average loss on the extended database \\n Wavelengths separation comparison ')\n",
    "ax.get_yaxis().set_minor_locator(mpl.ticker.AutoMinorLocator())\n",
    "ax.grid(b=True, which='minor', color='w', linewidth=0.8)\n",
    "ax.grid(b=True, which='major', color='w', linewidth=1.2)\n",
    "ax.set_ylabel(r'Relative error $[\\%]$')\n",
    "ax.xaxis.grid(False)\n",
    "plt.tight_layout()\n",
    "plt.show()"
   ],
   "metadata": {
    "collapsed": false,
    "pycharm": {
     "name": "#%%\n"
    }
   }
  },
  {
   "cell_type": "code",
   "execution_count": null,
   "outputs": [],
   "source": [
    "fig, ax = plt.subplots(nrows=1, ncols=1, figsize=(7, 5))\n",
    "\n",
    "pd.pivot_table(all_wavs_configABCD[all_wavs_configABCD.use_bg==False][all_wavs_configABCD.note=='extended_db'],\n",
    "               values=['MARELoss'],\n",
    "               columns= ['config'],\n",
    "               index=['wavelength','use_power'],\n",
    "               aggfunc=np.min).\\\n",
    "    plot(kind='bar',ax =ax, title='Minimal loss on the extended database \\n Testing wavelengths separation')\n",
    "ax.get_yaxis().set_minor_locator(mpl.ticker.AutoMinorLocator())\n",
    "ax.grid(b=True, which='minor', color='w', linewidth=0.8)\n",
    "ax.grid(b=True, which='major', color='w', linewidth=1.2)\n",
    "ax.set_ylabel(r'Relative error $[\\%]$')\n",
    "ax.xaxis.grid(False)\n",
    "plt.tight_layout()\n",
    "plt.show()"
   ],
   "metadata": {
    "collapsed": false,
    "pycharm": {
     "name": "#%%\n"
    }
   }
  },
  {
   "cell_type": "code",
   "execution_count": null,
   "outputs": [],
   "source": [
    "fig, ax = plt.subplots(nrows=1, ncols=1, figsize=(11, 7))\n",
    "\n",
    "pd.pivot_table(all_wavs_configABCD[all_wavs_configABCD.use_bg==False]\n",
    "               [all_wavs_configABCD.note=='extended_db'][all_wavs_configABCD.wavelength!='all'],\n",
    "               values=['MARELoss'],\n",
    "               columns= ['config'],\n",
    "               index=['wavelength','pow_x1','pow_x2'],\n",
    "               aggfunc=np.min).\\\n",
    "    plot(kind='bar',ax =ax, title='Minimal loss on extended database \\n Searching for an optimal power transform ')\n",
    "ax.get_yaxis().set_minor_locator(mpl.ticker.AutoMinorLocator())\n",
    "ax.grid(b=True, which='minor', color='w', linewidth=0.8)\n",
    "ax.grid(b=True, which='major', color='w', linewidth=1.2)\n",
    "ax.set_ylabel(r'Relative error $[\\%]$')\n",
    "ax.xaxis.grid(False)\n",
    "plt.tight_layout()\n",
    "plt.show()"
   ],
   "metadata": {
    "collapsed": false,
    "pycharm": {
     "name": "#%%\n"
    }
   }
  },
  {
   "cell_type": "code",
   "execution_count": null,
   "outputs": [],
   "source": [
    "all_wavs_configABCD[all_wavs_configABCD.wavelength==532][all_wavs_configABCD.use_bg==False].note"
   ],
   "metadata": {
    "collapsed": false,
    "pycharm": {
     "name": "#%%\n"
    }
   }
  },
  {
   "cell_type": "code",
   "execution_count": null,
   "outputs": [],
   "source": [
    "for wavelength in [355,532,1064]:\n",
    "    fig, ax = plt.subplots(nrows=1, ncols=1, figsize=(11, 9))\n",
    "    pd.pivot_table(all_wavs_configABCD[all_wavs_configABCD.use_bg==False][all_wavs_configABCD.wavelength==wavelength],\n",
    "                   values=['MARELoss'],\n",
    "                   columns= ['config'],\n",
    "                   index=['pow_x1','pow_x2','note'],\n",
    "                   aggfunc=np.mean).\\\n",
    "        plot(kind='bar',ax =ax, title=f'Minimal loss on extended database \\n Testing 1st model - '+ fr'${wavelength}[\\rm nm]$' )\n",
    "    ax.get_yaxis().set_minor_locator(mpl.ticker.AutoMinorLocator())\n",
    "    ax.grid(b=True, which='minor', color='w', linewidth=0.8)\n",
    "    ax.grid(b=True, which='major', color='w', linewidth=1.2)\n",
    "    ax.set_ylabel(r'Relative error $[\\%]$')\n",
    "    ax.xaxis.grid(False)\n",
    "    plt.tight_layout()\n",
    "    plt.show()"
   ],
   "metadata": {
    "collapsed": false,
    "pycharm": {
     "name": "#%%\n"
    }
   }
  },
  {
   "cell_type": "code",
   "execution_count": null,
   "outputs": [],
   "source": [
    "fig, ax = plt.subplots(nrows=1, ncols=1, figsize=(11, 7))\n",
    "\n",
    "pd.pivot_table(all_wavs_configABCD[all_wavs_configABCD.note=='extended_db']\n",
    "               [all_wavs_configABCD.wavelength!='all'],\n",
    "               values=['MARELoss'],\n",
    "               columns= ['config'],\n",
    "               index=['use_bg'],\n",
    "               aggfunc=np.min).\\\n",
    "    plot(kind='bar',ax =ax, title='Minimal loss on extended database \\n Testing the background contribution - separated wavelengths')\n",
    "ax.get_yaxis().set_minor_locator(mpl.ticker.AutoMinorLocator())\n",
    "ax.grid(b=True, which='minor', color='w', linewidth=0.8)\n",
    "ax.grid(b=True, which='major', color='w', linewidth=1.2)\n",
    "ax.set_ylabel(r'Relative error $[\\%]$')\n",
    "ax.xaxis.grid(False)\n",
    "plt.tight_layout()\n",
    "plt.show()"
   ],
   "metadata": {
    "collapsed": false,
    "pycharm": {
     "name": "#%%\n"
    }
   }
  },
  {
   "cell_type": "code",
   "execution_count": null,
   "outputs": [],
   "source": [
    "for wavelength in [355,532,1064]:\n",
    "    fig, ax = plt.subplots(nrows=1, ncols=1, figsize=(11, 9))\n",
    "    pd.pivot_table(all_wavs_configABCD[all_wavs_configABCD.wavelength==wavelength],\n",
    "                   values=['MARELoss'],\n",
    "                   columns= ['config'],\n",
    "                   index=['use_bg', 'note','use_power'],\n",
    "                   aggfunc=np.min).\\\n",
    "        plot(kind='bar',ax =ax, title=f'Minimal loss on extended database \\n Testing 2nd model - '+ fr'${wavelength}[\\rm nm]$' )\n",
    "    ax.get_yaxis().set_minor_locator(mpl.ticker.AutoMinorLocator())\n",
    "    ax.grid(b=True, which='minor', color='w', linewidth=0.8)\n",
    "    ax.grid(b=True, which='major', color='w', linewidth=1.2)\n",
    "    ax.set_ylabel(r'Relative error $[\\%]$')\n",
    "    ax.xaxis.grid(False)\n",
    "    ax.set_ylim([0.0, 0.2])\n",
    "    plt.tight_layout()\n",
    "    plt.show()\n"
   ],
   "metadata": {
    "collapsed": false,
    "pycharm": {
     "name": "#%%\n"
    }
   }
  },
  {
   "cell_type": "code",
   "execution_count": null,
   "outputs": [],
   "source": [
    "for wavelength in [355,532,1064]:\n",
    "    fig, ax = plt.subplots(nrows=1, ncols=1, figsize=(11, 7))\n",
    "\n",
    "    pd.pivot_table(all_wavs_configABCD[all_wavs_configABCD.note=='extended_db']\n",
    "                   [all_wavs_configABCD.wavelength==wavelength],\n",
    "                   values=['MARELoss'],\n",
    "                   columns= ['config'],\n",
    "                   index=['use_bg', 'pow_x2','pow_x3'],\n",
    "                   aggfunc=np.min).\\\n",
    "        plot(kind='bar',ax =ax, title=f'Minimal loss on extended database \\n'+fr'Testing the background contribution - ${wavelength}[\\rm nm]$')\n",
    "    ax.get_yaxis().set_minor_locator(mpl.ticker.AutoMinorLocator())\n",
    "    ax.grid(b=True, which='minor', color='w', linewidth=0.8)\n",
    "    ax.grid(b=True, which='major', color='w', linewidth=1.2)\n",
    "    ax.set_ylabel(r'Relative error $[\\%]$')\n",
    "    ax.xaxis.grid(False)\n",
    "    ax.set_ylim([0.0, 0.2])\n",
    "    plt.tight_layout()\n",
    "    plt.show()"
   ],
   "metadata": {
    "collapsed": false,
    "pycharm": {
     "name": "#%%\n"
    }
   }
  },
  {
   "cell_type": "code",
   "execution_count": null,
   "outputs": [],
   "source": [
    "fig, ax = plt.subplots(nrows=1, ncols=1, figsize=(15, 10))\n",
    "\n",
    "pd.pivot_table(all_wavs_configABCD[all_wavs_configABCD.use_power==False],\n",
    "               values=['MARELoss'],\n",
    "               columns= ['config'],\n",
    "               index=['wavelength','note'],#'use_bg'],\n",
    "               aggfunc=np.min).\\\n",
    "    plot(kind='bar',ax =ax, title='Minimal loss on the extended database \\n Testing results without power transform')\n",
    "ax.get_yaxis().set_minor_locator(mpl.ticker.AutoMinorLocator())\n",
    "ax.grid(b=True, which='minor', color='w', linewidth=0.8)\n",
    "ax.grid(b=True, which='major', color='w', linewidth=1.2)\n",
    "ax.set_ylabel(r'Relative error $[\\%]$')\n",
    "ax.xaxis.grid(False)\n",
    "plt.tight_layout()\n",
    "plt.show()"
   ],
   "metadata": {
    "collapsed": false,
    "pycharm": {
     "name": "#%%\n"
    }
   }
  }
 ],
 "metadata": {
  "kernelspec": {
   "name": "lidar",
   "language": "python",
   "display_name": "lidar"
  },
  "language_info": {
   "codemirror_mode": {
    "name": "ipython",
    "version": 2
   },
   "file_extension": ".py",
   "mimetype": "text/x-python",
   "name": "python",
   "nbconvert_exporter": "python",
   "pygments_lexer": "ipython2",
   "version": "2.7.6"
  }
 },
 "nbformat": 4,
 "nbformat_minor": 0
}