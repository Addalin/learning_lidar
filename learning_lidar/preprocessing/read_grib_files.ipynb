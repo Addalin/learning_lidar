{
 "cells": [
  {
   "cell_type": "markdown",
   "source": [
    "Use API to download data\n",
    "\n",
    "[See insallation instructions](https://cds.climate.copernicus.eu/api-how-to)"
   ],
   "metadata": {
    "collapsed": false,
    "pycharm": {
     "name": "#%% md\n"
    }
   }
  },
  {
   "cell_type": "code",
   "execution_count": null,
   "metadata": {
    "collapsed": true,
    "pycharm": {
     "name": "#%%\n"
    }
   },
   "outputs": [],
   "source": [
    "\n",
    "import cdsapi\n",
    "\n",
    "c = cdsapi.Client()\n",
    "\n",
    "c.retrieve(\n",
    "    'reanalysis-era5-pressure-levels',\n",
    "    {\n",
    "        'product_type': 'reanalysis',\n",
    "        'variable': [\n",
    "            'relative_humidity', 'temperature',\n",
    "        ],\n",
    "        'pressure_level': [\n",
    "            '1', '2', '3',\n",
    "            '5', '7', '10',\n",
    "            '20', '30', '50',\n",
    "            '70', '100', '125',\n",
    "            '150', '175', '200',\n",
    "            '225', '250', '300',\n",
    "            '350', '400', '450',\n",
    "            '500', '550', '600',\n",
    "            '650', '700', '750',\n",
    "            '775', '800', '825',\n",
    "            '850', '875', '900',\n",
    "            '925', '950', '975',\n",
    "            '1000',\n",
    "        ],\n",
    "        'year': '2017',\n",
    "        'month': [\n",
    "            '01',\n",
    "        ],\n",
    "        'day': [\n",
    "            '01', '02', '03',\n",
    "            '04', '05', '06',\n",
    "            '07',\n",
    "        ],\n",
    "        'time': [\n",
    "            '00:00', '01:00', '02:00',\n",
    "            '03:00', '04:00', '05:00',\n",
    "            '06:00', '07:00', '08:00',\n",
    "            '09:00', '10:00', '11:00',\n",
    "            '12:00', '13:00', '14:00',\n",
    "            '15:00', '16:00', '17:00',\n",
    "            '18:00', '19:00', '20:00',\n",
    "            '21:00', '22:00', '23:00',\n",
    "        ],\n",
    "        'area': [\n",
    "            32.8, 34.98, 32.79,\n",
    "            34.99,\n",
    "        ],\n",
    "        'format': 'grib',\n",
    "    },\n",
    "    'download.grib')"
   ]
  },
  {
   "cell_type": "markdown",
   "source": [
    " Use [pygrib](https://github.com/jswhit/pygrib) to read the file\n",
    "\n",
    "Install with\n",
    "`conda install -c conda-forge pygrib`\n"
   ],
   "metadata": {
    "collapsed": false,
    "pycharm": {
     "name": "#%% md\n"
    }
   }
  },
  {
   "cell_type": "code",
   "execution_count": 3,
   "outputs": [],
   "source": [
    "import pygrib\n",
    "from datetime import datetime\n",
    "\n",
    "f = pygrib.open('/home/shubi/PycharmProjects/learning_lidar/download.grib')\n",
    "# f.rewind( )"
   ],
   "metadata": {
    "collapsed": false,
    "pycharm": {
     "name": "#%%\n"
    }
   }
  },
  {
   "cell_type": "code",
   "execution_count": 9,
   "outputs": [
    {
     "name": "stdout",
     "output_type": "stream",
     "text": [
      "1:Relative humidity:% (instant):regular_ll:isobaricInhPa:level 1:fcst time 0 hrs:from 201709010000 0.0003794594667851925\n",
      "2:Temperature:K (instant):regular_ll:isobaricInhPa:level 1:fcst time 0 hrs:from 201709010000 -15.974462890624977\n",
      "3:Relative humidity:% (instant):regular_ll:isobaricInhPa:level 2:fcst time 0 hrs:from 201709010000 0.0005878861993551254\n",
      "4:Temperature:K (instant):regular_ll:isobaricInhPa:level 2:fcst time 0 hrs:from 201709010000 -13.571630859374977\n",
      "5:Relative humidity:% (instant):regular_ll:isobaricInhPa:level 3:fcst time 0 hrs:from 201709010000 0.0022718855179846287\n",
      "6:Temperature:K (instant):regular_ll:isobaricInhPa:level 3:fcst time 0 hrs:from 201709010000 -23.517492675781227\n",
      "7:Relative humidity:% (instant):regular_ll:isobaricInhPa:level 5:fcst time 0 hrs:from 201709010000 0.013360939919948578\n",
      "8:Temperature:K (instant):regular_ll:isobaricInhPa:level 5:fcst time 0 hrs:from 201709010000 -35.701010131835915\n",
      "9:Relative humidity:% (instant):regular_ll:isobaricInhPa:level 7:fcst time 0 hrs:from 201709010000 0.035723231732845306\n",
      "10:Temperature:K (instant):regular_ll:isobaricInhPa:level 7:fcst time 0 hrs:from 201709010000 -42.1380676269531\n",
      "11:Relative humidity:% (instant):regular_ll:isobaricInhPa:level 10:fcst time 0 hrs:from 201709010000 0.08291006088256836\n",
      "12:Temperature:K (instant):regular_ll:isobaricInhPa:level 10:fcst time 0 hrs:from 201709010000 -46.49970092773435\n",
      "13:Relative humidity:% (instant):regular_ll:isobaricInhPa:level 20:fcst time 0 hrs:from 201709010000 0.29017794132232666\n",
      "14:Temperature:K (instant):regular_ll:isobaricInhPa:level 20:fcst time 0 hrs:from 201709010000 -51.39310302734373\n",
      "15:Relative humidity:% (instant):regular_ll:isobaricInhPa:level 30:fcst time 0 hrs:from 201709010000 0.7520613074302673\n",
      "16:Temperature:K (instant):regular_ll:isobaricInhPa:level 30:fcst time 0 hrs:from 201709010000 -56.02629699707029\n",
      "17:Relative humidity:% (instant):regular_ll:isobaricInhPa:level 50:fcst time 0 hrs:from 201709010000 3.3262128829956055\n",
      "18:Temperature:K (instant):regular_ll:isobaricInhPa:level 50:fcst time 0 hrs:from 201709010000 -63.55527343749998\n",
      "19:Relative humidity:% (instant):regular_ll:isobaricInhPa:level 70:fcst time 0 hrs:from 201709010000 12.646352767944336\n",
      "20:Temperature:K (instant):regular_ll:isobaricInhPa:level 70:fcst time 0 hrs:from 201709010000 -69.50902404785154\n",
      "21:Relative humidity:% (instant):regular_ll:isobaricInhPa:level 100:fcst time 0 hrs:from 201709010000 34.21844482421875\n",
      "22:Temperature:K (instant):regular_ll:isobaricInhPa:level 100:fcst time 0 hrs:from 201709010000 -73.33371582031248\n",
      "23:Relative humidity:% (instant):regular_ll:isobaricInhPa:level 125:fcst time 0 hrs:from 201709010000 19.399810791015625\n",
      "24:Temperature:K (instant):regular_ll:isobaricInhPa:level 125:fcst time 0 hrs:from 201709010000 -69.02648010253904\n",
      "25:Relative humidity:% (instant):regular_ll:isobaricInhPa:level 150:fcst time 0 hrs:from 201709010000 11.679566383361816\n",
      "26:Temperature:K (instant):regular_ll:isobaricInhPa:level 150:fcst time 0 hrs:from 201709010000 -62.06194152832029\n",
      "27:Relative humidity:% (instant):regular_ll:isobaricInhPa:level 175:fcst time 0 hrs:from 201709010000 9.745536804199219\n",
      "28:Temperature:K (instant):regular_ll:isobaricInhPa:level 175:fcst time 0 hrs:from 201709010000 -54.196920776367165\n",
      "29:Relative humidity:% (instant):regular_ll:isobaricInhPa:level 200:fcst time 0 hrs:from 201709010000 9.195358276367188\n",
      "30:Temperature:K (instant):regular_ll:isobaricInhPa:level 200:fcst time 0 hrs:from 201709010000 -47.263082885742165\n",
      "31:Relative humidity:% (instant):regular_ll:isobaricInhPa:level 225:fcst time 0 hrs:from 201709010000 6.998920440673828\n",
      "32:Temperature:K (instant):regular_ll:isobaricInhPa:level 225:fcst time 0 hrs:from 201709010000 -40.6662658691406\n",
      "33:Relative humidity:% (instant):regular_ll:isobaricInhPa:level 250:fcst time 0 hrs:from 201709010000 9.245827674865723\n",
      "34:Temperature:K (instant):regular_ll:isobaricInhPa:level 250:fcst time 0 hrs:from 201709010000 -35.18582763671873\n",
      "35:Relative humidity:% (instant):regular_ll:isobaricInhPa:level 300:fcst time 0 hrs:from 201709010000 1.8213586807250977\n",
      "36:Temperature:K (instant):regular_ll:isobaricInhPa:level 300:fcst time 0 hrs:from 201709010000 -25.231817626953102\n",
      "37:Relative humidity:% (instant):regular_ll:isobaricInhPa:level 350:fcst time 0 hrs:from 201709010000 1.0460872650146484\n",
      "38:Temperature:K (instant):regular_ll:isobaricInhPa:level 350:fcst time 0 hrs:from 201709010000 -18.26640930175779\n",
      "39:Relative humidity:% (instant):regular_ll:isobaricInhPa:level 400:fcst time 0 hrs:from 201709010000 2.958621025085449\n",
      "40:Temperature:K (instant):regular_ll:isobaricInhPa:level 400:fcst time 0 hrs:from 201709010000 -16.160498046874977\n",
      "41:Relative humidity:% (instant):regular_ll:isobaricInhPa:level 450:fcst time 0 hrs:from 201709010000 3.846604347229004\n",
      "42:Temperature:K (instant):regular_ll:isobaricInhPa:level 450:fcst time 0 hrs:from 201709010000 -11.339697265624977\n",
      "43:Relative humidity:% (instant):regular_ll:isobaricInhPa:level 500:fcst time 0 hrs:from 201709010000 4.346755027770996\n",
      "44:Temperature:K (instant):regular_ll:isobaricInhPa:level 500:fcst time 0 hrs:from 201709010000 -6.070410156249977\n",
      "45:Relative humidity:% (instant):regular_ll:isobaricInhPa:level 550:fcst time 0 hrs:from 201709010000 4.836474418640137\n",
      "46:Temperature:K (instant):regular_ll:isobaricInhPa:level 550:fcst time 0 hrs:from 201709010000 -1.2212890624999773\n",
      "47:Relative humidity:% (instant):regular_ll:isobaricInhPa:level 600:fcst time 0 hrs:from 201709010000 5.271353721618652\n",
      "48:Temperature:K (instant):regular_ll:isobaricInhPa:level 600:fcst time 0 hrs:from 201709010000 3.4696289062500227\n",
      "49:Relative humidity:% (instant):regular_ll:isobaricInhPa:level 650:fcst time 0 hrs:from 201709010000 8.033108711242676\n",
      "50:Temperature:K (instant):regular_ll:isobaricInhPa:level 650:fcst time 0 hrs:from 201709010000 6.955712890625023\n",
      "51:Relative humidity:% (instant):regular_ll:isobaricInhPa:level 700:fcst time 0 hrs:from 201709010000 11.392515182495117\n",
      "52:Temperature:K (instant):regular_ll:isobaricInhPa:level 700:fcst time 0 hrs:from 201709010000 10.279443359375023\n",
      "53:Relative humidity:% (instant):regular_ll:isobaricInhPa:level 750:fcst time 0 hrs:from 201709010000 6.569757461547852\n",
      "54:Temperature:K (instant):regular_ll:isobaricInhPa:level 750:fcst time 0 hrs:from 201709010000 14.465478515625023\n",
      "55:Relative humidity:% (instant):regular_ll:isobaricInhPa:level 775:fcst time 0 hrs:from 201709010000 5.342114448547363\n",
      "56:Temperature:K (instant):regular_ll:isobaricInhPa:level 775:fcst time 0 hrs:from 201709010000 16.058496093750023\n",
      "57:Relative humidity:% (instant):regular_ll:isobaricInhPa:level 800:fcst time 0 hrs:from 201709010000 8.06884765625\n",
      "58:Temperature:K (instant):regular_ll:isobaricInhPa:level 800:fcst time 0 hrs:from 201709010000 16.858544921875023\n",
      "59:Relative humidity:% (instant):regular_ll:isobaricInhPa:level 825:fcst time 0 hrs:from 201709010000 19.984603881835938\n",
      "60:Temperature:K (instant):regular_ll:isobaricInhPa:level 825:fcst time 0 hrs:from 201709010000 17.171044921875023\n",
      "61:Relative humidity:% (instant):regular_ll:isobaricInhPa:level 850:fcst time 0 hrs:from 201709010000 57.50860595703125\n",
      "62:Temperature:K (instant):regular_ll:isobaricInhPa:level 850:fcst time 0 hrs:from 201709010000 16.233056640625023\n",
      "63:Relative humidity:% (instant):regular_ll:isobaricInhPa:level 875:fcst time 0 hrs:from 201709010000 91.91036987304688\n",
      "64:Temperature:K (instant):regular_ll:isobaricInhPa:level 875:fcst time 0 hrs:from 201709010000 16.215234375000023\n",
      "65:Relative humidity:% (instant):regular_ll:isobaricInhPa:level 900:fcst time 0 hrs:from 201709010000 88.19235229492188\n",
      "66:Temperature:K (instant):regular_ll:isobaricInhPa:level 900:fcst time 0 hrs:from 201709010000 18.333642578125023\n",
      "67:Relative humidity:% (instant):regular_ll:isobaricInhPa:level 925:fcst time 0 hrs:from 201709010000 85.13705444335938\n",
      "68:Temperature:K (instant):regular_ll:isobaricInhPa:level 925:fcst time 0 hrs:from 201709010000 20.195947265625023\n",
      "69:Relative humidity:% (instant):regular_ll:isobaricInhPa:level 950:fcst time 0 hrs:from 201709010000 76.55511474609375\n",
      "70:Temperature:K (instant):regular_ll:isobaricInhPa:level 950:fcst time 0 hrs:from 201709010000 22.493554687500023\n",
      "71:Relative humidity:% (instant):regular_ll:isobaricInhPa:level 975:fcst time 0 hrs:from 201709010000 69.98367309570312\n",
      "72:Temperature:K (instant):regular_ll:isobaricInhPa:level 975:fcst time 0 hrs:from 201709010000 24.615869140625023\n",
      "73:Relative humidity:% (instant):regular_ll:isobaricInhPa:level 1000:fcst time 0 hrs:from 201709010000 66.93865966796875\n",
      "74:Temperature:K (instant):regular_ll:isobaricInhPa:level 1000:fcst time 0 hrs:from 201709010000 26.447656250000023\n"
     ]
    }
   ],
   "source": [
    "f.rewind()\n",
    "for grb in f:\n",
    "    date_valid = datetime(2017,9,1,hour=0)\n",
    "    if grb.validDate == date_valid:#  and grb.level == 2:\n",
    "        if grb.parameterName == 'Temperature':\n",
    "            # convert from Kelvin to Celsius\n",
    "            val = grb.values - 273.15\n",
    "        else:\n",
    "            val = grb.values\n",
    "        print(grb, val)"
   ],
   "metadata": {
    "collapsed": false,
    "pycharm": {
     "name": "#%%\n"
    }
   }
  },
  {
   "cell_type": "code",
   "execution_count": 10,
   "outputs": [
    {
     "data": {
      "text/plain": "['globalDomain',\n 'GRIBEditionNumber',\n 'eps',\n 'offsetSection0',\n 'section0Length',\n 'totalLength',\n 'editionNumber',\n 'WMO',\n 'productionStatusOfProcessedData',\n 'section1Length',\n 'wrongPadding',\n 'table2Version',\n 'centre',\n 'centreDescription',\n 'generatingProcessIdentifier',\n 'gridDefinition',\n 'indicatorOfParameter',\n 'parameterName',\n 'parameterUnits',\n 'indicatorOfTypeOfLevel',\n 'pressureUnits',\n 'typeOfLevelECMF',\n 'typeOfLevel',\n 'level',\n 'yearOfCentury',\n 'month',\n 'day',\n 'hour',\n 'minute',\n 'second',\n 'unitOfTimeRange',\n 'P1',\n 'P2',\n 'timeRangeIndicator',\n 'numberIncludedInAverage',\n 'numberMissingFromAveragesOrAccumulations',\n 'centuryOfReferenceTimeOfData',\n 'subCentre',\n 'paramIdECMF',\n 'paramId',\n 'cfNameECMF',\n 'cfName',\n 'cfVarNameECMF',\n 'cfVarName',\n 'unitsECMF',\n 'units',\n 'nameECMF',\n 'name',\n 'decimalScaleFactor',\n 'setLocalDefinition',\n 'optimizeScaleFactor',\n 'dataDate',\n 'year',\n 'dataTime',\n 'julianDay',\n 'stepUnits',\n 'stepType',\n 'stepRange',\n 'startStep',\n 'endStep',\n 'marsParam',\n 'validityDate',\n 'validityTime',\n 'deleteLocalDefinition',\n 'localUsePresent',\n 'localDefinitionNumber',\n 'GRIBEXSection1Problem',\n 'marsClass',\n 'marsType',\n 'marsStream',\n 'experimentVersionNumber',\n 'perturbationNumber',\n 'numberOfForecastsInEnsemble',\n 'grib2LocalSectionNumber',\n 'shortNameECMF',\n 'shortName',\n 'ifsParam',\n 'stepTypeForConversion',\n 'md5Section1',\n 'md5Product',\n 'gridDescriptionSectionPresent',\n 'bitmapPresent',\n 'angleSubdivisions',\n 'section2Length',\n 'radius',\n 'numberOfVerticalCoordinateValues',\n 'neitherPresent',\n 'pvlLocation',\n 'dataRepresentationType',\n 'gridDefinitionDescription',\n 'gridDefinitionTemplateNumber',\n 'Ni',\n 'Nj',\n 'latitudeOfFirstGridPoint',\n 'latitudeOfFirstGridPointInDegrees',\n 'longitudeOfFirstGridPoint',\n 'longitudeOfFirstGridPointInDegrees',\n 'resolutionAndComponentFlags',\n 'ijDirectionIncrementGiven',\n 'earthIsOblate',\n 'resolutionAndComponentFlags3',\n 'resolutionAndComponentFlags4',\n 'uvRelativeToGrid',\n 'resolutionAndComponentFlags6',\n 'resolutionAndComponentFlags7',\n 'resolutionAndComponentFlags8',\n 'latitudeOfLastGridPoint',\n 'latitudeOfLastGridPointInDegrees',\n 'longitudeOfLastGridPoint',\n 'longitudeOfLastGridPointInDegrees',\n 'iDirectionIncrement',\n 'jDirectionIncrement',\n 'scanningMode',\n 'iScansNegatively',\n 'jScansPositively',\n 'jPointsAreConsecutive',\n 'alternativeRowScanning',\n 'iScansPositively',\n 'scanningMode4',\n 'scanningMode5',\n 'scanningMode6',\n 'scanningMode7',\n 'scanningMode8',\n 'jDirectionIncrementInDegrees',\n 'iDirectionIncrementInDegrees',\n 'numberOfDataPoints',\n 'numberOfValues',\n 'latLonValues',\n 'latitudes',\n 'longitudes',\n 'distinctLatitudes',\n 'distinctLongitudes',\n 'zeros',\n 'PVPresent',\n 'PLPresent',\n 'deletePV',\n 'md5Section2',\n 'lengthOfHeaders',\n 'md5Headers',\n 'missingValue',\n 'tableReference',\n 'section4Length',\n 'halfByte',\n 'dataFlag',\n 'binaryScaleFactor',\n 'referenceValue',\n 'referenceValueError',\n 'sphericalHarmonics',\n 'complexPacking',\n 'integerPointValues',\n 'additionalFlagPresent',\n 'orderOfSPD',\n 'boustrophedonic',\n 'hideThis',\n 'packingType',\n 'bitsPerValue',\n 'constantFieldHalfByte',\n 'bitMapIndicator',\n 'values',\n 'numberOfCodedValues',\n 'packingError',\n 'unpackedError',\n 'maximum',\n 'minimum',\n 'average',\n 'numberOfMissing',\n 'standardDeviation',\n 'skewness',\n 'kurtosis',\n 'isConstant',\n 'dataLength',\n 'changeDecimalPrecision',\n 'decimalPrecision',\n 'bitsPerValueAndRepack',\n 'scaleValuesBy',\n 'offsetValuesBy',\n 'gridType',\n 'getNumberOfValues',\n 'md5Section4',\n 'section5Length',\n 'analDate',\n 'validDate']"
     },
     "execution_count": 10,
     "metadata": {},
     "output_type": "execute_result"
    }
   ],
   "source": [
    "grb.keys()"
   ],
   "metadata": {
    "collapsed": false,
    "pycharm": {
     "name": "#%%\n"
    }
   }
  },
  {
   "cell_type": "markdown",
   "source": [
    "Sanity check - see that we get the correct dates and levels"
   ],
   "metadata": {
    "collapsed": false,
    "pycharm": {
     "name": "#%% md\n"
    }
   }
  },
  {
   "cell_type": "code",
   "execution_count": 9,
   "outputs": [
    {
     "name": "stdout",
     "output_type": "stream",
     "text": [
      "{'2017-01-04', '2017-01-01', '2017-01-02', '2017-01-03', '2017-01-06', '2017-01-07', '2017-01-05'}\n",
      "{1, 2, 3, 900, 5, 7, 775, 10, 650, 400, 20, 150, 925, 30, 800, 550, 300, 175, 50, 950, 825, 700, 450, 70, 200, 975, 850, 600, 350, 225, 100, 1000, 875, 750, 500, 250, 125}\n"
     ]
    }
   ],
   "source": [
    "dates = set()\n",
    "levels = set()\n",
    "f.rewind()\n",
    "for grb in f:\n",
    "    dates.add(grb.validDate.strftime('%Y-%m-%d'))\n",
    "    levels.add(grb.level)\n",
    "print(dates)\n",
    "print(levels)"
   ],
   "metadata": {
    "collapsed": false,
    "pycharm": {
     "name": "#%%\n"
    }
   }
  },
  {
   "cell_type": "code",
   "execution_count": 13,
   "outputs": [
    {
     "data": {
      "text/plain": "['2017-01-01',\n '2017-01-02',\n '2017-01-03',\n '2017-01-04',\n '2017-01-05',\n '2017-01-06',\n '2017-01-07']"
     },
     "execution_count": 13,
     "metadata": {},
     "output_type": "execute_result"
    }
   ],
   "source": [
    "levels_list = sorted(list(levels))\n",
    "levels_list\n",
    "dates_list = sorted(list(dates))\n",
    "dates_list"
   ],
   "metadata": {
    "collapsed": false,
    "pycharm": {
     "name": "#%%\n"
    }
   }
  },
  {
   "cell_type": "code",
   "execution_count": null,
   "outputs": [],
   "source": [],
   "metadata": {
    "collapsed": false,
    "pycharm": {
     "name": "#%%\n"
    }
   }
  }
 ],
 "metadata": {
  "kernelspec": {
   "name": "conda-env-.conda-lidarAdi-py",
   "language": "python",
   "display_name": "Python [conda env:.conda-lidarAdi] *"
  },
  "language_info": {
   "codemirror_mode": {
    "name": "ipython",
    "version": 2
   },
   "file_extension": ".py",
   "mimetype": "text/x-python",
   "name": "python",
   "nbconvert_exporter": "python",
   "pygments_lexer": "ipython2",
   "version": "2.7.6"
  }
 },
 "nbformat": 4,
 "nbformat_minor": 0
}