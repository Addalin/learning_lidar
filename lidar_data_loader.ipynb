{
 "cells": [
  {
   "cell_type": "code",
   "execution_count": 1,
   "outputs": [
    {
     "name": "stderr",
     "output_type": "stream",
     "text": [
      "C:\\Users\\addalin\\Dropbox\\Lidar\\code\\miscLidar.py:40: MatplotlibDeprecationWarning: Support for setting the 'text.latex.preamble' or 'pgf.preamble' rcParam to a list of strings is deprecated since 3.3 and will be removed two minor releases later; set it to a single string instead.\n",
      "  plt.rcParams['text.latex.preamble'] = [r\"\\usepackage{amsmath}\"]\n"
     ]
    }
   ],
   "source": [
    "import os,sys\n",
    "import numpy as np\n",
    "import scipy as sp\n",
    "import pandas as pd\n",
    "#from netCDF4 import Dataset\n",
    "import matplotlib\n",
    "from datetime import datetime, timedelta, time\n",
    "import glob\n",
    "from generate_atmosphere import LidarProfile,RadiosondeProfile\n",
    "import miscLidar as mscLid\n",
    "from molecular import rayleigh_scattering\n",
    "import global_settings as gs\n",
    "import pandas as pd\n",
    "#import ARLreader as Ar\n",
    "import preprocessing as prep\n",
    "import matplotlib.dates as mdates\n",
    "import matplotlib.pyplot as plt\n",
    "import xarray as xr\n",
    "%matplotlib inline"
   ],
   "metadata": {
    "collapsed": false,
    "pycharm": {
     "name": "#%% Imports\n"
    }
   }
  },
  {
   "cell_type": "code",
   "execution_count": 2,
   "outputs": [],
   "source": [
    "SMALL_SIZE = 10\n",
    "MEDIUM_SIZE = 12\n",
    "BIG_SIZE = 14\n",
    "\n",
    "plt.rc('font', size=SMALL_SIZE)          # controls default text sizes\n",
    "plt.rc('axes', titlesize=BIG_SIZE)       # fontsize of the axes title\n",
    "plt.rc('axes', labelsize=MEDIUM_SIZE)    # fontsize of the x and y labels\n",
    "plt.rc('xtick', labelsize=SMALL_SIZE)    # fontsize of the tick labels\n",
    "plt.rc('ytick', labelsize=SMALL_SIZE)    # fontsize of the tick labels\n",
    "plt.rc('legend', fontsize=SMALL_SIZE)    # legend fontsize\n",
    "plt.rc('figure', titlesize=BIG_SIZE)     # fontsize of the figure title"
   ],
   "metadata": {
    "collapsed": false,
    "pycharm": {
     "name": "#%%\n"
    }
   }
  },
  {
   "cell_type": "code",
   "execution_count": 3,
   "outputs": [],
   "source": [
    "def humanbytes(B):\n",
    "   'Return the given bytes as a human friendly KB, MB, GB, or TB string'\n",
    "   B = float(B)\n",
    "   KB = float(1024)\n",
    "   MB = float(KB ** 2) # 1,048,576\n",
    "   GB = float(KB ** 3) # 1,073,741,824\n",
    "   TB = float(KB ** 4) # 1,099,511,627,776\n",
    "\n",
    "   if B < KB:\n",
    "      return '{0} {1}'.format(B,'Bytes' if 0 == B > 1 else 'Byte')\n",
    "   elif KB <= B < MB:\n",
    "      return '{0:.2f} KB'.format(B/KB)\n",
    "   elif MB <= B < GB:\n",
    "      return '{0:.2f} MB'.format(B/MB)\n",
    "   elif GB <= B < TB:\n",
    "      return '{0:.2f} GB'.format(B/GB)\n",
    "   elif TB <= B:\n",
    "      return '{0:.2f} TB'.format(B/TB)"
   ],
   "metadata": {
    "collapsed": false,
    "pycharm": {
     "name": "#%%\n"
    }
   }
  },
  {
   "cell_type": "code",
   "execution_count": 4,
   "outputs": [
    {
     "name": "stdout",
     "output_type": "stream",
     "text": [
      "2017-09-01 00:00:00\n"
     ]
    }
   ],
   "source": [
    "'''set day'''\n",
    "day_date = datetime(2017,9,1)\n",
    "print(day_date)"
   ],
   "metadata": {
    "collapsed": false,
    "pycharm": {
     "name": "#%%\n"
    }
   }
  },
  {
   "cell_type": "code",
   "execution_count": 5,
   "outputs": [],
   "source": [
    "'''set station'''\n",
    "haifa_station = gs.Station('haifa')\n",
    "#print(haifa_station)"
   ],
   "metadata": {
    "collapsed": false,
    "pycharm": {
     "name": "#%%\n"
    }
   }
  },
  {
   "cell_type": "code",
   "execution_count": 6,
   "outputs": [
    {
     "name": "stdout",
     "output_type": "stream",
     "text": [
      "<class 'global_settings.Station'>: {'name': 'haifa', 'location': 'haifa', 'lon': 35.0, 'lat': 32.8, 'altitude': 229.0, 'start_bin_height': 8.75, 'end_bin_height': 22485.66015, 'n_bins': 3000, 'dt': 5.0000000000000004e-08, 'gdas1_folder': '.\\\\data examples\\\\gdas', 'gdastxt_folder': '.\\\\data examples\\\\gdas_txt', 'lidar_src_folder': 'H:\\\\data_haifa\\\\DATA FROM TROPOS\\\\data\\\\level1a\\\\PollyXT_TROPOS', 'molecular_src_folder': '.\\\\data examples\\\\molecular_dataset', 'db_file': 'H:\\\\data_haifa\\\\DATA FROM TROPOS\\\\data\\\\level1a\\\\PollyXT_TROPOS\\\\pollyxt_tropos_calibration.db'}\n"
     ]
    }
   ],
   "source": [
    "'''Set paths for small tests'''\n",
    "#lidar_parent_folder = 'H:\\data_haifa\\DATA FROM TROPOS\\data\\level1a\\PollyXT_TROPOS'\n",
    "#gdas_parent_folder = 'H:\\data_haifa\\DATA FROM TROPOS\\GDAS\\haifa'\n",
    "lidar_parent_folder = haifa_station.lidar_src_folder\n",
    "haifa_station.gdas1_folder = os.path.join('.','data examples','gdas')\n",
    "haifa_station.gdastxt_folder  = os.path.join('.','data examples','gdas_txt')\n",
    "haifa_station.molecular_src_folder =  os.path.join('.','data examples','molecular_dataset')\n",
    "print(haifa_station)"
   ],
   "metadata": {
    "collapsed": false,
    "pycharm": {
     "name": "#%%\n"
    }
   }
  },
  {
   "cell_type": "code",
   "execution_count": 7,
   "outputs": [
    {
     "data": {
      "text/plain": "\"\\n#convert cur day (gdas files from TROPOS to txt)\\n\\ngdastxt = prep.convert_daily_gdas ( haifa_station, day_date)\\nprint('gdas_txt',gdastxt)\\n\\n#convert next day (gdas files from TROPOS to txt)\\nnext_day = day_date + timedelta ( days = 1 )\\ngdastxt_nextday = prep.convert_daily_gdas ( haifa_station, next_day )\\n# gdastxt.extend(prep.convert_daily_gdas ( next_day , haifa_station ))\\nprint('gdas_txt next day',gdastxt_nextday)\\n\\n\""
     },
     "execution_count": 7,
     "metadata": {},
     "output_type": "execute_result"
    }
   ],
   "source": [
    "#gdas1_folder,gdas1_paths = prep.get_gdas_paths(haifa_station, day_date,'gdas1')\n",
    "#print('gdas1',gdas1_paths)\n",
    "'''\n",
    "#convert cur day (gdas files from TROPOS to txt)\n",
    "\n",
    "gdastxt = prep.convert_daily_gdas ( haifa_station, day_date)\n",
    "print('gdas_txt',gdastxt)\n",
    "\n",
    "#convert next day (gdas files from TROPOS to txt)\n",
    "next_day = day_date + timedelta ( days = 1 )\n",
    "gdastxt_nextday = prep.convert_daily_gdas ( haifa_station, next_day )\n",
    "# gdastxt.extend(prep.convert_daily_gdas ( next_day , haifa_station ))\n",
    "print('gdas_txt next day',gdastxt_nextday)\n",
    "\n",
    "'''"
   ],
   "metadata": {
    "collapsed": false,
    "pycharm": {
     "name": "#%%\n"
    }
   }
  },
  {
   "cell_type": "code",
   "source": [
    "'''set parameters'''\n",
    "'''lambda_nm = gs.LAMBDA_nm().G\n",
    "df_sigma , df_beta = prep.get_daily_molecular_profiles( haifa_station , day_date , lambda_nm , 'Km' )\n",
    "# Visualizing molecular profiles\n",
    "\n",
    "plt.figure()\n",
    "ax = df_beta.plot()\n",
    "ax.set_ylabel(r'$\\beta_{\\rm mol}[1/m]$')\n",
    "plt.show()\n",
    "'''"
   ],
   "metadata": {
    "collapsed": false,
    "pycharm": {
     "name": "#%% Generate daily molecular profiles from the converted files (above)\n"
    }
   },
   "execution_count": 8,
   "outputs": [
    {
     "data": {
      "text/plain": "\"lambda_nm = gs.LAMBDA_nm().G\\ndf_sigma , df_beta = prep.get_daily_molecular_profiles( haifa_station , day_date , lambda_nm , 'Km' )\\n# Visualizing molecular profiles\\n\\nplt.figure()\\nax = df_beta.plot()\\nax.set_ylabel(r'$\\x08eta_{\\rm mol}[1/m]$')\\nplt.show()\\n\""
     },
     "execution_count": 8,
     "metadata": {},
     "output_type": "execute_result"
    }
   ]
  },
  {
   "cell_type": "code",
   "execution_count": null,
   "outputs": [],
   "source": [
    "def generate_daily_molecular_chan(station, day_date, lambda_nm, time_res='30S',\n",
    "                                  height_units ='Km', optim_size=False, verbose = False):\n",
    "\t\"\"\"\n",
    "\tGenerating daily molecular profiles for a given channel's wavelength\n",
    "\t:param station: gs.station() object of the lidar station\n",
    "\t:param day_date: datetime.date object of the required date\n",
    "\t:param lambda_nm: wavelength in [nm], e.g, for green lambda_nm = 532.0 [nm]\n",
    "\t:param time_res: Output time resolution required. default is 30sec (according to time resolution of pollyXT measurements)\n",
    "\t:param height_units:  Output units of height grid in 'Km' (default) or 'm'\n",
    "\t:param optim_size: Boolean. False(default): the retrieved values are of type 'float64',\n",
    "\t                            True: the retrieved values are of type 'float'.\n",
    "\t:param verbose: Boolean. False(default). True: prints information regarding size optimization.\n",
    "\t:return: xarray.Dataset() holding 3 daily dataframes (beta,sigma,att_bsc) for a given wavelength,\n",
    "\twith shared dimensions( Height, Time, Wavelength)\n",
    "\t\"\"\"\n",
    "\n",
    "\t'''Load daily gdas profiles and convert to backscatter (beta) and extinction (sigma) profiles'''\n",
    "\timport xarray as xr\n",
    "\tdf_sigma , df_beta = prep.get_daily_molecular_profiles ( station , day_date , lambda_nm , height_units )\n",
    "\n",
    "\t''' Interpolate profiles through 24 hrs'''\n",
    "\tinterp_sigma_df=(df_sigma.T.resample(time_res).interpolate(method='linear')[:-1]).T\n",
    "\tinterp_beta_df=(df_beta.T.resample(time_res).interpolate(method='linear')[:-1]).T\n",
    "\tinterp_sigma_df.columns.freq = None\n",
    "\tinterp_beta_df.columns.freq = None\n",
    "\n",
    "\t'''Calculate the molecular attenuated backscatter as :  beta_mol * exp(-2*tau_mol)'''\n",
    "\te_tau_df = interp_sigma_df.apply(prep.cal_e_tau_df,0,args=(haifa_station.altitude,),result_type='expand')\n",
    "\tatt_bsc_mol_df = interp_beta_df.multiply(e_tau_df)\n",
    "\n",
    "\t''' memory size - optimization '''\n",
    "\tif optim_size:\n",
    "\t\tif verbose:\n",
    "\t\t\tprint('Memory optimization - converting molecular values from double to float')\n",
    "\t\t\tsize_beta = interp_beta_df.memory_usage(deep=True).sum()\n",
    "\t\t\tsize_sigma = interp_sigma_df.memory_usage(deep=True).sum()\n",
    "\t\t\tsize_att_bsc = att_bsc_mol_df.memory_usage(deep=True).sum()\n",
    "\n",
    "\t\tinterp_beta_df = (interp_beta_df.select_dtypes(include = ['float64'])).\\\n",
    "\t\t\tapply(pd.to_numeric,downcast='float')\n",
    "\t\tinterp_sigma_df = (interp_sigma_df.select_dtypes(include = ['float64'])).\\\n",
    "\t\t\tapply(pd.to_numeric,downcast='float')\n",
    "\t\tatt_bsc_mol_df = (att_bsc_mol_df.select_dtypes(include = ['float64'])).\\\n",
    "\t\t\tapply(pd.to_numeric,downcast='float')\n",
    "\n",
    "\t\tif verbose:\n",
    "\t\t\tsize_beta_opt = interp_beta_df.memory_usage(deep=True).sum()\n",
    "\t\t\tsize_sigma_opt = interp_sigma_df.memory_usage(deep=True).sum()\n",
    "\t\t\tsize_att_bsc_opt = att_bsc_mol_df.memory_usage(deep=True).sum()\n",
    "\t\t\tprint('Memory saved for wavelength {} beta: {:.2f}%, sigma: {:.2f}%, att_bsc:{:.2f}%'.\n",
    "\t\t\t      format(lambda_nm,100.0*float(size_beta-size_beta_opt)/float(size_beta),\n",
    "\t\t\t             100.0*float(size_sigma-size_sigma_opt)/float(size_sigma),\n",
    "\t\t\t             100.0*float(size_att_bsc-size_att_bsc_opt)/float(size_att_bsc)))\n",
    "\n",
    "\t''' Create molecular dataset'''\n",
    "\tds_chan = xr.Dataset(\n",
    "        data_vars   =   {  'beta'   :   (('Height', 'Time'), interp_beta_df),\n",
    "                           'sigma'  :   (('Height', 'Time'), interp_sigma_df),\n",
    "                           'attbsc':    (('Height', 'Time'), att_bsc_mol_df),\n",
    "                           'lambda_nm': ('Wavelength'      , [lambda_nm]   )\n",
    "                        },\n",
    "        coords  =   {   'Height': interp_beta_df.index.to_list(),\n",
    "                        'Time': interp_beta_df.columns,\n",
    "                        'Wavelength': [lambda_nm]\n",
    "                        }\n",
    "\t)\n",
    "\n",
    "\t# set attributes of data variables\n",
    "\tds_chan.beta.attrs =  {'long_name':r'$\\beta$',  'units':r'$1/m \\cdot sr$','info': 'Daily molecular backscatter coefficient'}\n",
    "\tds_chan.sigma.attrs = {'long_name':r'$\\sigma$', 'units':r'$1/m $', 'info': 'Daily molecular attenuation coefficient'}\n",
    "\tds_chan.attbsc.attrs= {'long_name':r'$\\beta \\cdot \\exp(-2\\tau)$',  'units':r'$1/m \\cdot sr$', 'info': 'Daily molecular attenuated backscatter coefficient'}\n",
    "\t# set attributes of coordinates\n",
    "\tds_chan.Height.attrs= {'units':'{}'.format ( height_units )}\n",
    "\tds_chan.Wavelength.attrs={'long_name':r'$\\lambda$', 'units':r'$nm$'}\n",
    "\n",
    "\n",
    "\treturn ds_chan\n",
    "\n",
    "def generate_daily_molecular(station, day_date, time_res='30S',\n",
    "                                  height_units ='Km', optim_size=False, verbose = False):\n",
    "\t\"\"\"\n",
    "\tGenerating daily molecular profiles for all elastic channels (355,532,1064)\n",
    "\t:param station: gs.station() object of the lidar station\n",
    "\t:param day_date: datetime.date object of the required date\n",
    "\t:param time_res: Output time resolution required. default is 30sec (according to time resolution of pollyXT measurements)\n",
    "\t:param height_units:  Output units of height grid in 'Km' (default) or 'm'\n",
    "\t:param optim_size: Boolean. False(default): the retrieved values are of type 'float64',\n",
    "\t                            True: the retrieved values are of type 'float'.\n",
    "\t:param verbose: Boolean. False(default). True: prints information regarding size optimization.\n",
    "\t:return: xarray.Dataset() holding 3 daily dataframes [beta,sigma,att_bsc], for 3 channels [355,532,1064] ,\n",
    "\twith shared dimensions( Height, Time, Wavelength)\n",
    "\t\"\"\"\n",
    "\twavelengths = gs.LAMBDA_nm().get_elastic()\n",
    "\tds_list = []\n",
    "\t#from pytictoc import TicToc\n",
    "\t#t = TicToc()\n",
    "\t#t.tic()\n",
    "\tfor lambda_nm in wavelengths:\n",
    "\t\tds_chan = generate_daily_molecular_chan(station, day_date, lambda_nm, time_res=time_res,\n",
    "\t\t                                        height_units =height_units, optim_size=optim_size, verbose = verbose)\n",
    "\t\tds_list.append(ds_chan)\n",
    "\t#t.toc()\n",
    "\t'''concatenating molecular profiles of all channels'''\n",
    "\tds_mol=xr.concat(ds_list,dim ='Wavelength')\n",
    "\tds_mol.attrs = {'info':'Daily molecular profiles','date':[day_date]}\n",
    "\treturn ds_mol"
   ],
   "metadata": {
    "collapsed": false,
    "pycharm": {
     "name": "#%%\n"
    }
   }
  },
  {
   "cell_type": "code",
   "execution_count": 11,
   "outputs": [
    {
     "data": {
      "text/plain": "<xarray.Dataset>\nDimensions:     (Height: 3000, Time: 2880, Wavelength: 3)\nCoordinates:\n  * Height      (Height) float64 0.2378 0.2452 0.2527 ... 22.7 22.71 22.71\n  * Time        (Time) datetime64[ns] 2017-09-01 ... 2017-09-01T23:59:30\n  * Wavelength  (Wavelength) int64 355 532 1064\nData variables:\n    beta        (Wavelength, Height, Time) float32 7.719861e-06 ... 5.0566884...\n    sigma       (Wavelength, Height, Time) float32 6.5643915e-05 ... 4.294362...\n    attbsc      (Wavelength, Height, Time) float32 7.955234e-06 ... 5.058337e-09\n    lambda_nm   (Wavelength) int32 355 532 1064\nAttributes:\n    info:     Daily molecular profiles\n    date:     [datetime.datetime(2017, 9, 1, 0, 0)]",
      "text/html": "<div><svg style=\"position: absolute; width: 0; height: 0; overflow: hidden\">\n<defs>\n<symbol id=\"icon-database\" viewBox=\"0 0 32 32\">\n<path d=\"M16 0c-8.837 0-16 2.239-16 5v4c0 2.761 7.163 5 16 5s16-2.239 16-5v-4c0-2.761-7.163-5-16-5z\"></path>\n<path d=\"M16 17c-8.837 0-16-2.239-16-5v6c0 2.761 7.163 5 16 5s16-2.239 16-5v-6c0 2.761-7.163 5-16 5z\"></path>\n<path d=\"M16 26c-8.837 0-16-2.239-16-5v6c0 2.761 7.163 5 16 5s16-2.239 16-5v-6c0 2.761-7.163 5-16 5z\"></path>\n</symbol>\n<symbol id=\"icon-file-text2\" viewBox=\"0 0 32 32\">\n<path d=\"M28.681 7.159c-0.694-0.947-1.662-2.053-2.724-3.116s-2.169-2.030-3.116-2.724c-1.612-1.182-2.393-1.319-2.841-1.319h-15.5c-1.378 0-2.5 1.121-2.5 2.5v27c0 1.378 1.122 2.5 2.5 2.5h23c1.378 0 2.5-1.122 2.5-2.5v-19.5c0-0.448-0.137-1.23-1.319-2.841zM24.543 5.457c0.959 0.959 1.712 1.825 2.268 2.543h-4.811v-4.811c0.718 0.556 1.584 1.309 2.543 2.268zM28 29.5c0 0.271-0.229 0.5-0.5 0.5h-23c-0.271 0-0.5-0.229-0.5-0.5v-27c0-0.271 0.229-0.5 0.5-0.5 0 0 15.499-0 15.5 0v7c0 0.552 0.448 1 1 1h7v19.5z\"></path>\n<path d=\"M23 26h-14c-0.552 0-1-0.448-1-1s0.448-1 1-1h14c0.552 0 1 0.448 1 1s-0.448 1-1 1z\"></path>\n<path d=\"M23 22h-14c-0.552 0-1-0.448-1-1s0.448-1 1-1h14c0.552 0 1 0.448 1 1s-0.448 1-1 1z\"></path>\n<path d=\"M23 18h-14c-0.552 0-1-0.448-1-1s0.448-1 1-1h14c0.552 0 1 0.448 1 1s-0.448 1-1 1z\"></path>\n</symbol>\n</defs>\n</svg>\n<style>/* CSS stylesheet for displaying xarray objects in jupyterlab.\n *\n */\n\n:root {\n  --xr-font-color0: var(--jp-content-font-color0, rgba(0, 0, 0, 1));\n  --xr-font-color2: var(--jp-content-font-color2, rgba(0, 0, 0, 0.54));\n  --xr-font-color3: var(--jp-content-font-color3, rgba(0, 0, 0, 0.38));\n  --xr-border-color: var(--jp-border-color2, #e0e0e0);\n  --xr-disabled-color: var(--jp-layout-color3, #bdbdbd);\n  --xr-background-color: var(--jp-layout-color0, white);\n  --xr-background-color-row-even: var(--jp-layout-color1, white);\n  --xr-background-color-row-odd: var(--jp-layout-color2, #eeeeee);\n}\n\nhtml[theme=dark],\nbody.vscode-dark {\n  --xr-font-color0: rgba(255, 255, 255, 1);\n  --xr-font-color2: rgba(255, 255, 255, 0.54);\n  --xr-font-color3: rgba(255, 255, 255, 0.38);\n  --xr-border-color: #1F1F1F;\n  --xr-disabled-color: #515151;\n  --xr-background-color: #111111;\n  --xr-background-color-row-even: #111111;\n  --xr-background-color-row-odd: #313131;\n}\n\n.xr-wrap {\n  display: block;\n  min-width: 300px;\n  max-width: 700px;\n}\n\n.xr-text-repr-fallback {\n  /* fallback to plain text repr when CSS is not injected (untrusted notebook) */\n  display: none;\n}\n\n.xr-header {\n  padding-top: 6px;\n  padding-bottom: 6px;\n  margin-bottom: 4px;\n  border-bottom: solid 1px var(--xr-border-color);\n}\n\n.xr-header > div,\n.xr-header > ul {\n  display: inline;\n  margin-top: 0;\n  margin-bottom: 0;\n}\n\n.xr-obj-type,\n.xr-array-name {\n  margin-left: 2px;\n  margin-right: 10px;\n}\n\n.xr-obj-type {\n  color: var(--xr-font-color2);\n}\n\n.xr-sections {\n  padding-left: 0 !important;\n  display: grid;\n  grid-template-columns: 150px auto auto 1fr 20px 20px;\n}\n\n.xr-section-item {\n  display: contents;\n}\n\n.xr-section-item input {\n  display: none;\n}\n\n.xr-section-item input + label {\n  color: var(--xr-disabled-color);\n}\n\n.xr-section-item input:enabled + label {\n  cursor: pointer;\n  color: var(--xr-font-color2);\n}\n\n.xr-section-item input:enabled + label:hover {\n  color: var(--xr-font-color0);\n}\n\n.xr-section-summary {\n  grid-column: 1;\n  color: var(--xr-font-color2);\n  font-weight: 500;\n}\n\n.xr-section-summary > span {\n  display: inline-block;\n  padding-left: 0.5em;\n}\n\n.xr-section-summary-in:disabled + label {\n  color: var(--xr-font-color2);\n}\n\n.xr-section-summary-in + label:before {\n  display: inline-block;\n  content: '►';\n  font-size: 11px;\n  width: 15px;\n  text-align: center;\n}\n\n.xr-section-summary-in:disabled + label:before {\n  color: var(--xr-disabled-color);\n}\n\n.xr-section-summary-in:checked + label:before {\n  content: '▼';\n}\n\n.xr-section-summary-in:checked + label > span {\n  display: none;\n}\n\n.xr-section-summary,\n.xr-section-inline-details {\n  padding-top: 4px;\n  padding-bottom: 4px;\n}\n\n.xr-section-inline-details {\n  grid-column: 2 / -1;\n}\n\n.xr-section-details {\n  display: none;\n  grid-column: 1 / -1;\n  margin-bottom: 5px;\n}\n\n.xr-section-summary-in:checked ~ .xr-section-details {\n  display: contents;\n}\n\n.xr-array-wrap {\n  grid-column: 1 / -1;\n  display: grid;\n  grid-template-columns: 20px auto;\n}\n\n.xr-array-wrap > label {\n  grid-column: 1;\n  vertical-align: top;\n}\n\n.xr-preview {\n  color: var(--xr-font-color3);\n}\n\n.xr-array-preview,\n.xr-array-data {\n  padding: 0 5px !important;\n  grid-column: 2;\n}\n\n.xr-array-data,\n.xr-array-in:checked ~ .xr-array-preview {\n  display: none;\n}\n\n.xr-array-in:checked ~ .xr-array-data,\n.xr-array-preview {\n  display: inline-block;\n}\n\n.xr-dim-list {\n  display: inline-block !important;\n  list-style: none;\n  padding: 0 !important;\n  margin: 0;\n}\n\n.xr-dim-list li {\n  display: inline-block;\n  padding: 0;\n  margin: 0;\n}\n\n.xr-dim-list:before {\n  content: '(';\n}\n\n.xr-dim-list:after {\n  content: ')';\n}\n\n.xr-dim-list li:not(:last-child):after {\n  content: ',';\n  padding-right: 5px;\n}\n\n.xr-has-index {\n  font-weight: bold;\n}\n\n.xr-var-list,\n.xr-var-item {\n  display: contents;\n}\n\n.xr-var-item > div,\n.xr-var-item label,\n.xr-var-item > .xr-var-name span {\n  background-color: var(--xr-background-color-row-even);\n  margin-bottom: 0;\n}\n\n.xr-var-item > .xr-var-name:hover span {\n  padding-right: 5px;\n}\n\n.xr-var-list > li:nth-child(odd) > div,\n.xr-var-list > li:nth-child(odd) > label,\n.xr-var-list > li:nth-child(odd) > .xr-var-name span {\n  background-color: var(--xr-background-color-row-odd);\n}\n\n.xr-var-name {\n  grid-column: 1;\n}\n\n.xr-var-dims {\n  grid-column: 2;\n}\n\n.xr-var-dtype {\n  grid-column: 3;\n  text-align: right;\n  color: var(--xr-font-color2);\n}\n\n.xr-var-preview {\n  grid-column: 4;\n}\n\n.xr-var-name,\n.xr-var-dims,\n.xr-var-dtype,\n.xr-preview,\n.xr-attrs dt {\n  white-space: nowrap;\n  overflow: hidden;\n  text-overflow: ellipsis;\n  padding-right: 10px;\n}\n\n.xr-var-name:hover,\n.xr-var-dims:hover,\n.xr-var-dtype:hover,\n.xr-attrs dt:hover {\n  overflow: visible;\n  width: auto;\n  z-index: 1;\n}\n\n.xr-var-attrs,\n.xr-var-data {\n  display: none;\n  background-color: var(--xr-background-color) !important;\n  padding-bottom: 5px !important;\n}\n\n.xr-var-attrs-in:checked ~ .xr-var-attrs,\n.xr-var-data-in:checked ~ .xr-var-data {\n  display: block;\n}\n\n.xr-var-data > table {\n  float: right;\n}\n\n.xr-var-name span,\n.xr-var-data,\n.xr-attrs {\n  padding-left: 25px !important;\n}\n\n.xr-attrs,\n.xr-var-attrs,\n.xr-var-data {\n  grid-column: 1 / -1;\n}\n\ndl.xr-attrs {\n  padding: 0;\n  margin: 0;\n  display: grid;\n  grid-template-columns: 125px auto;\n}\n\n.xr-attrs dt, dd {\n  padding: 0;\n  margin: 0;\n  float: left;\n  padding-right: 10px;\n  width: auto;\n}\n\n.xr-attrs dt {\n  font-weight: normal;\n  grid-column: 1;\n}\n\n.xr-attrs dt:hover span {\n  display: inline-block;\n  background: var(--xr-background-color);\n  padding-right: 10px;\n}\n\n.xr-attrs dd {\n  grid-column: 2;\n  white-space: pre-wrap;\n  word-break: break-all;\n}\n\n.xr-icon-database,\n.xr-icon-file-text2 {\n  display: inline-block;\n  vertical-align: middle;\n  width: 1em;\n  height: 1.5em !important;\n  stroke-width: 0;\n  stroke: currentColor;\n  fill: currentColor;\n}\n</style><pre class='xr-text-repr-fallback'>&lt;xarray.Dataset&gt;\nDimensions:     (Height: 3000, Time: 2880, Wavelength: 3)\nCoordinates:\n  * Height      (Height) float64 0.2378 0.2452 0.2527 ... 22.7 22.71 22.71\n  * Time        (Time) datetime64[ns] 2017-09-01 ... 2017-09-01T23:59:30\n  * Wavelength  (Wavelength) int64 355 532 1064\nData variables:\n    beta        (Wavelength, Height, Time) float32 7.719861e-06 ... 5.0566884...\n    sigma       (Wavelength, Height, Time) float32 6.5643915e-05 ... 4.294362...\n    attbsc      (Wavelength, Height, Time) float32 7.955234e-06 ... 5.058337e-09\n    lambda_nm   (Wavelength) int32 355 532 1064\nAttributes:\n    info:     Daily molecular profiles\n    date:     [datetime.datetime(2017, 9, 1, 0, 0)]</pre><div class='xr-wrap' hidden><div class='xr-header'><div class='xr-obj-type'>xarray.Dataset</div></div><ul class='xr-sections'><li class='xr-section-item'><input id='section-b537d008-1802-481f-b5df-7fb49be894ec' class='xr-section-summary-in' type='checkbox' disabled ><label for='section-b537d008-1802-481f-b5df-7fb49be894ec' class='xr-section-summary'  title='Expand/collapse section'>Dimensions:</label><div class='xr-section-inline-details'><ul class='xr-dim-list'><li><span class='xr-has-index'>Height</span>: 3000</li><li><span class='xr-has-index'>Time</span>: 2880</li><li><span class='xr-has-index'>Wavelength</span>: 3</li></ul></div><div class='xr-section-details'></div></li><li class='xr-section-item'><input id='section-1fb0cb98-6131-463b-b57c-c892fd5e0b92' class='xr-section-summary-in' type='checkbox'  checked><label for='section-1fb0cb98-6131-463b-b57c-c892fd5e0b92' class='xr-section-summary' >Coordinates: <span>(3)</span></label><div class='xr-section-inline-details'></div><div class='xr-section-details'><ul class='xr-var-list'><li class='xr-var-item'><div class='xr-var-name'><span class='xr-has-index'>Height</span></div><div class='xr-var-dims'>(Height)</div><div class='xr-var-dtype'>float64</div><div class='xr-var-preview xr-preview'>0.2378 0.2452 ... 22.71 22.71</div><input id='attrs-24f556a2-293c-497a-a3b3-396c127a646a' class='xr-var-attrs-in' type='checkbox' ><label for='attrs-24f556a2-293c-497a-a3b3-396c127a646a' title='Show/Hide attributes'><svg class='icon xr-icon-file-text2'><use xlink:href='#icon-file-text2'></use></svg></label><input id='data-66727890-3f65-4d69-9a08-3344f97dd3fa' class='xr-var-data-in' type='checkbox'><label for='data-66727890-3f65-4d69-9a08-3344f97dd3fa' title='Show/Hide data repr'><svg class='icon xr-icon-database'><use xlink:href='#icon-database'></use></svg></label><div class='xr-var-attrs'><dl class='xr-attrs'><dt><span>units :</span></dt><dd>Km</dd></dl></div><div class='xr-var-data'><pre>array([ 0.23775 ,  0.245245,  0.25274 , ..., 22.699671, 22.707165, 22.71466 ])</pre></div></li><li class='xr-var-item'><div class='xr-var-name'><span class='xr-has-index'>Time</span></div><div class='xr-var-dims'>(Time)</div><div class='xr-var-dtype'>datetime64[ns]</div><div class='xr-var-preview xr-preview'>2017-09-01 ... 2017-09-01T23:59:30</div><input id='attrs-4c76324e-a76a-45ff-93fb-cdcb993c84e0' class='xr-var-attrs-in' type='checkbox' disabled><label for='attrs-4c76324e-a76a-45ff-93fb-cdcb993c84e0' title='Show/Hide attributes'><svg class='icon xr-icon-file-text2'><use xlink:href='#icon-file-text2'></use></svg></label><input id='data-ebc95389-ff74-4586-8919-f328aa773e34' class='xr-var-data-in' type='checkbox'><label for='data-ebc95389-ff74-4586-8919-f328aa773e34' title='Show/Hide data repr'><svg class='icon xr-icon-database'><use xlink:href='#icon-database'></use></svg></label><div class='xr-var-attrs'><dl class='xr-attrs'></dl></div><div class='xr-var-data'><pre>array([&#x27;2017-09-01T00:00:00.000000000&#x27;, &#x27;2017-09-01T00:00:30.000000000&#x27;,\n       &#x27;2017-09-01T00:01:00.000000000&#x27;, ..., &#x27;2017-09-01T23:58:30.000000000&#x27;,\n       &#x27;2017-09-01T23:59:00.000000000&#x27;, &#x27;2017-09-01T23:59:30.000000000&#x27;],\n      dtype=&#x27;datetime64[ns]&#x27;)</pre></div></li><li class='xr-var-item'><div class='xr-var-name'><span class='xr-has-index'>Wavelength</span></div><div class='xr-var-dims'>(Wavelength)</div><div class='xr-var-dtype'>int64</div><div class='xr-var-preview xr-preview'>355 532 1064</div><input id='attrs-091b3492-2102-4648-a5d8-5b0040393675' class='xr-var-attrs-in' type='checkbox' ><label for='attrs-091b3492-2102-4648-a5d8-5b0040393675' title='Show/Hide attributes'><svg class='icon xr-icon-file-text2'><use xlink:href='#icon-file-text2'></use></svg></label><input id='data-668774ea-b7e1-4320-8931-a95f372316c7' class='xr-var-data-in' type='checkbox'><label for='data-668774ea-b7e1-4320-8931-a95f372316c7' title='Show/Hide data repr'><svg class='icon xr-icon-database'><use xlink:href='#icon-database'></use></svg></label><div class='xr-var-attrs'><dl class='xr-attrs'><dt><span>long_name :</span></dt><dd>$\\lambda$</dd><dt><span>units :</span></dt><dd>$nm$</dd></dl></div><div class='xr-var-data'><pre>array([ 355,  532, 1064], dtype=int64)</pre></div></li></ul></div></li><li class='xr-section-item'><input id='section-8bdb9508-eb9e-48a7-996a-e2742e2ab867' class='xr-section-summary-in' type='checkbox'  checked><label for='section-8bdb9508-eb9e-48a7-996a-e2742e2ab867' class='xr-section-summary' >Data variables: <span>(4)</span></label><div class='xr-section-inline-details'></div><div class='xr-section-details'><ul class='xr-var-list'><li class='xr-var-item'><div class='xr-var-name'><span>beta</span></div><div class='xr-var-dims'>(Wavelength, Height, Time)</div><div class='xr-var-dtype'>float32</div><div class='xr-var-preview xr-preview'>7.719861e-06 ... 5.0566884e-09</div><input id='attrs-353fc8d1-6fab-4e25-bd61-64fefd1cde34' class='xr-var-attrs-in' type='checkbox' ><label for='attrs-353fc8d1-6fab-4e25-bd61-64fefd1cde34' title='Show/Hide attributes'><svg class='icon xr-icon-file-text2'><use xlink:href='#icon-file-text2'></use></svg></label><input id='data-4062bd1d-858b-47f2-80f2-e46b4e0f476b' class='xr-var-data-in' type='checkbox'><label for='data-4062bd1d-858b-47f2-80f2-e46b4e0f476b' title='Show/Hide data repr'><svg class='icon xr-icon-database'><use xlink:href='#icon-database'></use></svg></label><div class='xr-var-attrs'><dl class='xr-attrs'><dt><span>long_name :</span></dt><dd>$\\beta$</dd><dt><span>units :</span></dt><dd>$1/m \\cdot sr$</dd><dt><span>info :</span></dt><dd>Daily molecular backscatter coefficient</dd></dl></div><div class='xr-var-data'><pre>array([[[7.7198611e-06, 7.7198520e-06, 7.7198429e-06, ...,\n         7.6816641e-06, 7.6816768e-06, 7.6816905e-06],\n        [7.7151881e-06, 7.7151790e-06, 7.7151690e-06, ...,\n         7.6770357e-06, 7.6770484e-06, 7.6770611e-06],\n        [7.7105142e-06, 7.7105042e-06, 7.7104942e-06, ...,\n         7.6724045e-06, 7.6724173e-06, 7.6724300e-06],\n        ...,\n        [4.4727665e-07, 4.4727813e-07, 4.4727960e-07, ...,\n         4.4637287e-07, 4.4637014e-07, 4.4636741e-07],\n        [4.4681721e-07, 4.4681869e-07, 4.4682017e-07, ...,\n         4.4591042e-07, 4.4590769e-07, 4.4590496e-07],\n        [4.4635786e-07, 4.4635934e-07, 4.4636081e-07, ...,\n         4.4544805e-07, 4.4544532e-07, 4.4544257e-07]],\n\n       [[1.4469549e-06, 1.4469530e-06, 1.4469512e-06, ...,\n         1.4396653e-06, 1.4396678e-06, 1.4396703e-06],\n        [1.4460794e-06, 1.4460776e-06, 1.4460757e-06, ...,\n         1.4387983e-06, 1.4388007e-06, 1.4388032e-06],\n        [1.4452036e-06, 1.4452017e-06, 1.4451998e-06, ...,\n         1.4379310e-06, 1.4379333e-06, 1.4379357e-06],\n...\n        [8.3865395e-08, 8.3865672e-08, 8.3865949e-08, ...,\n         8.3695930e-08, 8.3695419e-08, 8.3694907e-08],\n        [8.3779248e-08, 8.3779526e-08, 8.3779803e-08, ...,\n         8.3609223e-08, 8.3608711e-08, 8.3608199e-08],\n        [8.3693116e-08, 8.3693394e-08, 8.3693671e-08, ...,\n         8.3522529e-08, 8.3522018e-08, 8.3521499e-08]],\n\n       [[8.7582634e-08, 8.7582521e-08, 8.7582407e-08, ...,\n         8.7136286e-08, 8.7136442e-08, 8.7136591e-08],\n        [8.7529664e-08, 8.7529543e-08, 8.7529429e-08, ...,\n         8.7083833e-08, 8.7083976e-08, 8.7084125e-08],\n        [8.7476664e-08, 8.7476543e-08, 8.7476423e-08, ...,\n         8.7031353e-08, 8.7031495e-08, 8.7031637e-08],\n        ...,\n        [5.0775091e-09, 5.0775255e-09, 5.0775424e-09, ...,\n         5.0672493e-09, 5.0672182e-09, 5.0671871e-09],\n        [5.0722933e-09, 5.0723101e-09, 5.0723270e-09, ...,\n         5.0619997e-09, 5.0619686e-09, 5.0619375e-09],\n        [5.0670788e-09, 5.0670956e-09, 5.0671125e-09, ...,\n         5.0567506e-09, 5.0567195e-09, 5.0566884e-09]]], dtype=float32)</pre></div></li><li class='xr-var-item'><div class='xr-var-name'><span>sigma</span></div><div class='xr-var-dims'>(Wavelength, Height, Time)</div><div class='xr-var-dtype'>float32</div><div class='xr-var-preview xr-preview'>6.5643915e-05 ... 4.2943626e-08</div><input id='attrs-529908c8-b095-465d-907f-a188b6fcefba' class='xr-var-attrs-in' type='checkbox' ><label for='attrs-529908c8-b095-465d-907f-a188b6fcefba' title='Show/Hide attributes'><svg class='icon xr-icon-file-text2'><use xlink:href='#icon-file-text2'></use></svg></label><input id='data-471b78ee-675e-4b95-9762-3e9d4ba372cb' class='xr-var-data-in' type='checkbox'><label for='data-471b78ee-675e-4b95-9762-3e9d4ba372cb' title='Show/Hide data repr'><svg class='icon xr-icon-database'><use xlink:href='#icon-database'></use></svg></label><div class='xr-var-attrs'><dl class='xr-attrs'><dt><span>long_name :</span></dt><dd>$\\sigma$</dd><dt><span>units :</span></dt><dd>$1/m $</dd><dt><span>info :</span></dt><dd>Daily molecular attenuation coefficient</dd></dl></div><div class='xr-var-data'><pre>array([[[6.56439151e-05, 6.56438278e-05, 6.56437478e-05, ...,\n         6.53145908e-05, 6.53147072e-05, 6.53148236e-05],\n        [6.56041957e-05, 6.56041084e-05, 6.56040211e-05, ...,\n         6.52752497e-05, 6.52753661e-05, 6.52754752e-05],\n        [6.55644544e-05, 6.55643671e-05, 6.55642798e-05, ...,\n         6.52359013e-05, 6.52360031e-05, 6.52361123e-05],\n        ...,\n        [3.80442748e-06, 3.80443998e-06, 3.80445272e-06, ...,\n         3.79673997e-06, 3.79671678e-06, 3.79669359e-06],\n        [3.80051961e-06, 3.80053211e-06, 3.80054485e-06, ...,\n         3.79280664e-06, 3.79278345e-06, 3.79276003e-06],\n        [3.79661242e-06, 3.79662492e-06, 3.79663766e-06, ...,\n         3.78887398e-06, 3.78885056e-06, 3.78882714e-06]],\n\n       [[1.22908605e-05, 1.22908441e-05, 1.22908286e-05, ...,\n         1.22281535e-05, 1.22281754e-05, 1.22281963e-05],\n        [1.22834263e-05, 1.22834099e-05, 1.22833935e-05, ...,\n         1.22207921e-05, 1.22208130e-05, 1.22208339e-05],\n        [1.22759893e-05, 1.22759729e-05, 1.22759557e-05, ...,\n         1.22134288e-05, 1.22134488e-05, 1.22134679e-05],\n...\n        [7.12572955e-07, 7.12575286e-07, 7.12577673e-07, ...,\n         7.11133112e-07, 7.11128735e-07, 7.11124358e-07],\n        [7.11840983e-07, 7.11843370e-07, 7.11845757e-07, ...,\n         7.10396364e-07, 7.10391987e-07, 7.10387667e-07],\n        [7.11109180e-07, 7.11111568e-07, 7.11113898e-07, ...,\n         7.09659787e-07, 7.09655410e-07, 7.09651033e-07]],\n\n       [[7.43593205e-07, 7.43592182e-07, 7.43591158e-07, ...,\n         7.39757581e-07, 7.39758889e-07, 7.39760196e-07],\n        [7.43143517e-07, 7.43142493e-07, 7.43141470e-07, ...,\n         7.39312441e-07, 7.39313691e-07, 7.39314942e-07],\n        [7.42693715e-07, 7.42692691e-07, 7.42691611e-07, ...,\n         7.38867072e-07, 7.38868266e-07, 7.38869517e-07],\n        ...,\n        [4.31204441e-08, 4.31205862e-08, 4.31207283e-08, ...,\n         4.30333138e-08, 4.30330509e-08, 4.30327844e-08],\n        [4.30761524e-08, 4.30762945e-08, 4.30764366e-08, ...,\n         4.29887308e-08, 4.29884679e-08, 4.29882014e-08],\n        [4.30318643e-08, 4.30320100e-08, 4.30321521e-08, ...,\n         4.29441549e-08, 4.29438920e-08, 4.29436255e-08]]], dtype=float32)</pre></div></li><li class='xr-var-item'><div class='xr-var-name'><span>attbsc</span></div><div class='xr-var-dims'>(Wavelength, Height, Time)</div><div class='xr-var-dtype'>float32</div><div class='xr-var-preview xr-preview'>7.955234e-06 ... 5.058337e-09</div><input id='attrs-a30ecc67-04cb-49cd-8433-932a4f267fbc' class='xr-var-attrs-in' type='checkbox' ><label for='attrs-a30ecc67-04cb-49cd-8433-932a4f267fbc' title='Show/Hide attributes'><svg class='icon xr-icon-file-text2'><use xlink:href='#icon-file-text2'></use></svg></label><input id='data-69937abb-45e2-40da-a0ae-c2407b063768' class='xr-var-data-in' type='checkbox'><label for='data-69937abb-45e2-40da-a0ae-c2407b063768' title='Show/Hide data repr'><svg class='icon xr-icon-database'><use xlink:href='#icon-database'></use></svg></label><div class='xr-var-attrs'><dl class='xr-attrs'><dt><span>long_name :</span></dt><dd>$\\beta \\cdot \\exp(-2\\tau)$</dd><dt><span>units :</span></dt><dd>$1/m \\cdot sr$</dd><dt><span>info :</span></dt><dd>Daily molecular attenuated backscatter coefficient</dd></dl></div><div class='xr-var-data'><pre>array([[[7.9552337e-06, 7.9552237e-06, 7.9552137e-06, ...,\n         7.9146794e-06, 7.9146939e-06, 7.9147076e-06],\n        [7.9504107e-06, 7.9504007e-06, 7.9503907e-06, ...,\n         7.9099027e-06, 7.9099163e-06, 7.9099300e-06],\n        [7.9455858e-06, 7.9455758e-06, 7.9455649e-06, ...,\n         7.9051242e-06, 7.9051379e-06, 7.9051506e-06],\n        ...,\n        [4.6040250e-07, 4.6040401e-07, 4.6040552e-07, ...,\n         4.5940359e-07, 4.5940081e-07, 4.5939800e-07],\n        [4.5992957e-07, 4.5993107e-07, 4.5993258e-07, ...,\n         4.5892762e-07, 4.5892483e-07, 4.5892205e-07],\n        [4.5945669e-07, 4.5945822e-07, 4.5945973e-07, ...,\n         4.5845172e-07, 4.5844894e-07, 4.5844612e-07]],\n\n       [[1.4551146e-06, 1.4551127e-06, 1.4551108e-06, ...,\n         1.4477423e-06, 1.4477449e-06, 1.4477474e-06],\n        [1.4542339e-06, 1.4542320e-06, 1.4542301e-06, ...,\n         1.4468702e-06, 1.4468727e-06, 1.4468752e-06],\n        [1.4533529e-06, 1.4533509e-06, 1.4533490e-06, ...,\n         1.4459978e-06, 1.4460002e-06, 1.4460026e-06],\n...\n        [8.4320796e-08, 8.4321073e-08, 8.4321357e-08, ...,\n         8.4148020e-08, 8.4147509e-08, 8.4146997e-08],\n        [8.4234188e-08, 8.4234465e-08, 8.4234742e-08, ...,\n         8.4060844e-08, 8.4060332e-08, 8.4059813e-08],\n        [8.4147587e-08, 8.4147864e-08, 8.4148141e-08, ...,\n         8.3973681e-08, 8.3973163e-08, 8.3972651e-08]],\n\n       [[8.7612435e-08, 8.7612321e-08, 8.7612207e-08, ...,\n         8.7165780e-08, 8.7165937e-08, 8.7166093e-08],\n        [8.7559442e-08, 8.7559329e-08, 8.7559208e-08, ...,\n         8.7113307e-08, 8.7113456e-08, 8.7113605e-08],\n        [8.7506429e-08, 8.7506308e-08, 8.7506187e-08, ...,\n         8.7060812e-08, 8.7060954e-08, 8.7061096e-08],\n        ...,\n        [5.0791726e-09, 5.0791895e-09, 5.0792064e-09, ...,\n         5.0689009e-09, 5.0688698e-09, 5.0688387e-09],\n        [5.0739555e-09, 5.0739724e-09, 5.0739892e-09, ...,\n         5.0636495e-09, 5.0636184e-09, 5.0635873e-09],\n        [5.0687392e-09, 5.0687561e-09, 5.0687730e-09, ...,\n         5.0583990e-09, 5.0583679e-09, 5.0583369e-09]]], dtype=float32)</pre></div></li><li class='xr-var-item'><div class='xr-var-name'><span>lambda_nm</span></div><div class='xr-var-dims'>(Wavelength)</div><div class='xr-var-dtype'>int32</div><div class='xr-var-preview xr-preview'>355 532 1064</div><input id='attrs-8940c0df-e00f-4d1d-91b7-c0e71e8e376c' class='xr-var-attrs-in' type='checkbox' disabled><label for='attrs-8940c0df-e00f-4d1d-91b7-c0e71e8e376c' title='Show/Hide attributes'><svg class='icon xr-icon-file-text2'><use xlink:href='#icon-file-text2'></use></svg></label><input id='data-bd753529-d285-4d75-9e1a-1cfe1b1461ec' class='xr-var-data-in' type='checkbox'><label for='data-bd753529-d285-4d75-9e1a-1cfe1b1461ec' title='Show/Hide data repr'><svg class='icon xr-icon-database'><use xlink:href='#icon-database'></use></svg></label><div class='xr-var-attrs'><dl class='xr-attrs'></dl></div><div class='xr-var-data'><pre>array([ 355,  532, 1064])</pre></div></li></ul></div></li><li class='xr-section-item'><input id='section-bc3ad522-5a2b-4904-80c5-61f12b5b4fdb' class='xr-section-summary-in' type='checkbox'  checked><label for='section-bc3ad522-5a2b-4904-80c5-61f12b5b4fdb' class='xr-section-summary' >Attributes: <span>(2)</span></label><div class='xr-section-inline-details'></div><div class='xr-section-details'><dl class='xr-attrs'><dt><span>info :</span></dt><dd>Daily molecular profiles</dd><dt><span>date :</span></dt><dd>[datetime.datetime(2017, 9, 1, 0, 0)]</dd></dl></div></li></ul></div></div>"
     },
     "execution_count": 11,
     "metadata": {},
     "output_type": "execute_result"
    }
   ],
   "source": [
    "ds =  generate_daily_molecular(haifa_station,day_date,optim_size = True)\n",
    "\n",
    "ds"
   ],
   "metadata": {
    "collapsed": false,
    "pycharm": {
     "name": "#%% create daily molecular dataset\n"
    }
   }
  },
  {
   "cell_type": "code",
   "execution_count": 13,
   "outputs": [
    {
     "data": {
      "text/plain": "<Figure size 720x216 with 4 Axes>",
      "image/png": "[encoded data removed]"
     },
     "metadata": {
      "needs_background": "light"
     },
     "output_type": "display_data"
    },
    {
     "data": {
      "text/plain": "<Figure size 720x216 with 4 Axes>",
      "image/png": "[encoded data removed]"
     },
     "metadata": {
      "needs_background": "light"
     },
     "output_type": "display_data"
    },
    {
     "data": {
      "text/plain": "<Figure size 720x216 with 4 Axes>",
      "image/png": "[encoded data removed]"
     },
     "metadata": {
      "needs_background": "light"
     },
     "output_type": "display_data"
    }
   ],
   "source": [
    "profileTypes = list(ds.data_vars)[:-1]\n",
    "xfmt = mdates.DateFormatter('%H:%M')\n",
    "timetics = ds.Time.dt.strftime('%H:%M')\n",
    "timetics\n",
    "\n",
    "for row,prof in enumerate(profileTypes):\n",
    "\tds_var = ds[prof]\n",
    "\tg = ds_var.plot(x='Time',y='Height',col='Wavelength',\n",
    "\t                  col_wrap = 3,cmap = 'turbo')# , figsize = (5,8))\n",
    "\tfor ax in g.axes.flat:\n",
    "\t\tax.xaxis.set_major_formatter(xfmt)\n",
    "\t\tax.xaxis_date()\n",
    "\t\tax.get_xaxis().set_major_locator(mdates.HourLocator(interval=4))\n",
    "\t\tplt.setp( ax.get_xticklabels(), rotation=0,horizontalalignment='center')\n",
    "\t\t#if row in [0,1]:\n",
    "\t\t#\tax.xaxis.set_ticklabels([])\n",
    "\t\t#\tax.set_xlabel(None)\n",
    "\t\t#if row in [1,2]:\n",
    "\t\t#\tax.set_title(None)\n",
    "\tplt.suptitle( ds_var.attrs['info']+' - '+ds.attrs['date'][0].strftime('%d/%m/%Y'), y = 1.05)\n",
    "\t#plt.tight_layout()\n",
    "\tplt.show()"
   ],
   "metadata": {
    "collapsed": false,
    "pycharm": {
     "name": "#%% Visualize the dataset\n"
    }
   }
  },
  {
   "cell_type": "code",
   "execution_count": 14,
   "outputs": [
    {
     "data": {
      "text/plain": "Time       2017-09-01 00:00:00  2017-09-01 00:00:30  2017-09-01 00:01:00  \\\nHeight                                                                     \n0.237750          7.719861e-06         7.719852e-06         7.719843e-06   \n0.245245          7.715188e-06         7.715179e-06         7.715169e-06   \n0.252740          7.710514e-06         7.710504e-06         7.710494e-06   \n0.260234          7.705838e-06         7.705828e-06         7.705818e-06   \n0.267729          7.701159e-06         7.701148e-06         7.701138e-06   \n...                        ...                  ...                  ...   \n22.684681         4.481957e-07         4.481972e-07         4.481986e-07   \n22.692176         4.477361e-07         4.477376e-07         4.477391e-07   \n22.699671         4.472766e-07         4.472781e-07         4.472796e-07   \n22.707165         4.468172e-07         4.468187e-07         4.468202e-07   \n22.714660         4.463579e-07         4.463593e-07         4.463608e-07   \n\nTime       2017-09-01 00:01:30  2017-09-01 00:02:00  2017-09-01 00:02:30  \\\nHeight                                                                     \n0.237750          7.719833e-06         7.719824e-06         7.719815e-06   \n0.245245          7.715160e-06         7.715150e-06         7.715141e-06   \n0.252740          7.710484e-06         7.710475e-06         7.710465e-06   \n0.260234          7.705808e-06         7.705798e-06         7.705788e-06   \n0.267729          7.701128e-06         7.701117e-06         7.701107e-06   \n...                        ...                  ...                  ...   \n22.684681         4.482001e-07         4.482016e-07         4.482031e-07   \n22.692176         4.477406e-07         4.477421e-07         4.477435e-07   \n22.699671         4.472811e-07         4.472826e-07         4.472841e-07   \n22.707165         4.468217e-07         4.468232e-07         4.468246e-07   \n22.714660         4.463623e-07         4.463638e-07         4.463653e-07   \n\nTime       2017-09-01 00:03:00  2017-09-01 00:03:30  2017-09-01 00:04:00  \\\nHeight                                                                     \n0.237750          7.719806e-06         7.719796e-06         7.719786e-06   \n0.245245          7.715131e-06         7.715122e-06         7.715113e-06   \n0.252740          7.710455e-06         7.710445e-06         7.710436e-06   \n0.260234          7.705778e-06         7.705768e-06         7.705758e-06   \n0.267729          7.701097e-06         7.701087e-06         7.701076e-06   \n...                        ...                  ...                  ...   \n22.684681         4.482046e-07         4.482060e-07         4.482075e-07   \n22.692176         4.477450e-07         4.477465e-07         4.477480e-07   \n22.699671         4.472855e-07         4.472870e-07         4.472885e-07   \n22.707165         4.468261e-07         4.468276e-07         4.468291e-07   \n22.714660         4.463668e-07         4.463682e-07         4.463697e-07   \n\nTime       2017-09-01 00:04:30  ...  2017-09-01 23:55:00  2017-09-01 23:55:30  \\\nHeight                          ...                                             \n0.237750          7.719777e-06  ...         7.681570e-06         7.681582e-06   \n0.245245          7.715103e-06  ...         7.676945e-06         7.676957e-06   \n0.252740          7.710426e-06  ...         7.672317e-06         7.672330e-06   \n0.260234          7.705747e-06  ...         7.667689e-06         7.667701e-06   \n0.267729          7.701066e-06  ...         7.663059e-06         7.663070e-06   \n...                        ...  ...                  ...                  ...   \n22.684681         4.482090e-07  ...         4.473170e-07         4.473143e-07   \n22.692176         4.477495e-07  ...         4.468545e-07         4.468517e-07   \n22.699671         4.472900e-07  ...         4.463920e-07         4.463893e-07   \n22.707165         4.468306e-07  ...         4.459296e-07         4.459269e-07   \n22.714660         4.463712e-07  ...         4.454673e-07         4.454645e-07   \n\nTime       2017-09-01 23:56:00  2017-09-01 23:56:30  2017-09-01 23:57:00  \\\nHeight                                                                     \n0.237750          7.681596e-06         7.681610e-06         7.681623e-06   \n0.245245          7.676970e-06         7.676983e-06         7.676997e-06   \n0.252740          7.672343e-06         7.672355e-06         7.672367e-06   \n0.260234          7.667713e-06         7.667725e-06         7.667737e-06   \n0.267729          7.663081e-06         7.663093e-06         7.663104e-06   \n...                        ...                  ...                  ...   \n22.684681         4.473115e-07         4.473088e-07         4.473061e-07   \n22.692176         4.468490e-07         4.468463e-07         4.468436e-07   \n22.699671         4.463865e-07         4.463838e-07         4.463811e-07   \n22.707165         4.459241e-07         4.459214e-07         4.459186e-07   \n22.714660         4.454618e-07         4.454591e-07         4.454563e-07   \n\nTime       2017-09-01 23:57:30  2017-09-01 23:58:00  2017-09-01 23:58:30  \\\nHeight                                                                     \n0.237750          7.681637e-06         7.681650e-06         7.681664e-06   \n0.245245          7.677009e-06         7.677022e-06         7.677036e-06   \n0.252740          7.672380e-06         7.672393e-06         7.672405e-06   \n0.260234          7.667749e-06         7.667761e-06         7.667772e-06   \n0.267729          7.663116e-06         7.663128e-06         7.663139e-06   \n...                        ...                  ...                  ...   \n22.684681         4.473034e-07         4.473007e-07         4.472979e-07   \n22.692176         4.468408e-07         4.468381e-07         4.468354e-07   \n22.699671         4.463783e-07         4.463756e-07         4.463729e-07   \n22.707165         4.459159e-07         4.459132e-07         4.459104e-07   \n22.714660         4.454536e-07         4.454508e-07         4.454481e-07   \n\nTime       2017-09-01 23:59:00  2017-09-01 23:59:30  \nHeight                                               \n0.237750          7.681677e-06         7.681690e-06  \n0.245245          7.677048e-06         7.677061e-06  \n0.252740          7.672417e-06         7.672430e-06  \n0.260234          7.667784e-06         7.667797e-06  \n0.267729          7.663150e-06         7.663161e-06  \n...                        ...                  ...  \n22.684681         4.472952e-07         4.472925e-07  \n22.692176         4.468326e-07         4.468299e-07  \n22.699671         4.463701e-07         4.463674e-07  \n22.707165         4.459077e-07         4.459050e-07  \n22.714660         4.454453e-07         4.454426e-07  \n\n[3000 rows x 2880 columns]",
      "text/html": "<div>\n<style scoped>\n    .dataframe tbody tr th:only-of-type {\n        vertical-align: middle;\n    }\n\n    .dataframe tbody tr th {\n        vertical-align: top;\n    }\n\n    .dataframe thead th {\n        text-align: right;\n    }\n</style>\n<table border=\"1\" class=\"dataframe\">\n  <thead>\n    <tr style=\"text-align: right;\">\n      <th>Time</th>\n      <th>2017-09-01 00:00:00</th>\n      <th>2017-09-01 00:00:30</th>\n      <th>2017-09-01 00:01:00</th>\n      <th>2017-09-01 00:01:30</th>\n      <th>2017-09-01 00:02:00</th>\n      <th>2017-09-01 00:02:30</th>\n      <th>2017-09-01 00:03:00</th>\n      <th>2017-09-01 00:03:30</th>\n      <th>2017-09-01 00:04:00</th>\n      <th>2017-09-01 00:04:30</th>\n      <th>...</th>\n      <th>2017-09-01 23:55:00</th>\n      <th>2017-09-01 23:55:30</th>\n      <th>2017-09-01 23:56:00</th>\n      <th>2017-09-01 23:56:30</th>\n      <th>2017-09-01 23:57:00</th>\n      <th>2017-09-01 23:57:30</th>\n      <th>2017-09-01 23:58:00</th>\n      <th>2017-09-01 23:58:30</th>\n      <th>2017-09-01 23:59:00</th>\n      <th>2017-09-01 23:59:30</th>\n    </tr>\n    <tr>\n      <th>Height</th>\n      <th></th>\n      <th></th>\n      <th></th>\n      <th></th>\n      <th></th>\n      <th></th>\n      <th></th>\n      <th></th>\n      <th></th>\n      <th></th>\n      <th></th>\n      <th></th>\n      <th></th>\n      <th></th>\n      <th></th>\n      <th></th>\n      <th></th>\n      <th></th>\n      <th></th>\n      <th></th>\n      <th></th>\n    </tr>\n  </thead>\n  <tbody>\n    <tr>\n      <th>0.237750</th>\n      <td>7.719861e-06</td>\n      <td>7.719852e-06</td>\n      <td>7.719843e-06</td>\n      <td>7.719833e-06</td>\n      <td>7.719824e-06</td>\n      <td>7.719815e-06</td>\n      <td>7.719806e-06</td>\n      <td>7.719796e-06</td>\n      <td>7.719786e-06</td>\n      <td>7.719777e-06</td>\n      <td>...</td>\n      <td>7.681570e-06</td>\n      <td>7.681582e-06</td>\n      <td>7.681596e-06</td>\n      <td>7.681610e-06</td>\n      <td>7.681623e-06</td>\n      <td>7.681637e-06</td>\n      <td>7.681650e-06</td>\n      <td>7.681664e-06</td>\n      <td>7.681677e-06</td>\n      <td>7.681690e-06</td>\n    </tr>\n    <tr>\n      <th>0.245245</th>\n      <td>7.715188e-06</td>\n      <td>7.715179e-06</td>\n      <td>7.715169e-06</td>\n      <td>7.715160e-06</td>\n      <td>7.715150e-06</td>\n      <td>7.715141e-06</td>\n      <td>7.715131e-06</td>\n      <td>7.715122e-06</td>\n      <td>7.715113e-06</td>\n      <td>7.715103e-06</td>\n      <td>...</td>\n      <td>7.676945e-06</td>\n      <td>7.676957e-06</td>\n      <td>7.676970e-06</td>\n      <td>7.676983e-06</td>\n      <td>7.676997e-06</td>\n      <td>7.677009e-06</td>\n      <td>7.677022e-06</td>\n      <td>7.677036e-06</td>\n      <td>7.677048e-06</td>\n      <td>7.677061e-06</td>\n    </tr>\n    <tr>\n      <th>0.252740</th>\n      <td>7.710514e-06</td>\n      <td>7.710504e-06</td>\n      <td>7.710494e-06</td>\n      <td>7.710484e-06</td>\n      <td>7.710475e-06</td>\n      <td>7.710465e-06</td>\n      <td>7.710455e-06</td>\n      <td>7.710445e-06</td>\n      <td>7.710436e-06</td>\n      <td>7.710426e-06</td>\n      <td>...</td>\n      <td>7.672317e-06</td>\n      <td>7.672330e-06</td>\n      <td>7.672343e-06</td>\n      <td>7.672355e-06</td>\n      <td>7.672367e-06</td>\n      <td>7.672380e-06</td>\n      <td>7.672393e-06</td>\n      <td>7.672405e-06</td>\n      <td>7.672417e-06</td>\n      <td>7.672430e-06</td>\n    </tr>\n    <tr>\n      <th>0.260234</th>\n      <td>7.705838e-06</td>\n      <td>7.705828e-06</td>\n      <td>7.705818e-06</td>\n      <td>7.705808e-06</td>\n      <td>7.705798e-06</td>\n      <td>7.705788e-06</td>\n      <td>7.705778e-06</td>\n      <td>7.705768e-06</td>\n      <td>7.705758e-06</td>\n      <td>7.705747e-06</td>\n      <td>...</td>\n      <td>7.667689e-06</td>\n      <td>7.667701e-06</td>\n      <td>7.667713e-06</td>\n      <td>7.667725e-06</td>\n      <td>7.667737e-06</td>\n      <td>7.667749e-06</td>\n      <td>7.667761e-06</td>\n      <td>7.667772e-06</td>\n      <td>7.667784e-06</td>\n      <td>7.667797e-06</td>\n    </tr>\n    <tr>\n      <th>0.267729</th>\n      <td>7.701159e-06</td>\n      <td>7.701148e-06</td>\n      <td>7.701138e-06</td>\n      <td>7.701128e-06</td>\n      <td>7.701117e-06</td>\n      <td>7.701107e-06</td>\n      <td>7.701097e-06</td>\n      <td>7.701087e-06</td>\n      <td>7.701076e-06</td>\n      <td>7.701066e-06</td>\n      <td>...</td>\n      <td>7.663059e-06</td>\n      <td>7.663070e-06</td>\n      <td>7.663081e-06</td>\n      <td>7.663093e-06</td>\n      <td>7.663104e-06</td>\n      <td>7.663116e-06</td>\n      <td>7.663128e-06</td>\n      <td>7.663139e-06</td>\n      <td>7.663150e-06</td>\n      <td>7.663161e-06</td>\n    </tr>\n    <tr>\n      <th>...</th>\n      <td>...</td>\n      <td>...</td>\n      <td>...</td>\n      <td>...</td>\n      <td>...</td>\n      <td>...</td>\n      <td>...</td>\n      <td>...</td>\n      <td>...</td>\n      <td>...</td>\n      <td>...</td>\n      <td>...</td>\n      <td>...</td>\n      <td>...</td>\n      <td>...</td>\n      <td>...</td>\n      <td>...</td>\n      <td>...</td>\n      <td>...</td>\n      <td>...</td>\n      <td>...</td>\n    </tr>\n    <tr>\n      <th>22.684681</th>\n      <td>4.481957e-07</td>\n      <td>4.481972e-07</td>\n      <td>4.481986e-07</td>\n      <td>4.482001e-07</td>\n      <td>4.482016e-07</td>\n      <td>4.482031e-07</td>\n      <td>4.482046e-07</td>\n      <td>4.482060e-07</td>\n      <td>4.482075e-07</td>\n      <td>4.482090e-07</td>\n      <td>...</td>\n      <td>4.473170e-07</td>\n      <td>4.473143e-07</td>\n      <td>4.473115e-07</td>\n      <td>4.473088e-07</td>\n      <td>4.473061e-07</td>\n      <td>4.473034e-07</td>\n      <td>4.473007e-07</td>\n      <td>4.472979e-07</td>\n      <td>4.472952e-07</td>\n      <td>4.472925e-07</td>\n    </tr>\n    <tr>\n      <th>22.692176</th>\n      <td>4.477361e-07</td>\n      <td>4.477376e-07</td>\n      <td>4.477391e-07</td>\n      <td>4.477406e-07</td>\n      <td>4.477421e-07</td>\n      <td>4.477435e-07</td>\n      <td>4.477450e-07</td>\n      <td>4.477465e-07</td>\n      <td>4.477480e-07</td>\n      <td>4.477495e-07</td>\n      <td>...</td>\n      <td>4.468545e-07</td>\n      <td>4.468517e-07</td>\n      <td>4.468490e-07</td>\n      <td>4.468463e-07</td>\n      <td>4.468436e-07</td>\n      <td>4.468408e-07</td>\n      <td>4.468381e-07</td>\n      <td>4.468354e-07</td>\n      <td>4.468326e-07</td>\n      <td>4.468299e-07</td>\n    </tr>\n    <tr>\n      <th>22.699671</th>\n      <td>4.472766e-07</td>\n      <td>4.472781e-07</td>\n      <td>4.472796e-07</td>\n      <td>4.472811e-07</td>\n      <td>4.472826e-07</td>\n      <td>4.472841e-07</td>\n      <td>4.472855e-07</td>\n      <td>4.472870e-07</td>\n      <td>4.472885e-07</td>\n      <td>4.472900e-07</td>\n      <td>...</td>\n      <td>4.463920e-07</td>\n      <td>4.463893e-07</td>\n      <td>4.463865e-07</td>\n      <td>4.463838e-07</td>\n      <td>4.463811e-07</td>\n      <td>4.463783e-07</td>\n      <td>4.463756e-07</td>\n      <td>4.463729e-07</td>\n      <td>4.463701e-07</td>\n      <td>4.463674e-07</td>\n    </tr>\n    <tr>\n      <th>22.707165</th>\n      <td>4.468172e-07</td>\n      <td>4.468187e-07</td>\n      <td>4.468202e-07</td>\n      <td>4.468217e-07</td>\n      <td>4.468232e-07</td>\n      <td>4.468246e-07</td>\n      <td>4.468261e-07</td>\n      <td>4.468276e-07</td>\n      <td>4.468291e-07</td>\n      <td>4.468306e-07</td>\n      <td>...</td>\n      <td>4.459296e-07</td>\n      <td>4.459269e-07</td>\n      <td>4.459241e-07</td>\n      <td>4.459214e-07</td>\n      <td>4.459186e-07</td>\n      <td>4.459159e-07</td>\n      <td>4.459132e-07</td>\n      <td>4.459104e-07</td>\n      <td>4.459077e-07</td>\n      <td>4.459050e-07</td>\n    </tr>\n    <tr>\n      <th>22.714660</th>\n      <td>4.463579e-07</td>\n      <td>4.463593e-07</td>\n      <td>4.463608e-07</td>\n      <td>4.463623e-07</td>\n      <td>4.463638e-07</td>\n      <td>4.463653e-07</td>\n      <td>4.463668e-07</td>\n      <td>4.463682e-07</td>\n      <td>4.463697e-07</td>\n      <td>4.463712e-07</td>\n      <td>...</td>\n      <td>4.454673e-07</td>\n      <td>4.454645e-07</td>\n      <td>4.454618e-07</td>\n      <td>4.454591e-07</td>\n      <td>4.454563e-07</td>\n      <td>4.454536e-07</td>\n      <td>4.454508e-07</td>\n      <td>4.454481e-07</td>\n      <td>4.454453e-07</td>\n      <td>4.454426e-07</td>\n    </tr>\n  </tbody>\n</table>\n<p>3000 rows × 2880 columns</p>\n</div>"
     },
     "execution_count": 14,
     "metadata": {},
     "output_type": "execute_result"
    }
   ],
   "source": [
    "df_test_beta = ds.beta.sel(Wavelength=355).to_pandas()\n",
    "df_test_beta"
   ],
   "metadata": {
    "collapsed": false,
    "pycharm": {
     "name": "#%% retrieve a dataframe from a dataset\n"
    }
   }
  },
  {
   "cell_type": "code",
   "execution_count": 15,
   "outputs": [
    {
     "name": "stdout",
     "output_type": "stream",
     "text": [
      "slicing data set by time\n"
     ]
    },
    {
     "data": {
      "text/plain": "<xarray.Dataset>\nDimensions:     (Height: 3000, Time: 721, Wavelength: 3)\nCoordinates:\n  * Height      (Height) float64 0.2378 0.2452 0.2527 ... 22.7 22.71 22.71\n  * Time        (Time) datetime64[ns] 2017-09-01T00:30:00 ... 2017-09-01T06:3...\n  * Wavelength  (Wavelength) int64 355 532 1064\nData variables:\n    beta        (Wavelength, Height, Time) float32 7.7193035e-06 ... 5.083369...\n    sigma       (Wavelength, Height, Time) float32 6.563899e-05 ... 4.317021e-08\n    attbsc      (Wavelength, Height, Time) float32 7.954642e-06 ... 5.0850297...\n    lambda_nm   (Wavelength) int32 355 532 1064\nAttributes:\n    info:     Daily molecular profiles\n    date:     [datetime.datetime(2017, 9, 1, 0, 0)]",
      "text/html": "<div><svg style=\"position: absolute; width: 0; height: 0; overflow: hidden\">\n<defs>\n<symbol id=\"icon-database\" viewBox=\"0 0 32 32\">\n<path d=\"M16 0c-8.837 0-16 2.239-16 5v4c0 2.761 7.163 5 16 5s16-2.239 16-5v-4c0-2.761-7.163-5-16-5z\"></path>\n<path d=\"M16 17c-8.837 0-16-2.239-16-5v6c0 2.761 7.163 5 16 5s16-2.239 16-5v-6c0 2.761-7.163 5-16 5z\"></path>\n<path d=\"M16 26c-8.837 0-16-2.239-16-5v6c0 2.761 7.163 5 16 5s16-2.239 16-5v-6c0 2.761-7.163 5-16 5z\"></path>\n</symbol>\n<symbol id=\"icon-file-text2\" viewBox=\"0 0 32 32\">\n<path d=\"M28.681 7.159c-0.694-0.947-1.662-2.053-2.724-3.116s-2.169-2.030-3.116-2.724c-1.612-1.182-2.393-1.319-2.841-1.319h-15.5c-1.378 0-2.5 1.121-2.5 2.5v27c0 1.378 1.122 2.5 2.5 2.5h23c1.378 0 2.5-1.122 2.5-2.5v-19.5c0-0.448-0.137-1.23-1.319-2.841zM24.543 5.457c0.959 0.959 1.712 1.825 2.268 2.543h-4.811v-4.811c0.718 0.556 1.584 1.309 2.543 2.268zM28 29.5c0 0.271-0.229 0.5-0.5 0.5h-23c-0.271 0-0.5-0.229-0.5-0.5v-27c0-0.271 0.229-0.5 0.5-0.5 0 0 15.499-0 15.5 0v7c0 0.552 0.448 1 1 1h7v19.5z\"></path>\n<path d=\"M23 26h-14c-0.552 0-1-0.448-1-1s0.448-1 1-1h14c0.552 0 1 0.448 1 1s-0.448 1-1 1z\"></path>\n<path d=\"M23 22h-14c-0.552 0-1-0.448-1-1s0.448-1 1-1h14c0.552 0 1 0.448 1 1s-0.448 1-1 1z\"></path>\n<path d=\"M23 18h-14c-0.552 0-1-0.448-1-1s0.448-1 1-1h14c0.552 0 1 0.448 1 1s-0.448 1-1 1z\"></path>\n</symbol>\n</defs>\n</svg>\n<style>/* CSS stylesheet for displaying xarray objects in jupyterlab.\n *\n */\n\n:root {\n  --xr-font-color0: var(--jp-content-font-color0, rgba(0, 0, 0, 1));\n  --xr-font-color2: var(--jp-content-font-color2, rgba(0, 0, 0, 0.54));\n  --xr-font-color3: var(--jp-content-font-color3, rgba(0, 0, 0, 0.38));\n  --xr-border-color: var(--jp-border-color2, #e0e0e0);\n  --xr-disabled-color: var(--jp-layout-color3, #bdbdbd);\n  --xr-background-color: var(--jp-layout-color0, white);\n  --xr-background-color-row-even: var(--jp-layout-color1, white);\n  --xr-background-color-row-odd: var(--jp-layout-color2, #eeeeee);\n}\n\nhtml[theme=dark],\nbody.vscode-dark {\n  --xr-font-color0: rgba(255, 255, 255, 1);\n  --xr-font-color2: rgba(255, 255, 255, 0.54);\n  --xr-font-color3: rgba(255, 255, 255, 0.38);\n  --xr-border-color: #1F1F1F;\n  --xr-disabled-color: #515151;\n  --xr-background-color: #111111;\n  --xr-background-color-row-even: #111111;\n  --xr-background-color-row-odd: #313131;\n}\n\n.xr-wrap {\n  display: block;\n  min-width: 300px;\n  max-width: 700px;\n}\n\n.xr-text-repr-fallback {\n  /* fallback to plain text repr when CSS is not injected (untrusted notebook) */\n  display: none;\n}\n\n.xr-header {\n  padding-top: 6px;\n  padding-bottom: 6px;\n  margin-bottom: 4px;\n  border-bottom: solid 1px var(--xr-border-color);\n}\n\n.xr-header > div,\n.xr-header > ul {\n  display: inline;\n  margin-top: 0;\n  margin-bottom: 0;\n}\n\n.xr-obj-type,\n.xr-array-name {\n  margin-left: 2px;\n  margin-right: 10px;\n}\n\n.xr-obj-type {\n  color: var(--xr-font-color2);\n}\n\n.xr-sections {\n  padding-left: 0 !important;\n  display: grid;\n  grid-template-columns: 150px auto auto 1fr 20px 20px;\n}\n\n.xr-section-item {\n  display: contents;\n}\n\n.xr-section-item input {\n  display: none;\n}\n\n.xr-section-item input + label {\n  color: var(--xr-disabled-color);\n}\n\n.xr-section-item input:enabled + label {\n  cursor: pointer;\n  color: var(--xr-font-color2);\n}\n\n.xr-section-item input:enabled + label:hover {\n  color: var(--xr-font-color0);\n}\n\n.xr-section-summary {\n  grid-column: 1;\n  color: var(--xr-font-color2);\n  font-weight: 500;\n}\n\n.xr-section-summary > span {\n  display: inline-block;\n  padding-left: 0.5em;\n}\n\n.xr-section-summary-in:disabled + label {\n  color: var(--xr-font-color2);\n}\n\n.xr-section-summary-in + label:before {\n  display: inline-block;\n  content: '►';\n  font-size: 11px;\n  width: 15px;\n  text-align: center;\n}\n\n.xr-section-summary-in:disabled + label:before {\n  color: var(--xr-disabled-color);\n}\n\n.xr-section-summary-in:checked + label:before {\n  content: '▼';\n}\n\n.xr-section-summary-in:checked + label > span {\n  display: none;\n}\n\n.xr-section-summary,\n.xr-section-inline-details {\n  padding-top: 4px;\n  padding-bottom: 4px;\n}\n\n.xr-section-inline-details {\n  grid-column: 2 / -1;\n}\n\n.xr-section-details {\n  display: none;\n  grid-column: 1 / -1;\n  margin-bottom: 5px;\n}\n\n.xr-section-summary-in:checked ~ .xr-section-details {\n  display: contents;\n}\n\n.xr-array-wrap {\n  grid-column: 1 / -1;\n  display: grid;\n  grid-template-columns: 20px auto;\n}\n\n.xr-array-wrap > label {\n  grid-column: 1;\n  vertical-align: top;\n}\n\n.xr-preview {\n  color: var(--xr-font-color3);\n}\n\n.xr-array-preview,\n.xr-array-data {\n  padding: 0 5px !important;\n  grid-column: 2;\n}\n\n.xr-array-data,\n.xr-array-in:checked ~ .xr-array-preview {\n  display: none;\n}\n\n.xr-array-in:checked ~ .xr-array-data,\n.xr-array-preview {\n  display: inline-block;\n}\n\n.xr-dim-list {\n  display: inline-block !important;\n  list-style: none;\n  padding: 0 !important;\n  margin: 0;\n}\n\n.xr-dim-list li {\n  display: inline-block;\n  padding: 0;\n  margin: 0;\n}\n\n.xr-dim-list:before {\n  content: '(';\n}\n\n.xr-dim-list:after {\n  content: ')';\n}\n\n.xr-dim-list li:not(:last-child):after {\n  content: ',';\n  padding-right: 5px;\n}\n\n.xr-has-index {\n  font-weight: bold;\n}\n\n.xr-var-list,\n.xr-var-item {\n  display: contents;\n}\n\n.xr-var-item > div,\n.xr-var-item label,\n.xr-var-item > .xr-var-name span {\n  background-color: var(--xr-background-color-row-even);\n  margin-bottom: 0;\n}\n\n.xr-var-item > .xr-var-name:hover span {\n  padding-right: 5px;\n}\n\n.xr-var-list > li:nth-child(odd) > div,\n.xr-var-list > li:nth-child(odd) > label,\n.xr-var-list > li:nth-child(odd) > .xr-var-name span {\n  background-color: var(--xr-background-color-row-odd);\n}\n\n.xr-var-name {\n  grid-column: 1;\n}\n\n.xr-var-dims {\n  grid-column: 2;\n}\n\n.xr-var-dtype {\n  grid-column: 3;\n  text-align: right;\n  color: var(--xr-font-color2);\n}\n\n.xr-var-preview {\n  grid-column: 4;\n}\n\n.xr-var-name,\n.xr-var-dims,\n.xr-var-dtype,\n.xr-preview,\n.xr-attrs dt {\n  white-space: nowrap;\n  overflow: hidden;\n  text-overflow: ellipsis;\n  padding-right: 10px;\n}\n\n.xr-var-name:hover,\n.xr-var-dims:hover,\n.xr-var-dtype:hover,\n.xr-attrs dt:hover {\n  overflow: visible;\n  width: auto;\n  z-index: 1;\n}\n\n.xr-var-attrs,\n.xr-var-data {\n  display: none;\n  background-color: var(--xr-background-color) !important;\n  padding-bottom: 5px !important;\n}\n\n.xr-var-attrs-in:checked ~ .xr-var-attrs,\n.xr-var-data-in:checked ~ .xr-var-data {\n  display: block;\n}\n\n.xr-var-data > table {\n  float: right;\n}\n\n.xr-var-name span,\n.xr-var-data,\n.xr-attrs {\n  padding-left: 25px !important;\n}\n\n.xr-attrs,\n.xr-var-attrs,\n.xr-var-data {\n  grid-column: 1 / -1;\n}\n\ndl.xr-attrs {\n  padding: 0;\n  margin: 0;\n  display: grid;\n  grid-template-columns: 125px auto;\n}\n\n.xr-attrs dt, dd {\n  padding: 0;\n  margin: 0;\n  float: left;\n  padding-right: 10px;\n  width: auto;\n}\n\n.xr-attrs dt {\n  font-weight: normal;\n  grid-column: 1;\n}\n\n.xr-attrs dt:hover span {\n  display: inline-block;\n  background: var(--xr-background-color);\n  padding-right: 10px;\n}\n\n.xr-attrs dd {\n  grid-column: 2;\n  white-space: pre-wrap;\n  word-break: break-all;\n}\n\n.xr-icon-database,\n.xr-icon-file-text2 {\n  display: inline-block;\n  vertical-align: middle;\n  width: 1em;\n  height: 1.5em !important;\n  stroke-width: 0;\n  stroke: currentColor;\n  fill: currentColor;\n}\n</style><pre class='xr-text-repr-fallback'>&lt;xarray.Dataset&gt;\nDimensions:     (Height: 3000, Time: 721, Wavelength: 3)\nCoordinates:\n  * Height      (Height) float64 0.2378 0.2452 0.2527 ... 22.7 22.71 22.71\n  * Time        (Time) datetime64[ns] 2017-09-01T00:30:00 ... 2017-09-01T06:3...\n  * Wavelength  (Wavelength) int64 355 532 1064\nData variables:\n    beta        (Wavelength, Height, Time) float32 7.7193035e-06 ... 5.083369...\n    sigma       (Wavelength, Height, Time) float32 6.563899e-05 ... 4.317021e-08\n    attbsc      (Wavelength, Height, Time) float32 7.954642e-06 ... 5.0850297...\n    lambda_nm   (Wavelength) int32 355 532 1064\nAttributes:\n    info:     Daily molecular profiles\n    date:     [datetime.datetime(2017, 9, 1, 0, 0)]</pre><div class='xr-wrap' hidden><div class='xr-header'><div class='xr-obj-type'>xarray.Dataset</div></div><ul class='xr-sections'><li class='xr-section-item'><input id='section-6e15035c-7b5b-4aea-82d5-640588d91cf3' class='xr-section-summary-in' type='checkbox' disabled ><label for='section-6e15035c-7b5b-4aea-82d5-640588d91cf3' class='xr-section-summary'  title='Expand/collapse section'>Dimensions:</label><div class='xr-section-inline-details'><ul class='xr-dim-list'><li><span class='xr-has-index'>Height</span>: 3000</li><li><span class='xr-has-index'>Time</span>: 721</li><li><span class='xr-has-index'>Wavelength</span>: 3</li></ul></div><div class='xr-section-details'></div></li><li class='xr-section-item'><input id='section-3eb4bd1a-178a-4be8-ac20-ea2a7b403e68' class='xr-section-summary-in' type='checkbox'  checked><label for='section-3eb4bd1a-178a-4be8-ac20-ea2a7b403e68' class='xr-section-summary' >Coordinates: <span>(3)</span></label><div class='xr-section-inline-details'></div><div class='xr-section-details'><ul class='xr-var-list'><li class='xr-var-item'><div class='xr-var-name'><span class='xr-has-index'>Height</span></div><div class='xr-var-dims'>(Height)</div><div class='xr-var-dtype'>float64</div><div class='xr-var-preview xr-preview'>0.2378 0.2452 ... 22.71 22.71</div><input id='attrs-c7fceb12-21c5-45b0-a06c-e9bde35a56b9' class='xr-var-attrs-in' type='checkbox' ><label for='attrs-c7fceb12-21c5-45b0-a06c-e9bde35a56b9' title='Show/Hide attributes'><svg class='icon xr-icon-file-text2'><use xlink:href='#icon-file-text2'></use></svg></label><input id='data-a7c0835a-62cf-4ce7-9594-150a9a4a54c7' class='xr-var-data-in' type='checkbox'><label for='data-a7c0835a-62cf-4ce7-9594-150a9a4a54c7' title='Show/Hide data repr'><svg class='icon xr-icon-database'><use xlink:href='#icon-database'></use></svg></label><div class='xr-var-attrs'><dl class='xr-attrs'><dt><span>units :</span></dt><dd>Km</dd></dl></div><div class='xr-var-data'><pre>array([ 0.23775 ,  0.245245,  0.25274 , ..., 22.699671, 22.707165, 22.71466 ])</pre></div></li><li class='xr-var-item'><div class='xr-var-name'><span class='xr-has-index'>Time</span></div><div class='xr-var-dims'>(Time)</div><div class='xr-var-dtype'>datetime64[ns]</div><div class='xr-var-preview xr-preview'>2017-09-01T00:30:00 ... 2017-09-...</div><input id='attrs-817eeb59-a7b1-41a0-a27d-cf7001def8da' class='xr-var-attrs-in' type='checkbox' disabled><label for='attrs-817eeb59-a7b1-41a0-a27d-cf7001def8da' title='Show/Hide attributes'><svg class='icon xr-icon-file-text2'><use xlink:href='#icon-file-text2'></use></svg></label><input id='data-27dc71a8-3136-491e-8f22-935ff5253d72' class='xr-var-data-in' type='checkbox'><label for='data-27dc71a8-3136-491e-8f22-935ff5253d72' title='Show/Hide data repr'><svg class='icon xr-icon-database'><use xlink:href='#icon-database'></use></svg></label><div class='xr-var-attrs'><dl class='xr-attrs'></dl></div><div class='xr-var-data'><pre>array([&#x27;2017-09-01T00:30:00.000000000&#x27;, &#x27;2017-09-01T00:30:30.000000000&#x27;,\n       &#x27;2017-09-01T00:31:00.000000000&#x27;, ..., &#x27;2017-09-01T06:29:00.000000000&#x27;,\n       &#x27;2017-09-01T06:29:30.000000000&#x27;, &#x27;2017-09-01T06:30:00.000000000&#x27;],\n      dtype=&#x27;datetime64[ns]&#x27;)</pre></div></li><li class='xr-var-item'><div class='xr-var-name'><span class='xr-has-index'>Wavelength</span></div><div class='xr-var-dims'>(Wavelength)</div><div class='xr-var-dtype'>int64</div><div class='xr-var-preview xr-preview'>355 532 1064</div><input id='attrs-f5cdc3b5-2ce8-45e2-bdc1-5ebfd6d8af2a' class='xr-var-attrs-in' type='checkbox' ><label for='attrs-f5cdc3b5-2ce8-45e2-bdc1-5ebfd6d8af2a' title='Show/Hide attributes'><svg class='icon xr-icon-file-text2'><use xlink:href='#icon-file-text2'></use></svg></label><input id='data-72d5ef3b-bfdc-4e12-9b00-c27e2bc2083d' class='xr-var-data-in' type='checkbox'><label for='data-72d5ef3b-bfdc-4e12-9b00-c27e2bc2083d' title='Show/Hide data repr'><svg class='icon xr-icon-database'><use xlink:href='#icon-database'></use></svg></label><div class='xr-var-attrs'><dl class='xr-attrs'><dt><span>long_name :</span></dt><dd>$\\lambda$</dd><dt><span>units :</span></dt><dd>$nm$</dd></dl></div><div class='xr-var-data'><pre>array([ 355,  532, 1064], dtype=int64)</pre></div></li></ul></div></li><li class='xr-section-item'><input id='section-7fb72505-a09d-447a-89bd-65667110538c' class='xr-section-summary-in' type='checkbox'  checked><label for='section-7fb72505-a09d-447a-89bd-65667110538c' class='xr-section-summary' >Data variables: <span>(4)</span></label><div class='xr-section-inline-details'></div><div class='xr-section-details'><ul class='xr-var-list'><li class='xr-var-item'><div class='xr-var-name'><span>beta</span></div><div class='xr-var-dims'>(Wavelength, Height, Time)</div><div class='xr-var-dtype'>float32</div><div class='xr-var-preview xr-preview'>7.7193035e-06 ... 5.0833693e-09</div><input id='attrs-37ef6608-02d8-4e91-92e1-9171e8697461' class='xr-var-attrs-in' type='checkbox' ><label for='attrs-37ef6608-02d8-4e91-92e1-9171e8697461' title='Show/Hide attributes'><svg class='icon xr-icon-file-text2'><use xlink:href='#icon-file-text2'></use></svg></label><input id='data-b6f8077b-49ec-4acb-8a1e-de6e07588be8' class='xr-var-data-in' type='checkbox'><label for='data-b6f8077b-49ec-4acb-8a1e-de6e07588be8' title='Show/Hide data repr'><svg class='icon xr-icon-database'><use xlink:href='#icon-database'></use></svg></label><div class='xr-var-attrs'><dl class='xr-attrs'><dt><span>long_name :</span></dt><dd>$\\beta$</dd><dt><span>units :</span></dt><dd>$1/m \\cdot sr$</dd><dt><span>info :</span></dt><dd>Daily molecular backscatter coefficient</dd></dl></div><div class='xr-var-data'><pre>array([[[7.7193035e-06, 7.7192944e-06, 7.7192853e-06, ...,\n         7.6984152e-06, 7.6983733e-06, 7.6983306e-06],\n        [7.7146160e-06, 7.7146069e-06, 7.7145969e-06, ...,\n         7.6938104e-06, 7.6937686e-06, 7.6937258e-06],\n        [7.7099276e-06, 7.7099176e-06, 7.7099075e-06, ...,\n         7.6892029e-06, 7.6891620e-06, 7.6891201e-06],\n        ...,\n        [4.4736552e-07, 4.4736700e-07, 4.4736848e-07, ...,\n         4.4871132e-07, 4.4871118e-07, 4.4871106e-07],\n        [4.4690620e-07, 4.4690768e-07, 4.4690916e-07, ...,\n         4.4825219e-07, 4.4825205e-07, 4.4825194e-07],\n        [4.4644693e-07, 4.4644844e-07, 4.4644992e-07, ...,\n         4.4779313e-07, 4.4779301e-07, 4.4779287e-07]],\n\n       [[1.4468451e-06, 1.4468433e-06, 1.4468415e-06, ...,\n         1.4428732e-06, 1.4428651e-06, 1.4428572e-06],\n        [1.4459669e-06, 1.4459650e-06, 1.4459632e-06, ...,\n         1.4420103e-06, 1.4420024e-06, 1.4419944e-06],\n        [1.4450884e-06, 1.4450865e-06, 1.4450845e-06, ...,\n         1.4411471e-06, 1.4411393e-06, 1.4411314e-06],\n...\n        [8.3882057e-08, 8.3882334e-08, 8.3882611e-08, ...,\n         8.4134399e-08, 8.4134371e-08, 8.4134349e-08],\n        [8.3795932e-08, 8.3796209e-08, 8.3796493e-08, ...,\n         8.4048310e-08, 8.4048288e-08, 8.4048260e-08],\n        [8.3709821e-08, 8.3710098e-08, 8.3710376e-08, ...,\n         8.3962234e-08, 8.3962213e-08, 8.3962185e-08]],\n\n       [[8.7575785e-08, 8.7575671e-08, 8.7575557e-08, ...,\n         8.7333135e-08, 8.7332644e-08, 8.7332154e-08],\n        [8.7522643e-08, 8.7522530e-08, 8.7522409e-08, ...,\n         8.7280917e-08, 8.7280434e-08, 8.7279950e-08],\n        [8.7469481e-08, 8.7469360e-08, 8.7469239e-08, ...,\n         8.7228685e-08, 8.7228209e-08, 8.7227725e-08],\n        ...,\n        [5.0785181e-09, 5.0785349e-09, 5.0785514e-09, ...,\n         5.0937952e-09, 5.0937938e-09, 5.0937925e-09],\n        [5.0733036e-09, 5.0733204e-09, 5.0733373e-09, ...,\n         5.0885833e-09, 5.0885820e-09, 5.0885807e-09],\n        [5.0680899e-09, 5.0681068e-09, 5.0681237e-09, ...,\n         5.0833719e-09, 5.0833706e-09, 5.0833693e-09]]], dtype=float32)</pre></div></li><li class='xr-var-item'><div class='xr-var-name'><span>sigma</span></div><div class='xr-var-dims'>(Wavelength, Height, Time)</div><div class='xr-var-dtype'>float32</div><div class='xr-var-preview xr-preview'>6.563899e-05 ... 4.317021e-08</div><input id='attrs-ad419435-a844-44ff-b1c8-c1fcd11feac2' class='xr-var-attrs-in' type='checkbox' ><label for='attrs-ad419435-a844-44ff-b1c8-c1fcd11feac2' title='Show/Hide attributes'><svg class='icon xr-icon-file-text2'><use xlink:href='#icon-file-text2'></use></svg></label><input id='data-2288c14c-5de5-41c4-b24a-a40676ad75cf' class='xr-var-data-in' type='checkbox'><label for='data-2288c14c-5de5-41c4-b24a-a40676ad75cf' title='Show/Hide data repr'><svg class='icon xr-icon-database'><use xlink:href='#icon-database'></use></svg></label><div class='xr-var-attrs'><dl class='xr-attrs'><dt><span>long_name :</span></dt><dd>$\\sigma$</dd><dt><span>units :</span></dt><dd>$1/m $</dd><dt><span>info :</span></dt><dd>Daily molecular attenuation coefficient</dd></dl></div><div class='xr-var-data'><pre>array([[[6.5638989e-05, 6.5638909e-05, 6.5638822e-05, ...,\n         6.5459397e-05, 6.5459033e-05, 6.5458662e-05],\n        [6.5599146e-05, 6.5599059e-05, 6.5598972e-05, ...,\n         6.5420245e-05, 6.5419881e-05, 6.5419525e-05],\n        [6.5559281e-05, 6.5559194e-05, 6.5559107e-05, ...,\n         6.5381078e-05, 6.5380722e-05, 6.5380373e-05],\n        ...,\n        [3.8051835e-06, 3.8051960e-06, 3.8052085e-06, ...,\n         3.8166304e-06, 3.8166295e-06, 3.8166281e-06],\n        [3.8012765e-06, 3.8012890e-06, 3.8013018e-06, ...,\n         3.8127253e-06, 3.8127241e-06, 3.8127230e-06],\n        [3.7973703e-06, 3.7973828e-06, 3.7973955e-06, ...,\n         3.8088206e-06, 3.8088194e-06, 3.8088183e-06]],\n\n       [[1.2289896e-05, 1.2289881e-05, 1.2289865e-05, ...,\n         1.2255813e-05, 1.2255745e-05, 1.2255676e-05],\n        [1.2282439e-05, 1.2282422e-05, 1.2282406e-05, ...,\n         1.2248485e-05, 1.2248418e-05, 1.2248350e-05],\n        [1.2274978e-05, 1.2274962e-05, 1.2274944e-05, ...,\n         1.2241155e-05, 1.2241088e-05, 1.2241021e-05],\n...\n        [7.1271455e-07, 7.1271688e-07, 7.1271927e-07, ...,\n         7.1485857e-07, 7.1485834e-07, 7.1485817e-07],\n        [7.1198275e-07, 7.1198514e-07, 7.1198752e-07, ...,\n         7.1412711e-07, 7.1412694e-07, 7.1412671e-07],\n        [7.1125112e-07, 7.1125351e-07, 7.1125584e-07, ...,\n         7.1339576e-07, 7.1339559e-07, 7.1339537e-07]],\n\n       [[7.4353318e-07, 7.4353215e-07, 7.4353119e-07, ...,\n         7.4145288e-07, 7.4144867e-07, 7.4144452e-07],\n        [7.4308207e-07, 7.4308105e-07, 7.4308002e-07, ...,\n         7.4100967e-07, 7.4100552e-07, 7.4100137e-07],\n        [7.4263085e-07, 7.4262977e-07, 7.4262874e-07, ...,\n         7.4056624e-07, 7.4056220e-07, 7.4055811e-07],\n        ...,\n        [4.3129013e-08, 4.3129155e-08, 4.3129297e-08, ...,\n         4.3258755e-08, 4.3258744e-08, 4.3258730e-08],\n        [4.3084732e-08, 4.3084874e-08, 4.3085016e-08, ...,\n         4.3214492e-08, 4.3214481e-08, 4.3214470e-08],\n        [4.3040455e-08, 4.3040597e-08, 4.3040743e-08, ...,\n         4.3170235e-08, 4.3170225e-08, 4.3170211e-08]]], dtype=float32)</pre></div></li><li class='xr-var-item'><div class='xr-var-name'><span>attbsc</span></div><div class='xr-var-dims'>(Wavelength, Height, Time)</div><div class='xr-var-dtype'>float32</div><div class='xr-var-preview xr-preview'>7.954642e-06 ... 5.0850297e-09</div><input id='attrs-2b806e20-1f97-4109-a68e-222973010c05' class='xr-var-attrs-in' type='checkbox' ><label for='attrs-2b806e20-1f97-4109-a68e-222973010c05' title='Show/Hide attributes'><svg class='icon xr-icon-file-text2'><use xlink:href='#icon-file-text2'></use></svg></label><input id='data-e3794a8d-63c6-4200-aa2a-5aed6791cbb9' class='xr-var-data-in' type='checkbox'><label for='data-e3794a8d-63c6-4200-aa2a-5aed6791cbb9' title='Show/Hide data repr'><svg class='icon xr-icon-database'><use xlink:href='#icon-database'></use></svg></label><div class='xr-var-attrs'><dl class='xr-attrs'><dt><span>long_name :</span></dt><dd>$\\beta \\cdot \\exp(-2\\tau)$</dd><dt><span>units :</span></dt><dd>$1/m \\cdot sr$</dd><dt><span>info :</span></dt><dd>Daily molecular attenuated backscatter coefficient</dd></dl></div><div class='xr-var-data'><pre>array([[[7.9546417e-06, 7.9546317e-06, 7.9546217e-06, ...,\n         7.9324645e-06, 7.9324200e-06, 7.9323745e-06],\n        [7.9498031e-06, 7.9497931e-06, 7.9497831e-06, ...,\n         7.9277115e-06, 7.9276670e-06, 7.9276224e-06],\n        [7.9449637e-06, 7.9449528e-06, 7.9449428e-06, ...,\n         7.9229567e-06, 7.9229130e-06, 7.9228685e-06],\n        ...,\n        [4.6049294e-07, 4.6049445e-07, 4.6049595e-07, ...,\n         4.6184007e-07, 4.6183987e-07, 4.6183968e-07],\n        [4.6002012e-07, 4.6002162e-07, 4.6002313e-07, ...,\n         4.6136751e-07, 4.6136728e-07, 4.6136708e-07],\n        [4.5954735e-07, 4.5954886e-07, 4.5955039e-07, ...,\n         4.6089497e-07, 4.6089477e-07, 4.6089457e-07]],\n\n       [[1.4550036e-06, 1.4550017e-06, 1.4549998e-06, ...,\n         1.4509866e-06, 1.4509785e-06, 1.4509703e-06],\n        [1.4541201e-06, 1.4541182e-06, 1.4541163e-06, ...,\n         1.4501186e-06, 1.4501106e-06, 1.4501026e-06],\n        [1.4532363e-06, 1.4532344e-06, 1.4532325e-06, ...,\n         1.4492502e-06, 1.4492424e-06, 1.4492344e-06],\n...\n        [8.4337515e-08, 8.4337792e-08, 8.4338076e-08, ...,\n         8.4589900e-08, 8.4589871e-08, 8.4589843e-08],\n        [8.4250921e-08, 8.4251205e-08, 8.4251482e-08, ...,\n         8.4503348e-08, 8.4503320e-08, 8.4503291e-08],\n        [8.4164341e-08, 8.4164618e-08, 8.4164903e-08, ...,\n         8.4416804e-08, 8.4416776e-08, 8.4416747e-08]],\n\n       [[8.7605585e-08, 8.7605471e-08, 8.7605358e-08, ...,\n         8.7362771e-08, 8.7362281e-08, 8.7361791e-08],\n        [8.7552422e-08, 8.7552301e-08, 8.7552188e-08, ...,\n         8.7310532e-08, 8.7310049e-08, 8.7309566e-08],\n        [8.7499238e-08, 8.7499117e-08, 8.7498996e-08, ...,\n         8.7258279e-08, 8.7257803e-08, 8.7257320e-08],\n        ...,\n        [5.0801821e-09, 5.0801989e-09, 5.0802154e-09, ...,\n         5.0954596e-09, 5.0954578e-09, 5.0954565e-09],\n        [5.0749658e-09, 5.0749827e-09, 5.0749995e-09, ...,\n         5.0902460e-09, 5.0902442e-09, 5.0902429e-09],\n        [5.0697508e-09, 5.0697677e-09, 5.0697846e-09, ...,\n         5.0850328e-09, 5.0850315e-09, 5.0850297e-09]]], dtype=float32)</pre></div></li><li class='xr-var-item'><div class='xr-var-name'><span>lambda_nm</span></div><div class='xr-var-dims'>(Wavelength)</div><div class='xr-var-dtype'>int32</div><div class='xr-var-preview xr-preview'>355 532 1064</div><input id='attrs-994fc238-88b9-4365-8560-f27c5926b9dd' class='xr-var-attrs-in' type='checkbox' disabled><label for='attrs-994fc238-88b9-4365-8560-f27c5926b9dd' title='Show/Hide attributes'><svg class='icon xr-icon-file-text2'><use xlink:href='#icon-file-text2'></use></svg></label><input id='data-52d9aa8a-9dc4-487d-8931-54086dd5f582' class='xr-var-data-in' type='checkbox'><label for='data-52d9aa8a-9dc4-487d-8931-54086dd5f582' title='Show/Hide data repr'><svg class='icon xr-icon-database'><use xlink:href='#icon-database'></use></svg></label><div class='xr-var-attrs'><dl class='xr-attrs'></dl></div><div class='xr-var-data'><pre>array([ 355,  532, 1064])</pre></div></li></ul></div></li><li class='xr-section-item'><input id='section-7d284b65-ae40-4700-894b-33c6046f575c' class='xr-section-summary-in' type='checkbox'  checked><label for='section-7d284b65-ae40-4700-894b-33c6046f575c' class='xr-section-summary' >Attributes: <span>(2)</span></label><div class='xr-section-inline-details'></div><div class='xr-section-details'><dl class='xr-attrs'><dt><span>info :</span></dt><dd>Daily molecular profiles</dd><dt><span>date :</span></dt><dd>[datetime.datetime(2017, 9, 1, 0, 0)]</dd></dl></div></li></ul></div></div>"
     },
     "execution_count": 15,
     "metadata": {},
     "output_type": "execute_result"
    }
   ],
   "source": [
    "start_time = datetime(2017,9,1,0,30)\n",
    "end_time = start_time + timedelta(hours = 6) #datetime(2017,9,1,12,30)\n",
    "timestamps = pd.date_range ( start = start_time , end = end_time  ,\n",
    "                             freq = timedelta ( seconds = 30 ) )\n",
    "#slice_beta= mol_xr.loc['beta'].to_pandas().loc[:,timestamps]\n",
    "print('slicing data set by time')\n",
    "sub_ds = ds.sel(Time =slice(start_time,end_time))#  timestamps).plot()#=slice(start_time,start_time+timedelta(hours = 6)))\n",
    "\n",
    "sub_ds"
   ],
   "metadata": {
    "collapsed": false,
    "pycharm": {
     "name": "#%% slicing dataset by time\n"
    }
   }
  },
  {
   "cell_type": "code",
   "execution_count": 16,
   "outputs": [
    {
     "name": "stdout",
     "output_type": "stream",
     "text": [
      "profile:beta, wavelength: 355, size:32.98 MB\n",
      "profile:beta, wavelength: 532, size:32.98 MB\n",
      "profile:beta, wavelength: 1064, size:32.98 MB\n",
      "profile:sigma, wavelength: 355, size:32.98 MB\n",
      "profile:sigma, wavelength: 532, size:32.98 MB\n",
      "profile:sigma, wavelength: 1064, size:32.98 MB\n",
      "profile:attbsc, wavelength: 355, size:32.98 MB\n",
      "profile:attbsc, wavelength: 532, size:32.98 MB\n",
      "profile:attbsc, wavelength: 1064, size:32.98 MB\n",
      "total size of data set is at least:296.84 MB\n"
     ]
    },
    {
     "data": {
      "text/plain": "\"\\n# 'sys.getsizeof' is not exactly giving the real size of the dataset, mabey just of the keys? or fiedls?\\nprint(humanbytes(sys.getsizeof(ds)))\\nprint(humanbytes(sys.getsizeof(ds.coords)))\\nprint(humanbytes(sys.getsizeof(ds.data_vars)))\\nprint(humanbytes(sys.getsizeof(ds.dims)))\\n\""
     },
     "execution_count": 16,
     "metadata": {},
     "output_type": "execute_result"
    }
   ],
   "source": [
    "profileTypes = list(ds.data_vars)[:-1]\n",
    "total_size =0\n",
    "for prof in profileTypes:\n",
    "\tfor wav in ds.Wavelength.values:\n",
    "\t\ttmp_prof = (ds[prof]).sel(Wavelength=wav).to_pandas()\n",
    "\t\tcursize = tmp_prof.memory_usage(deep=True).sum()\n",
    "\t\tprint('profile:{}, wavelength: {}, size:{}'.format(prof,wav,humanbytes(cursize)))\n",
    "\t\ttotal_size+=cursize\n",
    "\n",
    "print('total size of data set is at least:{}'.format(humanbytes(total_size)))\n",
    "\n",
    "'''\n",
    "# 'sys.getsizeof' is not exactly giving the real size of the dataset, maybe just of the keys? or fields?\n",
    "print(humanbytes(sys.getsizeof(ds)))\n",
    "print(humanbytes(sys.getsizeof(ds.coords)))\n",
    "print(humanbytes(sys.getsizeof(ds.data_vars)))\n",
    "print(humanbytes(sys.getsizeof(ds.dims)))\n",
    "'''"
   ],
   "metadata": {
    "collapsed": false,
    "pycharm": {
     "name": "#%% calculate size of the dataset\n"
    }
   }
  },
  {
   "cell_type": "code",
   "execution_count": 18,
   "outputs": [
    {
     "ename": "TypeError",
     "evalue": "illegal data type for attribute b'date', must be one of dict_keys(['S1', 'i1', 'u1', 'i2', 'u2', 'i4', 'u4', 'i8', 'u8', 'f4', 'f8']), got O",
     "output_type": "error",
     "traceback": [
      "\u001B[1;31m---------------------------------------------------------------------------\u001B[0m",
      "\u001B[1;31mTypeError\u001B[0m                                 Traceback (most recent call last)",
      "\u001B[1;32m<ipython-input-18-2cbe275955a6>\u001B[0m in \u001B[0;36m<module>\u001B[1;34m\u001B[0m\n\u001B[0;32m     13\u001B[0m \u001B[1;33m\u001B[0m\u001B[0m\n\u001B[0;32m     14\u001B[0m \u001B[1;33m\u001B[0m\u001B[0m\n\u001B[1;32m---> 15\u001B[1;33m \u001B[0mds\u001B[0m\u001B[1;33m.\u001B[0m\u001B[0mto_netcdf\u001B[0m\u001B[1;33m(\u001B[0m\u001B[0mncpath\u001B[0m\u001B[1;33m,\u001B[0m\u001B[0mmode\u001B[0m\u001B[1;33m=\u001B[0m \u001B[1;34m'w'\u001B[0m\u001B[1;33m,\u001B[0m\u001B[0mformat\u001B[0m\u001B[1;33m=\u001B[0m \u001B[1;34m'NETCDF4'\u001B[0m\u001B[1;33m)\u001B[0m\u001B[1;33m\u001B[0m\u001B[1;33m\u001B[0m\u001B[0m\n\u001B[0m",
      "\u001B[1;32m~\\.conda\\envs\\lidar\\lib\\site-packages\\xarray\\core\\dataset.py\u001B[0m in \u001B[0;36mto_netcdf\u001B[1;34m(self, path, mode, format, group, engine, encoding, unlimited_dims, compute, invalid_netcdf)\u001B[0m\n\u001B[0;32m   1555\u001B[0m         \u001B[1;32mfrom\u001B[0m \u001B[1;33m.\u001B[0m\u001B[1;33m.\u001B[0m\u001B[0mbackends\u001B[0m\u001B[1;33m.\u001B[0m\u001B[0mapi\u001B[0m \u001B[1;32mimport\u001B[0m \u001B[0mto_netcdf\u001B[0m\u001B[1;33m\u001B[0m\u001B[1;33m\u001B[0m\u001B[0m\n\u001B[0;32m   1556\u001B[0m \u001B[1;33m\u001B[0m\u001B[0m\n\u001B[1;32m-> 1557\u001B[1;33m         return to_netcdf(\n\u001B[0m\u001B[0;32m   1558\u001B[0m             \u001B[0mself\u001B[0m\u001B[1;33m,\u001B[0m\u001B[1;33m\u001B[0m\u001B[1;33m\u001B[0m\u001B[0m\n\u001B[0;32m   1559\u001B[0m             \u001B[0mpath\u001B[0m\u001B[1;33m,\u001B[0m\u001B[1;33m\u001B[0m\u001B[1;33m\u001B[0m\u001B[0m\n",
      "\u001B[1;32m~\\.conda\\envs\\lidar\\lib\\site-packages\\xarray\\backends\\api.py\u001B[0m in \u001B[0;36mto_netcdf\u001B[1;34m(dataset, path_or_file, mode, format, group, engine, encoding, unlimited_dims, compute, multifile, invalid_netcdf)\u001B[0m\n\u001B[0;32m   1079\u001B[0m         \u001B[1;31m# TODO: allow this work (setting up the file for writing array data)\u001B[0m\u001B[1;33m\u001B[0m\u001B[1;33m\u001B[0m\u001B[1;33m\u001B[0m\u001B[0m\n\u001B[0;32m   1080\u001B[0m         \u001B[1;31m# to be parallelized with dask\u001B[0m\u001B[1;33m\u001B[0m\u001B[1;33m\u001B[0m\u001B[1;33m\u001B[0m\u001B[0m\n\u001B[1;32m-> 1081\u001B[1;33m         dump_to_store(\n\u001B[0m\u001B[0;32m   1082\u001B[0m             \u001B[0mdataset\u001B[0m\u001B[1;33m,\u001B[0m \u001B[0mstore\u001B[0m\u001B[1;33m,\u001B[0m \u001B[0mwriter\u001B[0m\u001B[1;33m,\u001B[0m \u001B[0mencoding\u001B[0m\u001B[1;33m=\u001B[0m\u001B[0mencoding\u001B[0m\u001B[1;33m,\u001B[0m \u001B[0munlimited_dims\u001B[0m\u001B[1;33m=\u001B[0m\u001B[0munlimited_dims\u001B[0m\u001B[1;33m\u001B[0m\u001B[1;33m\u001B[0m\u001B[0m\n\u001B[0;32m   1083\u001B[0m         )\n",
      "\u001B[1;32m~\\.conda\\envs\\lidar\\lib\\site-packages\\xarray\\backends\\api.py\u001B[0m in \u001B[0;36mdump_to_store\u001B[1;34m(dataset, store, writer, encoder, encoding, unlimited_dims)\u001B[0m\n\u001B[0;32m   1126\u001B[0m         \u001B[0mvariables\u001B[0m\u001B[1;33m,\u001B[0m \u001B[0mattrs\u001B[0m \u001B[1;33m=\u001B[0m \u001B[0mencoder\u001B[0m\u001B[1;33m(\u001B[0m\u001B[0mvariables\u001B[0m\u001B[1;33m,\u001B[0m \u001B[0mattrs\u001B[0m\u001B[1;33m)\u001B[0m\u001B[1;33m\u001B[0m\u001B[1;33m\u001B[0m\u001B[0m\n\u001B[0;32m   1127\u001B[0m \u001B[1;33m\u001B[0m\u001B[0m\n\u001B[1;32m-> 1128\u001B[1;33m     \u001B[0mstore\u001B[0m\u001B[1;33m.\u001B[0m\u001B[0mstore\u001B[0m\u001B[1;33m(\u001B[0m\u001B[0mvariables\u001B[0m\u001B[1;33m,\u001B[0m \u001B[0mattrs\u001B[0m\u001B[1;33m,\u001B[0m \u001B[0mcheck_encoding\u001B[0m\u001B[1;33m,\u001B[0m \u001B[0mwriter\u001B[0m\u001B[1;33m,\u001B[0m \u001B[0munlimited_dims\u001B[0m\u001B[1;33m=\u001B[0m\u001B[0munlimited_dims\u001B[0m\u001B[1;33m)\u001B[0m\u001B[1;33m\u001B[0m\u001B[1;33m\u001B[0m\u001B[0m\n\u001B[0m\u001B[0;32m   1129\u001B[0m \u001B[1;33m\u001B[0m\u001B[0m\n\u001B[0;32m   1130\u001B[0m \u001B[1;33m\u001B[0m\u001B[0m\n",
      "\u001B[1;32m~\\.conda\\envs\\lidar\\lib\\site-packages\\xarray\\backends\\common.py\u001B[0m in \u001B[0;36mstore\u001B[1;34m(self, variables, attributes, check_encoding_set, writer, unlimited_dims)\u001B[0m\n\u001B[0;32m    250\u001B[0m         \u001B[0mvariables\u001B[0m\u001B[1;33m,\u001B[0m \u001B[0mattributes\u001B[0m \u001B[1;33m=\u001B[0m \u001B[0mself\u001B[0m\u001B[1;33m.\u001B[0m\u001B[0mencode\u001B[0m\u001B[1;33m(\u001B[0m\u001B[0mvariables\u001B[0m\u001B[1;33m,\u001B[0m \u001B[0mattributes\u001B[0m\u001B[1;33m)\u001B[0m\u001B[1;33m\u001B[0m\u001B[1;33m\u001B[0m\u001B[0m\n\u001B[0;32m    251\u001B[0m \u001B[1;33m\u001B[0m\u001B[0m\n\u001B[1;32m--> 252\u001B[1;33m         \u001B[0mself\u001B[0m\u001B[1;33m.\u001B[0m\u001B[0mset_attributes\u001B[0m\u001B[1;33m(\u001B[0m\u001B[0mattributes\u001B[0m\u001B[1;33m)\u001B[0m\u001B[1;33m\u001B[0m\u001B[1;33m\u001B[0m\u001B[0m\n\u001B[0m\u001B[0;32m    253\u001B[0m         \u001B[0mself\u001B[0m\u001B[1;33m.\u001B[0m\u001B[0mset_dimensions\u001B[0m\u001B[1;33m(\u001B[0m\u001B[0mvariables\u001B[0m\u001B[1;33m,\u001B[0m \u001B[0munlimited_dims\u001B[0m\u001B[1;33m=\u001B[0m\u001B[0munlimited_dims\u001B[0m\u001B[1;33m)\u001B[0m\u001B[1;33m\u001B[0m\u001B[1;33m\u001B[0m\u001B[0m\n\u001B[0;32m    254\u001B[0m         self.set_variables(\n",
      "\u001B[1;32m~\\.conda\\envs\\lidar\\lib\\site-packages\\xarray\\backends\\common.py\u001B[0m in \u001B[0;36mset_attributes\u001B[1;34m(self, attributes)\u001B[0m\n\u001B[0;32m    267\u001B[0m         \"\"\"\n\u001B[0;32m    268\u001B[0m         \u001B[1;32mfor\u001B[0m \u001B[0mk\u001B[0m\u001B[1;33m,\u001B[0m \u001B[0mv\u001B[0m \u001B[1;32min\u001B[0m \u001B[0mattributes\u001B[0m\u001B[1;33m.\u001B[0m\u001B[0mitems\u001B[0m\u001B[1;33m(\u001B[0m\u001B[1;33m)\u001B[0m\u001B[1;33m:\u001B[0m\u001B[1;33m\u001B[0m\u001B[1;33m\u001B[0m\u001B[0m\n\u001B[1;32m--> 269\u001B[1;33m             \u001B[0mself\u001B[0m\u001B[1;33m.\u001B[0m\u001B[0mset_attribute\u001B[0m\u001B[1;33m(\u001B[0m\u001B[0mk\u001B[0m\u001B[1;33m,\u001B[0m \u001B[0mv\u001B[0m\u001B[1;33m)\u001B[0m\u001B[1;33m\u001B[0m\u001B[1;33m\u001B[0m\u001B[0m\n\u001B[0m\u001B[0;32m    270\u001B[0m \u001B[1;33m\u001B[0m\u001B[0m\n\u001B[0;32m    271\u001B[0m     \u001B[1;32mdef\u001B[0m \u001B[0mset_variables\u001B[0m\u001B[1;33m(\u001B[0m\u001B[0mself\u001B[0m\u001B[1;33m,\u001B[0m \u001B[0mvariables\u001B[0m\u001B[1;33m,\u001B[0m \u001B[0mcheck_encoding_set\u001B[0m\u001B[1;33m,\u001B[0m \u001B[0mwriter\u001B[0m\u001B[1;33m,\u001B[0m \u001B[0munlimited_dims\u001B[0m\u001B[1;33m=\u001B[0m\u001B[1;32mNone\u001B[0m\u001B[1;33m)\u001B[0m\u001B[1;33m:\u001B[0m\u001B[1;33m\u001B[0m\u001B[1;33m\u001B[0m\u001B[0m\n",
      "\u001B[1;32m~\\.conda\\envs\\lidar\\lib\\site-packages\\xarray\\backends\\netCDF4_.py\u001B[0m in \u001B[0;36mset_attribute\u001B[1;34m(self, key, value)\u001B[0m\n\u001B[0;32m    428\u001B[0m             \u001B[0mself\u001B[0m\u001B[1;33m.\u001B[0m\u001B[0mds\u001B[0m\u001B[1;33m.\u001B[0m\u001B[0msetncattr_string\u001B[0m\u001B[1;33m(\u001B[0m\u001B[0mkey\u001B[0m\u001B[1;33m,\u001B[0m \u001B[0mvalue\u001B[0m\u001B[1;33m)\u001B[0m\u001B[1;33m\u001B[0m\u001B[1;33m\u001B[0m\u001B[0m\n\u001B[0;32m    429\u001B[0m         \u001B[1;32melse\u001B[0m\u001B[1;33m:\u001B[0m\u001B[1;33m\u001B[0m\u001B[1;33m\u001B[0m\u001B[0m\n\u001B[1;32m--> 430\u001B[1;33m             \u001B[0mself\u001B[0m\u001B[1;33m.\u001B[0m\u001B[0mds\u001B[0m\u001B[1;33m.\u001B[0m\u001B[0msetncattr\u001B[0m\u001B[1;33m(\u001B[0m\u001B[0mkey\u001B[0m\u001B[1;33m,\u001B[0m \u001B[0mvalue\u001B[0m\u001B[1;33m)\u001B[0m\u001B[1;33m\u001B[0m\u001B[1;33m\u001B[0m\u001B[0m\n\u001B[0m\u001B[0;32m    431\u001B[0m \u001B[1;33m\u001B[0m\u001B[0m\n\u001B[0;32m    432\u001B[0m     \u001B[1;32mdef\u001B[0m \u001B[0mencode_variable\u001B[0m\u001B[1;33m(\u001B[0m\u001B[0mself\u001B[0m\u001B[1;33m,\u001B[0m \u001B[0mvariable\u001B[0m\u001B[1;33m)\u001B[0m\u001B[1;33m:\u001B[0m\u001B[1;33m\u001B[0m\u001B[1;33m\u001B[0m\u001B[0m\n",
      "\u001B[1;32mnetCDF4\\_netCDF4.pyx\u001B[0m in \u001B[0;36mnetCDF4._netCDF4.Dataset.setncattr\u001B[1;34m()\u001B[0m\n",
      "\u001B[1;32mnetCDF4\\_netCDF4.pyx\u001B[0m in \u001B[0;36mnetCDF4._netCDF4._set_att\u001B[1;34m()\u001B[0m\n",
      "\u001B[1;31mTypeError\u001B[0m: illegal data type for attribute b'date', must be one of dict_keys(['S1', 'i1', 'u1', 'i2', 'u2', 'i4', 'u4', 'i8', 'u8', 'f4', 'f8']), got O"
     ]
    }
   ],
   "source": [
    "from netCDF4 import Dataset\n",
    "\n",
    "month_folder =os.path.join(haifa_station.molecular_src_folder,day_date.strftime('%Y'), day_date.strftime('%m'))\n",
    "dst_file_name = '{}_molecular.nc'.format(day_date.strftime('%Y_%m_%d'))\n",
    "ncpath = os.path.join(month_folder,dst_file_name)\n",
    "\n",
    "\n",
    "if not os.path.exists(month_folder):\n",
    "    try:\n",
    "        os.makedirs(month_folder)\n",
    "    except:\n",
    "        print('Failed to create folder {dst_path_folder}')\n",
    "\n",
    "\n",
    "ds.to_netcdf(ncpath,mode= 'w',format= 'NETCDF4')  #TODO: solve to_netcdf() failure"
   ],
   "metadata": {
    "collapsed": false,
    "pycharm": {
     "name": "#%% save dataset to netcd file\n"
    }
   }
  },
  {
   "cell_type": "code",
   "execution_count": null,
   "outputs": [],
   "source": [
    "data = Dataset(ncpath, mode = 'r')\n",
    "dataset = xr.open_dataset(xr.backends.NetCDF4DataStore(data))\n",
    "dataset"
   ],
   "metadata": {
    "collapsed": false,
    "pycharm": {
     "name": "#%% Load dataset from netcdf file\n"
    }
   }
  },
  {
   "cell_type": "code",
   "execution_count": 34,
   "outputs": [
    {
     "data": {
      "text/plain": "['.\\\\data examples\\\\molecular_dataset\\\\2017\\\\09\\\\2017_09_01_beta_355_molecular.nc',\n '.\\\\data examples\\\\molecular_dataset\\\\2017\\\\09\\\\2017_09_01_beta_532_molecular.nc',\n '.\\\\data examples\\\\molecular_dataset\\\\2017\\\\09\\\\2017_09_01_beta_1064_molecular.nc',\n '.\\\\data examples\\\\molecular_dataset\\\\2017\\\\09\\\\2017_09_01_sigma_355_molecular.nc',\n '.\\\\data examples\\\\molecular_dataset\\\\2017\\\\09\\\\2017_09_01_sigma_532_molecular.nc',\n '.\\\\data examples\\\\molecular_dataset\\\\2017\\\\09\\\\2017_09_01_sigma_1064_molecular.nc',\n '.\\\\data examples\\\\molecular_dataset\\\\2017\\\\09\\\\2017_09_01_attbsc_355_molecular.nc',\n '.\\\\data examples\\\\molecular_dataset\\\\2017\\\\09\\\\2017_09_01_attbsc_532_molecular.nc',\n '.\\\\data examples\\\\molecular_dataset\\\\2017\\\\09\\\\2017_09_01_attbsc_1064_molecular.nc']"
     },
     "execution_count": 34,
     "metadata": {},
     "output_type": "execute_result"
    }
   ],
   "source": [
    "day_date = ds.attrs['date'][0]\n",
    "day_stamp = day_date.strftime('%Y_%m_%d')\n",
    "month_folder =os.path.join(haifa_station.molecular_src_folder,day_date.strftime('%Y'), day_date.strftime('%m'))\n",
    "ncpaths=[]\n",
    "for prof in profileTypes:\n",
    "\tcur_profile = ds[prof]\n",
    "\tfor wav in ds.Wavelength.values:\n",
    "\t\tcur_profile_wav = cur_profile.sel(Wavelength=wav)\n",
    "\t\tfile_name = '{}_{}_{}_molecular.nc'.format(day_stamp,prof,wav)\n",
    "\t\tncpath = os.path.join(month_folder,file_name)\n",
    "\t\ttry:\n",
    "\t\t\tcur_profile_wav.to_netcdf(ncpath,mode= 'w',format= 'NETCDF4')\n",
    "\t\texcept:\n",
    "\t\t\tprint('Saving dataset to {} failed', ncpath)\n",
    "\n",
    "\t\tncpaths.append(ncpath)\n",
    "ncpaths"
   ],
   "metadata": {
    "collapsed": false,
    "pycharm": {
     "name": "#%% Attempt to save per profile per wavelength\n"
    }
   }
  },
  {
   "cell_type": "code",
   "execution_count": 35,
   "outputs": [
    {
     "data": {
      "text/plain": "<xarray.Dataset>\nDimensions:     (Height: 3000, Time: 2880)\nCoordinates:\n  * Height      (Height) float64 0.2378 0.2452 0.2527 ... 22.7 22.71 22.71\n  * Time        (Time) datetime64[ns] 2017-09-01 ... 2017-09-01T23:59:30\n    Wavelength  int64 ...\nData variables:\n    attbsc      (Height, Time) float32 ...",
      "text/html": "<div><svg style=\"position: absolute; width: 0; height: 0; overflow: hidden\">\n<defs>\n<symbol id=\"icon-database\" viewBox=\"0 0 32 32\">\n<path d=\"M16 0c-8.837 0-16 2.239-16 5v4c0 2.761 7.163 5 16 5s16-2.239 16-5v-4c0-2.761-7.163-5-16-5z\"></path>\n<path d=\"M16 17c-8.837 0-16-2.239-16-5v6c0 2.761 7.163 5 16 5s16-2.239 16-5v-6c0 2.761-7.163 5-16 5z\"></path>\n<path d=\"M16 26c-8.837 0-16-2.239-16-5v6c0 2.761 7.163 5 16 5s16-2.239 16-5v-6c0 2.761-7.163 5-16 5z\"></path>\n</symbol>\n<symbol id=\"icon-file-text2\" viewBox=\"0 0 32 32\">\n<path d=\"M28.681 7.159c-0.694-0.947-1.662-2.053-2.724-3.116s-2.169-2.030-3.116-2.724c-1.612-1.182-2.393-1.319-2.841-1.319h-15.5c-1.378 0-2.5 1.121-2.5 2.5v27c0 1.378 1.122 2.5 2.5 2.5h23c1.378 0 2.5-1.122 2.5-2.5v-19.5c0-0.448-0.137-1.23-1.319-2.841zM24.543 5.457c0.959 0.959 1.712 1.825 2.268 2.543h-4.811v-4.811c0.718 0.556 1.584 1.309 2.543 2.268zM28 29.5c0 0.271-0.229 0.5-0.5 0.5h-23c-0.271 0-0.5-0.229-0.5-0.5v-27c0-0.271 0.229-0.5 0.5-0.5 0 0 15.499-0 15.5 0v7c0 0.552 0.448 1 1 1h7v19.5z\"></path>\n<path d=\"M23 26h-14c-0.552 0-1-0.448-1-1s0.448-1 1-1h14c0.552 0 1 0.448 1 1s-0.448 1-1 1z\"></path>\n<path d=\"M23 22h-14c-0.552 0-1-0.448-1-1s0.448-1 1-1h14c0.552 0 1 0.448 1 1s-0.448 1-1 1z\"></path>\n<path d=\"M23 18h-14c-0.552 0-1-0.448-1-1s0.448-1 1-1h14c0.552 0 1 0.448 1 1s-0.448 1-1 1z\"></path>\n</symbol>\n</defs>\n</svg>\n<style>/* CSS stylesheet for displaying xarray objects in jupyterlab.\n *\n */\n\n:root {\n  --xr-font-color0: var(--jp-content-font-color0, rgba(0, 0, 0, 1));\n  --xr-font-color2: var(--jp-content-font-color2, rgba(0, 0, 0, 0.54));\n  --xr-font-color3: var(--jp-content-font-color3, rgba(0, 0, 0, 0.38));\n  --xr-border-color: var(--jp-border-color2, #e0e0e0);\n  --xr-disabled-color: var(--jp-layout-color3, #bdbdbd);\n  --xr-background-color: var(--jp-layout-color0, white);\n  --xr-background-color-row-even: var(--jp-layout-color1, white);\n  --xr-background-color-row-odd: var(--jp-layout-color2, #eeeeee);\n}\n\nhtml[theme=dark],\nbody.vscode-dark {\n  --xr-font-color0: rgba(255, 255, 255, 1);\n  --xr-font-color2: rgba(255, 255, 255, 0.54);\n  --xr-font-color3: rgba(255, 255, 255, 0.38);\n  --xr-border-color: #1F1F1F;\n  --xr-disabled-color: #515151;\n  --xr-background-color: #111111;\n  --xr-background-color-row-even: #111111;\n  --xr-background-color-row-odd: #313131;\n}\n\n.xr-wrap {\n  display: block;\n  min-width: 300px;\n  max-width: 700px;\n}\n\n.xr-text-repr-fallback {\n  /* fallback to plain text repr when CSS is not injected (untrusted notebook) */\n  display: none;\n}\n\n.xr-header {\n  padding-top: 6px;\n  padding-bottom: 6px;\n  margin-bottom: 4px;\n  border-bottom: solid 1px var(--xr-border-color);\n}\n\n.xr-header > div,\n.xr-header > ul {\n  display: inline;\n  margin-top: 0;\n  margin-bottom: 0;\n}\n\n.xr-obj-type,\n.xr-array-name {\n  margin-left: 2px;\n  margin-right: 10px;\n}\n\n.xr-obj-type {\n  color: var(--xr-font-color2);\n}\n\n.xr-sections {\n  padding-left: 0 !important;\n  display: grid;\n  grid-template-columns: 150px auto auto 1fr 20px 20px;\n}\n\n.xr-section-item {\n  display: contents;\n}\n\n.xr-section-item input {\n  display: none;\n}\n\n.xr-section-item input + label {\n  color: var(--xr-disabled-color);\n}\n\n.xr-section-item input:enabled + label {\n  cursor: pointer;\n  color: var(--xr-font-color2);\n}\n\n.xr-section-item input:enabled + label:hover {\n  color: var(--xr-font-color0);\n}\n\n.xr-section-summary {\n  grid-column: 1;\n  color: var(--xr-font-color2);\n  font-weight: 500;\n}\n\n.xr-section-summary > span {\n  display: inline-block;\n  padding-left: 0.5em;\n}\n\n.xr-section-summary-in:disabled + label {\n  color: var(--xr-font-color2);\n}\n\n.xr-section-summary-in + label:before {\n  display: inline-block;\n  content: '►';\n  font-size: 11px;\n  width: 15px;\n  text-align: center;\n}\n\n.xr-section-summary-in:disabled + label:before {\n  color: var(--xr-disabled-color);\n}\n\n.xr-section-summary-in:checked + label:before {\n  content: '▼';\n}\n\n.xr-section-summary-in:checked + label > span {\n  display: none;\n}\n\n.xr-section-summary,\n.xr-section-inline-details {\n  padding-top: 4px;\n  padding-bottom: 4px;\n}\n\n.xr-section-inline-details {\n  grid-column: 2 / -1;\n}\n\n.xr-section-details {\n  display: none;\n  grid-column: 1 / -1;\n  margin-bottom: 5px;\n}\n\n.xr-section-summary-in:checked ~ .xr-section-details {\n  display: contents;\n}\n\n.xr-array-wrap {\n  grid-column: 1 / -1;\n  display: grid;\n  grid-template-columns: 20px auto;\n}\n\n.xr-array-wrap > label {\n  grid-column: 1;\n  vertical-align: top;\n}\n\n.xr-preview {\n  color: var(--xr-font-color3);\n}\n\n.xr-array-preview,\n.xr-array-data {\n  padding: 0 5px !important;\n  grid-column: 2;\n}\n\n.xr-array-data,\n.xr-array-in:checked ~ .xr-array-preview {\n  display: none;\n}\n\n.xr-array-in:checked ~ .xr-array-data,\n.xr-array-preview {\n  display: inline-block;\n}\n\n.xr-dim-list {\n  display: inline-block !important;\n  list-style: none;\n  padding: 0 !important;\n  margin: 0;\n}\n\n.xr-dim-list li {\n  display: inline-block;\n  padding: 0;\n  margin: 0;\n}\n\n.xr-dim-list:before {\n  content: '(';\n}\n\n.xr-dim-list:after {\n  content: ')';\n}\n\n.xr-dim-list li:not(:last-child):after {\n  content: ',';\n  padding-right: 5px;\n}\n\n.xr-has-index {\n  font-weight: bold;\n}\n\n.xr-var-list,\n.xr-var-item {\n  display: contents;\n}\n\n.xr-var-item > div,\n.xr-var-item label,\n.xr-var-item > .xr-var-name span {\n  background-color: var(--xr-background-color-row-even);\n  margin-bottom: 0;\n}\n\n.xr-var-item > .xr-var-name:hover span {\n  padding-right: 5px;\n}\n\n.xr-var-list > li:nth-child(odd) > div,\n.xr-var-list > li:nth-child(odd) > label,\n.xr-var-list > li:nth-child(odd) > .xr-var-name span {\n  background-color: var(--xr-background-color-row-odd);\n}\n\n.xr-var-name {\n  grid-column: 1;\n}\n\n.xr-var-dims {\n  grid-column: 2;\n}\n\n.xr-var-dtype {\n  grid-column: 3;\n  text-align: right;\n  color: var(--xr-font-color2);\n}\n\n.xr-var-preview {\n  grid-column: 4;\n}\n\n.xr-var-name,\n.xr-var-dims,\n.xr-var-dtype,\n.xr-preview,\n.xr-attrs dt {\n  white-space: nowrap;\n  overflow: hidden;\n  text-overflow: ellipsis;\n  padding-right: 10px;\n}\n\n.xr-var-name:hover,\n.xr-var-dims:hover,\n.xr-var-dtype:hover,\n.xr-attrs dt:hover {\n  overflow: visible;\n  width: auto;\n  z-index: 1;\n}\n\n.xr-var-attrs,\n.xr-var-data {\n  display: none;\n  background-color: var(--xr-background-color) !important;\n  padding-bottom: 5px !important;\n}\n\n.xr-var-attrs-in:checked ~ .xr-var-attrs,\n.xr-var-data-in:checked ~ .xr-var-data {\n  display: block;\n}\n\n.xr-var-data > table {\n  float: right;\n}\n\n.xr-var-name span,\n.xr-var-data,\n.xr-attrs {\n  padding-left: 25px !important;\n}\n\n.xr-attrs,\n.xr-var-attrs,\n.xr-var-data {\n  grid-column: 1 / -1;\n}\n\ndl.xr-attrs {\n  padding: 0;\n  margin: 0;\n  display: grid;\n  grid-template-columns: 125px auto;\n}\n\n.xr-attrs dt, dd {\n  padding: 0;\n  margin: 0;\n  float: left;\n  padding-right: 10px;\n  width: auto;\n}\n\n.xr-attrs dt {\n  font-weight: normal;\n  grid-column: 1;\n}\n\n.xr-attrs dt:hover span {\n  display: inline-block;\n  background: var(--xr-background-color);\n  padding-right: 10px;\n}\n\n.xr-attrs dd {\n  grid-column: 2;\n  white-space: pre-wrap;\n  word-break: break-all;\n}\n\n.xr-icon-database,\n.xr-icon-file-text2 {\n  display: inline-block;\n  vertical-align: middle;\n  width: 1em;\n  height: 1.5em !important;\n  stroke-width: 0;\n  stroke: currentColor;\n  fill: currentColor;\n}\n</style><pre class='xr-text-repr-fallback'>&lt;xarray.Dataset&gt;\nDimensions:     (Height: 3000, Time: 2880)\nCoordinates:\n  * Height      (Height) float64 0.2378 0.2452 0.2527 ... 22.7 22.71 22.71\n  * Time        (Time) datetime64[ns] 2017-09-01 ... 2017-09-01T23:59:30\n    Wavelength  int64 1064\nData variables:\n    attbsc      (Height, Time) float32 ...</pre><div class='xr-wrap' hidden><div class='xr-header'><div class='xr-obj-type'>xarray.Dataset</div></div><ul class='xr-sections'><li class='xr-section-item'><input id='section-73e48a0d-3b91-49a3-9553-14177dd4474d' class='xr-section-summary-in' type='checkbox' disabled ><label for='section-73e48a0d-3b91-49a3-9553-14177dd4474d' class='xr-section-summary'  title='Expand/collapse section'>Dimensions:</label><div class='xr-section-inline-details'><ul class='xr-dim-list'><li><span class='xr-has-index'>Height</span>: 3000</li><li><span class='xr-has-index'>Time</span>: 2880</li></ul></div><div class='xr-section-details'></div></li><li class='xr-section-item'><input id='section-f61e83c5-cd83-4fe3-9a69-461d6f5e6414' class='xr-section-summary-in' type='checkbox'  checked><label for='section-f61e83c5-cd83-4fe3-9a69-461d6f5e6414' class='xr-section-summary' >Coordinates: <span>(3)</span></label><div class='xr-section-inline-details'></div><div class='xr-section-details'><ul class='xr-var-list'><li class='xr-var-item'><div class='xr-var-name'><span class='xr-has-index'>Height</span></div><div class='xr-var-dims'>(Height)</div><div class='xr-var-dtype'>float64</div><div class='xr-var-preview xr-preview'>0.2378 0.2452 ... 22.71 22.71</div><input id='attrs-93201daf-bc0b-40fa-baf3-e555225d3ec6' class='xr-var-attrs-in' type='checkbox' ><label for='attrs-93201daf-bc0b-40fa-baf3-e555225d3ec6' title='Show/Hide attributes'><svg class='icon xr-icon-file-text2'><use xlink:href='#icon-file-text2'></use></svg></label><input id='data-d12a160e-fe62-48fd-949d-08a1c253afc0' class='xr-var-data-in' type='checkbox'><label for='data-d12a160e-fe62-48fd-949d-08a1c253afc0' title='Show/Hide data repr'><svg class='icon xr-icon-database'><use xlink:href='#icon-database'></use></svg></label><div class='xr-var-attrs'><dl class='xr-attrs'><dt><span>units :</span></dt><dd>Km</dd></dl></div><div class='xr-var-data'><pre>array([ 0.23775 ,  0.245245,  0.25274 , ..., 22.699671, 22.707165, 22.71466 ])</pre></div></li><li class='xr-var-item'><div class='xr-var-name'><span class='xr-has-index'>Time</span></div><div class='xr-var-dims'>(Time)</div><div class='xr-var-dtype'>datetime64[ns]</div><div class='xr-var-preview xr-preview'>2017-09-01 ... 2017-09-01T23:59:30</div><input id='attrs-9d6041c7-af0d-4ecd-8b4d-d490821efe2e' class='xr-var-attrs-in' type='checkbox' disabled><label for='attrs-9d6041c7-af0d-4ecd-8b4d-d490821efe2e' title='Show/Hide attributes'><svg class='icon xr-icon-file-text2'><use xlink:href='#icon-file-text2'></use></svg></label><input id='data-f4885bac-7e62-4bc9-bd69-cb3ab96a2881' class='xr-var-data-in' type='checkbox'><label for='data-f4885bac-7e62-4bc9-bd69-cb3ab96a2881' title='Show/Hide data repr'><svg class='icon xr-icon-database'><use xlink:href='#icon-database'></use></svg></label><div class='xr-var-attrs'><dl class='xr-attrs'></dl></div><div class='xr-var-data'><pre>array([&#x27;2017-09-01T00:00:00.000000000&#x27;, &#x27;2017-09-01T00:00:30.000000000&#x27;,\n       &#x27;2017-09-01T00:01:00.000000000&#x27;, ..., &#x27;2017-09-01T23:58:30.000000000&#x27;,\n       &#x27;2017-09-01T23:59:00.000000000&#x27;, &#x27;2017-09-01T23:59:30.000000000&#x27;],\n      dtype=&#x27;datetime64[ns]&#x27;)</pre></div></li><li class='xr-var-item'><div class='xr-var-name'><span>Wavelength</span></div><div class='xr-var-dims'>()</div><div class='xr-var-dtype'>int64</div><div class='xr-var-preview xr-preview'>...</div><input id='attrs-05dce30e-7469-4def-a4d3-bd5590c5d021' class='xr-var-attrs-in' type='checkbox' ><label for='attrs-05dce30e-7469-4def-a4d3-bd5590c5d021' title='Show/Hide attributes'><svg class='icon xr-icon-file-text2'><use xlink:href='#icon-file-text2'></use></svg></label><input id='data-ceefa546-0856-49bc-b3ae-9b9686e481da' class='xr-var-data-in' type='checkbox'><label for='data-ceefa546-0856-49bc-b3ae-9b9686e481da' title='Show/Hide data repr'><svg class='icon xr-icon-database'><use xlink:href='#icon-database'></use></svg></label><div class='xr-var-attrs'><dl class='xr-attrs'><dt><span>long_name :</span></dt><dd>$\\lambda$</dd><dt><span>units :</span></dt><dd>$nm$</dd></dl></div><div class='xr-var-data'><pre>array(1064, dtype=int64)</pre></div></li></ul></div></li><li class='xr-section-item'><input id='section-9ae71988-6a5e-4632-89c3-4b055f989047' class='xr-section-summary-in' type='checkbox'  checked><label for='section-9ae71988-6a5e-4632-89c3-4b055f989047' class='xr-section-summary' >Data variables: <span>(1)</span></label><div class='xr-section-inline-details'></div><div class='xr-section-details'><ul class='xr-var-list'><li class='xr-var-item'><div class='xr-var-name'><span>attbsc</span></div><div class='xr-var-dims'>(Height, Time)</div><div class='xr-var-dtype'>float32</div><div class='xr-var-preview xr-preview'>...</div><input id='attrs-119e71d4-5527-4a2b-9f96-43644b987a31' class='xr-var-attrs-in' type='checkbox' ><label for='attrs-119e71d4-5527-4a2b-9f96-43644b987a31' title='Show/Hide attributes'><svg class='icon xr-icon-file-text2'><use xlink:href='#icon-file-text2'></use></svg></label><input id='data-b4b5c589-8f40-4dce-aed0-c6414950b8e0' class='xr-var-data-in' type='checkbox'><label for='data-b4b5c589-8f40-4dce-aed0-c6414950b8e0' title='Show/Hide data repr'><svg class='icon xr-icon-database'><use xlink:href='#icon-database'></use></svg></label><div class='xr-var-attrs'><dl class='xr-attrs'><dt><span>long_name :</span></dt><dd>$\\beta \\cdot \\exp(-2\\tau)$</dd><dt><span>units :</span></dt><dd>$1/m \\cdot sr$</dd><dt><span>info :</span></dt><dd>Daily molecular attenuated backscatter coefficient</dd></dl></div><div class='xr-var-data'><pre>[8640000 values with dtype=float32]</pre></div></li></ul></div></li><li class='xr-section-item'><input id='section-a74d5b61-95e0-4a70-9733-6d13382a988e' class='xr-section-summary-in' type='checkbox' disabled ><label for='section-a74d5b61-95e0-4a70-9733-6d13382a988e' class='xr-section-summary'  title='Expand/collapse section'>Attributes: <span>(0)</span></label><div class='xr-section-inline-details'></div><div class='xr-section-details'><dl class='xr-attrs'></dl></div></li></ul></div></div>"
     },
     "execution_count": 35,
     "metadata": {},
     "output_type": "execute_result"
    }
   ],
   "source": [
    "data = Dataset(ncpath, mode = 'r')\n",
    "dataset = xr.open_dataset(xr.backends.NetCDF4DataStore(data))\n",
    "dataset"
   ],
   "metadata": {
    "collapsed": false,
    "pycharm": {
     "name": "#%%\n"
    }
   }
  },
  {
   "cell_type": "code",
   "execution_count": null,
   "outputs": [],
   "source": [
    "# TODO: solve to_netcdf() failure - for saving dataset to netcdf\n",
    "# TODO: load netcdf from file\n",
    "# TODO: split the netcdf to 'beta', 'sigma', 'att_bcs', and to '355','532','1064'\n",
    "# TODO: check this function for multi dataset savings  xarray.save_mfdataset(): http://xarray.pydata.org/en/stable/generated/xarray.save_mfdataset.html\n",
    "# TODO: convert from xarray to pytorch\n",
    "\n",
    "# TODO: validate units of height, speed of light, sigma and beta !!! (km or m)\n",
    "\n",
    "# TODO: check with Shubi table of samples (for the data loader)\n",
    "# X = {lidar measurement (range corrected) molecular (range corrected)}\n",
    "# Y = {lidar const, reference height [min,max]}\n",
    "\n",
    "## AERONET : https://aeronet.gsfc.nasa.gov/cgi-bin/data_display_aod_v3?site=Technion_Haifa_IL&nachal=0&year=2017&month=5&day=19&aero_water=0&level=3&if_day=0&if_err=0&place_code=10&DATA_TYPE=-999&year_or_month=3\n",
    "## it is possible to merge with Terra MODIS or Aqua MODIS -\n",
    "# / TODO: locate the function that does donwload of sunphotometer data to cameranetwork (maybe Shubi knows this)\n",
    "# / TODO: ask about the relevant product from MODIS to our porpose.\n",
    "\n"
   ],
   "metadata": {
    "collapsed": false,
    "pycharm": {
     "name": "#%% TODOS:\n"
    }
   }
  },
  {
   "cell_type": "code",
   "execution_count": null,
   "outputs": [],
   "source": [
    "bsc_paths, profile_paths = prep.load_att_bsc(lidar_parent_folder, day_date)\n",
    "bsc_paths\n",
    "profile_paths\n"
   ],
   "metadata": {
    "collapsed": false,
    "pycharm": {
     "name": "#%% Load netcdf file of the attenuation backscatter profile (att_bsc.nc)\n"
    }
   }
  },
  {
   "cell_type": "code",
   "execution_count": null,
   "outputs": [],
   "source": [
    "start_day =  datetime(2019,4,3)\n",
    "end_day = datetime(2019,4,20)\n",
    "haifa_station = gs.Station(station_name='haifa')\n",
    "\n",
    "chunk_paths = prep.convert_periodic_gdas(haifa_station,start_day, end_day)\n"
   ],
   "metadata": {
    "collapsed": false,
    "pycharm": {
     "name": "#%% convert gdas files for a period\n"
    }
   }
  },
  {
   "cell_type": "code",
   "execution_count": null,
   "outputs": [],
   "source": [
    "import logging\n",
    "logger = logging.getLogger()\n",
    "\n",
    "day_dates = pd.date_range(start=start_day, end=end_day, freq=timedelta(days=1))\n",
    "expected_file_no = len(day_dates) * 8  # 8 timestamps per day\n",
    "gdastxt_paths = []\n",
    "for day in day_dates:\n",
    "    gdastxt_paths.extend(prep.convert_daily_gdas(haifa_station, day))\n",
    "total_converted = len(gdastxt_paths)\n",
    "logger.debug(f\"Done conversion of {total_converted} gdas files from {start_day.strftime('%Y/%m/%d')} to \"\n",
    "             f\"{end_day.strftime('%Y/%m/%d')}, {(expected_file_no - total_converted)} failed.\")\n"
   ],
   "metadata": {
    "collapsed": false,
    "pycharm": {
     "name": "#%%\n"
    }
   }
  }
 ],
 "metadata": {
  "kernelspec": {
   "name": "lidar",
   "language": "python",
   "display_name": "lidar"
  },
  "language_info": {
   "codemirror_mode": {
    "name": "ipython",
    "version": 2
   },
   "file_extension": ".py",
   "mimetype": "text/x-python",
   "name": "python",
   "nbconvert_exporter": "python",
   "pygments_lexer": "ipython2",
   "version": "2.7.6"
  }
 },
 "nbformat": 4,
 "nbformat_minor": 0
}