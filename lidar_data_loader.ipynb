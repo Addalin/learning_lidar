{
 "cells": [
  {
   "cell_type": "code",
   "execution_count": 0,
   "outputs": [],
   "source": [],
   "metadata": {
    "collapsed": false,
    "pycharm": {
     "name": "#%%\n"
    }
   }
  },
  {
   "cell_type": "code",
   "execution_count": 1,
   "outputs": [
    {
     "name": "stderr",
     "output_type": "stream",
     "text": [
      "C:\\Users\\addalin\\Dropbox\\Lidar\\code\\miscLidar.py:40: MatplotlibDeprecationWarning: Support for setting the 'text.latex.preamble' or 'pgf.preamble' rcParam to a list of strings is deprecated since 3.3 and will be removed two minor releases later; set it to a single string instead.\n",
      "  plt.rcParams['text.latex.preamble'] = [r\"\\usepackage{amsmath}\"]\n"
     ]
    }
   ],
   "source": [
    "\n",
    "import os,sys\n",
    "import numpy as np\n",
    "import scipy as sp\n",
    "import pandas as pd\n",
    "#from netCDF4 import Dataset\n",
    "import matplotlib\n",
    "import matplotlib.pyplot as plt\n",
    "%matplotlib inline\n",
    "from datetime import datetime, timedelta, time\n",
    "import glob\n",
    "from generate_atmosphere import LidarProfile,RadiosondeProfile\n",
    "import miscLidar as mscLid\n",
    "from molecular import rayleigh_scattering\n",
    "import global_settings as gs\n",
    "import pandas as pd\n",
    "#import ARLreader as Ar\n",
    "import preprocessing as prep\n",
    "import matplotlib.dates as mdates"
   ],
   "metadata": {
    "collapsed": false,
    "pycharm": {
     "name": "#%% Imports\n"
    }
   }
  },
  {
   "cell_type": "code",
   "execution_count": 2,
   "outputs": [],
   "source": [
    "def gdas2radiosonde(src_file,dst_file,\n",
    "        col_names = ['PRES','HGHT','TEMP','UWND',\n",
    "                     'VWND','WWND','RELH','TPOT','WDIR','WSPD']):\n",
    "\t'''\n",
    "\tHelper function that converts a gdas file from TROPOS server, to a simple txt.\n",
    "\tThe resulting file is without any prior info, and resembles the table format\n",
    "\tof a radiosonde file (see class: RadiosondeProfile)\n",
    "\t:param src_file: source file name\n",
    "\t:param dst_file: destination file name\n",
    "\t:param col_names: column names of the final table\n",
    "\t'''\n",
    "\timport pandas as pd\n",
    "\tfrom pandas.api.types import is_numeric_dtype\n",
    "\n",
    "\tdata_src = pd.read_fwf(src_file,skiprows=[0,1,2,3,4,5,6,8],\n",
    "\t                       delimiter=\"\\s+\",skipinitialspace=True).dropna()\n",
    "\t# converting any kind of blanc spaces to zeros\n",
    "\tfor col in data_src.columns:\n",
    "\t\tif not is_numeric_dtype(data_src[col]):\n",
    "\t\t\tdata_src[col]= pd.core.strings.str_strip(data_src[col])\n",
    "\t\t\tdata_src[col]= data_src[col].replace('','0').astype('float64')\n",
    "\tdata_src.columns = col_names\n",
    "\tdata_src.to_csv(dst_file,index=False,sep='\\t',na_rep='\\t')\n",
    "\t# TODO: add warning if failed\n",
    "def extract_date_time(path,format_filename,format_times):\n",
    "\t# Extracting datetime from file name using a formatter string.\n",
    "\t#\n",
    "\t# Usage:\n",
    "\t# create a formatter string: format_filename=  r'-(.*)_(.*)-(.*)-.*.txt'\n",
    "\t# Call the function:        f time_stamp = extract_date_time(soundePath,r'40179_(.*).txt',['%Y%m%d_%H'])\n",
    "\t# Output:\n",
    "\t#       time_stamps - A list of datetime objects\n",
    "\timport re\n",
    "\tfilename = os.path.basename(path)\n",
    "\t#print(filename)\n",
    "\tmatchObj = re.match(format_filename, filename, re.M|re.I)\n",
    "\t# print(matchObj)\n",
    "\ttime_stamps=[]\n",
    "\tfor fmt_time,grp in zip(format_times,matchObj.groups()):\n",
    "\t\ttime_stamps.append(datetime.strptime(grp,fmt_time))\n",
    "\treturn time_stamps\n",
    "def calc_sigma_profile_df(row,lambda_um = 532.0,indx_n= 'sigma'):\n",
    "\t'''\n",
    "\tReturns pd series of extinction profile [1/m] from a radiosonde dataframe containing the\n",
    "\tcolumns:['PRES','TEMPS',RELHS]. The function applies on rows of the radiosonde df.\n",
    "\t:param row: row of radiosonde df\n",
    "\t:param lambda_um: wavelength in [um], e.g, for green lambda_um = 532.0 [um]\n",
    "\t:param indx_n: index name, the column name of the result. The default is 'sigma'\n",
    "\tbut could be useful to get profiles for several hours each have a different index name\n",
    "\t(e.g., datetime object of measuring time of the radiosonde as datetime.datetime(2017, 9, 2, 0, 0))\n",
    "\t:return: pd series of extinction profile [1/m]\n",
    "\t'''\n",
    "\treturn pd.Series([rayleigh_scattering.alpha_rayleigh(wavelength= lambda_um,\n",
    "\t                                       pressure=row['PRES'],\n",
    "\t                                       temperature=row['TEMPS'],\n",
    "\t                                       C=385.0, rh=row['RELHS'])],index=[indx_n])\n",
    "def calc_beta_profile_df(row,lambda_um = 532.0,ind_n= 'beta'):\n",
    "\t\"\"\"\n",
    "\tReturns pd series of backscatter profile from a radiosonde dataframe containing the\n",
    "\tcolumns:['PRES','TEMPS',RELHS]. The function applies on rows of the radiosonde df.\n",
    "\t:param row: row of radiosonde df\n",
    "\t:param lambda_um: wavelength in [um], e.g, for green lambda_um = 532.0 [um]\n",
    "\t:param indx_n: index name, the column name of the result. The default is 'beta'\n",
    "\tbut could be useful to get profiles for several hours each have a different index name\n",
    "\t(e.g., datetime object of measuring time of the radiosonde as datetime.datetime(2017, 9, 2, 0, 0))\n",
    "\t:return: pd series of backscatter profile [1/sr*m]\n",
    "\t\"\"\"\n",
    "\treturn pd.Series([rayleigh_scattering.beta_pi_rayleigh(wavelength= lambda_um,\n",
    "\t                                       pressure=row['PRES'],\n",
    "\t                                       temperature=row['TEMPS'],\n",
    "\t                                       C=385.0, rh=row['RELHS'])],index=[ind_n])"
   ],
   "metadata": {
    "collapsed": false,
    "pycharm": {
     "name": "#%%  Helper functions\n"
    }
   }
  },
  {
   "cell_type": "code",
   "execution_count": 3,
   "outputs": [],
   "source": [
    "'''set day'''\n",
    "\n",
    "day_date = datetime(2017,9,1)\n",
    "\n",
    "'''Set paths to parents folder '''\n",
    "lidar_parent_folder = 'H:\\data_haifa\\DATA FROM TROPOS\\data\\level1a\\PollyXT_TROPOS'\n",
    "gdas_parent_folder = 'H:\\data_haifa\\DATA FROM TROPOS\\GDAS\\haifa'\n"
   ],
   "metadata": {
    "collapsed": false,
    "pycharm": {
     "name": "#%%\n"
    }
   }
  },
  {
   "cell_type": "code",
   "execution_count": 4,
   "outputs": [],
   "source": [
    "lidar_day_folder = os.path.join(lidar_parent_folder,day_date.strftime(\"%Y\\%m\\%d\"))\n",
    "os.listdir(lidar_day_folder)\n",
    "bsc_pattern = os.path.join(lidar_day_folder,\"*_att_bsc.nc\")\n",
    "bsc_paths = sorted(glob.glob(bsc_pattern))\n",
    "#bsc_paths\n",
    "profile_pattern = os.path.join(lidar_day_folder,\"*[0-9]_profiles.nc\")\n",
    "profile_paths = sorted(glob.glob(profile_pattern))\n",
    "#profile_paths\n"
   ],
   "metadata": {
    "collapsed": false,
    "pycharm": {
     "name": "#%% Load netcdf file of the attenuation backscatter profile (att_bsc.nc)\n"
    }
   }
  },
  {
   "cell_type": "code",
   "source": [
    "haifa_station = gs.station()\n",
    "#print(haifa_station.__dict__)\n",
    "src_folder =os.path.join(os.getcwd(),'data examples\\gdas')\n",
    "dst_folder = os.path.join(os.getcwd(),'data examples\\gdas_txt')\n",
    "gdas_dst_paths= prep.gdas_tropos2txt(day_date, haifa_station.location,\n",
    "                                   haifa_station.lat, haifa_station.lon,\n",
    "                                   src_folder, dst_folder)"
   ],
   "metadata": {
    "collapsed": false,
    "pycharm": {
     "name": "#%% Converting gdas files from TROPOS to txt\n"
    }
   },
   "execution_count": null,
   "outputs": []
  },
  {
   "cell_type": "code",
   "source": [
    "'''set parameters'''\n",
    "lambda_um = gs.LAMBDA_um().G\n",
    "location = haifa_station.location\n",
    "min_height_km = (1E-3)*(haifa_station.altitude + haifa_station.start_bin_height)\n",
    "top_height_km = (1E-3)*(haifa_station.altitude + haifa_station.end_bin_height)\n",
    "\n",
    "df_sigma, df_beta = prep.generate_daily_molecular_profile(\n",
    "\tgdas_dst_paths,lambda_um,haifa_station.location, haifa_station.lat,\n",
    "\thaifa_station.lon,min_height_km , top_height_km,haifa_station.n_bins)\n",
    "\n",
    "df_sigma"
   ],
   "metadata": {
    "collapsed": false,
    "pycharm": {
     "name": "#%% Generate daily molecular profiles from the converted files (above)\n"
    }
   },
   "execution_count": null,
   "outputs": []
  },
  {
   "cell_type": "code",
   "execution_count": 8,
   "outputs": [
    {
     "data": {
      "text/plain": "<Figure size 432x288 with 0 Axes>"
     },
     "metadata": {},
     "output_type": "display_data"
    },
    {
     "data": {
      "text/plain": "<Figure size 432x288 with 1 Axes>",
      "image/png": "[encoded data removed]"
     },
     "metadata": {
      "needs_background": "light"
     },
     "output_type": "display_data"
    }
   ],
   "source": [
    "plt.figure()\n",
    "df_beta.plot()\n",
    "plt.show()"
   ],
   "metadata": {
    "collapsed": false,
    "pycharm": {
     "name": "#%% Visualizing molecular profiles\n"
    }
   }
  },
  {
   "cell_type": "code",
   "execution_count": 16,
   "outputs": [],
   "source": [
    "def cal_e_tau_df(col,altitude):\n",
    "\t\"\"\"\n",
    "\tCalculate the the attenuated optical depth (tau is the optical depth).\n",
    "\tCalculation is per column of the backscatter (sigma) dataframe\n",
    "\t:param col: column of sigma_df\n",
    "\t:param altitude: the altitude of the the lidar station above sea level\n",
    "\t:return: Series of exp(-2*tau)  , tau = integral( sigma(r) * dr)\n",
    "\t\"\"\"\n",
    "\t# TODO: validate height scale (m or km)\n",
    "\theights = col.index.to_numpy() - altitude\n",
    "\ttau = mscLid.calc_tau(col, heights)\n",
    "\treturn pd.Series(np.exp(-2 * tau))\n",
    "\n",
    "def generate_att_bsc_mol(lambda_um, station, time_res='30S'):\n",
    "\t\"\"\"\t \"\"\"\n",
    "\n",
    "\t'''Load daily gdas profiles and convert to backscatter (beta) and extinction (sigma) profiles'''\n",
    "\tmin_height_km = (station.altitude + station.start_bin_height) * 1E-3\n",
    "\ttop_height_km = (station.altitude + station.end_bin_height) * 1E-3\n",
    "\n",
    "\tdf_sigma, df_beta = prep.generate_daily_molecular_profile(\n",
    "\t\tgdas_dst_paths,lambda_um,station.location, station.lat,\n",
    "\t\tstation.lon,min_height_km , top_height_km,station.n_bins)\n",
    "\n",
    "\t''' Interpolate profiles through 24 hrs'''\n",
    "\tinterp_sigma_df=(df_sigma.T.resample(time_res).interpolate(method='linear')[:-1]).T\n",
    "\tinterp_beta_df=(df_beta.T.resample(time_res).interpolate(method='linear')[:-1]).T\n",
    "\theights = np.linspace(station.altitude + station.start_bin_height,\n",
    "                      station.altitude + station.end_bin_height,\n",
    "                      station.n_bins)\n",
    "\tinterp_sigma_df.index = heights\n",
    "\tinterp_sigma_df.columns.freq = None\n",
    "\tinterp_beta_df.index = heights\n",
    "\tinterp_beta_df.columns.freq = None\n",
    "\n",
    "\t'''Calculate the molecular attenuated backscatter as :  beta_mol * exp(-2*tau_mol)'''\n",
    "\te_tau_df = interp_sigma_df.apply(cal_e_tau_df,0,args=(haifa_station.altitude,),result_type='expand')\n",
    "\tatt_bsc_mol_df = interp_beta_df.multiply(e_tau_df)\n",
    "\n",
    "\n",
    "\timport xarray as xr\n",
    "\tmol_xr= xr.DataArray(data=[interp_beta_df,interp_sigma_df,att_bsc_mol_df],\n",
    "                     coords=[['beta','sigma','att_bsc_mol'],interp_beta_df.index,interp_beta_df.columns],\n",
    "                     dims = ['profiles','height','time'],\n",
    "                     name='molecular')#,interp_beta_df.index,interp_beta_df.columns )\n",
    "\n",
    "\n",
    "\n",
    "\treturn att_bsc_mol_df,mol_xr"
   ],
   "metadata": {
    "collapsed": false,
    "pycharm": {
     "name": "#%%\n"
    }
   }
  },
  {
   "cell_type": "code",
   "execution_count": 11,
   "outputs": [
    {
     "name": "stdout",
     "output_type": "stream",
     "text": [
      "df_mol\n"
     ]
    },
    {
     "data": {
      "text/plain": "<xarray.DataArray 'molecular' (profiles: 3, height: 3000, time: 2880)>\narray([[[1.43876581e-06, 1.43876355e-06, 1.43876129e-06, ...,\n         1.43152413e-06, 1.43152573e-06, 1.43152734e-06],\n        [1.43790604e-06, 1.43790375e-06, 1.43790147e-06, ...,\n         1.43063545e-06, 1.43063697e-06, 1.43063848e-06],\n        [1.43704599e-06, 1.43704369e-06, 1.43704139e-06, ...,\n         1.42974639e-06, 1.42974782e-06, 1.42974924e-06],\n        ...,\n        [8.38648559e-08, 8.38651337e-08, 8.38654115e-08, ...,\n         8.36953909e-08, 8.36948784e-08, 8.36943660e-08],\n        [8.37789800e-08, 8.37792581e-08, 8.37795362e-08, ...,\n         8.36089534e-08, 8.36084399e-08, 8.36079264e-08],\n        [8.36931164e-08, 8.36933948e-08, 8.36936732e-08, ...,\n         8.35225293e-08, 8.35220147e-08, 8.35215002e-08]],\n\n       [[1.22213220e-05, 1.22213023e-05, 1.22212825e-05, ...,\n         1.21590354e-05, 1.21590491e-05, 1.21590627e-05],\n        [1.22140184e-05, 1.22139984e-05, 1.22139784e-05, ...,\n         1.21514925e-05, 1.21515054e-05, 1.21515183e-05],\n        [1.22067123e-05, 1.22066922e-05, 1.22066721e-05, ...,\n         1.21439463e-05, 1.21439585e-05, 1.21439706e-05],\n...\n        [7.12568384e-07, 7.12570744e-07, 7.12573104e-07, ...,\n         7.11128503e-07, 7.11124149e-07, 7.11119794e-07],\n        [7.11838728e-07, 7.11841091e-07, 7.11843454e-07, ...,\n         7.10394076e-07, 7.10389713e-07, 7.10385350e-07],\n        [7.11109177e-07, 7.11111543e-07, 7.11113908e-07, ...,\n         7.09659762e-07, 7.09655390e-07, 7.09651018e-07]],\n\n       [[1.43599905e-06, 1.43599680e-06, 1.43599455e-06, ...,\n         1.42878531e-06, 1.42878691e-06, 1.42878851e-06],\n        [1.43487903e-06, 1.43487675e-06, 1.43487447e-06, ...,\n         1.42763908e-06, 1.42764059e-06, 1.42764210e-06],\n        [1.43375924e-06, 1.43375695e-06, 1.43375466e-06, ...,\n         1.42649301e-06, 1.42649442e-06, 1.42649584e-06],\n        ...,\n        [6.81102815e-08, 6.81105007e-08, 6.81107199e-08, ...,\n         6.79896568e-08, 6.79892503e-08, 6.79888438e-08],\n        [6.80398142e-08, 6.80400337e-08, 6.80402531e-08, ...,\n         6.79187186e-08, 6.79183113e-08, 6.79179039e-08],\n        [6.79693591e-08, 6.79695789e-08, 6.79697986e-08, ...,\n         6.78477935e-08, 6.78473853e-08, 6.78469771e-08]]])\nCoordinates:\n  * profiles  (profiles) <U11 'beta' 'sigma' 'att_bsc_mol'\n  * height    (height) float64 307.8 315.2 322.7 ... 2.271e+04 2.271e+04\n  * time      (time) datetime64[ns] 2017-09-01 ... 2017-09-01T23:59:30",
      "text/html": "<div><svg style=\"position: absolute; width: 0; height: 0; overflow: hidden\">\n<defs>\n<symbol id=\"icon-database\" viewBox=\"0 0 32 32\">\n<path d=\"M16 0c-8.837 0-16 2.239-16 5v4c0 2.761 7.163 5 16 5s16-2.239 16-5v-4c0-2.761-7.163-5-16-5z\"></path>\n<path d=\"M16 17c-8.837 0-16-2.239-16-5v6c0 2.761 7.163 5 16 5s16-2.239 16-5v-6c0 2.761-7.163 5-16 5z\"></path>\n<path d=\"M16 26c-8.837 0-16-2.239-16-5v6c0 2.761 7.163 5 16 5s16-2.239 16-5v-6c0 2.761-7.163 5-16 5z\"></path>\n</symbol>\n<symbol id=\"icon-file-text2\" viewBox=\"0 0 32 32\">\n<path d=\"M28.681 7.159c-0.694-0.947-1.662-2.053-2.724-3.116s-2.169-2.030-3.116-2.724c-1.612-1.182-2.393-1.319-2.841-1.319h-15.5c-1.378 0-2.5 1.121-2.5 2.5v27c0 1.378 1.122 2.5 2.5 2.5h23c1.378 0 2.5-1.122 2.5-2.5v-19.5c0-0.448-0.137-1.23-1.319-2.841zM24.543 5.457c0.959 0.959 1.712 1.825 2.268 2.543h-4.811v-4.811c0.718 0.556 1.584 1.309 2.543 2.268zM28 29.5c0 0.271-0.229 0.5-0.5 0.5h-23c-0.271 0-0.5-0.229-0.5-0.5v-27c0-0.271 0.229-0.5 0.5-0.5 0 0 15.499-0 15.5 0v7c0 0.552 0.448 1 1 1h7v19.5z\"></path>\n<path d=\"M23 26h-14c-0.552 0-1-0.448-1-1s0.448-1 1-1h14c0.552 0 1 0.448 1 1s-0.448 1-1 1z\"></path>\n<path d=\"M23 22h-14c-0.552 0-1-0.448-1-1s0.448-1 1-1h14c0.552 0 1 0.448 1 1s-0.448 1-1 1z\"></path>\n<path d=\"M23 18h-14c-0.552 0-1-0.448-1-1s0.448-1 1-1h14c0.552 0 1 0.448 1 1s-0.448 1-1 1z\"></path>\n</symbol>\n</defs>\n</svg>\n<style>/* CSS stylesheet for displaying xarray objects in jupyterlab.\n *\n */\n\n:root {\n  --xr-font-color0: var(--jp-content-font-color0, rgba(0, 0, 0, 1));\n  --xr-font-color2: var(--jp-content-font-color2, rgba(0, 0, 0, 0.54));\n  --xr-font-color3: var(--jp-content-font-color3, rgba(0, 0, 0, 0.38));\n  --xr-border-color: var(--jp-border-color2, #e0e0e0);\n  --xr-disabled-color: var(--jp-layout-color3, #bdbdbd);\n  --xr-background-color: var(--jp-layout-color0, white);\n  --xr-background-color-row-even: var(--jp-layout-color1, white);\n  --xr-background-color-row-odd: var(--jp-layout-color2, #eeeeee);\n}\n\nhtml[theme=dark],\nbody.vscode-dark {\n  --xr-font-color0: rgba(255, 255, 255, 1);\n  --xr-font-color2: rgba(255, 255, 255, 0.54);\n  --xr-font-color3: rgba(255, 255, 255, 0.38);\n  --xr-border-color: #1F1F1F;\n  --xr-disabled-color: #515151;\n  --xr-background-color: #111111;\n  --xr-background-color-row-even: #111111;\n  --xr-background-color-row-odd: #313131;\n}\n\n.xr-wrap {\n  display: block;\n  min-width: 300px;\n  max-width: 700px;\n}\n\n.xr-text-repr-fallback {\n  /* fallback to plain text repr when CSS is not injected (untrusted notebook) */\n  display: none;\n}\n\n.xr-header {\n  padding-top: 6px;\n  padding-bottom: 6px;\n  margin-bottom: 4px;\n  border-bottom: solid 1px var(--xr-border-color);\n}\n\n.xr-header > div,\n.xr-header > ul {\n  display: inline;\n  margin-top: 0;\n  margin-bottom: 0;\n}\n\n.xr-obj-type,\n.xr-array-name {\n  margin-left: 2px;\n  margin-right: 10px;\n}\n\n.xr-obj-type {\n  color: var(--xr-font-color2);\n}\n\n.xr-sections {\n  padding-left: 0 !important;\n  display: grid;\n  grid-template-columns: 150px auto auto 1fr 20px 20px;\n}\n\n.xr-section-item {\n  display: contents;\n}\n\n.xr-section-item input {\n  display: none;\n}\n\n.xr-section-item input + label {\n  color: var(--xr-disabled-color);\n}\n\n.xr-section-item input:enabled + label {\n  cursor: pointer;\n  color: var(--xr-font-color2);\n}\n\n.xr-section-item input:enabled + label:hover {\n  color: var(--xr-font-color0);\n}\n\n.xr-section-summary {\n  grid-column: 1;\n  color: var(--xr-font-color2);\n  font-weight: 500;\n}\n\n.xr-section-summary > span {\n  display: inline-block;\n  padding-left: 0.5em;\n}\n\n.xr-section-summary-in:disabled + label {\n  color: var(--xr-font-color2);\n}\n\n.xr-section-summary-in + label:before {\n  display: inline-block;\n  content: '►';\n  font-size: 11px;\n  width: 15px;\n  text-align: center;\n}\n\n.xr-section-summary-in:disabled + label:before {\n  color: var(--xr-disabled-color);\n}\n\n.xr-section-summary-in:checked + label:before {\n  content: '▼';\n}\n\n.xr-section-summary-in:checked + label > span {\n  display: none;\n}\n\n.xr-section-summary,\n.xr-section-inline-details {\n  padding-top: 4px;\n  padding-bottom: 4px;\n}\n\n.xr-section-inline-details {\n  grid-column: 2 / -1;\n}\n\n.xr-section-details {\n  display: none;\n  grid-column: 1 / -1;\n  margin-bottom: 5px;\n}\n\n.xr-section-summary-in:checked ~ .xr-section-details {\n  display: contents;\n}\n\n.xr-array-wrap {\n  grid-column: 1 / -1;\n  display: grid;\n  grid-template-columns: 20px auto;\n}\n\n.xr-array-wrap > label {\n  grid-column: 1;\n  vertical-align: top;\n}\n\n.xr-preview {\n  color: var(--xr-font-color3);\n}\n\n.xr-array-preview,\n.xr-array-data {\n  padding: 0 5px !important;\n  grid-column: 2;\n}\n\n.xr-array-data,\n.xr-array-in:checked ~ .xr-array-preview {\n  display: none;\n}\n\n.xr-array-in:checked ~ .xr-array-data,\n.xr-array-preview {\n  display: inline-block;\n}\n\n.xr-dim-list {\n  display: inline-block !important;\n  list-style: none;\n  padding: 0 !important;\n  margin: 0;\n}\n\n.xr-dim-list li {\n  display: inline-block;\n  padding: 0;\n  margin: 0;\n}\n\n.xr-dim-list:before {\n  content: '(';\n}\n\n.xr-dim-list:after {\n  content: ')';\n}\n\n.xr-dim-list li:not(:last-child):after {\n  content: ',';\n  padding-right: 5px;\n}\n\n.xr-has-index {\n  font-weight: bold;\n}\n\n.xr-var-list,\n.xr-var-item {\n  display: contents;\n}\n\n.xr-var-item > div,\n.xr-var-item label,\n.xr-var-item > .xr-var-name span {\n  background-color: var(--xr-background-color-row-even);\n  margin-bottom: 0;\n}\n\n.xr-var-item > .xr-var-name:hover span {\n  padding-right: 5px;\n}\n\n.xr-var-list > li:nth-child(odd) > div,\n.xr-var-list > li:nth-child(odd) > label,\n.xr-var-list > li:nth-child(odd) > .xr-var-name span {\n  background-color: var(--xr-background-color-row-odd);\n}\n\n.xr-var-name {\n  grid-column: 1;\n}\n\n.xr-var-dims {\n  grid-column: 2;\n}\n\n.xr-var-dtype {\n  grid-column: 3;\n  text-align: right;\n  color: var(--xr-font-color2);\n}\n\n.xr-var-preview {\n  grid-column: 4;\n}\n\n.xr-var-name,\n.xr-var-dims,\n.xr-var-dtype,\n.xr-preview,\n.xr-attrs dt {\n  white-space: nowrap;\n  overflow: hidden;\n  text-overflow: ellipsis;\n  padding-right: 10px;\n}\n\n.xr-var-name:hover,\n.xr-var-dims:hover,\n.xr-var-dtype:hover,\n.xr-attrs dt:hover {\n  overflow: visible;\n  width: auto;\n  z-index: 1;\n}\n\n.xr-var-attrs,\n.xr-var-data {\n  display: none;\n  background-color: var(--xr-background-color) !important;\n  padding-bottom: 5px !important;\n}\n\n.xr-var-attrs-in:checked ~ .xr-var-attrs,\n.xr-var-data-in:checked ~ .xr-var-data {\n  display: block;\n}\n\n.xr-var-data > table {\n  float: right;\n}\n\n.xr-var-name span,\n.xr-var-data,\n.xr-attrs {\n  padding-left: 25px !important;\n}\n\n.xr-attrs,\n.xr-var-attrs,\n.xr-var-data {\n  grid-column: 1 / -1;\n}\n\ndl.xr-attrs {\n  padding: 0;\n  margin: 0;\n  display: grid;\n  grid-template-columns: 125px auto;\n}\n\n.xr-attrs dt, dd {\n  padding: 0;\n  margin: 0;\n  float: left;\n  padding-right: 10px;\n  width: auto;\n}\n\n.xr-attrs dt {\n  font-weight: normal;\n  grid-column: 1;\n}\n\n.xr-attrs dt:hover span {\n  display: inline-block;\n  background: var(--xr-background-color);\n  padding-right: 10px;\n}\n\n.xr-attrs dd {\n  grid-column: 2;\n  white-space: pre-wrap;\n  word-break: break-all;\n}\n\n.xr-icon-database,\n.xr-icon-file-text2 {\n  display: inline-block;\n  vertical-align: middle;\n  width: 1em;\n  height: 1.5em !important;\n  stroke-width: 0;\n  stroke: currentColor;\n  fill: currentColor;\n}\n</style><pre class='xr-text-repr-fallback'>&lt;xarray.DataArray &#x27;molecular&#x27; (profiles: 3, height: 3000, time: 2880)&gt;\narray([[[1.43876581e-06, 1.43876355e-06, 1.43876129e-06, ...,\n         1.43152413e-06, 1.43152573e-06, 1.43152734e-06],\n        [1.43790604e-06, 1.43790375e-06, 1.43790147e-06, ...,\n         1.43063545e-06, 1.43063697e-06, 1.43063848e-06],\n        [1.43704599e-06, 1.43704369e-06, 1.43704139e-06, ...,\n         1.42974639e-06, 1.42974782e-06, 1.42974924e-06],\n        ...,\n        [8.38648559e-08, 8.38651337e-08, 8.38654115e-08, ...,\n         8.36953909e-08, 8.36948784e-08, 8.36943660e-08],\n        [8.37789800e-08, 8.37792581e-08, 8.37795362e-08, ...,\n         8.36089534e-08, 8.36084399e-08, 8.36079264e-08],\n        [8.36931164e-08, 8.36933948e-08, 8.36936732e-08, ...,\n         8.35225293e-08, 8.35220147e-08, 8.35215002e-08]],\n\n       [[1.22213220e-05, 1.22213023e-05, 1.22212825e-05, ...,\n         1.21590354e-05, 1.21590491e-05, 1.21590627e-05],\n        [1.22140184e-05, 1.22139984e-05, 1.22139784e-05, ...,\n         1.21514925e-05, 1.21515054e-05, 1.21515183e-05],\n        [1.22067123e-05, 1.22066922e-05, 1.22066721e-05, ...,\n         1.21439463e-05, 1.21439585e-05, 1.21439706e-05],\n...\n        [7.12568384e-07, 7.12570744e-07, 7.12573104e-07, ...,\n         7.11128503e-07, 7.11124149e-07, 7.11119794e-07],\n        [7.11838728e-07, 7.11841091e-07, 7.11843454e-07, ...,\n         7.10394076e-07, 7.10389713e-07, 7.10385350e-07],\n        [7.11109177e-07, 7.11111543e-07, 7.11113908e-07, ...,\n         7.09659762e-07, 7.09655390e-07, 7.09651018e-07]],\n\n       [[1.43599905e-06, 1.43599680e-06, 1.43599455e-06, ...,\n         1.42878531e-06, 1.42878691e-06, 1.42878851e-06],\n        [1.43487903e-06, 1.43487675e-06, 1.43487447e-06, ...,\n         1.42763908e-06, 1.42764059e-06, 1.42764210e-06],\n        [1.43375924e-06, 1.43375695e-06, 1.43375466e-06, ...,\n         1.42649301e-06, 1.42649442e-06, 1.42649584e-06],\n        ...,\n        [6.81102815e-08, 6.81105007e-08, 6.81107199e-08, ...,\n         6.79896568e-08, 6.79892503e-08, 6.79888438e-08],\n        [6.80398142e-08, 6.80400337e-08, 6.80402531e-08, ...,\n         6.79187186e-08, 6.79183113e-08, 6.79179039e-08],\n        [6.79693591e-08, 6.79695789e-08, 6.79697986e-08, ...,\n         6.78477935e-08, 6.78473853e-08, 6.78469771e-08]]])\nCoordinates:\n  * profiles  (profiles) &lt;U11 &#x27;beta&#x27; &#x27;sigma&#x27; &#x27;att_bsc_mol&#x27;\n  * height    (height) float64 307.8 315.2 322.7 ... 2.271e+04 2.271e+04\n  * time      (time) datetime64[ns] 2017-09-01 ... 2017-09-01T23:59:30</pre><div class='xr-wrap' hidden><div class='xr-header'><div class='xr-obj-type'>xarray.DataArray</div><div class='xr-array-name'>'molecular'</div><ul class='xr-dim-list'><li><span class='xr-has-index'>profiles</span>: 3</li><li><span class='xr-has-index'>height</span>: 3000</li><li><span class='xr-has-index'>time</span>: 2880</li></ul></div><ul class='xr-sections'><li class='xr-section-item'><div class='xr-array-wrap'><input id='section-268feac6-829e-4d30-afdb-b877c24830b8' class='xr-array-in' type='checkbox' checked><label for='section-268feac6-829e-4d30-afdb-b877c24830b8' title='Show/hide data repr'><svg class='icon xr-icon-database'><use xlink:href='#icon-database'></use></svg></label><div class='xr-array-preview xr-preview'><span>1.439e-06 1.439e-06 1.439e-06 ... 6.785e-08 6.785e-08 6.785e-08</span></div><div class='xr-array-data'><pre>array([[[1.43876581e-06, 1.43876355e-06, 1.43876129e-06, ...,\n         1.43152413e-06, 1.43152573e-06, 1.43152734e-06],\n        [1.43790604e-06, 1.43790375e-06, 1.43790147e-06, ...,\n         1.43063545e-06, 1.43063697e-06, 1.43063848e-06],\n        [1.43704599e-06, 1.43704369e-06, 1.43704139e-06, ...,\n         1.42974639e-06, 1.42974782e-06, 1.42974924e-06],\n        ...,\n        [8.38648559e-08, 8.38651337e-08, 8.38654115e-08, ...,\n         8.36953909e-08, 8.36948784e-08, 8.36943660e-08],\n        [8.37789800e-08, 8.37792581e-08, 8.37795362e-08, ...,\n         8.36089534e-08, 8.36084399e-08, 8.36079264e-08],\n        [8.36931164e-08, 8.36933948e-08, 8.36936732e-08, ...,\n         8.35225293e-08, 8.35220147e-08, 8.35215002e-08]],\n\n       [[1.22213220e-05, 1.22213023e-05, 1.22212825e-05, ...,\n         1.21590354e-05, 1.21590491e-05, 1.21590627e-05],\n        [1.22140184e-05, 1.22139984e-05, 1.22139784e-05, ...,\n         1.21514925e-05, 1.21515054e-05, 1.21515183e-05],\n        [1.22067123e-05, 1.22066922e-05, 1.22066721e-05, ...,\n         1.21439463e-05, 1.21439585e-05, 1.21439706e-05],\n...\n        [7.12568384e-07, 7.12570744e-07, 7.12573104e-07, ...,\n         7.11128503e-07, 7.11124149e-07, 7.11119794e-07],\n        [7.11838728e-07, 7.11841091e-07, 7.11843454e-07, ...,\n         7.10394076e-07, 7.10389713e-07, 7.10385350e-07],\n        [7.11109177e-07, 7.11111543e-07, 7.11113908e-07, ...,\n         7.09659762e-07, 7.09655390e-07, 7.09651018e-07]],\n\n       [[1.43599905e-06, 1.43599680e-06, 1.43599455e-06, ...,\n         1.42878531e-06, 1.42878691e-06, 1.42878851e-06],\n        [1.43487903e-06, 1.43487675e-06, 1.43487447e-06, ...,\n         1.42763908e-06, 1.42764059e-06, 1.42764210e-06],\n        [1.43375924e-06, 1.43375695e-06, 1.43375466e-06, ...,\n         1.42649301e-06, 1.42649442e-06, 1.42649584e-06],\n        ...,\n        [6.81102815e-08, 6.81105007e-08, 6.81107199e-08, ...,\n         6.79896568e-08, 6.79892503e-08, 6.79888438e-08],\n        [6.80398142e-08, 6.80400337e-08, 6.80402531e-08, ...,\n         6.79187186e-08, 6.79183113e-08, 6.79179039e-08],\n        [6.79693591e-08, 6.79695789e-08, 6.79697986e-08, ...,\n         6.78477935e-08, 6.78473853e-08, 6.78469771e-08]]])</pre></div></div></li><li class='xr-section-item'><input id='section-557004ea-3631-460b-9fa9-09afdc9bcdd7' class='xr-section-summary-in' type='checkbox'  checked><label for='section-557004ea-3631-460b-9fa9-09afdc9bcdd7' class='xr-section-summary' >Coordinates: <span>(3)</span></label><div class='xr-section-inline-details'></div><div class='xr-section-details'><ul class='xr-var-list'><li class='xr-var-item'><div class='xr-var-name'><span class='xr-has-index'>profiles</span></div><div class='xr-var-dims'>(profiles)</div><div class='xr-var-dtype'>&lt;U11</div><div class='xr-var-preview xr-preview'>&#x27;beta&#x27; &#x27;sigma&#x27; &#x27;att_bsc_mol&#x27;</div><input id='attrs-a2ccb578-d1d9-4856-8ee6-6ac1b327828d' class='xr-var-attrs-in' type='checkbox' disabled><label for='attrs-a2ccb578-d1d9-4856-8ee6-6ac1b327828d' title='Show/Hide attributes'><svg class='icon xr-icon-file-text2'><use xlink:href='#icon-file-text2'></use></svg></label><input id='data-09fa0280-aa84-467c-9e21-ec6244bf4210' class='xr-var-data-in' type='checkbox'><label for='data-09fa0280-aa84-467c-9e21-ec6244bf4210' title='Show/Hide data repr'><svg class='icon xr-icon-database'><use xlink:href='#icon-database'></use></svg></label><div class='xr-var-attrs'><dl class='xr-attrs'></dl></div><div class='xr-var-data'><pre>array([&#x27;beta&#x27;, &#x27;sigma&#x27;, &#x27;att_bsc_mol&#x27;], dtype=&#x27;&lt;U11&#x27;)</pre></div></li><li class='xr-var-item'><div class='xr-var-name'><span class='xr-has-index'>height</span></div><div class='xr-var-dims'>(height)</div><div class='xr-var-dtype'>float64</div><div class='xr-var-preview xr-preview'>307.8 315.2 ... 2.271e+04 2.271e+04</div><input id='attrs-ef7aa7bc-5bc8-46d3-aab1-356a00ee8206' class='xr-var-attrs-in' type='checkbox' disabled><label for='attrs-ef7aa7bc-5bc8-46d3-aab1-356a00ee8206' title='Show/Hide attributes'><svg class='icon xr-icon-file-text2'><use xlink:href='#icon-file-text2'></use></svg></label><input id='data-f7ac72a1-dc46-46dd-a7b8-8996ddc9108d' class='xr-var-data-in' type='checkbox'><label for='data-f7ac72a1-dc46-46dd-a7b8-8996ddc9108d' title='Show/Hide data repr'><svg class='icon xr-icon-database'><use xlink:href='#icon-database'></use></svg></label><div class='xr-var-attrs'><dl class='xr-attrs'></dl></div><div class='xr-var-data'><pre>array([  307.75    ,   315.221461,   322.692921, ..., 22699.717229,\n       22707.188689, 22714.66015 ])</pre></div></li><li class='xr-var-item'><div class='xr-var-name'><span class='xr-has-index'>time</span></div><div class='xr-var-dims'>(time)</div><div class='xr-var-dtype'>datetime64[ns]</div><div class='xr-var-preview xr-preview'>2017-09-01 ... 2017-09-01T23:59:30</div><input id='attrs-9a330b88-0376-4b42-86bf-e9ec96509bfc' class='xr-var-attrs-in' type='checkbox' disabled><label for='attrs-9a330b88-0376-4b42-86bf-e9ec96509bfc' title='Show/Hide attributes'><svg class='icon xr-icon-file-text2'><use xlink:href='#icon-file-text2'></use></svg></label><input id='data-06fb2155-b358-4fe8-ac6a-7a53b1dfca34' class='xr-var-data-in' type='checkbox'><label for='data-06fb2155-b358-4fe8-ac6a-7a53b1dfca34' title='Show/Hide data repr'><svg class='icon xr-icon-database'><use xlink:href='#icon-database'></use></svg></label><div class='xr-var-attrs'><dl class='xr-attrs'></dl></div><div class='xr-var-data'><pre>array([&#x27;2017-09-01T00:00:00.000000000&#x27;, &#x27;2017-09-01T00:00:30.000000000&#x27;,\n       &#x27;2017-09-01T00:01:00.000000000&#x27;, ..., &#x27;2017-09-01T23:58:30.000000000&#x27;,\n       &#x27;2017-09-01T23:59:00.000000000&#x27;, &#x27;2017-09-01T23:59:30.000000000&#x27;],\n      dtype=&#x27;datetime64[ns]&#x27;)</pre></div></li></ul></div></li><li class='xr-section-item'><input id='section-b588854c-0340-4f25-9b71-0348fcefbec4' class='xr-section-summary-in' type='checkbox' disabled ><label for='section-b588854c-0340-4f25-9b71-0348fcefbec4' class='xr-section-summary'  title='Expand/collapse section'>Attributes: <span>(0)</span></label><div class='xr-section-inline-details'></div><div class='xr-section-details'><dl class='xr-attrs'></dl></div></li></ul></div></div>"
     },
     "execution_count": 11,
     "metadata": {},
     "output_type": "execute_result"
    }
   ],
   "source": [
    "print('df_mol')\n",
    "lambda_um = gs.LAMBDA_um().G\n",
    "location = haifa_station.location\n",
    "mol_df,mol_xr = generate_att_bsc_mol(lambda_um, haifa_station, time_res='30S')\n",
    "mol_xr\n",
    "\n",
    "# TODO: make sure mol_df units has consistant units 1/m vs 1/km\n",
    "# TODO: define attributes of mol_xr\n",
    "# TODO: create xarray to a daily molecular profile for three channels\n",
    "# TODO: convert from xarray to pytorch"
   ],
   "metadata": {
    "collapsed": false,
    "pycharm": {
     "name": "#%%\n"
    }
   }
  },
  {
   "cell_type": "code",
   "execution_count": 11,
   "outputs": [],
   "source": [],
   "metadata": {
    "collapsed": false,
    "pycharm": {
     "name": "#%%\n"
    }
   }
  },
  {
   "cell_type": "code",
   "execution_count": 12,
   "outputs": [
    {
     "data": {
      "text/plain": "<Figure size 1152x1080 with 2 Axes>",
      "image/png": "[encoded data removed]"
     },
     "metadata": {
      "needs_background": "light"
     },
     "output_type": "display_data"
    }
   ],
   "source": [
    "cur_df= mol_df\n",
    "x_lims = mdates.date2num([cur_df.columns[0],cur_df.columns[-1]])\n",
    "y_lims = [cur_df.index[0]*1E-3, cur_df.index[-1]*1E-3]\n",
    "extent = [x_lims[0],x_lims[1],y_lims[0],y_lims[1] ]\n",
    "fig, ax = plt.subplots(figsize=(16,15))\n",
    "im = ax.imshow(cur_df, origin='lower',aspect='auto',cmap = 'turbo',\n",
    "               extent=extent)#[0,2779,interp_sigma_df.index[0], interp_sigma_df.index[-1]])\n",
    "\n",
    "ax.set_ylabel('Altitude [km]',fontsize =24)\n",
    "ax.set_xlabel('Time',fontsize =24)\n",
    "plt.rc('xtick',labelsize =18)\n",
    "plt.rc('ytick',labelsize=18)\n",
    "fig.colorbar(im,ax= ax)\n",
    "ax.xaxis_date()\n",
    "ax.get_xaxis().set_major_locator(mdates.MinuteLocator(interval=120))\n",
    "xfmt = mdates.DateFormatter('%H:%M')\n",
    "ax.xaxis.set_major_formatter(xfmt)\n",
    "fig.tight_layout()\n",
    "plt.show()"
   ],
   "metadata": {
    "collapsed": false,
    "pycharm": {
     "name": "#%% Visualise att_bsc (range corrected molecular signal without p_const)\n"
    }
   }
  },
  {
   "cell_type": "code",
   "execution_count": 13,
   "outputs": [
    {
     "data": {
      "text/plain": "' Interpolate on molecular profiles on a 2D grid 00:00-23:59 '"
     },
     "execution_count": 13,
     "metadata": {},
     "output_type": "execute_result"
    }
   ],
   "source": [
    "''' read radiosonde at 00:00 and 12:00 and 00:00 (of the day after)'''\n",
    "## radiosonde download and analysis from cameranetwork\n",
    "\n",
    "''' read gdas data for 00:00, 03:00, 06:00, 09:00 ,12:00, 15:00 , 18:00 ,21:00, 24:00'''\n",
    "## use: https://github.com/martin-rdz/ARLreader\n",
    "\n",
    "\n",
    "## AERONET : https://aeronet.gsfc.nasa.gov/cgi-bin/data_display_aod_v3?site=Technion_Haifa_IL&nachal=0&year=2017&month=5&day=19&aero_water=0&level=3&if_day=0&if_err=0&place_code=10&DATA_TYPE=-999&year_or_month=3\n",
    "## it is possible to merge with Terra MODIS or Aqua MODIS -\n",
    "# / TODO: locate the function that does donwload of sunphotometer data to cameranetwork (maybe Shubi knows this)\n",
    "# / TODO: ask about the relevant product from MODIS to our porpose.\n",
    "''' Interpolate on molecular profiles on a 2D grid 00:00-23:59 '''"
   ],
   "metadata": {
    "collapsed": false,
    "pycharm": {
     "name": "#%%\n"
    }
   }
  },
  {
   "cell_type": "code",
   "execution_count": 14,
   "outputs": [],
   "source": [
    "# for the followings :\n",
    "# X = {lidar measurement (range corrected) molecular (range corrected)}\n",
    "# Y = {lidar const, reference height [min,max]}"
   ],
   "metadata": {
    "collapsed": false,
    "pycharm": {
     "name": "#%% Create samples of 30 min acording to 'profiles' times\n"
    }
   }
  }
 ],
 "metadata": {
  "kernelspec": {
   "name": "lidar",
   "language": "python",
   "display_name": "lidar"
  },
  "language_info": {
   "codemirror_mode": {
    "name": "ipython",
    "version": 2
   },
   "file_extension": ".py",
   "mimetype": "text/x-python",
   "name": "python",
   "nbconvert_exporter": "python",
   "pygments_lexer": "ipython2",
   "version": "2.7.6"
  }
 },
 "nbformat": 4,
 "nbformat_minor": 0
}