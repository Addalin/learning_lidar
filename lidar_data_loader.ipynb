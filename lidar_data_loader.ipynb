{
 "cells": [
  {
   "cell_type": "code",
   "execution_count": 1,
   "outputs": [
    {
     "name": "stderr",
     "output_type": "stream",
     "text": [
      "C:\\Users\\addalin\\Dropbox\\Lidar\\code\\miscLidar.py:40: MatplotlibDeprecationWarning: Support for setting the 'text.latex.preamble' or 'pgf.preamble' rcParam to a list of strings is deprecated since 3.3 and will be removed two minor releases later; set it to a single string instead.\n",
      "  plt.rcParams['text.latex.preamble'] = [r\"\\usepackage{amsmath}\"]\n"
     ]
    }
   ],
   "source": [
    "import os,sys\n",
    "import numpy as np\n",
    "import scipy as sp\n",
    "import pandas as pd\n",
    "#from netCDF4 import Dataset\n",
    "import matplotlib\n",
    "from datetime import datetime, timedelta, time\n",
    "import glob\n",
    "from generate_atmosphere import LidarProfile,RadiosondeProfile\n",
    "import miscLidar as mscLid\n",
    "from molecular import rayleigh_scattering\n",
    "import global_settings as gs\n",
    "import pandas as pd\n",
    "#import ARLreader as Ar\n",
    "import preprocessing as prep\n",
    "import matplotlib.dates as mdates\n",
    "import matplotlib.pyplot as plt\n",
    "import xarray as xr\n",
    "%matplotlib inline"
   ],
   "metadata": {
    "collapsed": false,
    "pycharm": {
     "name": "#%% Imports\n"
    }
   }
  },
  {
   "cell_type": "code",
   "execution_count": 2,
   "outputs": [],
   "source": [
    "SMALL_SIZE = 10\n",
    "MEDIUM_SIZE = 12\n",
    "BIG_SIZE = 14\n",
    "\n",
    "plt.rc('font', size=SMALL_SIZE)          # controls default text sizes\n",
    "plt.rc('axes', titlesize=BIG_SIZE)       # fontsize of the axes title\n",
    "plt.rc('axes', labelsize=MEDIUM_SIZE)    # fontsize of the x and y labels\n",
    "plt.rc('xtick', labelsize=SMALL_SIZE)    # fontsize of the tick labels\n",
    "plt.rc('ytick', labelsize=SMALL_SIZE)    # fontsize of the tick labels\n",
    "plt.rc('legend', fontsize=SMALL_SIZE)    # legend fontsize\n",
    "plt.rc('figure', titlesize=BIG_SIZE)     # fontsize of the figure title"
   ],
   "metadata": {
    "collapsed": false,
    "pycharm": {
     "name": "#%%\n"
    }
   }
  },
  {
   "cell_type": "code",
   "execution_count": 3,
   "outputs": [],
   "source": [
    "def humanbytes(B):\n",
    "   'Return the given bytes as a human friendly KB, MB, GB, or TB string'\n",
    "   B = float(B)\n",
    "   KB = float(1024)\n",
    "   MB = float(KB ** 2) # 1,048,576\n",
    "   GB = float(KB ** 3) # 1,073,741,824\n",
    "   TB = float(KB ** 4) # 1,099,511,627,776\n",
    "\n",
    "   if B < KB:\n",
    "      return '{0} {1}'.format(B,'Bytes' if 0 == B > 1 else 'Byte')\n",
    "   elif KB <= B < MB:\n",
    "      return '{0:.2f} KB'.format(B/KB)\n",
    "   elif MB <= B < GB:\n",
    "      return '{0:.2f} MB'.format(B/MB)\n",
    "   elif GB <= B < TB:\n",
    "      return '{0:.2f} GB'.format(B/GB)\n",
    "   elif TB <= B:\n",
    "      return '{0:.2f} TB'.format(B/TB)"
   ],
   "metadata": {
    "collapsed": false,
    "pycharm": {
     "name": "#%%\n"
    }
   }
  },
  {
   "cell_type": "code",
   "execution_count": 4,
   "outputs": [
    {
     "name": "stdout",
     "output_type": "stream",
     "text": [
      "2017-09-01 00:00:00\n"
     ]
    }
   ],
   "source": [
    "'''set day'''\n",
    "day_date = datetime(2017,9,1)\n",
    "print(day_date)"
   ],
   "metadata": {
    "collapsed": false,
    "pycharm": {
     "name": "#%%\n"
    }
   }
  },
  {
   "cell_type": "code",
   "execution_count": 5,
   "outputs": [
    {
     "name": "stdout",
     "output_type": "stream",
     "text": [
      "load station\n"
     ]
    },
    {
     "data": {
      "text/plain": "'Haifa'"
     },
     "execution_count": 5,
     "metadata": {},
     "output_type": "execute_result"
    }
   ],
   "source": [
    "'''set station'''\n",
    "print('load station')\n",
    "haifa_station = gs.Station('Haifa')\n",
    "haifa_station.location"
   ],
   "metadata": {
    "collapsed": false,
    "pycharm": {
     "name": "#%%\n"
    }
   }
  },
  {
   "cell_type": "code",
   "execution_count": 6,
   "outputs": [
    {
     "name": "stdout",
     "output_type": "stream",
     "text": [
      "<class 'global_settings.Station'>: {'name': 'Haifa', 'location': 'Haifa', 'lon': 35.02, 'lat': 32.8, 'altitude': 229.0, 'start_bin_height': 78.75, 'end_bin_height': 22485.66016, 'n_bins': 3000, 'dt': 5.0000000000000004e-08, 'gdas1_folder': '.\\\\data examples\\\\gdas', 'gdastxt_folder': '.\\\\data examples\\\\gdas_txt', 'lidar_src_folder': '.\\\\data examples\\\\netcdf', 'molecular_src_folder': '.\\\\data examples\\\\molecular_dataset', 'db_file': 'H:\\\\data_haifa\\\\DATA FROM TROPOS\\\\data\\\\level1a\\\\PollyXT_TROPOS\\\\pollyxt_tropos_calibration.db', 'lidar_parent_folder': nan}\n"
     ]
    }
   ],
   "source": [
    "''''Set paths for small tests'''\n",
    "#lidar_parent_folder = 'H:\\data_haifa\\DATA FROM TROPOS\\data\\level1a\\PollyXT_TROPOS'\n",
    "#gdas_parent_folder = 'H:\\data_haifa\\DATA FROM TROPOS\\GDAS\\haifa'\n",
    "#lidar_parent_folder = haifa_station.lidar_src_folder\n",
    "# changing the path for dev\n",
    "haifa_station.gdas1_folder = os.path.join('.','data examples','gdas')\n",
    "haifa_station.gdastxt_folder  = os.path.join('.','data examples','gdas_txt')\n",
    "haifa_station.molecular_src_folder =  os.path.join('.','data examples','molecular_dataset')\n",
    "haifa_station.lidar_src_folder = os.path.join('.','data examples','netcdf')\n",
    "print(haifa_station)"
   ],
   "metadata": {
    "collapsed": false,
    "pycharm": {
     "name": "#%%\n"
    }
   }
  },
  {
   "cell_type": "code",
   "execution_count": 7,
   "outputs": [],
   "source": [
    "#gdas1_folder,gdas1_paths = prep.get_gdas_paths(haifa_station, day_date,'gdas1')\n",
    "#print('gdas1',gdas1_paths)\n",
    "CONVERT_GDAS = False\n",
    "if CONVERT_GDAS:\n",
    "\t#convert cur day (gdas files from TROPOS to txt)\n",
    "\n",
    "\tgdastxt = prep.convert_daily_gdas ( haifa_station, day_date)\n",
    "\tprint('gdas_txt',gdastxt)\n",
    "\n",
    "\t#convert next day (gdas files from TROPOS to txt)\n",
    "\tnext_day = day_date + timedelta ( days = 1 )\n",
    "\tgdastxt_nextday = prep.convert_daily_gdas ( haifa_station, next_day )\n",
    "\t# gdastxt.extend(prep.convert_daily_gdas ( next_day , haifa_station ))\n",
    "\tprint('gdas_txt next day',gdastxt_nextday)\n",
    "\n",
    "\t#%% convert gdas files for a period\n",
    "\tstart_day =  datetime(2019,4,3)\n",
    "\tend_day = datetime(2019,4,20)\n",
    "\tchunk_paths = prep.convert_periodic_gdas(haifa_station,start_day, end_day)\n",
    "\tprint(chunk_paths)\n",
    "\n"
   ],
   "metadata": {
    "collapsed": false,
    "pycharm": {
     "name": "#%%\n"
    }
   }
  },
  {
   "cell_type": "code",
   "source": [
    "SHOW_MOL_DF = False\n",
    "if SHOW_MOL_DF:\n",
    "\t'''set parameters'''\n",
    "\tlambda_nm = gs.LAMBDA_nm().G\n",
    "\tdf_sigma , df_beta = prep.get_daily_molecular_profiles( haifa_station , day_date , lambda_nm , 'Km' )\n",
    "\t# Visualizing molecular profiles\n",
    "\n",
    "\tplt.figure()\n",
    "\tax = df_beta.plot()\n",
    "\tax.set_ylabel(r'$\\beta_{\\rm mol}[1/m]$')\n",
    "\tplt.show()"
   ],
   "metadata": {
    "collapsed": false,
    "pycharm": {
     "name": "#%% Generate daily molecular profiles from the converted files (above)\n"
    }
   },
   "execution_count": 8,
   "outputs": []
  },
  {
   "cell_type": "code",
   "execution_count": 9,
   "outputs": [],
   "source": [
    "def generate_daily_molecular_chan(station, day_date, lambda_nm, time_res='30S',\n",
    "                                  height_units ='Km', optim_size=False, verbose = False):\n",
    "\t\"\"\"\n",
    "\tGenerating daily molecular profiles for a given channel's wavelength\n",
    "\t:param station: gs.station() object of the lidar station\n",
    "\t:param day_date: datetime.date object of the required date\n",
    "\t:param lambda_nm: wavelength in [nm], e.g, for green lambda_nm = 532.0 [nm]\n",
    "\t:param time_res: Output time resolution required. default is 30sec (according to time resolution of pollyXT measurements)\n",
    "\t:param height_units:  Output units of height grid in 'Km' (default) or 'm'\n",
    "\t:param optim_size: Boolean. False(default): the retrieved values are of type 'float64',\n",
    "\t                            True: the retrieved values are of type 'float'.\n",
    "\t:param verbose: Boolean. False(default). True: prints information regarding size optimization.\n",
    "\t:return: xarray.Dataset() holding 4 data variables:\n",
    "\t3 daily dataframes: beta,sigma,att_bsc with shared dimensions (Height, Time)\n",
    "\tand\n",
    "\t1 shared variable: lambda_nm with dimension (Wavelength)\n",
    "\t\"\"\"\n",
    "\n",
    "\t'''Load daily gdas profiles and convert to backscatter (beta) and extinction (sigma) profiles'''\n",
    "\timport xarray as xr\n",
    "\tdf_sigma , df_beta = prep.get_daily_molecular_profiles ( station , day_date , lambda_nm , height_units )\n",
    "\n",
    "\t''' Interpolate profiles through 24 hrs'''\n",
    "\tinterp_sigma_df=(df_sigma.T.resample(time_res).interpolate(method='linear')[:-1]).T\n",
    "\tinterp_beta_df=(df_beta.T.resample(time_res).interpolate(method='linear')[:-1]).T\n",
    "\tinterp_sigma_df.columns.freq = None\n",
    "\tinterp_beta_df.columns.freq = None\n",
    "\n",
    "\t'''Calculate the molecular attenuated backscatter as :  beta_mol * exp(-2*tau_mol)'''\n",
    "\tif height_units=='Km':\n",
    "\t\t# converting height index to meters before tau calculations\n",
    "\t\tkm_index = interp_sigma_df.index.tolist()\n",
    "\t\tmeter_index = (np.array(km_index.copy())*1e+3).tolist()\n",
    "\t\tinterp_sigma_df.reindex(meter_index)\n",
    "\te_tau_df = interp_sigma_df.apply(prep.cal_e_tau_df,0,args=(haifa_station.altitude,),result_type='expand')\n",
    "\tif height_units=='Km':\n",
    "\t\t# converting back height index to km before dataset creation\n",
    "\t\tinterp_sigma_df.reindex(km_index)\n",
    "\t\te_tau_df.reindex(km_index)\n",
    "\n",
    "\tatt_bsc_mol_df = interp_beta_df.multiply(e_tau_df)\n",
    "\n",
    "\t''' memory size - optimization '''\n",
    "\tif optim_size:\n",
    "\t\tif verbose:\n",
    "\t\t\tprint('Memory optimization - converting molecular values from double to float')\n",
    "\t\t\tsize_beta = interp_beta_df.memory_usage(deep=True).sum()\n",
    "\t\t\tsize_sigma = interp_sigma_df.memory_usage(deep=True).sum()\n",
    "\t\t\tsize_att_bsc = att_bsc_mol_df.memory_usage(deep=True).sum()\n",
    "\n",
    "\t\tinterp_beta_df = (interp_beta_df.select_dtypes(include = ['float64'])).\\\n",
    "\t\t\tapply(pd.to_numeric,downcast='float')\n",
    "\t\tinterp_sigma_df = (interp_sigma_df.select_dtypes(include = ['float64'])).\\\n",
    "\t\t\tapply(pd.to_numeric,downcast='float')\n",
    "\t\tatt_bsc_mol_df = (att_bsc_mol_df.select_dtypes(include = ['float64'])).\\\n",
    "\t\t\tapply(pd.to_numeric,downcast='float')\n",
    "\n",
    "\t\tif verbose:\n",
    "\t\t\tsize_beta_opt = interp_beta_df.memory_usage(deep=True).sum()\n",
    "\t\t\tsize_sigma_opt = interp_sigma_df.memory_usage(deep=True).sum()\n",
    "\t\t\tsize_att_bsc_opt = att_bsc_mol_df.memory_usage(deep=True).sum()\n",
    "\t\t\tprint('Memory saved for wavelength {} beta: {:.2f}%, sigma: {:.2f}%, att_bsc:{:.2f}%'.\n",
    "\t\t\t      format(lambda_nm,100.0*float(size_beta-size_beta_opt)/float(size_beta),\n",
    "\t\t\t             100.0*float(size_sigma-size_sigma_opt)/float(size_sigma),\n",
    "\t\t\t             100.0*float(size_att_bsc-size_att_bsc_opt)/float(size_att_bsc)))\n",
    "\n",
    "\t''' Create molecular dataset'''\n",
    "\tds_chan = xr.Dataset(\n",
    "        data_vars   =   {  'beta'   :   (('Height', 'Time'), interp_beta_df ),\n",
    "                           'sigma'  :   (('Height', 'Time'), interp_sigma_df),\n",
    "                           'attbsc':    (('Height', 'Time'), att_bsc_mol_df ),\n",
    "                           'lambda_nm': ( 'Wavelength'     , np.uint16([lambda_nm]))\n",
    "                        },\n",
    "        coords  =   {   'Height': interp_beta_df.index.to_list(),\n",
    "                        'Time': interp_beta_df.columns,\n",
    "                        'Wavelength': np.uint16([lambda_nm])\n",
    "                        }\n",
    "\t)\n",
    "\n",
    "\t# set attributes of data variables\n",
    "\tds_chan.beta.attrs =  {'long_name':r'$\\beta$',  'units':r'$1/m \\cdot sr$',\n",
    "\t                       'info': 'Molecular backscatter coefficient'}\n",
    "\tds_chan.sigma.attrs = {'long_name':r'$\\sigma$', 'units':r'$1/m $',\n",
    "\t                       'info': 'Molecular attenuation coefficient'}\n",
    "\tds_chan.attbsc.attrs = {'long_name':r'$\\beta \\cdot \\exp(-2\\tau)$',  'units':r'$1/m \\cdot sr$',\n",
    "\t                        'info': 'Molecular attenuated backscatter coefficient'}\n",
    "\t# set attributes of coordinates\n",
    "\tds_chan.Height.attrs = {'units':'{}'.format ( height_units ),'info': 'Measurements heights above sea level'}\n",
    "\tds_chan.Wavelength.attrs = {'long_name':r'$\\lambda$', 'units':r'$nm$'}\n",
    "\n",
    "\n",
    "\treturn ds_chan\n",
    "\n",
    "def generate_daily_molecular(station, day_date, time_res='30S',\n",
    "                                  height_units ='Km', optim_size=False, verbose = False):\n",
    "\t\"\"\"\n",
    "\tGenerating daily molecular profiles for all elastic channels (355,532,1064)\n",
    "\t:param station: gs.station() object of the lidar station\n",
    "\t:param day_date: datetime.date object of the required date\n",
    "\t:param time_res: Output time resolution required. default is 30sec (according to time resolution of pollyXT measurements)\n",
    "\t:param height_units:  Output units of height grid in 'Km' (default) or 'm'\n",
    "\t:param optim_size: Boolean. False(default): the retrieved values are of type 'float64',\n",
    "\t                            True: the retrieved values are of type 'float'.\n",
    "\t:param verbose: Boolean. False(default). True: prints information regarding size optimization.\n",
    "\t:return: xarray.Dataset() holding 5 data variables:\n",
    "\t\t\t 3 daily dataframes: beta,sigma,att_bsc with shared dimensions(Height, Time, Wavelength)\n",
    "\t\t\t and 2 shared variables: lambda_nm with dimension (Wavelength), and date\n",
    "\t\"\"\"\n",
    "\twavelengths = gs.LAMBDA_nm().get_elastic()\n",
    "\tds_list = []\n",
    "\t#from pytictoc import TicToc\n",
    "\t#t = TicToc()\n",
    "\t#t.tic()\n",
    "\tfor lambda_nm in wavelengths:\n",
    "\t\tds_chan = generate_daily_molecular_chan(station, day_date, lambda_nm, time_res=time_res,\n",
    "\t\t                                        height_units =height_units, optim_size=optim_size, verbose = verbose)\n",
    "\t\tds_list.append(ds_chan)\n",
    "\t#t.toc()\n",
    "\t'''concatenating molecular profiles of all channels'''\n",
    "\tds_mol = xr.concat(ds_list,dim ='Wavelength')\n",
    "\tds_mol['date'] = day_date\n",
    "\tds_mol.attrs = {'info':'Daily molecular profiles'}\n",
    "\tds_mol.attrs = {'location':station.name}\n",
    "\treturn ds_mol\n",
    "# save dataset to netcdf file\n",
    "def save_molecular_dataset(station,dataset,save_mode='sep'):\n",
    "\t\"\"\"\n",
    "\tSave the input dataset to netcdf file\n",
    "\t:param station: station: gs.station() object of the lidar station\n",
    "\t:param dataset: array.Dataset() holding 5 data variables:\n",
    "\t\t\t\t\t3 daily dataframes: beta,sigma,att_bsc with shared dimensions(Height, Time, Wavelength)\n",
    "\t\t\t\t\tand 2 shared variables: lambda_nm with dimension (Wavelength), and date\n",
    "\t:param save_mode: save mode options:\n",
    "\t\t\t\t\t'sep' - for separated profiles (each is file is per profile per wavelength)\n",
    "\t\t\t\t\t'single' - save the dataset a single file per day\n",
    "\t\t\t\t\t'both' -saving both options\n",
    "\t:return: ncpaths - the paths of the saved dataset/s . None - for failure.\n",
    "\t\"\"\"\n",
    "\n",
    "\ttry:\n",
    "\t\tdate = ds.date.values\n",
    "\texcept ValueError:\n",
    "\t\tprint('The dataset does not contain a data variable named \"date\"')\n",
    "\t\treturn None\n",
    "\n",
    "\tday_date = datetime.utcfromtimestamp(date.tolist()/1e9)\n",
    "\tmonth_folder = os.path.join(station.molecular_src_folder,\n",
    "\t                           day_date.strftime('%Y'),\n",
    "\t                           day_date.strftime('%m'))\n",
    "\tday_stamp = day_date.strftime('%Y_%m_%d')\n",
    "\n",
    "\tif not os.path.exists(month_folder):\n",
    "\t    try:\n",
    "\t        os.makedirs(month_folder)\n",
    "\t    except Exception:\n",
    "\t        print('Failed to create folder {}'.format(month_folder))\n",
    "\t        return None\n",
    "\n",
    "\t'''save the dataset to separated netcdf files: per profile per wavelength'''\n",
    "\tncpaths=[]\n",
    "\tif save_mode in ['both','sep']:\n",
    "\t\tdata_vars = list(dataset.data_vars)\n",
    "\t\tprofiles = data_vars[0:3]\n",
    "\t\tshared_vars = data_vars[3:]\n",
    "\t\t# print('The data variables for profiles:' ,profiles) #For debug.should be : 'beta','sigma','attbsc'\n",
    "\t\t# print('The shared variables: ',shared_vars) #For debug.should be : 'lambda_nm' (wavelength),'date'\n",
    "\t\tfor prof in profiles:\n",
    "\t\t\tprof_vars = [prof]\n",
    "\t\t\tfor wav in dataset.Wavelength.values:\n",
    "\t\t\t\tprof_vars.extend(shared_vars)\n",
    "\t\t\t\tcur_profile = dataset.get(prof_vars).sel(Wavelength = wav)\n",
    "\t\t\t\t#print(cur_profile)\n",
    "\t\t\t\tfile_name = '{}_{}_{}_{}_molecular.nc'.format(day_stamp,station.location,prof,wav)\n",
    "\t\t\t\tncpath = os.path.join(month_folder,file_name)\n",
    "\t\t\t\ttry:\n",
    "\t\t\t\t\tcur_profile.to_netcdf(ncpath,mode= 'w',\n",
    "\t\t\t\t\t                      format= 'NETCDF4',engine='netcdf4')\n",
    "\t\t\t\t\tcur_profile.close()\n",
    "\t\t\t\texcept Exception:\n",
    "\t\t\t\t\tprint('Saving dataset to {} failed'.format(ncpath))\n",
    "\t\t\t\t\tncpath = None\n",
    "\t\t\t\tif ncpath:\n",
    "\t\t\t\t\tncpaths.append(ncpath)\n",
    "\n",
    "\t'''save the dataset to a single netcdf'''\n",
    "\tif save_mode in ['both','single']:\n",
    "\t\tfile_name = '{}_{}_molecular.nc'.format(day_date.strftime('%Y_%m_%d'),station.location)\n",
    "\t\tncpath = os.path.join(month_folder,file_name)\n",
    "\t\ttry:\n",
    "\t\t\tdataset.to_netcdf(ncpath,mode= 'w',\n",
    "\t\t\t                  format= 'NETCDF4',engine='netcdf4')\n",
    "\t\t\tdataset.close()\n",
    "\t\texcept Exception:\n",
    "\t\t\tprint('Saving dataset to {} failed'.format(ncpath))\n",
    "\t\t\tncpath = None\n",
    "\t\tif ncpath:\n",
    "\t\t\tncpaths.append(ncpath)\n",
    "\treturn  ncpaths\n",
    "\n",
    "# Load Dataset -\n",
    "def load_dataset(netcdf_path):\n",
    "\t# print('Loading dataset file: {}'.format(netcdf_path))\n",
    "\ttry:\n",
    "\t\tdataset = xr.open_dataset(netcdf_path,engine='netcdf4').expand_dims()\n",
    "\t\tdataset.close()\n",
    "\texcept Exception:\n",
    "\t\tprint('Failed to load {}'.format(netcdf_path))\n",
    "\t\treturn None\n",
    "\treturn dataset"
   ],
   "metadata": {
    "collapsed": false,
    "pycharm": {
     "name": "#%% Molecular funcs\n"
    }
   }
  },
  {
   "cell_type": "code",
   "execution_count": null,
   "outputs": [],
   "source": [
    "def get_daily_range_corr(station, day_date):\n",
    "\t\"\"\"\n",
    "\n",
    "\t:param station:\n",
    "\t:param day_date:\n",
    "\t:return:\n",
    "\t\"\"\"\n",
    "\n",
    "\t'''get netcdf paths of the attenuation backscatter for given day_date'''\n",
    "\tbsc_paths = prep.get_att_bsc_paths(station.lidar_src_folder, day_date)\n",
    "\tbsc_ds0 = load_dataset(bsc_paths[0])\n",
    "\taltitude = bsc_ds0.altitude.values[0]\n",
    "\tprofiles = [dvar for dvar in list(bsc_ds0.data_vars) if 'attenuated_backscatter' in dvar]\n",
    "\twavelengths = [np.uint(pname.split(sep='_')[-1].strip('nm')) for pname in profiles]\n",
    "\n",
    "\n",
    "\tds_range_corrs = []\n",
    "\tfor bsc_path in bsc_paths:\n",
    "\t\tcur_ds = load_dataset(bsc_path)\n",
    "\t\t'''get 6-hours range corrected dataset for three channels [355,532,1064]'''\n",
    "\t\tds_chans =[]\n",
    "\t\tfor (pname,lambda_nm) in zip(profiles,wavelengths):\n",
    "\t\t\tcur_darry = cur_ds.get(pname).transpose(transpose_coords=True)\n",
    "\t\t\tds_chan = get_range_corr_ds_chan(cur_darry,altitude,lambda_nm)\n",
    "\t\t\tds_chans.append(ds_chan)\n",
    "\n",
    "\t\tcur_ds_range_corr = xr.concat(ds_chans,dim ='Wavelength')\n",
    "\t\tds_range_corrs.append(cur_ds_range_corr)\n",
    "\n",
    "\t'''merge range corrected of lidar through 24-hours'''\n",
    "\tds_range_corr = xr.merge(ds_range_corrs, compat='no_conflicts')\n",
    "\tds_range_corr['date']= day_date\n",
    "\tds_range_corr.attrs['location'] = station.location\n",
    "\tds_range_corr.attrs['info'] = 'Daily range corrected lidar signal'\n",
    "\treturn ds_range_corr\n",
    "\n",
    "def get_range_corr_ds_chan(darray,altitude,lambda_nm):\n",
    "\tLC = darray.attrs['Lidar_calibration_constant_used']\n",
    "\ttimes =  pd.to_datetime([ datetime.utcfromtimestamp(np.round(vtime)) for vtime in darray.time.values]).values\n",
    "\theights_km = (1e-3) * (darray.height.values + altitude)\n",
    "\trangecorr_df = pd.DataFrame( LC * darray.values ,index = heights_km,columns = times)\n",
    "\n",
    "\t''' Create range_corr_chan lidar dataset'''\n",
    "\trange_corr_ds_chan = xr.Dataset(\n",
    "\t    data_vars   =   {  'range_corr':    (('Height', 'Time'), rangecorr_df ),\n",
    "\t                       'lambda_nm' :    ( 'Wavelength'     , [lambda_nm]  )\n",
    "\t                    },\n",
    "\t    coords  =   {   'Height': rangecorr_df.index.to_list(),\n",
    "\t                    'Time': rangecorr_df.columns,\n",
    "\t                    'Wavelength': [lambda_nm]\n",
    "\t                    }\n",
    "\t)\n",
    "\trange_corr_ds_chan.range_corr.attrs = {'long_name':r'$\\beta \\cdot \\exp(-2\\tau)$',\n",
    "\t                                       'units':r'$photons \\cdot m^2$',\n",
    "\t                                       'info': 'Range corrected lidar signal from attenuated backscatter multiplied with LC'}\n",
    "\t# set attributes of coordinates\n",
    "\trange_corr_ds_chan.Height.attrs = {'units':'{}'.format ( 'Km' ), 'info': 'Measurements heights above sea level'}\n",
    "\trange_corr_ds_chan.Wavelength.attrs = {'long_name':r'$\\lambda$', 'units':r'$nm$'}\n",
    "\n",
    "\treturn  range_corr_ds_chan"
   ],
   "metadata": {
    "collapsed": false,
    "pycharm": {
     "name": "#%% Lidar funcs\n"
    }
   }
  },
  {
   "cell_type": "code",
   "execution_count": 10,
   "outputs": [
    {
     "name": "stdout",
     "output_type": "stream",
     "text": [
      "create daily molecular dataset\n",
      " "
     ]
    }
   ],
   "source": [
    "%%prun -s cumulative\n",
    "print('create daily molecular dataset')\n",
    "ds =  generate_daily_molecular(haifa_station,day_date,optim_size = True)\n",
    "ds"
   ],
   "metadata": {
    "collapsed": false,
    "pycharm": {
     "name": "#%% create daily molecular dataset\n"
    }
   }
  },
  {
   "cell_type": "code",
   "execution_count": 12,
   "outputs": [
    {
     "name": "stdout",
     "output_type": "stream",
     "text": [
      "Saving dataset to:\n"
     ]
    },
    {
     "data": {
      "text/plain": "['.\\\\data examples\\\\molecular_dataset\\\\2017\\\\09\\\\2017_09_01_Haifa_beta_355_molecular.nc',\n '.\\\\data examples\\\\molecular_dataset\\\\2017\\\\09\\\\2017_09_01_Haifa_beta_532_molecular.nc',\n '.\\\\data examples\\\\molecular_dataset\\\\2017\\\\09\\\\2017_09_01_Haifa_beta_1064_molecular.nc',\n '.\\\\data examples\\\\molecular_dataset\\\\2017\\\\09\\\\2017_09_01_Haifa_sigma_355_molecular.nc',\n '.\\\\data examples\\\\molecular_dataset\\\\2017\\\\09\\\\2017_09_01_Haifa_sigma_532_molecular.nc',\n '.\\\\data examples\\\\molecular_dataset\\\\2017\\\\09\\\\2017_09_01_Haifa_sigma_1064_molecular.nc',\n '.\\\\data examples\\\\molecular_dataset\\\\2017\\\\09\\\\2017_09_01_Haifa_attbsc_355_molecular.nc',\n '.\\\\data examples\\\\molecular_dataset\\\\2017\\\\09\\\\2017_09_01_Haifa_attbsc_532_molecular.nc',\n '.\\\\data examples\\\\molecular_dataset\\\\2017\\\\09\\\\2017_09_01_Haifa_attbsc_1064_molecular.nc',\n '.\\\\data examples\\\\molecular_dataset\\\\2017\\\\09\\\\2017_09_01_Haifa_molecular.nc']"
     },
     "execution_count": 12,
     "metadata": {},
     "output_type": "execute_result"
    }
   ],
   "source": [
    "print('Saving dataset to:')\n",
    "netcdfs = save_molecular_dataset(haifa_station,ds,save_mode='both')\n",
    "netcdfs"
   ],
   "metadata": {
    "collapsed": false,
    "pycharm": {
     "name": "#%% save ds\n"
    }
   }
  },
  {
   "cell_type": "code",
   "execution_count": 13,
   "outputs": [
    {
     "data": {
      "text/plain": "<xarray.Dataset>\nDimensions:     (Height: 3000, Time: 2880, Wavelength: 3)\nCoordinates:\n  * Height      (Height) float64 0.3078 0.3152 0.3227 ... 22.7 22.71 22.71\n  * Time        (Time) datetime64[ns] 2017-09-01 ... 2017-09-01T23:59:30\n  * Wavelength  (Wavelength) uint64 355 532 1064\nData variables:\n    beta        (Wavelength, Height, Time) float32 7.676152e-06 ... 5.0566884...\n    sigma       (Wavelength, Height, Time) float32 6.527236e-05 ... 4.2943626...\n    attbsc      (Wavelength, Height, Time) float32 7.908775e-06 ... 5.058327e-09\n    lambda_nm   (Wavelength) uint16 355 532 1064\n    date        datetime64[ns] 2017-09-01\nAttributes:\n    location:  Haifa",
      "text/html": "<div><svg style=\"position: absolute; width: 0; height: 0; overflow: hidden\">\n<defs>\n<symbol id=\"icon-database\" viewBox=\"0 0 32 32\">\n<path d=\"M16 0c-8.837 0-16 2.239-16 5v4c0 2.761 7.163 5 16 5s16-2.239 16-5v-4c0-2.761-7.163-5-16-5z\"></path>\n<path d=\"M16 17c-8.837 0-16-2.239-16-5v6c0 2.761 7.163 5 16 5s16-2.239 16-5v-6c0 2.761-7.163 5-16 5z\"></path>\n<path d=\"M16 26c-8.837 0-16-2.239-16-5v6c0 2.761 7.163 5 16 5s16-2.239 16-5v-6c0 2.761-7.163 5-16 5z\"></path>\n</symbol>\n<symbol id=\"icon-file-text2\" viewBox=\"0 0 32 32\">\n<path d=\"M28.681 7.159c-0.694-0.947-1.662-2.053-2.724-3.116s-2.169-2.030-3.116-2.724c-1.612-1.182-2.393-1.319-2.841-1.319h-15.5c-1.378 0-2.5 1.121-2.5 2.5v27c0 1.378 1.122 2.5 2.5 2.5h23c1.378 0 2.5-1.122 2.5-2.5v-19.5c0-0.448-0.137-1.23-1.319-2.841zM24.543 5.457c0.959 0.959 1.712 1.825 2.268 2.543h-4.811v-4.811c0.718 0.556 1.584 1.309 2.543 2.268zM28 29.5c0 0.271-0.229 0.5-0.5 0.5h-23c-0.271 0-0.5-0.229-0.5-0.5v-27c0-0.271 0.229-0.5 0.5-0.5 0 0 15.499-0 15.5 0v7c0 0.552 0.448 1 1 1h7v19.5z\"></path>\n<path d=\"M23 26h-14c-0.552 0-1-0.448-1-1s0.448-1 1-1h14c0.552 0 1 0.448 1 1s-0.448 1-1 1z\"></path>\n<path d=\"M23 22h-14c-0.552 0-1-0.448-1-1s0.448-1 1-1h14c0.552 0 1 0.448 1 1s-0.448 1-1 1z\"></path>\n<path d=\"M23 18h-14c-0.552 0-1-0.448-1-1s0.448-1 1-1h14c0.552 0 1 0.448 1 1s-0.448 1-1 1z\"></path>\n</symbol>\n</defs>\n</svg>\n<style>/* CSS stylesheet for displaying xarray objects in jupyterlab.\n *\n */\n\n:root {\n  --xr-font-color0: var(--jp-content-font-color0, rgba(0, 0, 0, 1));\n  --xr-font-color2: var(--jp-content-font-color2, rgba(0, 0, 0, 0.54));\n  --xr-font-color3: var(--jp-content-font-color3, rgba(0, 0, 0, 0.38));\n  --xr-border-color: var(--jp-border-color2, #e0e0e0);\n  --xr-disabled-color: var(--jp-layout-color3, #bdbdbd);\n  --xr-background-color: var(--jp-layout-color0, white);\n  --xr-background-color-row-even: var(--jp-layout-color1, white);\n  --xr-background-color-row-odd: var(--jp-layout-color2, #eeeeee);\n}\n\nhtml[theme=dark],\nbody.vscode-dark {\n  --xr-font-color0: rgba(255, 255, 255, 1);\n  --xr-font-color2: rgba(255, 255, 255, 0.54);\n  --xr-font-color3: rgba(255, 255, 255, 0.38);\n  --xr-border-color: #1F1F1F;\n  --xr-disabled-color: #515151;\n  --xr-background-color: #111111;\n  --xr-background-color-row-even: #111111;\n  --xr-background-color-row-odd: #313131;\n}\n\n.xr-wrap {\n  display: block;\n  min-width: 300px;\n  max-width: 700px;\n}\n\n.xr-text-repr-fallback {\n  /* fallback to plain text repr when CSS is not injected (untrusted notebook) */\n  display: none;\n}\n\n.xr-header {\n  padding-top: 6px;\n  padding-bottom: 6px;\n  margin-bottom: 4px;\n  border-bottom: solid 1px var(--xr-border-color);\n}\n\n.xr-header > div,\n.xr-header > ul {\n  display: inline;\n  margin-top: 0;\n  margin-bottom: 0;\n}\n\n.xr-obj-type,\n.xr-array-name {\n  margin-left: 2px;\n  margin-right: 10px;\n}\n\n.xr-obj-type {\n  color: var(--xr-font-color2);\n}\n\n.xr-sections {\n  padding-left: 0 !important;\n  display: grid;\n  grid-template-columns: 150px auto auto 1fr 20px 20px;\n}\n\n.xr-section-item {\n  display: contents;\n}\n\n.xr-section-item input {\n  display: none;\n}\n\n.xr-section-item input + label {\n  color: var(--xr-disabled-color);\n}\n\n.xr-section-item input:enabled + label {\n  cursor: pointer;\n  color: var(--xr-font-color2);\n}\n\n.xr-section-item input:enabled + label:hover {\n  color: var(--xr-font-color0);\n}\n\n.xr-section-summary {\n  grid-column: 1;\n  color: var(--xr-font-color2);\n  font-weight: 500;\n}\n\n.xr-section-summary > span {\n  display: inline-block;\n  padding-left: 0.5em;\n}\n\n.xr-section-summary-in:disabled + label {\n  color: var(--xr-font-color2);\n}\n\n.xr-section-summary-in + label:before {\n  display: inline-block;\n  content: '►';\n  font-size: 11px;\n  width: 15px;\n  text-align: center;\n}\n\n.xr-section-summary-in:disabled + label:before {\n  color: var(--xr-disabled-color);\n}\n\n.xr-section-summary-in:checked + label:before {\n  content: '▼';\n}\n\n.xr-section-summary-in:checked + label > span {\n  display: none;\n}\n\n.xr-section-summary,\n.xr-section-inline-details {\n  padding-top: 4px;\n  padding-bottom: 4px;\n}\n\n.xr-section-inline-details {\n  grid-column: 2 / -1;\n}\n\n.xr-section-details {\n  display: none;\n  grid-column: 1 / -1;\n  margin-bottom: 5px;\n}\n\n.xr-section-summary-in:checked ~ .xr-section-details {\n  display: contents;\n}\n\n.xr-array-wrap {\n  grid-column: 1 / -1;\n  display: grid;\n  grid-template-columns: 20px auto;\n}\n\n.xr-array-wrap > label {\n  grid-column: 1;\n  vertical-align: top;\n}\n\n.xr-preview {\n  color: var(--xr-font-color3);\n}\n\n.xr-array-preview,\n.xr-array-data {\n  padding: 0 5px !important;\n  grid-column: 2;\n}\n\n.xr-array-data,\n.xr-array-in:checked ~ .xr-array-preview {\n  display: none;\n}\n\n.xr-array-in:checked ~ .xr-array-data,\n.xr-array-preview {\n  display: inline-block;\n}\n\n.xr-dim-list {\n  display: inline-block !important;\n  list-style: none;\n  padding: 0 !important;\n  margin: 0;\n}\n\n.xr-dim-list li {\n  display: inline-block;\n  padding: 0;\n  margin: 0;\n}\n\n.xr-dim-list:before {\n  content: '(';\n}\n\n.xr-dim-list:after {\n  content: ')';\n}\n\n.xr-dim-list li:not(:last-child):after {\n  content: ',';\n  padding-right: 5px;\n}\n\n.xr-has-index {\n  font-weight: bold;\n}\n\n.xr-var-list,\n.xr-var-item {\n  display: contents;\n}\n\n.xr-var-item > div,\n.xr-var-item label,\n.xr-var-item > .xr-var-name span {\n  background-color: var(--xr-background-color-row-even);\n  margin-bottom: 0;\n}\n\n.xr-var-item > .xr-var-name:hover span {\n  padding-right: 5px;\n}\n\n.xr-var-list > li:nth-child(odd) > div,\n.xr-var-list > li:nth-child(odd) > label,\n.xr-var-list > li:nth-child(odd) > .xr-var-name span {\n  background-color: var(--xr-background-color-row-odd);\n}\n\n.xr-var-name {\n  grid-column: 1;\n}\n\n.xr-var-dims {\n  grid-column: 2;\n}\n\n.xr-var-dtype {\n  grid-column: 3;\n  text-align: right;\n  color: var(--xr-font-color2);\n}\n\n.xr-var-preview {\n  grid-column: 4;\n}\n\n.xr-var-name,\n.xr-var-dims,\n.xr-var-dtype,\n.xr-preview,\n.xr-attrs dt {\n  white-space: nowrap;\n  overflow: hidden;\n  text-overflow: ellipsis;\n  padding-right: 10px;\n}\n\n.xr-var-name:hover,\n.xr-var-dims:hover,\n.xr-var-dtype:hover,\n.xr-attrs dt:hover {\n  overflow: visible;\n  width: auto;\n  z-index: 1;\n}\n\n.xr-var-attrs,\n.xr-var-data {\n  display: none;\n  background-color: var(--xr-background-color) !important;\n  padding-bottom: 5px !important;\n}\n\n.xr-var-attrs-in:checked ~ .xr-var-attrs,\n.xr-var-data-in:checked ~ .xr-var-data {\n  display: block;\n}\n\n.xr-var-data > table {\n  float: right;\n}\n\n.xr-var-name span,\n.xr-var-data,\n.xr-attrs {\n  padding-left: 25px !important;\n}\n\n.xr-attrs,\n.xr-var-attrs,\n.xr-var-data {\n  grid-column: 1 / -1;\n}\n\ndl.xr-attrs {\n  padding: 0;\n  margin: 0;\n  display: grid;\n  grid-template-columns: 125px auto;\n}\n\n.xr-attrs dt, dd {\n  padding: 0;\n  margin: 0;\n  float: left;\n  padding-right: 10px;\n  width: auto;\n}\n\n.xr-attrs dt {\n  font-weight: normal;\n  grid-column: 1;\n}\n\n.xr-attrs dt:hover span {\n  display: inline-block;\n  background: var(--xr-background-color);\n  padding-right: 10px;\n}\n\n.xr-attrs dd {\n  grid-column: 2;\n  white-space: pre-wrap;\n  word-break: break-all;\n}\n\n.xr-icon-database,\n.xr-icon-file-text2 {\n  display: inline-block;\n  vertical-align: middle;\n  width: 1em;\n  height: 1.5em !important;\n  stroke-width: 0;\n  stroke: currentColor;\n  fill: currentColor;\n}\n</style><pre class='xr-text-repr-fallback'>&lt;xarray.Dataset&gt;\nDimensions:     (Height: 3000, Time: 2880, Wavelength: 3)\nCoordinates:\n  * Height      (Height) float64 0.3078 0.3152 0.3227 ... 22.7 22.71 22.71\n  * Time        (Time) datetime64[ns] 2017-09-01 ... 2017-09-01T23:59:30\n  * Wavelength  (Wavelength) uint64 355 532 1064\nData variables:\n    beta        (Wavelength, Height, Time) float32 7.676152e-06 ... 5.0566884...\n    sigma       (Wavelength, Height, Time) float32 6.527236e-05 ... 4.2943626...\n    attbsc      (Wavelength, Height, Time) float32 7.908775e-06 ... 5.058327e-09\n    lambda_nm   (Wavelength) uint16 355 532 1064\n    date        datetime64[ns] 2017-09-01\nAttributes:\n    location:  Haifa</pre><div class='xr-wrap' hidden><div class='xr-header'><div class='xr-obj-type'>xarray.Dataset</div></div><ul class='xr-sections'><li class='xr-section-item'><input id='section-08b411c2-9f1e-4fdf-8d29-7743e0e4b14a' class='xr-section-summary-in' type='checkbox' disabled ><label for='section-08b411c2-9f1e-4fdf-8d29-7743e0e4b14a' class='xr-section-summary'  title='Expand/collapse section'>Dimensions:</label><div class='xr-section-inline-details'><ul class='xr-dim-list'><li><span class='xr-has-index'>Height</span>: 3000</li><li><span class='xr-has-index'>Time</span>: 2880</li><li><span class='xr-has-index'>Wavelength</span>: 3</li></ul></div><div class='xr-section-details'></div></li><li class='xr-section-item'><input id='section-e73e0bba-6d85-4d6a-b6f8-fa9241b4da06' class='xr-section-summary-in' type='checkbox'  checked><label for='section-e73e0bba-6d85-4d6a-b6f8-fa9241b4da06' class='xr-section-summary' >Coordinates: <span>(3)</span></label><div class='xr-section-inline-details'></div><div class='xr-section-details'><ul class='xr-var-list'><li class='xr-var-item'><div class='xr-var-name'><span class='xr-has-index'>Height</span></div><div class='xr-var-dims'>(Height)</div><div class='xr-var-dtype'>float64</div><div class='xr-var-preview xr-preview'>0.3078 0.3152 ... 22.71 22.71</div><input id='attrs-ffdc1069-1aaf-4f96-9197-5c82cbfcb7a9' class='xr-var-attrs-in' type='checkbox' ><label for='attrs-ffdc1069-1aaf-4f96-9197-5c82cbfcb7a9' title='Show/Hide attributes'><svg class='icon xr-icon-file-text2'><use xlink:href='#icon-file-text2'></use></svg></label><input id='data-5ebdec81-c5ef-4a75-8d26-5db764f1013b' class='xr-var-data-in' type='checkbox'><label for='data-5ebdec81-c5ef-4a75-8d26-5db764f1013b' title='Show/Hide data repr'><svg class='icon xr-icon-database'><use xlink:href='#icon-database'></use></svg></label><div class='xr-var-attrs'><dl class='xr-attrs'><dt><span>units :</span></dt><dd>Km</dd><dt><span>info :</span></dt><dd>Measurements heights above sea level</dd></dl></div><div class='xr-var-data'><pre>array([ 0.30775 ,  0.315221,  0.322693, ..., 22.699717, 22.707189, 22.71466 ])</pre></div></li><li class='xr-var-item'><div class='xr-var-name'><span class='xr-has-index'>Time</span></div><div class='xr-var-dims'>(Time)</div><div class='xr-var-dtype'>datetime64[ns]</div><div class='xr-var-preview xr-preview'>2017-09-01 ... 2017-09-01T23:59:30</div><input id='attrs-cd00d4fc-b475-4240-97a9-5bef3fc6ce56' class='xr-var-attrs-in' type='checkbox' disabled><label for='attrs-cd00d4fc-b475-4240-97a9-5bef3fc6ce56' title='Show/Hide attributes'><svg class='icon xr-icon-file-text2'><use xlink:href='#icon-file-text2'></use></svg></label><input id='data-dcf6a614-35d8-407e-98c1-ee5662bf1fa0' class='xr-var-data-in' type='checkbox'><label for='data-dcf6a614-35d8-407e-98c1-ee5662bf1fa0' title='Show/Hide data repr'><svg class='icon xr-icon-database'><use xlink:href='#icon-database'></use></svg></label><div class='xr-var-attrs'><dl class='xr-attrs'></dl></div><div class='xr-var-data'><pre>array([&#x27;2017-09-01T00:00:00.000000000&#x27;, &#x27;2017-09-01T00:00:30.000000000&#x27;,\n       &#x27;2017-09-01T00:01:00.000000000&#x27;, ..., &#x27;2017-09-01T23:58:30.000000000&#x27;,\n       &#x27;2017-09-01T23:59:00.000000000&#x27;, &#x27;2017-09-01T23:59:30.000000000&#x27;],\n      dtype=&#x27;datetime64[ns]&#x27;)</pre></div></li><li class='xr-var-item'><div class='xr-var-name'><span class='xr-has-index'>Wavelength</span></div><div class='xr-var-dims'>(Wavelength)</div><div class='xr-var-dtype'>uint64</div><div class='xr-var-preview xr-preview'>355 532 1064</div><input id='attrs-f8214d57-3776-4258-9c6a-d61391461ef3' class='xr-var-attrs-in' type='checkbox' ><label for='attrs-f8214d57-3776-4258-9c6a-d61391461ef3' title='Show/Hide attributes'><svg class='icon xr-icon-file-text2'><use xlink:href='#icon-file-text2'></use></svg></label><input id='data-f0dc9cd2-82c6-49c2-974a-f13ac86a00e6' class='xr-var-data-in' type='checkbox'><label for='data-f0dc9cd2-82c6-49c2-974a-f13ac86a00e6' title='Show/Hide data repr'><svg class='icon xr-icon-database'><use xlink:href='#icon-database'></use></svg></label><div class='xr-var-attrs'><dl class='xr-attrs'><dt><span>long_name :</span></dt><dd>$\\lambda$</dd><dt><span>units :</span></dt><dd>$nm$</dd></dl></div><div class='xr-var-data'><pre>array([ 355,  532, 1064], dtype=uint64)</pre></div></li></ul></div></li><li class='xr-section-item'><input id='section-e0cf224c-30d5-4e7d-9534-56bcc0ad45f9' class='xr-section-summary-in' type='checkbox'  checked><label for='section-e0cf224c-30d5-4e7d-9534-56bcc0ad45f9' class='xr-section-summary' >Data variables: <span>(5)</span></label><div class='xr-section-inline-details'></div><div class='xr-section-details'><ul class='xr-var-list'><li class='xr-var-item'><div class='xr-var-name'><span>beta</span></div><div class='xr-var-dims'>(Wavelength, Height, Time)</div><div class='xr-var-dtype'>float32</div><div class='xr-var-preview xr-preview'>7.676152e-06 ... 5.0566884e-09</div><input id='attrs-09dd8cb2-be06-40d9-a17e-39018855918c' class='xr-var-attrs-in' type='checkbox' ><label for='attrs-09dd8cb2-be06-40d9-a17e-39018855918c' title='Show/Hide attributes'><svg class='icon xr-icon-file-text2'><use xlink:href='#icon-file-text2'></use></svg></label><input id='data-8aae8906-6faf-41a7-810c-5e60e482d38c' class='xr-var-data-in' type='checkbox'><label for='data-8aae8906-6faf-41a7-810c-5e60e482d38c' title='Show/Hide data repr'><svg class='icon xr-icon-database'><use xlink:href='#icon-database'></use></svg></label><div class='xr-var-attrs'><dl class='xr-attrs'><dt><span>long_name :</span></dt><dd>$\\beta$</dd><dt><span>units :</span></dt><dd>$1/m \\cdot sr$</dd><dt><span>info :</span></dt><dd>Molecular backscatter coefficient</dd></dl></div><div class='xr-var-data'><pre>array([[[7.6761517e-06, 7.6761398e-06, 7.6761280e-06, ...,\n         7.6381975e-06, 7.6382057e-06, 7.6382139e-06],\n        [7.6715651e-06, 7.6715532e-06, 7.6715414e-06, ...,\n         7.6334509e-06, 7.6334591e-06, 7.6334663e-06],\n        [7.6669767e-06, 7.6669648e-06, 7.6669530e-06, ...,\n         7.6287024e-06, 7.6287097e-06, 7.6287174e-06],\n        ...,\n        [4.4727378e-07, 4.4727526e-07, 4.4727673e-07, ...,\n         4.4636997e-07, 4.4636724e-07, 4.4636451e-07],\n        [4.4681579e-07, 4.4681727e-07, 4.4681875e-07, ...,\n         4.4590900e-07, 4.4590624e-07, 4.4590351e-07],\n        [4.4635786e-07, 4.4635934e-07, 4.4636081e-07, ...,\n         4.4544805e-07, 4.4544532e-07, 4.4544257e-07]],\n\n       [[1.4387658e-06, 1.4387635e-06, 1.4387613e-06, ...,\n         1.4315241e-06, 1.4315258e-06, 1.4315274e-06],\n        [1.4379060e-06, 1.4379037e-06, 1.4379015e-06, ...,\n         1.4306355e-06, 1.4306370e-06, 1.4306385e-06],\n        [1.4370460e-06, 1.4370437e-06, 1.4370414e-06, ...,\n         1.4297464e-06, 1.4297478e-06, 1.4297492e-06],\n...\n        [8.3864855e-08, 8.3865132e-08, 8.3865409e-08, ...,\n         8.3695390e-08, 8.3694879e-08, 8.3694367e-08],\n        [8.3778978e-08, 8.3779256e-08, 8.3779533e-08, ...,\n         8.3608953e-08, 8.3608441e-08, 8.3607929e-08],\n        [8.3693116e-08, 8.3693394e-08, 8.3693671e-08, ...,\n         8.3522529e-08, 8.3522018e-08, 8.3521499e-08]],\n\n       [[8.7087102e-08, 8.7086960e-08, 8.7086818e-08, ...,\n         8.6643745e-08, 8.6643837e-08, 8.6643936e-08],\n        [8.7035055e-08, 8.7034913e-08, 8.7034771e-08, ...,\n         8.6589992e-08, 8.6590084e-08, 8.6590177e-08],\n        [8.6982993e-08, 8.6982851e-08, 8.6982709e-08, ...,\n         8.6536211e-08, 8.6536303e-08, 8.6536389e-08],\n        ...,\n        [5.0774762e-09, 5.0774931e-09, 5.0775100e-09, ...,\n         5.0672164e-09, 5.0671853e-09, 5.0671543e-09],\n        [5.0722773e-09, 5.0722941e-09, 5.0723110e-09, ...,\n         5.0619833e-09, 5.0619522e-09, 5.0619211e-09],\n        [5.0670788e-09, 5.0670956e-09, 5.0671125e-09, ...,\n         5.0567506e-09, 5.0567195e-09, 5.0566884e-09]]], dtype=float32)</pre></div></li><li class='xr-var-item'><div class='xr-var-name'><span>sigma</span></div><div class='xr-var-dims'>(Wavelength, Height, Time)</div><div class='xr-var-dtype'>float32</div><div class='xr-var-preview xr-preview'>6.527236e-05 ... 4.2943626e-08</div><input id='attrs-30587c3e-0929-4fa3-9348-0510c6782162' class='xr-var-attrs-in' type='checkbox' ><label for='attrs-30587c3e-0929-4fa3-9348-0510c6782162' title='Show/Hide attributes'><svg class='icon xr-icon-file-text2'><use xlink:href='#icon-file-text2'></use></svg></label><input id='data-e8874fb3-e4a5-4d93-8d7f-ae4d5beb326b' class='xr-var-data-in' type='checkbox'><label for='data-e8874fb3-e4a5-4d93-8d7f-ae4d5beb326b' title='Show/Hide data repr'><svg class='icon xr-icon-database'><use xlink:href='#icon-database'></use></svg></label><div class='xr-var-attrs'><dl class='xr-attrs'><dt><span>long_name :</span></dt><dd>$\\sigma$</dd><dt><span>units :</span></dt><dd>$1/m $</dd><dt><span>info :</span></dt><dd>Molecular attenuation coefficient</dd></dl></div><div class='xr-var-data'><pre>array([[[6.5272361e-05, 6.5272259e-05, 6.5272157e-05, ...,\n         6.4945190e-05, 6.4945263e-05, 6.4945336e-05],\n        [6.5233355e-05, 6.5233253e-05, 6.5233151e-05, ...,\n         6.4904860e-05, 6.4904925e-05, 6.4904998e-05],\n        [6.5194341e-05, 6.5194239e-05, 6.5194137e-05, ...,\n         6.4864515e-05, 6.4864580e-05, 6.4864646e-05],\n        ...,\n        [3.8044031e-06, 3.8044157e-06, 3.8044282e-06, ...,\n         3.7967156e-06, 3.7966922e-06, 3.7966690e-06],\n        [3.8005073e-06, 3.8005201e-06, 3.8005326e-06, ...,\n         3.7927944e-06, 3.7927712e-06, 3.7927477e-06],\n        [3.7966124e-06, 3.7966249e-06, 3.7966377e-06, ...,\n         3.7888740e-06, 3.7888506e-06, 3.7888271e-06]],\n\n       [[1.2221322e-05, 1.2221302e-05, 1.2221282e-05, ...,\n         1.2159036e-05, 1.2159049e-05, 1.2159063e-05],\n        [1.2214018e-05, 1.2213998e-05, 1.2213978e-05, ...,\n         1.2151492e-05, 1.2151505e-05, 1.2151519e-05],\n        [1.2206712e-05, 1.2206692e-05, 1.2206672e-05, ...,\n         1.2143946e-05, 1.2143959e-05, 1.2143971e-05],\n...\n        [7.1256841e-07, 7.1257074e-07, 7.1257313e-07, ...,\n         7.1112851e-07, 7.1112413e-07, 7.1111981e-07],\n        [7.1183871e-07, 7.1184110e-07, 7.1184343e-07, ...,\n         7.1039409e-07, 7.1038971e-07, 7.1038534e-07],\n        [7.1110918e-07, 7.1111157e-07, 7.1111390e-07, ...,\n         7.0965979e-07, 7.0965541e-07, 7.0965103e-07]],\n\n       [[7.3938725e-07, 7.3938605e-07, 7.3938480e-07, ...,\n         7.3557788e-07, 7.3557868e-07, 7.3557953e-07],\n        [7.3894535e-07, 7.3894415e-07, 7.3894290e-07, ...,\n         7.3512183e-07, 7.3512263e-07, 7.3512342e-07],\n        [7.3850333e-07, 7.3850208e-07, 7.3850083e-07, ...,\n         7.3466560e-07, 7.3466634e-07, 7.3466708e-07],\n        ...,\n        [4.3120167e-08, 4.3120309e-08, 4.3120455e-08, ...,\n         4.3033037e-08, 4.3032770e-08, 4.3032507e-08],\n        [4.3076014e-08, 4.3076156e-08, 4.3076298e-08, ...,\n         4.2988592e-08, 4.2988329e-08, 4.2988063e-08],\n        [4.3031864e-08, 4.3032010e-08, 4.3032152e-08, ...,\n         4.2944155e-08, 4.2943892e-08, 4.2943626e-08]]], dtype=float32)</pre></div></li><li class='xr-var-item'><div class='xr-var-name'><span>attbsc</span></div><div class='xr-var-dims'>(Wavelength, Height, Time)</div><div class='xr-var-dtype'>float32</div><div class='xr-var-preview xr-preview'>7.908775e-06 ... 5.058327e-09</div><input id='attrs-fc579d97-2d70-4f60-acf5-d60f9309acf0' class='xr-var-attrs-in' type='checkbox' ><label for='attrs-fc579d97-2d70-4f60-acf5-d60f9309acf0' title='Show/Hide attributes'><svg class='icon xr-icon-file-text2'><use xlink:href='#icon-file-text2'></use></svg></label><input id='data-b0f75d2e-0a0a-45d6-84a4-a9850a9b605e' class='xr-var-data-in' type='checkbox'><label for='data-b0f75d2e-0a0a-45d6-84a4-a9850a9b605e' title='Show/Hide data repr'><svg class='icon xr-icon-database'><use xlink:href='#icon-database'></use></svg></label><div class='xr-var-attrs'><dl class='xr-attrs'><dt><span>long_name :</span></dt><dd>$\\beta \\cdot \\exp(-2\\tau)$</dd><dt><span>units :</span></dt><dd>$1/m \\cdot sr$</dd><dt><span>info :</span></dt><dd>Molecular attenuated backscatter coefficient</dd></dl></div><div class='xr-var-data'><pre>array([[[7.9087749e-06, 7.9087622e-06, 7.9087504e-06, ...,\n         7.8684925e-06, 7.8685016e-06, 7.8685107e-06],\n        [7.9040419e-06, 7.9040292e-06, 7.9040165e-06, ...,\n         7.8635958e-06, 7.8636040e-06, 7.8636131e-06],\n        [7.8993062e-06, 7.8992944e-06, 7.8992816e-06, ...,\n         7.8586963e-06, 7.8587045e-06, 7.8587127e-06],\n        ...,\n        [4.6032130e-07, 4.6032281e-07, 4.6032432e-07, ...,\n         4.5932299e-07, 4.5932020e-07, 4.5931739e-07],\n        [4.5984993e-07, 4.5985144e-07, 4.5985294e-07, ...,\n         4.5884860e-07, 4.5884579e-07, 4.5884298e-07],\n        [4.5937861e-07, 4.5938012e-07, 4.5938162e-07, ...,\n         4.5837427e-07, 4.5837146e-07, 4.5836865e-07]],\n\n       [[1.4468308e-06, 1.4468285e-06, 1.4468262e-06, ...,\n         1.4395075e-06, 1.4395091e-06, 1.4395108e-06],\n        [1.4459659e-06, 1.4459637e-06, 1.4459613e-06, ...,\n         1.4386136e-06, 1.4386152e-06, 1.4386167e-06],\n        [1.4451008e-06, 1.4450985e-06, 1.4450961e-06, ...,\n         1.4377193e-06, 1.4377208e-06, 1.4377222e-06],\n...\n        [8.4317577e-08, 8.4317854e-08, 8.4318131e-08, ...,\n         8.4144816e-08, 8.4144304e-08, 8.4143792e-08],\n        [8.4231239e-08, 8.4231516e-08, 8.4231793e-08, ...,\n         8.4057916e-08, 8.4057397e-08, 8.4056886e-08],\n        [8.4144908e-08, 8.4145185e-08, 8.4145462e-08, ...,\n         8.3971024e-08, 8.3970512e-08, 8.3969994e-08]],\n\n       [[8.7116561e-08, 8.7116419e-08, 8.7116277e-08, ...,\n         8.6672898e-08, 8.6672998e-08, 8.6673090e-08],\n        [8.7064493e-08, 8.7064350e-08, 8.7064208e-08, ...,\n         8.6619124e-08, 8.6619217e-08, 8.6619309e-08],\n        [8.7012417e-08, 8.7012275e-08, 8.7012133e-08, ...,\n         8.6565329e-08, 8.6565414e-08, 8.6565507e-08],\n        ...,\n        [5.0791304e-09, 5.0791473e-09, 5.0791642e-09, ...,\n         5.0688582e-09, 5.0688271e-09, 5.0687960e-09],\n        [5.0739297e-09, 5.0739462e-09, 5.0739630e-09, ...,\n         5.0636233e-09, 5.0635922e-09, 5.0635611e-09],\n        [5.0687294e-09, 5.0687463e-09, 5.0687632e-09, ...,\n         5.0583893e-09, 5.0583582e-09, 5.0583271e-09]]], dtype=float32)</pre></div></li><li class='xr-var-item'><div class='xr-var-name'><span>lambda_nm</span></div><div class='xr-var-dims'>(Wavelength)</div><div class='xr-var-dtype'>uint16</div><div class='xr-var-preview xr-preview'>355 532 1064</div><input id='attrs-6ef4af81-968a-41e5-a149-98da137a7fab' class='xr-var-attrs-in' type='checkbox' disabled><label for='attrs-6ef4af81-968a-41e5-a149-98da137a7fab' title='Show/Hide attributes'><svg class='icon xr-icon-file-text2'><use xlink:href='#icon-file-text2'></use></svg></label><input id='data-15246392-6afd-47e2-a889-4d629dc7c233' class='xr-var-data-in' type='checkbox'><label for='data-15246392-6afd-47e2-a889-4d629dc7c233' title='Show/Hide data repr'><svg class='icon xr-icon-database'><use xlink:href='#icon-database'></use></svg></label><div class='xr-var-attrs'><dl class='xr-attrs'></dl></div><div class='xr-var-data'><pre>array([ 355,  532, 1064], dtype=uint16)</pre></div></li><li class='xr-var-item'><div class='xr-var-name'><span>date</span></div><div class='xr-var-dims'>()</div><div class='xr-var-dtype'>datetime64[ns]</div><div class='xr-var-preview xr-preview'>2017-09-01</div><input id='attrs-f9f26730-6229-4613-a042-b6c810d3581f' class='xr-var-attrs-in' type='checkbox' disabled><label for='attrs-f9f26730-6229-4613-a042-b6c810d3581f' title='Show/Hide attributes'><svg class='icon xr-icon-file-text2'><use xlink:href='#icon-file-text2'></use></svg></label><input id='data-3d941600-c0ac-4232-8fe5-5b98a1a4e33c' class='xr-var-data-in' type='checkbox'><label for='data-3d941600-c0ac-4232-8fe5-5b98a1a4e33c' title='Show/Hide data repr'><svg class='icon xr-icon-database'><use xlink:href='#icon-database'></use></svg></label><div class='xr-var-attrs'><dl class='xr-attrs'></dl></div><div class='xr-var-data'><pre>array(&#x27;2017-09-01T00:00:00.000000000&#x27;, dtype=&#x27;datetime64[ns]&#x27;)</pre></div></li></ul></div></li><li class='xr-section-item'><input id='section-d065ddce-0705-4bcb-bff3-3d7c73945303' class='xr-section-summary-in' type='checkbox'  checked><label for='section-d065ddce-0705-4bcb-bff3-3d7c73945303' class='xr-section-summary' >Attributes: <span>(1)</span></label><div class='xr-section-inline-details'></div><div class='xr-section-details'><dl class='xr-attrs'><dt><span>location :</span></dt><dd>Haifa</dd></dl></div></li></ul></div></div>"
     },
     "execution_count": 13,
     "metadata": {},
     "output_type": "execute_result"
    }
   ],
   "source": [
    "netcdf = netcdfs[-1]\n",
    "ds_load = load_dataset(netcdf)\n",
    "ds_load"
   ],
   "metadata": {
    "collapsed": false,
    "pycharm": {
     "name": "#%% Load ds  - load all profiles\n"
    }
   }
  },
  {
   "cell_type": "code",
   "execution_count": 14,
   "outputs": [
    {
     "data": {
      "text/plain": "<xarray.Dataset>\nDimensions:     (Height: 3000, Time: 2880)\nCoordinates:\n  * Height      (Height) float64 0.3078 0.3152 0.3227 ... 22.7 22.71 22.71\n  * Time        (Time) datetime64[ns] 2017-09-01 ... 2017-09-01T23:59:30\n    Wavelength  uint64 ...\nData variables:\n    beta        (Height, Time) float32 7.676152e-06 ... 4.4544257e-07\n    lambda_nm   uint16 355\n    date        datetime64[ns] 2017-09-01\nAttributes:\n    location:  Haifa",
      "text/html": "<div><svg style=\"position: absolute; width: 0; height: 0; overflow: hidden\">\n<defs>\n<symbol id=\"icon-database\" viewBox=\"0 0 32 32\">\n<path d=\"M16 0c-8.837 0-16 2.239-16 5v4c0 2.761 7.163 5 16 5s16-2.239 16-5v-4c0-2.761-7.163-5-16-5z\"></path>\n<path d=\"M16 17c-8.837 0-16-2.239-16-5v6c0 2.761 7.163 5 16 5s16-2.239 16-5v-6c0 2.761-7.163 5-16 5z\"></path>\n<path d=\"M16 26c-8.837 0-16-2.239-16-5v6c0 2.761 7.163 5 16 5s16-2.239 16-5v-6c0 2.761-7.163 5-16 5z\"></path>\n</symbol>\n<symbol id=\"icon-file-text2\" viewBox=\"0 0 32 32\">\n<path d=\"M28.681 7.159c-0.694-0.947-1.662-2.053-2.724-3.116s-2.169-2.030-3.116-2.724c-1.612-1.182-2.393-1.319-2.841-1.319h-15.5c-1.378 0-2.5 1.121-2.5 2.5v27c0 1.378 1.122 2.5 2.5 2.5h23c1.378 0 2.5-1.122 2.5-2.5v-19.5c0-0.448-0.137-1.23-1.319-2.841zM24.543 5.457c0.959 0.959 1.712 1.825 2.268 2.543h-4.811v-4.811c0.718 0.556 1.584 1.309 2.543 2.268zM28 29.5c0 0.271-0.229 0.5-0.5 0.5h-23c-0.271 0-0.5-0.229-0.5-0.5v-27c0-0.271 0.229-0.5 0.5-0.5 0 0 15.499-0 15.5 0v7c0 0.552 0.448 1 1 1h7v19.5z\"></path>\n<path d=\"M23 26h-14c-0.552 0-1-0.448-1-1s0.448-1 1-1h14c0.552 0 1 0.448 1 1s-0.448 1-1 1z\"></path>\n<path d=\"M23 22h-14c-0.552 0-1-0.448-1-1s0.448-1 1-1h14c0.552 0 1 0.448 1 1s-0.448 1-1 1z\"></path>\n<path d=\"M23 18h-14c-0.552 0-1-0.448-1-1s0.448-1 1-1h14c0.552 0 1 0.448 1 1s-0.448 1-1 1z\"></path>\n</symbol>\n</defs>\n</svg>\n<style>/* CSS stylesheet for displaying xarray objects in jupyterlab.\n *\n */\n\n:root {\n  --xr-font-color0: var(--jp-content-font-color0, rgba(0, 0, 0, 1));\n  --xr-font-color2: var(--jp-content-font-color2, rgba(0, 0, 0, 0.54));\n  --xr-font-color3: var(--jp-content-font-color3, rgba(0, 0, 0, 0.38));\n  --xr-border-color: var(--jp-border-color2, #e0e0e0);\n  --xr-disabled-color: var(--jp-layout-color3, #bdbdbd);\n  --xr-background-color: var(--jp-layout-color0, white);\n  --xr-background-color-row-even: var(--jp-layout-color1, white);\n  --xr-background-color-row-odd: var(--jp-layout-color2, #eeeeee);\n}\n\nhtml[theme=dark],\nbody.vscode-dark {\n  --xr-font-color0: rgba(255, 255, 255, 1);\n  --xr-font-color2: rgba(255, 255, 255, 0.54);\n  --xr-font-color3: rgba(255, 255, 255, 0.38);\n  --xr-border-color: #1F1F1F;\n  --xr-disabled-color: #515151;\n  --xr-background-color: #111111;\n  --xr-background-color-row-even: #111111;\n  --xr-background-color-row-odd: #313131;\n}\n\n.xr-wrap {\n  display: block;\n  min-width: 300px;\n  max-width: 700px;\n}\n\n.xr-text-repr-fallback {\n  /* fallback to plain text repr when CSS is not injected (untrusted notebook) */\n  display: none;\n}\n\n.xr-header {\n  padding-top: 6px;\n  padding-bottom: 6px;\n  margin-bottom: 4px;\n  border-bottom: solid 1px var(--xr-border-color);\n}\n\n.xr-header > div,\n.xr-header > ul {\n  display: inline;\n  margin-top: 0;\n  margin-bottom: 0;\n}\n\n.xr-obj-type,\n.xr-array-name {\n  margin-left: 2px;\n  margin-right: 10px;\n}\n\n.xr-obj-type {\n  color: var(--xr-font-color2);\n}\n\n.xr-sections {\n  padding-left: 0 !important;\n  display: grid;\n  grid-template-columns: 150px auto auto 1fr 20px 20px;\n}\n\n.xr-section-item {\n  display: contents;\n}\n\n.xr-section-item input {\n  display: none;\n}\n\n.xr-section-item input + label {\n  color: var(--xr-disabled-color);\n}\n\n.xr-section-item input:enabled + label {\n  cursor: pointer;\n  color: var(--xr-font-color2);\n}\n\n.xr-section-item input:enabled + label:hover {\n  color: var(--xr-font-color0);\n}\n\n.xr-section-summary {\n  grid-column: 1;\n  color: var(--xr-font-color2);\n  font-weight: 500;\n}\n\n.xr-section-summary > span {\n  display: inline-block;\n  padding-left: 0.5em;\n}\n\n.xr-section-summary-in:disabled + label {\n  color: var(--xr-font-color2);\n}\n\n.xr-section-summary-in + label:before {\n  display: inline-block;\n  content: '►';\n  font-size: 11px;\n  width: 15px;\n  text-align: center;\n}\n\n.xr-section-summary-in:disabled + label:before {\n  color: var(--xr-disabled-color);\n}\n\n.xr-section-summary-in:checked + label:before {\n  content: '▼';\n}\n\n.xr-section-summary-in:checked + label > span {\n  display: none;\n}\n\n.xr-section-summary,\n.xr-section-inline-details {\n  padding-top: 4px;\n  padding-bottom: 4px;\n}\n\n.xr-section-inline-details {\n  grid-column: 2 / -1;\n}\n\n.xr-section-details {\n  display: none;\n  grid-column: 1 / -1;\n  margin-bottom: 5px;\n}\n\n.xr-section-summary-in:checked ~ .xr-section-details {\n  display: contents;\n}\n\n.xr-array-wrap {\n  grid-column: 1 / -1;\n  display: grid;\n  grid-template-columns: 20px auto;\n}\n\n.xr-array-wrap > label {\n  grid-column: 1;\n  vertical-align: top;\n}\n\n.xr-preview {\n  color: var(--xr-font-color3);\n}\n\n.xr-array-preview,\n.xr-array-data {\n  padding: 0 5px !important;\n  grid-column: 2;\n}\n\n.xr-array-data,\n.xr-array-in:checked ~ .xr-array-preview {\n  display: none;\n}\n\n.xr-array-in:checked ~ .xr-array-data,\n.xr-array-preview {\n  display: inline-block;\n}\n\n.xr-dim-list {\n  display: inline-block !important;\n  list-style: none;\n  padding: 0 !important;\n  margin: 0;\n}\n\n.xr-dim-list li {\n  display: inline-block;\n  padding: 0;\n  margin: 0;\n}\n\n.xr-dim-list:before {\n  content: '(';\n}\n\n.xr-dim-list:after {\n  content: ')';\n}\n\n.xr-dim-list li:not(:last-child):after {\n  content: ',';\n  padding-right: 5px;\n}\n\n.xr-has-index {\n  font-weight: bold;\n}\n\n.xr-var-list,\n.xr-var-item {\n  display: contents;\n}\n\n.xr-var-item > div,\n.xr-var-item label,\n.xr-var-item > .xr-var-name span {\n  background-color: var(--xr-background-color-row-even);\n  margin-bottom: 0;\n}\n\n.xr-var-item > .xr-var-name:hover span {\n  padding-right: 5px;\n}\n\n.xr-var-list > li:nth-child(odd) > div,\n.xr-var-list > li:nth-child(odd) > label,\n.xr-var-list > li:nth-child(odd) > .xr-var-name span {\n  background-color: var(--xr-background-color-row-odd);\n}\n\n.xr-var-name {\n  grid-column: 1;\n}\n\n.xr-var-dims {\n  grid-column: 2;\n}\n\n.xr-var-dtype {\n  grid-column: 3;\n  text-align: right;\n  color: var(--xr-font-color2);\n}\n\n.xr-var-preview {\n  grid-column: 4;\n}\n\n.xr-var-name,\n.xr-var-dims,\n.xr-var-dtype,\n.xr-preview,\n.xr-attrs dt {\n  white-space: nowrap;\n  overflow: hidden;\n  text-overflow: ellipsis;\n  padding-right: 10px;\n}\n\n.xr-var-name:hover,\n.xr-var-dims:hover,\n.xr-var-dtype:hover,\n.xr-attrs dt:hover {\n  overflow: visible;\n  width: auto;\n  z-index: 1;\n}\n\n.xr-var-attrs,\n.xr-var-data {\n  display: none;\n  background-color: var(--xr-background-color) !important;\n  padding-bottom: 5px !important;\n}\n\n.xr-var-attrs-in:checked ~ .xr-var-attrs,\n.xr-var-data-in:checked ~ .xr-var-data {\n  display: block;\n}\n\n.xr-var-data > table {\n  float: right;\n}\n\n.xr-var-name span,\n.xr-var-data,\n.xr-attrs {\n  padding-left: 25px !important;\n}\n\n.xr-attrs,\n.xr-var-attrs,\n.xr-var-data {\n  grid-column: 1 / -1;\n}\n\ndl.xr-attrs {\n  padding: 0;\n  margin: 0;\n  display: grid;\n  grid-template-columns: 125px auto;\n}\n\n.xr-attrs dt, dd {\n  padding: 0;\n  margin: 0;\n  float: left;\n  padding-right: 10px;\n  width: auto;\n}\n\n.xr-attrs dt {\n  font-weight: normal;\n  grid-column: 1;\n}\n\n.xr-attrs dt:hover span {\n  display: inline-block;\n  background: var(--xr-background-color);\n  padding-right: 10px;\n}\n\n.xr-attrs dd {\n  grid-column: 2;\n  white-space: pre-wrap;\n  word-break: break-all;\n}\n\n.xr-icon-database,\n.xr-icon-file-text2 {\n  display: inline-block;\n  vertical-align: middle;\n  width: 1em;\n  height: 1.5em !important;\n  stroke-width: 0;\n  stroke: currentColor;\n  fill: currentColor;\n}\n</style><pre class='xr-text-repr-fallback'>&lt;xarray.Dataset&gt;\nDimensions:     (Height: 3000, Time: 2880)\nCoordinates:\n  * Height      (Height) float64 0.3078 0.3152 0.3227 ... 22.7 22.71 22.71\n  * Time        (Time) datetime64[ns] 2017-09-01 ... 2017-09-01T23:59:30\n    Wavelength  uint64 355\nData variables:\n    beta        (Height, Time) float32 7.676152e-06 ... 4.4544257e-07\n    lambda_nm   uint16 355\n    date        datetime64[ns] 2017-09-01\nAttributes:\n    location:  Haifa</pre><div class='xr-wrap' hidden><div class='xr-header'><div class='xr-obj-type'>xarray.Dataset</div></div><ul class='xr-sections'><li class='xr-section-item'><input id='section-7ed477f4-cbfa-47da-913e-e16e2b6e2536' class='xr-section-summary-in' type='checkbox' disabled ><label for='section-7ed477f4-cbfa-47da-913e-e16e2b6e2536' class='xr-section-summary'  title='Expand/collapse section'>Dimensions:</label><div class='xr-section-inline-details'><ul class='xr-dim-list'><li><span class='xr-has-index'>Height</span>: 3000</li><li><span class='xr-has-index'>Time</span>: 2880</li></ul></div><div class='xr-section-details'></div></li><li class='xr-section-item'><input id='section-9c91754f-b6d1-4c69-8750-8c1c0335141a' class='xr-section-summary-in' type='checkbox'  checked><label for='section-9c91754f-b6d1-4c69-8750-8c1c0335141a' class='xr-section-summary' >Coordinates: <span>(3)</span></label><div class='xr-section-inline-details'></div><div class='xr-section-details'><ul class='xr-var-list'><li class='xr-var-item'><div class='xr-var-name'><span class='xr-has-index'>Height</span></div><div class='xr-var-dims'>(Height)</div><div class='xr-var-dtype'>float64</div><div class='xr-var-preview xr-preview'>0.3078 0.3152 ... 22.71 22.71</div><input id='attrs-c2d95461-a904-4994-b512-768c54db7bec' class='xr-var-attrs-in' type='checkbox' ><label for='attrs-c2d95461-a904-4994-b512-768c54db7bec' title='Show/Hide attributes'><svg class='icon xr-icon-file-text2'><use xlink:href='#icon-file-text2'></use></svg></label><input id='data-63e04789-6acd-4587-b003-6cc7be2a87fd' class='xr-var-data-in' type='checkbox'><label for='data-63e04789-6acd-4587-b003-6cc7be2a87fd' title='Show/Hide data repr'><svg class='icon xr-icon-database'><use xlink:href='#icon-database'></use></svg></label><div class='xr-var-attrs'><dl class='xr-attrs'><dt><span>units :</span></dt><dd>Km</dd><dt><span>info :</span></dt><dd>Measurements heights above sea level</dd></dl></div><div class='xr-var-data'><pre>array([ 0.30775 ,  0.315221,  0.322693, ..., 22.699717, 22.707189, 22.71466 ])</pre></div></li><li class='xr-var-item'><div class='xr-var-name'><span class='xr-has-index'>Time</span></div><div class='xr-var-dims'>(Time)</div><div class='xr-var-dtype'>datetime64[ns]</div><div class='xr-var-preview xr-preview'>2017-09-01 ... 2017-09-01T23:59:30</div><input id='attrs-9c15518e-563c-4635-a445-70c846eea94a' class='xr-var-attrs-in' type='checkbox' disabled><label for='attrs-9c15518e-563c-4635-a445-70c846eea94a' title='Show/Hide attributes'><svg class='icon xr-icon-file-text2'><use xlink:href='#icon-file-text2'></use></svg></label><input id='data-cd44bbd9-480d-46de-8bd5-06a515ee9f52' class='xr-var-data-in' type='checkbox'><label for='data-cd44bbd9-480d-46de-8bd5-06a515ee9f52' title='Show/Hide data repr'><svg class='icon xr-icon-database'><use xlink:href='#icon-database'></use></svg></label><div class='xr-var-attrs'><dl class='xr-attrs'></dl></div><div class='xr-var-data'><pre>array([&#x27;2017-09-01T00:00:00.000000000&#x27;, &#x27;2017-09-01T00:00:30.000000000&#x27;,\n       &#x27;2017-09-01T00:01:00.000000000&#x27;, ..., &#x27;2017-09-01T23:58:30.000000000&#x27;,\n       &#x27;2017-09-01T23:59:00.000000000&#x27;, &#x27;2017-09-01T23:59:30.000000000&#x27;],\n      dtype=&#x27;datetime64[ns]&#x27;)</pre></div></li><li class='xr-var-item'><div class='xr-var-name'><span>Wavelength</span></div><div class='xr-var-dims'>()</div><div class='xr-var-dtype'>uint64</div><div class='xr-var-preview xr-preview'>...</div><input id='attrs-ae153ffe-b211-43e9-aa65-4d7f5a824cd4' class='xr-var-attrs-in' type='checkbox' ><label for='attrs-ae153ffe-b211-43e9-aa65-4d7f5a824cd4' title='Show/Hide attributes'><svg class='icon xr-icon-file-text2'><use xlink:href='#icon-file-text2'></use></svg></label><input id='data-dcf709c2-54b2-4c9d-ba2b-04d38e7964c5' class='xr-var-data-in' type='checkbox'><label for='data-dcf709c2-54b2-4c9d-ba2b-04d38e7964c5' title='Show/Hide data repr'><svg class='icon xr-icon-database'><use xlink:href='#icon-database'></use></svg></label><div class='xr-var-attrs'><dl class='xr-attrs'><dt><span>long_name :</span></dt><dd>$\\lambda$</dd><dt><span>units :</span></dt><dd>$nm$</dd></dl></div><div class='xr-var-data'><pre>array(355, dtype=uint64)</pre></div></li></ul></div></li><li class='xr-section-item'><input id='section-39a734b3-f1a5-42ea-8f11-1fe8b10a6fb0' class='xr-section-summary-in' type='checkbox'  checked><label for='section-39a734b3-f1a5-42ea-8f11-1fe8b10a6fb0' class='xr-section-summary' >Data variables: <span>(3)</span></label><div class='xr-section-inline-details'></div><div class='xr-section-details'><ul class='xr-var-list'><li class='xr-var-item'><div class='xr-var-name'><span>beta</span></div><div class='xr-var-dims'>(Height, Time)</div><div class='xr-var-dtype'>float32</div><div class='xr-var-preview xr-preview'>7.676152e-06 ... 4.4544257e-07</div><input id='attrs-f5f9018b-0020-4f5a-9bd5-6c8f929acd4f' class='xr-var-attrs-in' type='checkbox' ><label for='attrs-f5f9018b-0020-4f5a-9bd5-6c8f929acd4f' title='Show/Hide attributes'><svg class='icon xr-icon-file-text2'><use xlink:href='#icon-file-text2'></use></svg></label><input id='data-d176dc84-ae5b-46c5-b0c5-a99e4a53f3b9' class='xr-var-data-in' type='checkbox'><label for='data-d176dc84-ae5b-46c5-b0c5-a99e4a53f3b9' title='Show/Hide data repr'><svg class='icon xr-icon-database'><use xlink:href='#icon-database'></use></svg></label><div class='xr-var-attrs'><dl class='xr-attrs'><dt><span>long_name :</span></dt><dd>$\\beta$</dd><dt><span>units :</span></dt><dd>$1/m \\cdot sr$</dd><dt><span>info :</span></dt><dd>Molecular backscatter coefficient</dd></dl></div><div class='xr-var-data'><pre>array([[7.6761517e-06, 7.6761398e-06, 7.6761280e-06, ..., 7.6381975e-06,\n        7.6382057e-06, 7.6382139e-06],\n       [7.6715651e-06, 7.6715532e-06, 7.6715414e-06, ..., 7.6334509e-06,\n        7.6334591e-06, 7.6334663e-06],\n       [7.6669767e-06, 7.6669648e-06, 7.6669530e-06, ..., 7.6287024e-06,\n        7.6287097e-06, 7.6287174e-06],\n       ...,\n       [4.4727378e-07, 4.4727526e-07, 4.4727673e-07, ..., 4.4636997e-07,\n        4.4636724e-07, 4.4636451e-07],\n       [4.4681579e-07, 4.4681727e-07, 4.4681875e-07, ..., 4.4590900e-07,\n        4.4590624e-07, 4.4590351e-07],\n       [4.4635786e-07, 4.4635934e-07, 4.4636081e-07, ..., 4.4544805e-07,\n        4.4544532e-07, 4.4544257e-07]], dtype=float32)</pre></div></li><li class='xr-var-item'><div class='xr-var-name'><span>lambda_nm</span></div><div class='xr-var-dims'>()</div><div class='xr-var-dtype'>uint16</div><div class='xr-var-preview xr-preview'>355</div><input id='attrs-fa9a00e5-4953-4539-8ef6-f58db005f750' class='xr-var-attrs-in' type='checkbox' disabled><label for='attrs-fa9a00e5-4953-4539-8ef6-f58db005f750' title='Show/Hide attributes'><svg class='icon xr-icon-file-text2'><use xlink:href='#icon-file-text2'></use></svg></label><input id='data-69901b88-84b8-409c-b9fe-eacb359eccea' class='xr-var-data-in' type='checkbox'><label for='data-69901b88-84b8-409c-b9fe-eacb359eccea' title='Show/Hide data repr'><svg class='icon xr-icon-database'><use xlink:href='#icon-database'></use></svg></label><div class='xr-var-attrs'><dl class='xr-attrs'></dl></div><div class='xr-var-data'><pre>array(355, dtype=uint16)</pre></div></li><li class='xr-var-item'><div class='xr-var-name'><span>date</span></div><div class='xr-var-dims'>()</div><div class='xr-var-dtype'>datetime64[ns]</div><div class='xr-var-preview xr-preview'>2017-09-01</div><input id='attrs-ff12e974-2555-433c-9b1a-a7e185338245' class='xr-var-attrs-in' type='checkbox' disabled><label for='attrs-ff12e974-2555-433c-9b1a-a7e185338245' title='Show/Hide attributes'><svg class='icon xr-icon-file-text2'><use xlink:href='#icon-file-text2'></use></svg></label><input id='data-893f24cc-766f-4641-9dde-28b2f8b1a63a' class='xr-var-data-in' type='checkbox'><label for='data-893f24cc-766f-4641-9dde-28b2f8b1a63a' title='Show/Hide data repr'><svg class='icon xr-icon-database'><use xlink:href='#icon-database'></use></svg></label><div class='xr-var-attrs'><dl class='xr-attrs'></dl></div><div class='xr-var-data'><pre>array(&#x27;2017-09-01T00:00:00.000000000&#x27;, dtype=&#x27;datetime64[ns]&#x27;)</pre></div></li></ul></div></li><li class='xr-section-item'><input id='section-7d9204da-0017-4a19-a947-4670191cadc9' class='xr-section-summary-in' type='checkbox'  checked><label for='section-7d9204da-0017-4a19-a947-4670191cadc9' class='xr-section-summary' >Attributes: <span>(1)</span></label><div class='xr-section-inline-details'></div><div class='xr-section-details'><dl class='xr-attrs'><dt><span>location :</span></dt><dd>Haifa</dd></dl></div></li></ul></div></div>"
     },
     "execution_count": 14,
     "metadata": {},
     "output_type": "execute_result"
    }
   ],
   "source": [
    "netcdf = netcdfs[0]\n",
    "ds_load_prof =load_dataset(netcdf)\n",
    "ds_load_prof"
   ],
   "metadata": {
    "collapsed": false,
    "pycharm": {
     "name": "#%% Load profile_ds\n"
    }
   }
  },
  {
   "cell_type": "code",
   "execution_count": 15,
   "outputs": [
    {
     "data": {
      "text/plain": "<Figure size 720x216 with 4 Axes>",
      "image/png": "[encoded data removed]"
     },
     "metadata": {
      "needs_background": "light"
     },
     "output_type": "display_data"
    },
    {
     "data": {
      "text/plain": "<Figure size 720x216 with 4 Axes>",
      "image/png": "[encoded data removed]"
     },
     "metadata": {
      "needs_background": "light"
     },
     "output_type": "display_data"
    },
    {
     "data": {
      "text/plain": "<Figure size 720x216 with 4 Axes>",
      "image/png": "[encoded data removed]"
     },
     "metadata": {
      "needs_background": "light"
     },
     "output_type": "display_data"
    }
   ],
   "source": [
    "VIS_DS = True\n",
    "if VIS_DS:\n",
    "\tprofileTypes = list(ds.data_vars)[0:3]\n",
    "\t#list(ds.data_vars)[3:]\n",
    "\txfmt = mdates.DateFormatter('%H:%M')\n",
    "\ttimetics = ds.Time.dt.strftime('%H:%M')\n",
    "\ttimetics\n",
    "\n",
    "\tfor row,prof in enumerate(profileTypes):\n",
    "\t\tds_var = ds[prof]\n",
    "\t\tg = ds_var.plot(x='Time',y='Height',col='Wavelength',\n",
    "\t\t                  col_wrap = 3,cmap = 'turbo')# , figsize = (5,8)) #TODO: figure out how to enlarge the figsize, it doesn't work properly :-(\n",
    "\t\tfor ax in g.axes.flat:\n",
    "\t\t\tax.xaxis.set_major_formatter(xfmt)\n",
    "\t\t\tax.xaxis_date()\n",
    "\t\t\tax.get_xaxis().set_major_locator(mdates.HourLocator(interval=4))\n",
    "\t\t\tplt.setp( ax.get_xticklabels(), rotation=0,horizontalalignment='center')\n",
    "\t\t\t#if row in [0,1]:\n",
    "\t\t\t#\tax.xaxis.set_ticklabels([])\n",
    "\t\t\t#\tax.set_xlabel(None)\n",
    "\t\t\t#if row in [1,2]:\n",
    "\t\t\t#\tax.set_title(None)\n",
    "\n",
    "\t\tdate_64 = ds.date.values\n",
    "\t\tdate_datetime = datetime.utcfromtimestamp(date_64.tolist()/1e9)\n",
    "\t\tdate_str = date_datetime.strftime('%d/%m/%Y')\n",
    "\t\tplt.suptitle('{} - {} {}'.format(ds_var.attrs['info'],ds.attrs['location'],date_str), y = 1.05)\n",
    "\t\t#plt.tight_layout()\n",
    "\t\tplt.show()\n"
   ],
   "metadata": {
    "collapsed": false,
    "pycharm": {
     "name": "#%% Visualize the dataset\n"
    }
   }
  },
  {
   "cell_type": "code",
   "execution_count": 16,
   "outputs": [],
   "source": [
    "RUN_PD= False\n",
    "if RUN_PD:\n",
    "\tprint('retrieve a sub-dataframe from a dataset - according wavelength')\n",
    "\tdf_test_beta = ds.beta.sel(Wavelength=355).to_pandas()\n",
    "\tdf_test_beta"
   ],
   "metadata": {
    "collapsed": false,
    "pycharm": {
     "name": "#%% retrieve a dataframe from a dataset\n"
    }
   }
  },
  {
   "cell_type": "code",
   "execution_count": 17,
   "outputs": [],
   "source": [
    "RUN_SLICE= False\n",
    "if RUN_SLICE:\n",
    "\tprint('retrieve a sub-dataframe from a dataset - according time slice')\n",
    "\n",
    "\tstart_time = datetime(2017,9,1,0,30)\n",
    "\tend_time = start_time + timedelta(hours = 6) #datetime(2017,9,1,12,30)\n",
    "\ttimestamps = pd.date_range ( start = start_time , end = end_time  ,\n",
    "\t                             freq = timedelta ( seconds = 30 ) )\n",
    "\t#slice_beta= mol_xr.loc['beta'].to_pandas().loc[:,timestamps]\n",
    "\tprint('slicing data set by time')\n",
    "\tsub_ds = ds.sel(Time =slice(start_time,end_time))#  timestamps).plot()#=slice(start_time,start_time+timedelta(hours = 6)))\n",
    "\n",
    "\tsub_ds"
   ],
   "metadata": {
    "collapsed": false,
    "pycharm": {
     "name": "#%% slicing dataset by time\n"
    }
   }
  },
  {
   "cell_type": "code",
   "execution_count": 18,
   "outputs": [],
   "source": [
    "CALC_SIZE = False\n",
    "if CALC_SIZE:\n",
    "\tprofiles = list(ds.data_vars)[0:3]\n",
    "\ttotal_size =0\n",
    "\tfor prof in profiles:\n",
    "\t\tfor wav in ds.Wavelength.values:\n",
    "\t\t\ttmp_prof = (ds[prof]).sel(Wavelength=wav).to_pandas()\n",
    "\t\t\tcursize = tmp_prof.memory_usage(deep=True).sum()\n",
    "\t\t\tprint('profile:{}, wavelength: {}, size:{}'.format(prof,wav,humanbytes(cursize)))\n",
    "\t\t\ttotal_size+=cursize\n",
    "\n",
    "\tprint('total size of data set is at least:{}'.format(humanbytes(total_size)))\n"
   ],
   "metadata": {
    "collapsed": false,
    "pycharm": {
     "name": "#%% calculate size of the dataset\n"
    }
   }
  },
  {
   "cell_type": "code",
   "execution_count": null,
   "outputs": [],
   "source": [
    "ds_range_corr_daily = get_daily_range_corr(haifa_station, day_date)\n",
    "ds_range_corr_daily\n"
   ],
   "metadata": {
    "collapsed": false,
    "pycharm": {
     "name": "#%% RANGE CORRECTED from TROPOS\n"
    }
   }
  },
  {
   "cell_type": "code",
   "execution_count": null,
   "outputs": [],
   "source": [
    "xfmt = mdates.DateFormatter('%H:%M')\n",
    "timetics = ds_range_corr_daily.Time.dt.strftime('%H:%M')\n",
    "timetics\n",
    "\n",
    "g = ds_range_corr_daily.range_corr.plot(x='Time',y='Height',row='Wavelength',\n",
    "                  row_wrap = 3,cmap = 'turbo')# , figsize = (5,8)) #TODO: figure out how to enlarge the figsize, it doesn't work properly :-(\n",
    "for ax in g.axes.flat:\n",
    "\tax.xaxis.set_major_formatter(xfmt)\n",
    "\tax.xaxis_date()\n",
    "\tax.get_xaxis().set_major_locator(mdates.HourLocator(interval=4))\n",
    "\tplt.setp( ax.get_xticklabels(), rotation=0,horizontalalignment='center')\n",
    "\n",
    "date_64 = ds_range_corr_daily.date.values\n",
    "date_datetime = datetime.utcfromtimestamp(date_64.tolist()/1e9)\n",
    "date_str = date_datetime.strftime('%d/%m/%Y')\n",
    "plt.suptitle('{} - {} {}'.format(ds_range_corr_daily.attrs['info'],ds_range_corr_daily.attrs['location'],date_str), y = 1.05)\n",
    "#plt.tight_layout()\n",
    "plt.show()"
   ],
   "metadata": {
    "collapsed": false,
    "pycharm": {
     "name": "#%% VISUALIZE RANGE CORRECTED\n"
    }
   }
  },
  {
   "cell_type": "code",
   "execution_count": null,
   "outputs": [],
   "source": [
    "sub_ds = ds_range_corr_daily.sel(Wavelength =532).get('range_corr')\n",
    "#pos_rangecorr = ds_range_corr_daily.sel(Wavelength =355).where(ds_range_corr_daily.range_corr>0,drop=False)\n",
    "sub_ds.where(sub_ds>- 1e-5).plot(cmap = 'turbo')\n",
    "#pos_rangecorr\n",
    "\n",
    "#.plot(x='Time',y='Height',col='Wavelength',\n",
    "#                  col_wrap = 3,cmap = 'turbo')\n",
    "#plt.show()\n",
    "\n",
    "#eps = np.finfo(np.float).eps\n",
    "#print(eps)\n",
    "#ds_mask = ds_range_corr_daily.where(ds_range_corr_daily.range_corr<0)\n",
    "#res = ds_range_corr_daily.range_corr<0\n",
    "#ds_range_corr_daily.where(ds_range_corr_daily.range_corr<0,None)\n",
    "#ds_range_corr_daily.range_corr.min()\n",
    "#res"
   ],
   "metadata": {
    "collapsed": false,
    "pycharm": {
     "name": "#%% Range corrected - testing data values\n"
    }
   }
  },
  {
   "cell_type": "code",
   "execution_count": null,
   "outputs": [],
   "source": [
    "profiles_paths = prep.get_profiles_paths(haifa_station.lidar_src_folder, day_date)\n",
    "print(profiles_paths)\n",
    "prof_path = profiles_paths[0]\n",
    "#profile_paths\n",
    "\n"
   ],
   "metadata": {
    "collapsed": false,
    "pycharm": {
     "name": "#%%\n"
    }
   }
  },
  {
   "cell_type": "code",
   "execution_count": 20,
   "outputs": [],
   "source": [
    "# TODO: extend save_molecular_dataset to save range_corr.nc (change the string in the name)\n",
    "# TODO: split each sataset of range corrected to 2 : one contains the exponent of 10 , and the other the base (less importanat for now)\n",
    "# TODO: range corrected visualization -> why most of values are close to zero ? check about the data range. show histogram\n",
    "# TODO: convert from xarray to pytorch\n",
    "# TODO: lidar_parent_folder - should be similar to lidar_src_folder. why was added to stations.csv?\n",
    "# TODO: update environment installations ARLreader and pytorch\n",
    "# TODO: check with Shubi table of samples (for the data loader)\n",
    "# X = {lidar measurement (range corrected) molecular (range corrected)}\n",
    "# Y = {lidar const, reference height [min,max]}\n",
    "\n",
    "## AERONET : https://aeronet.gsfc.nasa.gov/cgi-bin/data_display_aod_v3?site=Technion_Haifa_IL&nachal=0&year=2017&month=5&day=19&aero_water=0&level=3&if_day=0&if_err=0&place_code=10&DATA_TYPE=-999&year_or_month=3\n",
    "## it is possible to merge with Terra MODIS or Aqua MODIS -\n",
    "# / TODO: locate the function that does donwload of sunphotometer data to cameranetwork (maybe Shubi knows this)\n",
    "# / TODO: ask about the relevant product from MODIS to our porpose.\n",
    "\n"
   ],
   "metadata": {
    "collapsed": false,
    "pycharm": {
     "name": "#%% TODOS:\n"
    }
   }
  },
  {
   "cell_type": "code",
   "execution_count": null,
   "outputs": [],
   "source": [
    "'''\n",
    "import logging\n",
    "logger = logging.getLogger()\n",
    "\n",
    "day_dates = pd.date_range(start=start_day, end=end_day, freq=timedelta(days=1))\n",
    "expected_file_no = len(day_dates) * 8  # 8 timestamps per day\n",
    "gdastxt_paths = []\n",
    "for day in day_dates:\n",
    "    gdastxt_paths.extend(prep.convert_daily_gdas(haifa_station, day))\n",
    "total_converted = len(gdastxt_paths)\n",
    "logger.debug(f\"Done conversion of {total_converted} gdas files from {start_day.strftime('%Y/%m/%d')} to \"\n",
    "             f\"{end_day.strftime('%Y/%m/%d')}, {(expected_file_no - total_converted)} failed.\")\n",
    "\n",
    "'''"
   ],
   "metadata": {
    "collapsed": false,
    "pycharm": {
     "name": "#%%\n"
    }
   }
  }
 ],
 "metadata": {
  "kernelspec": {
   "name": "lidar",
   "language": "python",
   "display_name": "lidar"
  },
  "language_info": {
   "codemirror_mode": {
    "name": "ipython",
    "version": 2
   },
   "file_extension": ".py",
   "mimetype": "text/x-python",
   "name": "python",
   "nbconvert_exporter": "python",
   "pygments_lexer": "ipython2",
   "version": "2.7.6"
  }
 },
 "nbformat": 4,
 "nbformat_minor": 0
}