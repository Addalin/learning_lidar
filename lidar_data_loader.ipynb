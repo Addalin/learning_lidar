{
 "cells": [
  {
   "cell_type": "code",
   "execution_count": 1,
   "outputs": [
    {
     "name": "stderr",
     "output_type": "stream",
     "text": [
      "C:\\Users\\addalin\\Dropbox\\Lidar\\code\\miscLidar.py:40: MatplotlibDeprecationWarning: Support for setting the 'text.latex.preamble' or 'pgf.preamble' rcParam to a list of strings is deprecated since 3.3 and will be removed two minor releases later; set it to a single string instead.\n",
      "  plt.rcParams['text.latex.preamble'] = [r\"\\usepackage{amsmath}\"]\n"
     ]
    }
   ],
   "source": [
    "import os,sys\n",
    "import numpy as np\n",
    "import scipy as sp\n",
    "import pandas as pd\n",
    "#from netCDF4 import Dataset\n",
    "import matplotlib\n",
    "from datetime import datetime, timedelta, time\n",
    "import glob\n",
    "from generate_atmosphere import LidarProfile,RadiosondeProfile\n",
    "import miscLidar as mscLid\n",
    "from molecular import rayleigh_scattering\n",
    "import global_settings as gs\n",
    "import pandas as pd\n",
    "#import ARLreader as Ar\n",
    "import preprocessing as prep\n",
    "import matplotlib.dates as mdates\n",
    "import matplotlib.pyplot as plt\n",
    "%matplotlib inline\n"
   ],
   "metadata": {
    "collapsed": false,
    "pycharm": {
     "name": "#%% Imports\n"
    }
   }
  },
  {
   "cell_type": "code",
   "execution_count": 2,
   "outputs": [
    {
     "name": "stdout",
     "output_type": "stream",
     "text": [
      "gdas_txt ['.\\\\data examples\\\\gdas_txt\\\\2017\\\\09\\\\haifa_20170901_00_32.8_35.0.txt', '.\\\\data examples\\\\gdas_txt\\\\2017\\\\09\\\\haifa_20170901_03_32.8_35.0.txt', '.\\\\data examples\\\\gdas_txt\\\\2017\\\\09\\\\haifa_20170901_06_32.8_35.0.txt', '.\\\\data examples\\\\gdas_txt\\\\2017\\\\09\\\\haifa_20170901_09_32.8_35.0.txt', '.\\\\data examples\\\\gdas_txt\\\\2017\\\\09\\\\haifa_20170901_12_32.8_35.0.txt', '.\\\\data examples\\\\gdas_txt\\\\2017\\\\09\\\\haifa_20170901_15_32.8_35.0.txt', '.\\\\data examples\\\\gdas_txt\\\\2017\\\\09\\\\haifa_20170901_18_32.8_35.0.txt', '.\\\\data examples\\\\gdas_txt\\\\2017\\\\09\\\\haifa_20170901_21_32.8_35.0.txt']\n",
      "gdas_txt next day ['.\\\\data examples\\\\gdas_txt\\\\2017\\\\09\\\\haifa_20170902_00_32.8_35.0.txt', '.\\\\data examples\\\\gdas_txt\\\\2017\\\\09\\\\haifa_20170902_03_32.8_35.0.txt', '.\\\\data examples\\\\gdas_txt\\\\2017\\\\09\\\\haifa_20170902_06_32.8_35.0.txt', '.\\\\data examples\\\\gdas_txt\\\\2017\\\\09\\\\haifa_20170902_09_32.8_35.0.txt', '.\\\\data examples\\\\gdas_txt\\\\2017\\\\09\\\\haifa_20170902_12_32.8_35.0.txt', '.\\\\data examples\\\\gdas_txt\\\\2017\\\\09\\\\haifa_20170902_15_32.8_35.0.txt', '.\\\\data examples\\\\gdas_txt\\\\2017\\\\09\\\\haifa_20170902_18_32.8_35.0.txt', '.\\\\data examples\\\\gdas_txt\\\\2017\\\\09\\\\haifa_20170902_21_32.8_35.0.txt']\n"
     ]
    }
   ],
   "source": [
    "'''set day'''\n",
    "day_date = datetime(2017,9,1)\n",
    "\n",
    "'''set station'''\n",
    "haifa_station = gs.station()\n",
    "\n",
    "'''Set paths'''\n",
    "#lidar_parent_folder = 'H:\\data_haifa\\DATA FROM TROPOS\\data\\level1a\\PollyXT_TROPOS'\n",
    "#gdas_parent_folder = 'H:\\data_haifa\\DATA FROM TROPOS\\GDAS\\haifa'\n",
    "lidar_parent_folder = haifa_station.lidar_src_folder\n",
    "haifa_station.gdas1_folder = os.path.join('.','data examples','gdas')\n",
    "haifa_station.gdastxt_folder  = os.path.join('.','data examples','gdas_txt')\n",
    "\n",
    "\n",
    "#gdas1_folder,gdas1_paths = prep.get_gdas_paths(haifa_station, day_date,'gdas1')\n",
    "#print('gdas1',gdas1_paths)\n",
    "\n",
    "#convert cur day (gdas files from TROPOS to txt)\n",
    "gdastxt = prep.convert_daily_gdas ( haifa_station, day_date  )\n",
    "print('gdas_txt',gdastxt)\n",
    "\n",
    "#convert next day (gdas files from TROPOS to txt)\n",
    "next_day = day_date + timedelta ( days = 1 )\n",
    "gdastxt_nextday = prep.convert_daily_gdas ( haifa_station, next_day )\n",
    "# gdastxt.extend(prep.convert_daily_gdas ( next_day , haifa_station ))\n",
    "print('gdas_txt next day',gdastxt_nextday)\n"
   ],
   "metadata": {
    "collapsed": false,
    "pycharm": {
     "name": "#%%\n"
    }
   }
  },
  {
   "cell_type": "code",
   "source": [
    "'''set parameters'''\n",
    "lambda_nm = gs.LAMBDA_nm().G\n",
    "df_sigma , df_beta = prep.get_daily_molecular_profiles( haifa_station , day_date , lambda_nm , 'Km' )"
   ],
   "metadata": {
    "collapsed": false,
    "pycharm": {
     "name": "#%% Generate daily molecular profiles from the converted files (above)\n"
    }
   },
   "execution_count": 3,
   "outputs": []
  },
  {
   "cell_type": "code",
   "execution_count": 4,
   "outputs": [
    {
     "data": {
      "text/plain": "['.\\\\data examples\\\\gdas_txt\\\\2017\\\\09\\\\haifa_20170901_00_32.8_35.0.txt',\n '.\\\\data examples\\\\gdas_txt\\\\2017\\\\09\\\\haifa_20170901_03_32.8_35.0.txt',\n '.\\\\data examples\\\\gdas_txt\\\\2017\\\\09\\\\haifa_20170901_06_32.8_35.0.txt',\n '.\\\\data examples\\\\gdas_txt\\\\2017\\\\09\\\\haifa_20170901_09_32.8_35.0.txt',\n '.\\\\data examples\\\\gdas_txt\\\\2017\\\\09\\\\haifa_20170901_12_32.8_35.0.txt',\n '.\\\\data examples\\\\gdas_txt\\\\2017\\\\09\\\\haifa_20170901_15_32.8_35.0.txt',\n '.\\\\data examples\\\\gdas_txt\\\\2017\\\\09\\\\haifa_20170901_18_32.8_35.0.txt',\n '.\\\\data examples\\\\gdas_txt\\\\2017\\\\09\\\\haifa_20170901_21_32.8_35.0.txt',\n '.\\\\data examples\\\\gdas_txt\\\\2017\\\\09\\\\haifa_20170902_00_32.8_35.0.txt']"
     },
     "execution_count": 4,
     "metadata": {},
     "output_type": "execute_result"
    }
   ],
   "source": [
    "df_hours =pd.date_range(start = day_date, end = next_day,freq = timedelta(hours = 3))\n",
    "timestamps = df_hours.tolist()\n",
    "paths = [prep.get_gdas_fname(haifa_station,time) for time in df_hours]\n",
    "\n",
    "paths"
   ],
   "metadata": {
    "collapsed": false,
    "pycharm": {
     "name": "#%% timestapms daily range\n"
    }
   }
  },
  {
   "cell_type": "code",
   "execution_count": 5,
   "outputs": [
    {
     "data": {
      "text/plain": "[True, True, True, True, True, True, True, True, True]"
     },
     "execution_count": 5,
     "metadata": {},
     "output_type": "execute_result"
    }
   ],
   "source": [
    "[os.path.exists(path) for path in paths]"
   ],
   "metadata": {
    "collapsed": false,
    "pycharm": {
     "name": "#%% check paths\n"
    }
   }
  },
  {
   "cell_type": "code",
   "execution_count": 6,
   "outputs": [
    {
     "data": {
      "text/plain": "<Figure size 432x288 with 0 Axes>"
     },
     "metadata": {},
     "output_type": "display_data"
    },
    {
     "data": {
      "text/plain": "<Figure size 432x288 with 1 Axes>",
      "image/png": "[encoded data removed]"
     },
     "metadata": {
      "needs_background": "light"
     },
     "output_type": "display_data"
    }
   ],
   "source": [
    "plt.figure()\n",
    "ax = df_beta.plot()\n",
    "ax.set_ylabel(r'$\\beta_{\\rm mol}[1/m]$')\n",
    "plt.show()"
   ],
   "metadata": {
    "collapsed": false,
    "pycharm": {
     "name": "#%% Visualizing molecular profiles\n"
    }
   }
  },
  {
   "cell_type": "code",
   "execution_count": 17,
   "outputs": [],
   "source": [
    "def generate_daily_att_bsc_mol(station, day_date, lambda_nm, time_res='30S', height_units ='Km'):\n",
    "\t\"\"\"\t \"\"\"\n",
    "\n",
    "\t'''Load daily gdas profiles and convert to backscatter (beta) and extinction (sigma) profiles'''\n",
    "\n",
    "\tdf_sigma , df_beta = prep.get_daily_molecular_profiles ( station , day_date , lambda_nm , height_units )\n",
    "\n",
    "\t''' Interpolate profiles through 24 hrs'''\n",
    "\tinterp_sigma_df=(df_sigma.T.resample(time_res).interpolate(method='linear')[:-1]).T\n",
    "\tinterp_beta_df=(df_beta.T.resample(time_res).interpolate(method='linear')[:-1]).T\n",
    "\tinterp_sigma_df.columns.freq = None\n",
    "\tinterp_beta_df.columns.freq = None\n",
    "\n",
    "\t'''Calculate the molecular attenuated backscatter as :  beta_mol * exp(-2*tau_mol)'''\n",
    "\te_tau_df = interp_sigma_df.apply(prep.cal_e_tau_df,0,args=(haifa_station.altitude,),result_type='expand')\n",
    "\tprint ('e_tau ',e_tau_df)\n",
    "\tatt_bsc_mol_df = interp_beta_df.multiply(e_tau_df)\n",
    "\tatt_bsc_mol_df.rename_axis ('Height[{}]'.format ( height_units ) )\n",
    "\n",
    "\timport xarray as xr\n",
    "\tmol_xr= xr.DataArray(data=[interp_beta_df,interp_sigma_df,att_bsc_mol_df],\n",
    "                     coords=[['beta','sigma','att_bsc_mol'],interp_beta_df.index,interp_beta_df.columns],\n",
    "                     dims = ['profiles','Height','Time'],\n",
    "                     name='molecular')#,interp_beta_df.index,interp_beta_df.columns )\n",
    "\n",
    "\treturn att_bsc_mol_df,mol_xr"
   ],
   "metadata": {
    "collapsed": false,
    "pycharm": {
     "name": "#%%\n"
    }
   }
  },
  {
   "cell_type": "code",
   "execution_count": 18,
   "outputs": [
    {
     "name": "stdout",
     "output_type": "stream",
     "text": [
      "df_mol\n",
      "Float64Index([            0.30775, 0.31522146053684563, 0.32269292107369124,\n",
      "              0.33016438161053685,  0.3376358421473825,  0.3451073026842281,\n",
      "              0.35257876322107373, 0.36005022375791934, 0.36752168429476495,\n",
      "              0.37499314483161056,\n",
      "              ...\n",
      "                22.64741700516839,  22.654888465705234,  22.662359926242083,\n",
      "               22.669831386778927,  22.677302847315772,  22.684774307852617,\n",
      "               22.692245768389462,   22.69971722892631,  22.707188689463155,\n",
      "                      22.71466015],\n",
      "             dtype='float64', name='Height[Km]', length=3000)\n",
      "Float64Index([            0.30775, 0.31522146053684563, 0.32269292107369124,\n",
      "              0.33016438161053685,  0.3376358421473825,  0.3451073026842281,\n",
      "              0.35257876322107373, 0.36005022375791934, 0.36752168429476495,\n",
      "              0.37499314483161056,\n",
      "              ...\n",
      "                22.64741700516839,  22.654888465705234,  22.662359926242083,\n",
      "               22.669831386778927,  22.677302847315772,  22.684774307852617,\n",
      "               22.692245768389462,   22.69971722892631,  22.707188689463155,\n",
      "                      22.71466015],\n",
      "             dtype='float64', name='Height[Km]', length=3000)\n",
      "e_tau              2017-09-01 00:00:00  2017-09-01 00:00:30  2017-09-01 00:01:00  \\\n",
      "Height[Km]                                                                  \n",
      "0.307750               1.005605             1.005605             1.005605   \n",
      "0.315221               1.005605             1.005605             1.005605   \n",
      "0.322693               1.005605             1.005605             1.005605   \n",
      "0.330164               1.005605             1.005605             1.005605   \n",
      "0.337636               1.005605             1.005605             1.005605   \n",
      "...                         ...                  ...                  ...   \n",
      "22.684774              1.005398             1.005398             1.005398   \n",
      "22.692246              1.005398             1.005398             1.005398   \n",
      "22.699717              1.005398             1.005398             1.005398   \n",
      "22.707189              1.005398             1.005398             1.005398   \n",
      "22.714660              1.005398             1.005398             1.005398   \n",
      "\n",
      "            2017-09-01 00:01:30  2017-09-01 00:02:00  2017-09-01 00:02:30  \\\n",
      "Height[Km]                                                                  \n",
      "0.307750               1.005605             1.005605             1.005605   \n",
      "0.315221               1.005605             1.005605             1.005605   \n",
      "0.322693               1.005605             1.005605             1.005605   \n",
      "0.330164               1.005605             1.005605             1.005605   \n",
      "0.337636               1.005605             1.005605             1.005605   \n",
      "...                         ...                  ...                  ...   \n",
      "22.684774              1.005398             1.005398             1.005398   \n",
      "22.692246              1.005398             1.005398             1.005398   \n",
      "22.699717              1.005398             1.005398             1.005398   \n",
      "22.707189              1.005398             1.005398             1.005398   \n",
      "22.714660              1.005398             1.005398             1.005398   \n",
      "\n",
      "            2017-09-01 00:03:00  2017-09-01 00:03:30  2017-09-01 00:04:00  \\\n",
      "Height[Km]                                                                  \n",
      "0.307750               1.005605             1.005605             1.005605   \n",
      "0.315221               1.005605             1.005605             1.005605   \n",
      "0.322693               1.005605             1.005605             1.005605   \n",
      "0.330164               1.005605             1.005605             1.005605   \n",
      "0.337636               1.005605             1.005605             1.005605   \n",
      "...                         ...                  ...                  ...   \n",
      "22.684774              1.005398             1.005398             1.005398   \n",
      "22.692246              1.005398             1.005398             1.005398   \n",
      "22.699717              1.005398             1.005398             1.005398   \n",
      "22.707189              1.005398             1.005398             1.005398   \n",
      "22.714660              1.005398             1.005398             1.005398   \n",
      "\n",
      "            2017-09-01 00:04:30  ...  2017-09-01 23:55:00  \\\n",
      "Height[Km]                       ...                        \n",
      "0.307750               1.005605  ...             1.005577   \n",
      "0.315221               1.005605  ...             1.005577   \n",
      "0.322693               1.005605  ...             1.005576   \n",
      "0.330164               1.005605  ...             1.005576   \n",
      "0.337636               1.005605  ...             1.005576   \n",
      "...                         ...  ...                  ...   \n",
      "22.684774              1.005398  ...             1.005370   \n",
      "22.692246              1.005398  ...             1.005370   \n",
      "22.699717              1.005398  ...             1.005370   \n",
      "22.707189              1.005398  ...             1.005370   \n",
      "22.714660              1.005398  ...             1.005370   \n",
      "\n",
      "            2017-09-01 23:55:30  2017-09-01 23:56:00  2017-09-01 23:56:30  \\\n",
      "Height[Km]                                                                  \n",
      "0.307750               1.005577             1.005577             1.005577   \n",
      "0.315221               1.005577             1.005577             1.005577   \n",
      "0.322693               1.005576             1.005576             1.005576   \n",
      "0.330164               1.005576             1.005576             1.005576   \n",
      "0.337636               1.005576             1.005576             1.005576   \n",
      "...                         ...                  ...                  ...   \n",
      "22.684774              1.005370             1.005370             1.005370   \n",
      "22.692246              1.005370             1.005370             1.005370   \n",
      "22.699717              1.005370             1.005370             1.005370   \n",
      "22.707189              1.005370             1.005370             1.005370   \n",
      "22.714660              1.005370             1.005370             1.005370   \n",
      "\n",
      "            2017-09-01 23:57:00  2017-09-01 23:57:30  2017-09-01 23:58:00  \\\n",
      "Height[Km]                                                                  \n",
      "0.307750               1.005577             1.005577             1.005577   \n",
      "0.315221               1.005577             1.005577             1.005577   \n",
      "0.322693               1.005576             1.005576             1.005576   \n",
      "0.330164               1.005576             1.005576             1.005576   \n",
      "0.337636               1.005576             1.005576             1.005576   \n",
      "...                         ...                  ...                  ...   \n",
      "22.684774              1.005370             1.005370             1.005370   \n",
      "22.692246              1.005370             1.005370             1.005370   \n",
      "22.699717              1.005370             1.005370             1.005370   \n",
      "22.707189              1.005370             1.005370             1.005370   \n",
      "22.714660              1.005370             1.005370             1.005370   \n",
      "\n",
      "            2017-09-01 23:58:30  2017-09-01 23:59:00  2017-09-01 23:59:30  \n",
      "Height[Km]                                                                 \n",
      "0.307750               1.005577             1.005577             1.005577  \n",
      "0.315221               1.005577             1.005577             1.005577  \n",
      "0.322693               1.005576             1.005576             1.005576  \n",
      "0.330164               1.005576             1.005576             1.005576  \n",
      "0.337636               1.005576             1.005576             1.005576  \n",
      "...                         ...                  ...                  ...  \n",
      "22.684774              1.005370             1.005370             1.005370  \n",
      "22.692246              1.005370             1.005370             1.005370  \n",
      "22.699717              1.005370             1.005370             1.005370  \n",
      "22.707189              1.005370             1.005370             1.005370  \n",
      "22.714660              1.005370             1.005370             1.005370  \n",
      "\n",
      "[3000 rows x 2880 columns]\n"
     ]
    },
    {
     "data": {
      "text/plain": "<xarray.DataArray 'molecular' (profiles: 3, Height: 3000, Time: 2880)>\narray([[[1.43876581e-06, 1.43876355e-06, 1.43876129e-06, ...,\n         1.43152413e-06, 1.43152573e-06, 1.43152734e-06],\n        [1.43790604e-06, 1.43790375e-06, 1.43790147e-06, ...,\n         1.43063545e-06, 1.43063697e-06, 1.43063848e-06],\n        [1.43704599e-06, 1.43704369e-06, 1.43704139e-06, ...,\n         1.42974639e-06, 1.42974782e-06, 1.42974924e-06],\n        ...,\n        [8.38648559e-08, 8.38651337e-08, 8.38654115e-08, ...,\n         8.36953909e-08, 8.36948784e-08, 8.36943660e-08],\n        [8.37789800e-08, 8.37792581e-08, 8.37795362e-08, ...,\n         8.36089534e-08, 8.36084399e-08, 8.36079264e-08],\n        [8.36931164e-08, 8.36933948e-08, 8.36936732e-08, ...,\n         8.35225293e-08, 8.35220147e-08, 8.35215002e-08]],\n\n       [[1.22213220e-05, 1.22213023e-05, 1.22212825e-05, ...,\n         1.21590354e-05, 1.21590491e-05, 1.21590627e-05],\n        [1.22140184e-05, 1.22139984e-05, 1.22139784e-05, ...,\n         1.21514925e-05, 1.21515054e-05, 1.21515183e-05],\n        [1.22067123e-05, 1.22066922e-05, 1.22066721e-05, ...,\n         1.21439463e-05, 1.21439585e-05, 1.21439706e-05],\n...\n        [7.12568384e-07, 7.12570744e-07, 7.12573104e-07, ...,\n         7.11128503e-07, 7.11124149e-07, 7.11119794e-07],\n        [7.11838728e-07, 7.11841091e-07, 7.11843454e-07, ...,\n         7.10394076e-07, 7.10389713e-07, 7.10385350e-07],\n        [7.11109177e-07, 7.11111543e-07, 7.11113908e-07, ...,\n         7.09659762e-07, 7.09655390e-07, 7.09651018e-07]],\n\n       [[1.44683080e-06, 1.44682852e-06, 1.44682623e-06, ...,\n         1.43950752e-06, 1.43950914e-06, 1.43951077e-06],\n        [1.44596595e-06, 1.44596364e-06, 1.44596133e-06, ...,\n         1.43861363e-06, 1.43861516e-06, 1.43861669e-06],\n        [1.44510082e-06, 1.44509849e-06, 1.44509616e-06, ...,\n         1.43771935e-06, 1.43772079e-06, 1.43772223e-06],\n        ...,\n        [8.43175759e-08, 8.43178543e-08, 8.43181328e-08, ...,\n         8.41448190e-08, 8.41443043e-08, 8.41437896e-08],\n        [8.42312354e-08, 8.42315143e-08, 8.42317931e-08, ...,\n         8.40579165e-08, 8.40574008e-08, 8.40568850e-08],\n        [8.41449074e-08, 8.41451865e-08, 8.41454657e-08, ...,\n         8.39710273e-08, 8.39705106e-08, 8.39699938e-08]]])\nCoordinates:\n  * profiles  (profiles) <U11 'beta' 'sigma' 'att_bsc_mol'\n  * Height    (Height) float64 0.3078 0.3152 0.3227 0.3302 ... 22.7 22.71 22.71\n  * Time      (Time) datetime64[ns] 2017-09-01 ... 2017-09-01T23:59:30",
      "text/html": "<div><svg style=\"position: absolute; width: 0; height: 0; overflow: hidden\">\n<defs>\n<symbol id=\"icon-database\" viewBox=\"0 0 32 32\">\n<path d=\"M16 0c-8.837 0-16 2.239-16 5v4c0 2.761 7.163 5 16 5s16-2.239 16-5v-4c0-2.761-7.163-5-16-5z\"></path>\n<path d=\"M16 17c-8.837 0-16-2.239-16-5v6c0 2.761 7.163 5 16 5s16-2.239 16-5v-6c0 2.761-7.163 5-16 5z\"></path>\n<path d=\"M16 26c-8.837 0-16-2.239-16-5v6c0 2.761 7.163 5 16 5s16-2.239 16-5v-6c0 2.761-7.163 5-16 5z\"></path>\n</symbol>\n<symbol id=\"icon-file-text2\" viewBox=\"0 0 32 32\">\n<path d=\"M28.681 7.159c-0.694-0.947-1.662-2.053-2.724-3.116s-2.169-2.030-3.116-2.724c-1.612-1.182-2.393-1.319-2.841-1.319h-15.5c-1.378 0-2.5 1.121-2.5 2.5v27c0 1.378 1.122 2.5 2.5 2.5h23c1.378 0 2.5-1.122 2.5-2.5v-19.5c0-0.448-0.137-1.23-1.319-2.841zM24.543 5.457c0.959 0.959 1.712 1.825 2.268 2.543h-4.811v-4.811c0.718 0.556 1.584 1.309 2.543 2.268zM28 29.5c0 0.271-0.229 0.5-0.5 0.5h-23c-0.271 0-0.5-0.229-0.5-0.5v-27c0-0.271 0.229-0.5 0.5-0.5 0 0 15.499-0 15.5 0v7c0 0.552 0.448 1 1 1h7v19.5z\"></path>\n<path d=\"M23 26h-14c-0.552 0-1-0.448-1-1s0.448-1 1-1h14c0.552 0 1 0.448 1 1s-0.448 1-1 1z\"></path>\n<path d=\"M23 22h-14c-0.552 0-1-0.448-1-1s0.448-1 1-1h14c0.552 0 1 0.448 1 1s-0.448 1-1 1z\"></path>\n<path d=\"M23 18h-14c-0.552 0-1-0.448-1-1s0.448-1 1-1h14c0.552 0 1 0.448 1 1s-0.448 1-1 1z\"></path>\n</symbol>\n</defs>\n</svg>\n<style>/* CSS stylesheet for displaying xarray objects in jupyterlab.\n *\n */\n\n:root {\n  --xr-font-color0: var(--jp-content-font-color0, rgba(0, 0, 0, 1));\n  --xr-font-color2: var(--jp-content-font-color2, rgba(0, 0, 0, 0.54));\n  --xr-font-color3: var(--jp-content-font-color3, rgba(0, 0, 0, 0.38));\n  --xr-border-color: var(--jp-border-color2, #e0e0e0);\n  --xr-disabled-color: var(--jp-layout-color3, #bdbdbd);\n  --xr-background-color: var(--jp-layout-color0, white);\n  --xr-background-color-row-even: var(--jp-layout-color1, white);\n  --xr-background-color-row-odd: var(--jp-layout-color2, #eeeeee);\n}\n\nhtml[theme=dark],\nbody.vscode-dark {\n  --xr-font-color0: rgba(255, 255, 255, 1);\n  --xr-font-color2: rgba(255, 255, 255, 0.54);\n  --xr-font-color3: rgba(255, 255, 255, 0.38);\n  --xr-border-color: #1F1F1F;\n  --xr-disabled-color: #515151;\n  --xr-background-color: #111111;\n  --xr-background-color-row-even: #111111;\n  --xr-background-color-row-odd: #313131;\n}\n\n.xr-wrap {\n  display: block;\n  min-width: 300px;\n  max-width: 700px;\n}\n\n.xr-text-repr-fallback {\n  /* fallback to plain text repr when CSS is not injected (untrusted notebook) */\n  display: none;\n}\n\n.xr-header {\n  padding-top: 6px;\n  padding-bottom: 6px;\n  margin-bottom: 4px;\n  border-bottom: solid 1px var(--xr-border-color);\n}\n\n.xr-header > div,\n.xr-header > ul {\n  display: inline;\n  margin-top: 0;\n  margin-bottom: 0;\n}\n\n.xr-obj-type,\n.xr-array-name {\n  margin-left: 2px;\n  margin-right: 10px;\n}\n\n.xr-obj-type {\n  color: var(--xr-font-color2);\n}\n\n.xr-sections {\n  padding-left: 0 !important;\n  display: grid;\n  grid-template-columns: 150px auto auto 1fr 20px 20px;\n}\n\n.xr-section-item {\n  display: contents;\n}\n\n.xr-section-item input {\n  display: none;\n}\n\n.xr-section-item input + label {\n  color: var(--xr-disabled-color);\n}\n\n.xr-section-item input:enabled + label {\n  cursor: pointer;\n  color: var(--xr-font-color2);\n}\n\n.xr-section-item input:enabled + label:hover {\n  color: var(--xr-font-color0);\n}\n\n.xr-section-summary {\n  grid-column: 1;\n  color: var(--xr-font-color2);\n  font-weight: 500;\n}\n\n.xr-section-summary > span {\n  display: inline-block;\n  padding-left: 0.5em;\n}\n\n.xr-section-summary-in:disabled + label {\n  color: var(--xr-font-color2);\n}\n\n.xr-section-summary-in + label:before {\n  display: inline-block;\n  content: '►';\n  font-size: 11px;\n  width: 15px;\n  text-align: center;\n}\n\n.xr-section-summary-in:disabled + label:before {\n  color: var(--xr-disabled-color);\n}\n\n.xr-section-summary-in:checked + label:before {\n  content: '▼';\n}\n\n.xr-section-summary-in:checked + label > span {\n  display: none;\n}\n\n.xr-section-summary,\n.xr-section-inline-details {\n  padding-top: 4px;\n  padding-bottom: 4px;\n}\n\n.xr-section-inline-details {\n  grid-column: 2 / -1;\n}\n\n.xr-section-details {\n  display: none;\n  grid-column: 1 / -1;\n  margin-bottom: 5px;\n}\n\n.xr-section-summary-in:checked ~ .xr-section-details {\n  display: contents;\n}\n\n.xr-array-wrap {\n  grid-column: 1 / -1;\n  display: grid;\n  grid-template-columns: 20px auto;\n}\n\n.xr-array-wrap > label {\n  grid-column: 1;\n  vertical-align: top;\n}\n\n.xr-preview {\n  color: var(--xr-font-color3);\n}\n\n.xr-array-preview,\n.xr-array-data {\n  padding: 0 5px !important;\n  grid-column: 2;\n}\n\n.xr-array-data,\n.xr-array-in:checked ~ .xr-array-preview {\n  display: none;\n}\n\n.xr-array-in:checked ~ .xr-array-data,\n.xr-array-preview {\n  display: inline-block;\n}\n\n.xr-dim-list {\n  display: inline-block !important;\n  list-style: none;\n  padding: 0 !important;\n  margin: 0;\n}\n\n.xr-dim-list li {\n  display: inline-block;\n  padding: 0;\n  margin: 0;\n}\n\n.xr-dim-list:before {\n  content: '(';\n}\n\n.xr-dim-list:after {\n  content: ')';\n}\n\n.xr-dim-list li:not(:last-child):after {\n  content: ',';\n  padding-right: 5px;\n}\n\n.xr-has-index {\n  font-weight: bold;\n}\n\n.xr-var-list,\n.xr-var-item {\n  display: contents;\n}\n\n.xr-var-item > div,\n.xr-var-item label,\n.xr-var-item > .xr-var-name span {\n  background-color: var(--xr-background-color-row-even);\n  margin-bottom: 0;\n}\n\n.xr-var-item > .xr-var-name:hover span {\n  padding-right: 5px;\n}\n\n.xr-var-list > li:nth-child(odd) > div,\n.xr-var-list > li:nth-child(odd) > label,\n.xr-var-list > li:nth-child(odd) > .xr-var-name span {\n  background-color: var(--xr-background-color-row-odd);\n}\n\n.xr-var-name {\n  grid-column: 1;\n}\n\n.xr-var-dims {\n  grid-column: 2;\n}\n\n.xr-var-dtype {\n  grid-column: 3;\n  text-align: right;\n  color: var(--xr-font-color2);\n}\n\n.xr-var-preview {\n  grid-column: 4;\n}\n\n.xr-var-name,\n.xr-var-dims,\n.xr-var-dtype,\n.xr-preview,\n.xr-attrs dt {\n  white-space: nowrap;\n  overflow: hidden;\n  text-overflow: ellipsis;\n  padding-right: 10px;\n}\n\n.xr-var-name:hover,\n.xr-var-dims:hover,\n.xr-var-dtype:hover,\n.xr-attrs dt:hover {\n  overflow: visible;\n  width: auto;\n  z-index: 1;\n}\n\n.xr-var-attrs,\n.xr-var-data {\n  display: none;\n  background-color: var(--xr-background-color) !important;\n  padding-bottom: 5px !important;\n}\n\n.xr-var-attrs-in:checked ~ .xr-var-attrs,\n.xr-var-data-in:checked ~ .xr-var-data {\n  display: block;\n}\n\n.xr-var-data > table {\n  float: right;\n}\n\n.xr-var-name span,\n.xr-var-data,\n.xr-attrs {\n  padding-left: 25px !important;\n}\n\n.xr-attrs,\n.xr-var-attrs,\n.xr-var-data {\n  grid-column: 1 / -1;\n}\n\ndl.xr-attrs {\n  padding: 0;\n  margin: 0;\n  display: grid;\n  grid-template-columns: 125px auto;\n}\n\n.xr-attrs dt, dd {\n  padding: 0;\n  margin: 0;\n  float: left;\n  padding-right: 10px;\n  width: auto;\n}\n\n.xr-attrs dt {\n  font-weight: normal;\n  grid-column: 1;\n}\n\n.xr-attrs dt:hover span {\n  display: inline-block;\n  background: var(--xr-background-color);\n  padding-right: 10px;\n}\n\n.xr-attrs dd {\n  grid-column: 2;\n  white-space: pre-wrap;\n  word-break: break-all;\n}\n\n.xr-icon-database,\n.xr-icon-file-text2 {\n  display: inline-block;\n  vertical-align: middle;\n  width: 1em;\n  height: 1.5em !important;\n  stroke-width: 0;\n  stroke: currentColor;\n  fill: currentColor;\n}\n</style><pre class='xr-text-repr-fallback'>&lt;xarray.DataArray &#x27;molecular&#x27; (profiles: 3, Height: 3000, Time: 2880)&gt;\narray([[[1.43876581e-06, 1.43876355e-06, 1.43876129e-06, ...,\n         1.43152413e-06, 1.43152573e-06, 1.43152734e-06],\n        [1.43790604e-06, 1.43790375e-06, 1.43790147e-06, ...,\n         1.43063545e-06, 1.43063697e-06, 1.43063848e-06],\n        [1.43704599e-06, 1.43704369e-06, 1.43704139e-06, ...,\n         1.42974639e-06, 1.42974782e-06, 1.42974924e-06],\n        ...,\n        [8.38648559e-08, 8.38651337e-08, 8.38654115e-08, ...,\n         8.36953909e-08, 8.36948784e-08, 8.36943660e-08],\n        [8.37789800e-08, 8.37792581e-08, 8.37795362e-08, ...,\n         8.36089534e-08, 8.36084399e-08, 8.36079264e-08],\n        [8.36931164e-08, 8.36933948e-08, 8.36936732e-08, ...,\n         8.35225293e-08, 8.35220147e-08, 8.35215002e-08]],\n\n       [[1.22213220e-05, 1.22213023e-05, 1.22212825e-05, ...,\n         1.21590354e-05, 1.21590491e-05, 1.21590627e-05],\n        [1.22140184e-05, 1.22139984e-05, 1.22139784e-05, ...,\n         1.21514925e-05, 1.21515054e-05, 1.21515183e-05],\n        [1.22067123e-05, 1.22066922e-05, 1.22066721e-05, ...,\n         1.21439463e-05, 1.21439585e-05, 1.21439706e-05],\n...\n        [7.12568384e-07, 7.12570744e-07, 7.12573104e-07, ...,\n         7.11128503e-07, 7.11124149e-07, 7.11119794e-07],\n        [7.11838728e-07, 7.11841091e-07, 7.11843454e-07, ...,\n         7.10394076e-07, 7.10389713e-07, 7.10385350e-07],\n        [7.11109177e-07, 7.11111543e-07, 7.11113908e-07, ...,\n         7.09659762e-07, 7.09655390e-07, 7.09651018e-07]],\n\n       [[1.44683080e-06, 1.44682852e-06, 1.44682623e-06, ...,\n         1.43950752e-06, 1.43950914e-06, 1.43951077e-06],\n        [1.44596595e-06, 1.44596364e-06, 1.44596133e-06, ...,\n         1.43861363e-06, 1.43861516e-06, 1.43861669e-06],\n        [1.44510082e-06, 1.44509849e-06, 1.44509616e-06, ...,\n         1.43771935e-06, 1.43772079e-06, 1.43772223e-06],\n        ...,\n        [8.43175759e-08, 8.43178543e-08, 8.43181328e-08, ...,\n         8.41448190e-08, 8.41443043e-08, 8.41437896e-08],\n        [8.42312354e-08, 8.42315143e-08, 8.42317931e-08, ...,\n         8.40579165e-08, 8.40574008e-08, 8.40568850e-08],\n        [8.41449074e-08, 8.41451865e-08, 8.41454657e-08, ...,\n         8.39710273e-08, 8.39705106e-08, 8.39699938e-08]]])\nCoordinates:\n  * profiles  (profiles) &lt;U11 &#x27;beta&#x27; &#x27;sigma&#x27; &#x27;att_bsc_mol&#x27;\n  * Height    (Height) float64 0.3078 0.3152 0.3227 0.3302 ... 22.7 22.71 22.71\n  * Time      (Time) datetime64[ns] 2017-09-01 ... 2017-09-01T23:59:30</pre><div class='xr-wrap' hidden><div class='xr-header'><div class='xr-obj-type'>xarray.DataArray</div><div class='xr-array-name'>'molecular'</div><ul class='xr-dim-list'><li><span class='xr-has-index'>profiles</span>: 3</li><li><span class='xr-has-index'>Height</span>: 3000</li><li><span class='xr-has-index'>Time</span>: 2880</li></ul></div><ul class='xr-sections'><li class='xr-section-item'><div class='xr-array-wrap'><input id='section-9a8fc19a-6e52-4398-8727-1b2f95ac23b1' class='xr-array-in' type='checkbox' checked><label for='section-9a8fc19a-6e52-4398-8727-1b2f95ac23b1' title='Show/hide data repr'><svg class='icon xr-icon-database'><use xlink:href='#icon-database'></use></svg></label><div class='xr-array-preview xr-preview'><span>1.439e-06 1.439e-06 1.439e-06 ... 8.397e-08 8.397e-08 8.397e-08</span></div><div class='xr-array-data'><pre>array([[[1.43876581e-06, 1.43876355e-06, 1.43876129e-06, ...,\n         1.43152413e-06, 1.43152573e-06, 1.43152734e-06],\n        [1.43790604e-06, 1.43790375e-06, 1.43790147e-06, ...,\n         1.43063545e-06, 1.43063697e-06, 1.43063848e-06],\n        [1.43704599e-06, 1.43704369e-06, 1.43704139e-06, ...,\n         1.42974639e-06, 1.42974782e-06, 1.42974924e-06],\n        ...,\n        [8.38648559e-08, 8.38651337e-08, 8.38654115e-08, ...,\n         8.36953909e-08, 8.36948784e-08, 8.36943660e-08],\n        [8.37789800e-08, 8.37792581e-08, 8.37795362e-08, ...,\n         8.36089534e-08, 8.36084399e-08, 8.36079264e-08],\n        [8.36931164e-08, 8.36933948e-08, 8.36936732e-08, ...,\n         8.35225293e-08, 8.35220147e-08, 8.35215002e-08]],\n\n       [[1.22213220e-05, 1.22213023e-05, 1.22212825e-05, ...,\n         1.21590354e-05, 1.21590491e-05, 1.21590627e-05],\n        [1.22140184e-05, 1.22139984e-05, 1.22139784e-05, ...,\n         1.21514925e-05, 1.21515054e-05, 1.21515183e-05],\n        [1.22067123e-05, 1.22066922e-05, 1.22066721e-05, ...,\n         1.21439463e-05, 1.21439585e-05, 1.21439706e-05],\n...\n        [7.12568384e-07, 7.12570744e-07, 7.12573104e-07, ...,\n         7.11128503e-07, 7.11124149e-07, 7.11119794e-07],\n        [7.11838728e-07, 7.11841091e-07, 7.11843454e-07, ...,\n         7.10394076e-07, 7.10389713e-07, 7.10385350e-07],\n        [7.11109177e-07, 7.11111543e-07, 7.11113908e-07, ...,\n         7.09659762e-07, 7.09655390e-07, 7.09651018e-07]],\n\n       [[1.44683080e-06, 1.44682852e-06, 1.44682623e-06, ...,\n         1.43950752e-06, 1.43950914e-06, 1.43951077e-06],\n        [1.44596595e-06, 1.44596364e-06, 1.44596133e-06, ...,\n         1.43861363e-06, 1.43861516e-06, 1.43861669e-06],\n        [1.44510082e-06, 1.44509849e-06, 1.44509616e-06, ...,\n         1.43771935e-06, 1.43772079e-06, 1.43772223e-06],\n        ...,\n        [8.43175759e-08, 8.43178543e-08, 8.43181328e-08, ...,\n         8.41448190e-08, 8.41443043e-08, 8.41437896e-08],\n        [8.42312354e-08, 8.42315143e-08, 8.42317931e-08, ...,\n         8.40579165e-08, 8.40574008e-08, 8.40568850e-08],\n        [8.41449074e-08, 8.41451865e-08, 8.41454657e-08, ...,\n         8.39710273e-08, 8.39705106e-08, 8.39699938e-08]]])</pre></div></div></li><li class='xr-section-item'><input id='section-48b4bc25-8905-4dab-8468-06b7d6aa2a0a' class='xr-section-summary-in' type='checkbox'  checked><label for='section-48b4bc25-8905-4dab-8468-06b7d6aa2a0a' class='xr-section-summary' >Coordinates: <span>(3)</span></label><div class='xr-section-inline-details'></div><div class='xr-section-details'><ul class='xr-var-list'><li class='xr-var-item'><div class='xr-var-name'><span class='xr-has-index'>profiles</span></div><div class='xr-var-dims'>(profiles)</div><div class='xr-var-dtype'>&lt;U11</div><div class='xr-var-preview xr-preview'>&#x27;beta&#x27; &#x27;sigma&#x27; &#x27;att_bsc_mol&#x27;</div><input id='attrs-a6463abe-5135-4ff2-9b79-ff870cd08243' class='xr-var-attrs-in' type='checkbox' disabled><label for='attrs-a6463abe-5135-4ff2-9b79-ff870cd08243' title='Show/Hide attributes'><svg class='icon xr-icon-file-text2'><use xlink:href='#icon-file-text2'></use></svg></label><input id='data-25ac4b87-5be5-45fe-ad75-49db3e4c9f92' class='xr-var-data-in' type='checkbox'><label for='data-25ac4b87-5be5-45fe-ad75-49db3e4c9f92' title='Show/Hide data repr'><svg class='icon xr-icon-database'><use xlink:href='#icon-database'></use></svg></label><div class='xr-var-attrs'><dl class='xr-attrs'></dl></div><div class='xr-var-data'><pre>array([&#x27;beta&#x27;, &#x27;sigma&#x27;, &#x27;att_bsc_mol&#x27;], dtype=&#x27;&lt;U11&#x27;)</pre></div></li><li class='xr-var-item'><div class='xr-var-name'><span class='xr-has-index'>Height</span></div><div class='xr-var-dims'>(Height)</div><div class='xr-var-dtype'>float64</div><div class='xr-var-preview xr-preview'>0.3078 0.3152 ... 22.71 22.71</div><input id='attrs-55f26d22-06e4-4ace-b134-292336eec026' class='xr-var-attrs-in' type='checkbox' disabled><label for='attrs-55f26d22-06e4-4ace-b134-292336eec026' title='Show/Hide attributes'><svg class='icon xr-icon-file-text2'><use xlink:href='#icon-file-text2'></use></svg></label><input id='data-0c9d7b3d-ce0d-4945-9e04-cafdc546e34a' class='xr-var-data-in' type='checkbox'><label for='data-0c9d7b3d-ce0d-4945-9e04-cafdc546e34a' title='Show/Hide data repr'><svg class='icon xr-icon-database'><use xlink:href='#icon-database'></use></svg></label><div class='xr-var-attrs'><dl class='xr-attrs'></dl></div><div class='xr-var-data'><pre>array([ 0.30775 ,  0.315221,  0.322693, ..., 22.699717, 22.707189, 22.71466 ])</pre></div></li><li class='xr-var-item'><div class='xr-var-name'><span class='xr-has-index'>Time</span></div><div class='xr-var-dims'>(Time)</div><div class='xr-var-dtype'>datetime64[ns]</div><div class='xr-var-preview xr-preview'>2017-09-01 ... 2017-09-01T23:59:30</div><input id='attrs-ddb72136-763c-44ca-9d1a-8ac4a81f5faf' class='xr-var-attrs-in' type='checkbox' disabled><label for='attrs-ddb72136-763c-44ca-9d1a-8ac4a81f5faf' title='Show/Hide attributes'><svg class='icon xr-icon-file-text2'><use xlink:href='#icon-file-text2'></use></svg></label><input id='data-9fbd3c72-b934-4bee-a72f-7d18cde5b517' class='xr-var-data-in' type='checkbox'><label for='data-9fbd3c72-b934-4bee-a72f-7d18cde5b517' title='Show/Hide data repr'><svg class='icon xr-icon-database'><use xlink:href='#icon-database'></use></svg></label><div class='xr-var-attrs'><dl class='xr-attrs'></dl></div><div class='xr-var-data'><pre>array([&#x27;2017-09-01T00:00:00.000000000&#x27;, &#x27;2017-09-01T00:00:30.000000000&#x27;,\n       &#x27;2017-09-01T00:01:00.000000000&#x27;, ..., &#x27;2017-09-01T23:58:30.000000000&#x27;,\n       &#x27;2017-09-01T23:59:00.000000000&#x27;, &#x27;2017-09-01T23:59:30.000000000&#x27;],\n      dtype=&#x27;datetime64[ns]&#x27;)</pre></div></li></ul></div></li><li class='xr-section-item'><input id='section-1348b6aa-174d-408f-a8bd-00b5c0017ba7' class='xr-section-summary-in' type='checkbox' disabled ><label for='section-1348b6aa-174d-408f-a8bd-00b5c0017ba7' class='xr-section-summary'  title='Expand/collapse section'>Attributes: <span>(0)</span></label><div class='xr-section-inline-details'></div><div class='xr-section-details'><dl class='xr-attrs'></dl></div></li></ul></div></div>"
     },
     "execution_count": 18,
     "metadata": {},
     "output_type": "execute_result"
    }
   ],
   "source": [
    "print('df_mol')\n",
    "lambda_nm = gs.LAMBDA_nm().G\n",
    "haifa_station = gs.station()\n",
    "mol_df,mol_xr = generate_daily_att_bsc_mol( haifa_station, day_date, lambda_nm,time_res='30S')\n",
    "mol_xr"
   ],
   "metadata": {
    "collapsed": false,
    "pycharm": {
     "name": "#%%\n"
    }
   }
  },
  {
   "cell_type": "code",
   "execution_count": 9,
   "outputs": [
    {
     "data": {
      "text/plain": "<Figure size 1152x1080 with 2 Axes>",
      "image/png": "[encoded data removed]"
     },
     "metadata": {
      "needs_background": "light"
     },
     "output_type": "display_data"
    }
   ],
   "source": [
    "cur_df= mol_df\n",
    "x_lims = mdates.date2num([cur_df.columns[0],cur_df.columns[-1]])\n",
    "y_lims = [cur_df.index[0]*1E-3, cur_df.index[-1]*1E-3]\n",
    "extent = [x_lims[0],x_lims[1],y_lims[0],y_lims[1] ]\n",
    "fig, ax = plt.subplots(figsize=(16,15))\n",
    "im = ax.imshow(cur_df, origin='lower',aspect='auto',cmap = 'turbo',\n",
    "               extent=extent)#[0,2779,interp_sigma_df.index[0], interp_sigma_df.index[-1]])\n",
    "\n",
    "ax.set_ylabel('Altitude [km]',fontsize = 24)\n",
    "ax.set_xlabel('Time',fontsize = 24)\n",
    "plt.rc('xtick',labelsize = 18)\n",
    "plt.rc('ytick',labelsize = 18)\n",
    "fig.colorbar(im,ax= ax)\n",
    "ax.xaxis_date()\n",
    "ax.get_xaxis().set_major_locator(mdates.MinuteLocator(interval=120))\n",
    "xfmt = mdates.DateFormatter('%H:%M')\n",
    "ax.xaxis.set_major_formatter(xfmt)\n",
    "fig.tight_layout()\n",
    "plt.show()"
   ],
   "metadata": {
    "collapsed": false,
    "pycharm": {
     "name": "#%% Visualise att_bsc (range corrected molecular signal without p_const)\n"
    }
   }
  },
  {
   "cell_type": "code",
   "execution_count": 10,
   "outputs": [],
   "source": [
    "# TODO: generate daily molecular mol_df - for several days\n",
    "# TODO: validate units of height, speed of light, sigma and beta !!! (km or m)\n",
    "# TODO: define attributes of mol_xr\n",
    "# TODO: create xarray to a daily molecular profile for three channels (UV,G,IR)\n",
    "# TODO: convert from xarray to pytorch\n",
    "# TODO: save xarray as netcd file\n",
    "# TODO: create table of profiles (for the data loader)\n",
    "\n",
    "# TODO: Create samples of 30 min acording to 'profiles' times\n",
    "# for the followings :\n",
    "# X = {lidar measurement (range corrected) molecular (range corrected)}\n",
    "# Y = {lidar const, reference height [min,max]}\n",
    "\n",
    "## AERONET : https://aeronet.gsfc.nasa.gov/cgi-bin/data_display_aod_v3?site=Technion_Haifa_IL&nachal=0&year=2017&month=5&day=19&aero_water=0&level=3&if_day=0&if_err=0&place_code=10&DATA_TYPE=-999&year_or_month=3\n",
    "## it is possible to merge with Terra MODIS or Aqua MODIS -\n",
    "# / TODO: locate the function that does donwload of sunphotometer data to cameranetwork (maybe Shubi knows this)\n",
    "# / TODO: ask about the relevant product from MODIS to our porpose.\n",
    "\n"
   ],
   "metadata": {
    "collapsed": false,
    "pycharm": {
     "name": "#%% TODOS:\n"
    }
   }
  },
  {
   "cell_type": "code",
   "execution_count": 11,
   "outputs": [
    {
     "data": {
      "text/plain": "['H:\\\\data_haifa\\\\DATA FROM TROPOS\\\\data\\\\level1a\\\\PollyXT_TROPOS\\\\2017\\\\09\\\\01\\\\2017_09_01_Fri_TROPOS_00_00_01_0000_0059_profiles.nc',\n 'H:\\\\data_haifa\\\\DATA FROM TROPOS\\\\data\\\\level1a\\\\PollyXT_TROPOS\\\\2017\\\\09\\\\01\\\\2017_09_01_Fri_TROPOS_00_00_01_0134_0308_profiles.nc',\n 'H:\\\\data_haifa\\\\DATA FROM TROPOS\\\\data\\\\level1a\\\\PollyXT_TROPOS\\\\2017\\\\09\\\\01\\\\2017_09_01_Fri_TROPOS_00_00_01_0309_0442_profiles.nc',\n 'H:\\\\data_haifa\\\\DATA FROM TROPOS\\\\data\\\\level1a\\\\PollyXT_TROPOS\\\\2017\\\\09\\\\01\\\\2017_09_01_Fri_TROPOS_06_00_01_0905_0957_profiles.nc',\n 'H:\\\\data_haifa\\\\DATA FROM TROPOS\\\\data\\\\level1a\\\\PollyXT_TROPOS\\\\2017\\\\09\\\\01\\\\2017_09_01_Fri_TROPOS_18_00_01_1800_1859_profiles.nc',\n 'H:\\\\data_haifa\\\\DATA FROM TROPOS\\\\data\\\\level1a\\\\PollyXT_TROPOS\\\\2017\\\\09\\\\01\\\\2017_09_01_Fri_TROPOS_18_00_01_1900_2010_profiles.nc',\n 'H:\\\\data_haifa\\\\DATA FROM TROPOS\\\\data\\\\level1a\\\\PollyXT_TROPOS\\\\2017\\\\09\\\\01\\\\2017_09_01_Fri_TROPOS_18_00_01_2013_2113_profiles.nc',\n 'H:\\\\data_haifa\\\\DATA FROM TROPOS\\\\data\\\\level1a\\\\PollyXT_TROPOS\\\\2017\\\\09\\\\01\\\\2017_09_01_Fri_TROPOS_18_00_01_2113_2200_profiles.nc',\n 'H:\\\\data_haifa\\\\DATA FROM TROPOS\\\\data\\\\level1a\\\\PollyXT_TROPOS\\\\2017\\\\09\\\\01\\\\2017_09_01_Fri_TROPOS_18_00_01_2210_2309_profiles.nc',\n 'H:\\\\data_haifa\\\\DATA FROM TROPOS\\\\data\\\\level1a\\\\PollyXT_TROPOS\\\\2017\\\\09\\\\01\\\\2017_09_01_Fri_TROPOS_18_00_01_2310_2359_profiles.nc']"
     },
     "execution_count": 11,
     "metadata": {},
     "output_type": "execute_result"
    }
   ],
   "source": [
    "bsc_paths, profile_paths = prep.load_att_bsc(lidar_parent_folder, day_date)\n",
    "bsc_paths\n",
    "profile_paths"
   ],
   "metadata": {
    "collapsed": false,
    "pycharm": {
     "name": "#%% Load netcdf file of the attenuation backscatter profile (att_bsc.nc)\n"
    }
   }
  }
 ],
 "metadata": {
  "kernelspec": {
   "name": "lidar",
   "language": "python",
   "display_name": "lidar"
  },
  "language_info": {
   "codemirror_mode": {
    "name": "ipython",
    "version": 2
   },
   "file_extension": ".py",
   "mimetype": "text/x-python",
   "name": "python",
   "nbconvert_exporter": "python",
   "pygments_lexer": "ipython2",
   "version": "2.7.6"
  }
 },
 "nbformat": 4,
 "nbformat_minor": 0
}