{
 "cells": [
  {
   "cell_type": "code",
   "execution_count": 19,
   "outputs": [],
   "source": [],
   "metadata": {
    "collapsed": false,
    "pycharm": {
     "name": "#%%\n"
    }
   }
  },
  {
   "cell_type": "code",
   "execution_count": 20,
   "outputs": [],
   "source": [
    "\n",
    "import os,sys\n",
    "import numpy as np\n",
    "import scipy as sp\n",
    "import pandas as pd\n",
    "#from netCDF4 import Dataset\n",
    "import matplotlib\n",
    "import matplotlib.pyplot as plt\n",
    "%matplotlib inline\n",
    "from datetime import datetime, timedelta, time\n",
    "import glob\n",
    "from generate_atmosphere import LidarProfile,RadiosondeProfile\n",
    "import miscLidar as mscLid\n",
    "from molecular import rayleigh_scattering\n",
    "import global_settings as gs\n",
    "import pandas as pd\n",
    "#import ARLreader as Ar\n",
    "import preprocessing as prep\n",
    "import matplotlib.dates as mdates"
   ],
   "metadata": {
    "collapsed": false,
    "pycharm": {
     "name": "#%% Imports\n"
    }
   }
  },
  {
   "cell_type": "code",
   "execution_count": 21,
   "outputs": [
    {
     "data": {
      "text/plain": "'\\ndef gdas2radiosonde(src_file,dst_file,\\n        col_names = [\\'PRES\\',\\'HGHT\\',\\'TEMP\\',\\'UWND\\',\\n                     \\'VWND\\',\\'WWND\\',\\'RELH\\',\\'TPOT\\',\\'WDIR\\',\\'WSPD\\']):\\n\\t\"\"\"\\n\\tHelper function that converts a gdas file from TROPOS server, to a simple txt.\\n\\tThe resulting file is without any prior info, and resembles the table format\\n\\tof a radiosonde file (see class: RadiosondeProfile)\\n\\t:param src_file: source file name\\n\\t:param dst_file: destination file name\\n\\t:param col_names: column names of the final table\\n\\t\"\"\"\\n\\timport pandas as pd\\n\\tfrom pandas.api.types import is_numeric_dtype\\n\\n\\tdata_src = pd.read_fwf(src_file,skiprows=[0,1,2,3,4,5,6,8],\\n\\t                       delimiter=\"\\\\s+\",skipinitialspace=True).dropna()\\n\\t# converting any kind of blanc spaces to zeros\\n\\tfor col in data_src.columns:\\n\\t\\tif not is_numeric_dtype(data_src[col]):\\n\\t\\t\\tdata_src[col]= pd.core.strings.str_strip(data_src[col])\\n\\t\\t\\tdata_src[col]= data_src[col].replace(\\'\\',\\'0\\').astype(\\'float64\\')\\n\\tdata_src.columns = col_names\\n\\tdata_src.to_csv(dst_file,index=False,sep=\\'\\t\\',na_rep=\\'\\t\\')\\n\\t# TODO: add warning if failed\\ndef extract_date_time(path,format_filename,format_times):\\n\\t# Extracting datetime from file name using a formatter string.\\n\\t#\\n\\t# Usage:\\n\\t# create a formatter string: format_filename=  r\\'-(.*)_(.*)-(.*)-.*.txt\\'\\n\\t# Call the function:        f time_stamp = extract_date_time(soundePath,r\\'40179_(.*).txt\\',[\\'%Y%m%d_%H\\'])\\n\\t# Output:\\n\\t#       time_stamps - A list of datetime objects\\n\\timport re\\n\\tfilename = os.path.basename(path)\\n\\t#print(filename)\\n\\tmatchObj = re.match(format_filename, filename, re.M|re.I)\\n\\t# print(matchObj)\\n\\ttime_stamps=[]\\n\\tfor fmt_time,grp in zip(format_times,matchObj.groups()):\\n\\t\\ttime_stamps.append(datetime.strptime(grp,fmt_time))\\n\\treturn time_stamps\\ndef calc_sigma_profile_df(row,lambda_um = 532.0,indx_n= \\'sigma\\'):\\n\\t\"\"\"\\n\\tReturns pd series of extinction profile [1/m] from a radiosonde dataframe containing the\\n\\tcolumns:[\\'PRES\\',\\'TEMPS\\',RELHS]. The function applies on rows of the radiosonde df.\\n\\t:param row: row of radiosonde df\\n\\t:param lambda_um: wavelength in [um], e.g, for green lambda_um = 532.0 [um]\\n\\t:param indx_n: index name, the column name of the result. The default is \\'sigma\\'\\n\\tbut could be useful to get profiles for several hours each have a different index name\\n\\t(e.g., datetime object of measuring time of the radiosonde as datetime.datetime(2017, 9, 2, 0, 0))\\n\\t:return: pd series of extinction profile [1/m]\\n\\t\"\"\"\\n\\treturn pd.Series([rayleigh_scattering.alpha_rayleigh(wavelength= lambda_um,\\n\\t                                       pressure=row[\\'PRES\\'],\\n\\t                                       temperature=row[\\'TEMPS\\'],\\n\\t                                       C=385.0, rh=row[\\'RELHS\\'])],index=[indx_n])\\ndef calc_beta_profile_df(row,lambda_um = 532.0,ind_n= \\'beta\\'):\\n\\t\"\"\"\\n\\tReturns pd series of backscatter profile from a radiosonde dataframe containing the\\n\\tcolumns:[\\'PRES\\',\\'TEMPS\\',RELHS]. The function applies on rows of the radiosonde df.\\n\\t:param row: row of radiosonde df\\n\\t:param lambda_um: wavelength in [um], e.g, for green lambda_um = 532.0 [um]\\n\\t:param indx_n: index name, the column name of the result. The default is \\'beta\\'\\n\\tbut could be useful to get profiles for several hours each have a different index name\\n\\t(e.g., datetime object of measuring time of the radiosonde as datetime.datetime(2017, 9, 2, 0, 0))\\n\\t:return: pd series of backscatter profile [1/sr*m]\\n\\t\"\"\"\\n\\treturn pd.Series([rayleigh_scattering.beta_pi_rayleigh(wavelength= lambda_um,\\n\\t                                       pressure=row[\\'PRES\\'],\\n\\t                                       temperature=row[\\'TEMPS\\'],\\n\\t                                       C=385.0, rh=row[\\'RELHS\\'])],index=[ind_n])\\n'"
     },
     "execution_count": 21,
     "metadata": {},
     "output_type": "execute_result"
    }
   ],
   "source": [
    "'''\n",
    "def gdas2radiosonde(src_file,dst_file,\n",
    "        col_names = ['PRES','HGHT','TEMP','UWND',\n",
    "                     'VWND','WWND','RELH','TPOT','WDIR','WSPD']):\n",
    "\t\"\"\"\n",
    "\tHelper function that converts a gdas file from TROPOS server, to a simple txt.\n",
    "\tThe resulting file is without any prior info, and resembles the table format\n",
    "\tof a radiosonde file (see class: RadiosondeProfile)\n",
    "\t:param src_file: source file name\n",
    "\t:param dst_file: destination file name\n",
    "\t:param col_names: column names of the final table\n",
    "\t\"\"\"\n",
    "\timport pandas as pd\n",
    "\tfrom pandas.api.types import is_numeric_dtype\n",
    "\n",
    "\tdata_src = pd.read_fwf(src_file,skiprows=[0,1,2,3,4,5,6,8],\n",
    "\t                       delimiter=\"\\s+\",skipinitialspace=True).dropna()\n",
    "\t# converting any kind of blanc spaces to zeros\n",
    "\tfor col in data_src.columns:\n",
    "\t\tif not is_numeric_dtype(data_src[col]):\n",
    "\t\t\tdata_src[col]= pd.core.strings.str_strip(data_src[col])\n",
    "\t\t\tdata_src[col]= data_src[col].replace('','0').astype('float64')\n",
    "\tdata_src.columns = col_names\n",
    "\tdata_src.to_csv(dst_file,index=False,sep='\\t',na_rep='\\t')\n",
    "\t# TODO: add warning if failed\n",
    "def extract_date_time(path,format_filename,format_times):\n",
    "\t# Extracting datetime from file name using a formatter string.\n",
    "\t#\n",
    "\t# Usage:\n",
    "\t# create a formatter string: format_filename=  r'-(.*)_(.*)-(.*)-.*.txt'\n",
    "\t# Call the function:        f time_stamp = extract_date_time(soundePath,r'40179_(.*).txt',['%Y%m%d_%H'])\n",
    "\t# Output:\n",
    "\t#       time_stamps - A list of datetime objects\n",
    "\timport re\n",
    "\tfilename = os.path.basename(path)\n",
    "\t#print(filename)\n",
    "\tmatchObj = re.match(format_filename, filename, re.M|re.I)\n",
    "\t# print(matchObj)\n",
    "\ttime_stamps=[]\n",
    "\tfor fmt_time,grp in zip(format_times,matchObj.groups()):\n",
    "\t\ttime_stamps.append(datetime.strptime(grp,fmt_time))\n",
    "\treturn time_stamps\n",
    "def calc_sigma_profile_df(row,lambda_um = 532.0,indx_n= 'sigma'):\n",
    "\t\"\"\"\n",
    "\tReturns pd series of extinction profile [1/m] from a radiosonde dataframe containing the\n",
    "\tcolumns:['PRES','TEMPS',RELHS]. The function applies on rows of the radiosonde df.\n",
    "\t:param row: row of radiosonde df\n",
    "\t:param lambda_um: wavelength in [um], e.g, for green lambda_um = 532.0 [um]\n",
    "\t:param indx_n: index name, the column name of the result. The default is 'sigma'\n",
    "\tbut could be useful to get profiles for several hours each have a different index name\n",
    "\t(e.g., datetime object of measuring time of the radiosonde as datetime.datetime(2017, 9, 2, 0, 0))\n",
    "\t:return: pd series of extinction profile [1/m]\n",
    "\t\"\"\"\n",
    "\treturn pd.Series([rayleigh_scattering.alpha_rayleigh(wavelength= lambda_um,\n",
    "\t                                       pressure=row['PRES'],\n",
    "\t                                       temperature=row['TEMPS'],\n",
    "\t                                       C=385.0, rh=row['RELHS'])],index=[indx_n])\n",
    "def calc_beta_profile_df(row,lambda_um = 532.0,ind_n= 'beta'):\n",
    "\t\"\"\"\n",
    "\tReturns pd series of backscatter profile from a radiosonde dataframe containing the\n",
    "\tcolumns:['PRES','TEMPS',RELHS]. The function applies on rows of the radiosonde df.\n",
    "\t:param row: row of radiosonde df\n",
    "\t:param lambda_um: wavelength in [um], e.g, for green lambda_um = 532.0 [um]\n",
    "\t:param indx_n: index name, the column name of the result. The default is 'beta'\n",
    "\tbut could be useful to get profiles for several hours each have a different index name\n",
    "\t(e.g., datetime object of measuring time of the radiosonde as datetime.datetime(2017, 9, 2, 0, 0))\n",
    "\t:return: pd series of backscatter profile [1/sr*m]\n",
    "\t\"\"\"\n",
    "\treturn pd.Series([rayleigh_scattering.beta_pi_rayleigh(wavelength= lambda_um,\n",
    "\t                                       pressure=row['PRES'],\n",
    "\t                                       temperature=row['TEMPS'],\n",
    "\t                                       C=385.0, rh=row['RELHS'])],index=[ind_n])\n",
    "'''"
   ],
   "metadata": {
    "collapsed": false,
    "pycharm": {
     "name": "#%%  Helper functions\n"
    }
   }
  },
  {
   "cell_type": "code",
   "execution_count": 22,
   "outputs": [],
   "source": [
    "'''set day'''\n",
    "\n",
    "day_date = datetime(2017,9,1)\n",
    "\n",
    "'''Set paths to parents folder '''\n",
    "lidar_parent_folder = 'H:\\data_haifa\\DATA FROM TROPOS\\data\\level1a\\PollyXT_TROPOS'\n",
    "gdas_parent_folder = 'H:\\data_haifa\\DATA FROM TROPOS\\GDAS\\haifa'\n"
   ],
   "metadata": {
    "collapsed": false,
    "pycharm": {
     "name": "#%%\n"
    }
   }
  },
  {
   "cell_type": "code",
   "execution_count": 23,
   "outputs": [],
   "source": [
    "lidar_day_folder = os.path.join(lidar_parent_folder,day_date.strftime(\"%Y\\%m\\%d\"))\n",
    "os.listdir(lidar_day_folder)\n",
    "bsc_pattern = os.path.join(lidar_day_folder,\"*_att_bsc.nc\")\n",
    "bsc_paths = sorted(glob.glob(bsc_pattern))\n",
    "#bsc_paths\n",
    "profile_pattern = os.path.join(lidar_day_folder,\"*[0-9]_profiles.nc\")\n",
    "profile_paths = sorted(glob.glob(profile_pattern))\n",
    "#profile_paths\n"
   ],
   "metadata": {
    "collapsed": false,
    "pycharm": {
     "name": "#%% Load netcdf file of the attenuation backscatter profile (att_bsc.nc)\n"
    }
   }
  },
  {
   "cell_type": "code",
   "source": [
    "haifa_station = gs.station()\n",
    "#print(haifa_station.__dict__)\n",
    "src_folder =os.path.join(os.getcwd(),'data examples\\gdas')\n",
    "dst_folder = os.path.join(os.getcwd(),'data examples\\gdas_txt')\n",
    "gdas_dst_paths= prep.gdas_tropos2txt(day_date, haifa_station.location,\n",
    "                                   haifa_station.lat, haifa_station.lon,\n",
    "                                   src_folder, dst_folder)"
   ],
   "metadata": {
    "collapsed": false,
    "pycharm": {
     "name": "#%% Converting gdas files from TROPOS to txt\n"
    }
   },
   "execution_count": 24,
   "outputs": []
  },
  {
   "cell_type": "code",
   "source": [
    "'''set parameters'''\n",
    "lambda_um = gs.LAMBDA_um().G\n",
    "location = haifa_station.location\n",
    "min_height_km = (1E-3)*(haifa_station.altitude + haifa_station.start_bin_height)\n",
    "top_height_km = (1E-3)*(haifa_station.altitude + haifa_station.end_bin_height)\n",
    "\n",
    "df_sigma, df_beta = prep.generate_daily_molecular_profile(\n",
    "\tgdas_dst_paths,lambda_um,haifa_station.location, haifa_station.lat,\n",
    "\thaifa_station.lon,min_height_km , top_height_km,haifa_station.n_bins)\n",
    "\n",
    "df_sigma"
   ],
   "metadata": {
    "collapsed": false,
    "pycharm": {
     "name": "#%% Generate daily molecular profiles from the converted files (above)\n"
    }
   },
   "execution_count": 25,
   "outputs": [
    {
     "data": {
      "text/plain": "           2017-09-01 00:00:00  2017-09-01 03:00:00  2017-09-01 06:00:00  \\\n0.307750          1.222132e-05         1.221421e-05         1.219077e-05   \n0.315221          1.221402e-05         1.220682e-05         1.218334e-05   \n0.322693          1.220671e-05         1.219947e-05         1.217588e-05   \n0.330164          1.219940e-05         1.219212e-05         1.216842e-05   \n0.337636          1.219209e-05         1.218476e-05         1.216096e-05   \n...                        ...                  ...                  ...   \n22.684774         7.140280e-07         7.148756e-07         7.163237e-07   \n22.692246         7.132981e-07         7.141467e-07         7.155945e-07   \n22.699717         7.125684e-07         7.134180e-07         7.148654e-07   \n22.707189         7.118387e-07         7.126894e-07         7.141364e-07   \n22.714660         7.111092e-07         7.119608e-07         7.134075e-07   \n\n           2017-09-01 09:00:00  2017-09-01 12:00:00  2017-09-01 15:00:00  \\\n0.307750          1.216900e-05         1.215608e-05         1.214148e-05   \n0.315221          1.216172e-05         1.214879e-05         1.213427e-05   \n0.322693          1.215442e-05         1.214149e-05         1.212705e-05   \n0.330164          1.214713e-05         1.213418e-05         1.211983e-05   \n0.337636          1.213983e-05         1.212688e-05         1.211260e-05   \n...                        ...                  ...                  ...   \n22.684774         7.162552e-07         7.142508e-07         7.143293e-07   \n22.692246         7.155249e-07         7.135222e-07         7.136011e-07   \n22.699717         7.147947e-07         7.127937e-07         7.128729e-07   \n22.707189         7.140646e-07         7.120652e-07         7.121449e-07   \n22.714660         7.133346e-07         7.113369e-07         7.114169e-07   \n\n           2017-09-01 18:00:00  2017-09-01 21:00:00  2017-09-02 00:00:00  \n0.307750          1.214498e-05         1.215416e-05         1.215908e-05  \n0.315221          1.213771e-05         1.214688e-05         1.215153e-05  \n0.322693          1.213043e-05         1.213961e-05         1.214398e-05  \n0.330164          1.212315e-05         1.213233e-05         1.213643e-05  \n0.337636          1.211587e-05         1.212505e-05         1.212888e-05  \n...                        ...                  ...                  ...  \n22.684774         7.141014e-07         7.141460e-07         7.125847e-07  \n22.692246         7.133720e-07         7.134145e-07         7.118500e-07  \n22.699717         7.126427e-07         7.126830e-07         7.111154e-07  \n22.707189         7.119135e-07         7.119517e-07         7.103810e-07  \n22.714660         7.111845e-07         7.112205e-07         7.096466e-07  \n\n[3000 rows x 9 columns]",
      "text/html": "<div>\n<style scoped>\n    .dataframe tbody tr th:only-of-type {\n        vertical-align: middle;\n    }\n\n    .dataframe tbody tr th {\n        vertical-align: top;\n    }\n\n    .dataframe thead th {\n        text-align: right;\n    }\n</style>\n<table border=\"1\" class=\"dataframe\">\n  <thead>\n    <tr style=\"text-align: right;\">\n      <th></th>\n      <th>2017-09-01 00:00:00</th>\n      <th>2017-09-01 03:00:00</th>\n      <th>2017-09-01 06:00:00</th>\n      <th>2017-09-01 09:00:00</th>\n      <th>2017-09-01 12:00:00</th>\n      <th>2017-09-01 15:00:00</th>\n      <th>2017-09-01 18:00:00</th>\n      <th>2017-09-01 21:00:00</th>\n      <th>2017-09-02 00:00:00</th>\n    </tr>\n  </thead>\n  <tbody>\n    <tr>\n      <th>0.307750</th>\n      <td>1.222132e-05</td>\n      <td>1.221421e-05</td>\n      <td>1.219077e-05</td>\n      <td>1.216900e-05</td>\n      <td>1.215608e-05</td>\n      <td>1.214148e-05</td>\n      <td>1.214498e-05</td>\n      <td>1.215416e-05</td>\n      <td>1.215908e-05</td>\n    </tr>\n    <tr>\n      <th>0.315221</th>\n      <td>1.221402e-05</td>\n      <td>1.220682e-05</td>\n      <td>1.218334e-05</td>\n      <td>1.216172e-05</td>\n      <td>1.214879e-05</td>\n      <td>1.213427e-05</td>\n      <td>1.213771e-05</td>\n      <td>1.214688e-05</td>\n      <td>1.215153e-05</td>\n    </tr>\n    <tr>\n      <th>0.322693</th>\n      <td>1.220671e-05</td>\n      <td>1.219947e-05</td>\n      <td>1.217588e-05</td>\n      <td>1.215442e-05</td>\n      <td>1.214149e-05</td>\n      <td>1.212705e-05</td>\n      <td>1.213043e-05</td>\n      <td>1.213961e-05</td>\n      <td>1.214398e-05</td>\n    </tr>\n    <tr>\n      <th>0.330164</th>\n      <td>1.219940e-05</td>\n      <td>1.219212e-05</td>\n      <td>1.216842e-05</td>\n      <td>1.214713e-05</td>\n      <td>1.213418e-05</td>\n      <td>1.211983e-05</td>\n      <td>1.212315e-05</td>\n      <td>1.213233e-05</td>\n      <td>1.213643e-05</td>\n    </tr>\n    <tr>\n      <th>0.337636</th>\n      <td>1.219209e-05</td>\n      <td>1.218476e-05</td>\n      <td>1.216096e-05</td>\n      <td>1.213983e-05</td>\n      <td>1.212688e-05</td>\n      <td>1.211260e-05</td>\n      <td>1.211587e-05</td>\n      <td>1.212505e-05</td>\n      <td>1.212888e-05</td>\n    </tr>\n    <tr>\n      <th>...</th>\n      <td>...</td>\n      <td>...</td>\n      <td>...</td>\n      <td>...</td>\n      <td>...</td>\n      <td>...</td>\n      <td>...</td>\n      <td>...</td>\n      <td>...</td>\n    </tr>\n    <tr>\n      <th>22.684774</th>\n      <td>7.140280e-07</td>\n      <td>7.148756e-07</td>\n      <td>7.163237e-07</td>\n      <td>7.162552e-07</td>\n      <td>7.142508e-07</td>\n      <td>7.143293e-07</td>\n      <td>7.141014e-07</td>\n      <td>7.141460e-07</td>\n      <td>7.125847e-07</td>\n    </tr>\n    <tr>\n      <th>22.692246</th>\n      <td>7.132981e-07</td>\n      <td>7.141467e-07</td>\n      <td>7.155945e-07</td>\n      <td>7.155249e-07</td>\n      <td>7.135222e-07</td>\n      <td>7.136011e-07</td>\n      <td>7.133720e-07</td>\n      <td>7.134145e-07</td>\n      <td>7.118500e-07</td>\n    </tr>\n    <tr>\n      <th>22.699717</th>\n      <td>7.125684e-07</td>\n      <td>7.134180e-07</td>\n      <td>7.148654e-07</td>\n      <td>7.147947e-07</td>\n      <td>7.127937e-07</td>\n      <td>7.128729e-07</td>\n      <td>7.126427e-07</td>\n      <td>7.126830e-07</td>\n      <td>7.111154e-07</td>\n    </tr>\n    <tr>\n      <th>22.707189</th>\n      <td>7.118387e-07</td>\n      <td>7.126894e-07</td>\n      <td>7.141364e-07</td>\n      <td>7.140646e-07</td>\n      <td>7.120652e-07</td>\n      <td>7.121449e-07</td>\n      <td>7.119135e-07</td>\n      <td>7.119517e-07</td>\n      <td>7.103810e-07</td>\n    </tr>\n    <tr>\n      <th>22.714660</th>\n      <td>7.111092e-07</td>\n      <td>7.119608e-07</td>\n      <td>7.134075e-07</td>\n      <td>7.133346e-07</td>\n      <td>7.113369e-07</td>\n      <td>7.114169e-07</td>\n      <td>7.111845e-07</td>\n      <td>7.112205e-07</td>\n      <td>7.096466e-07</td>\n    </tr>\n  </tbody>\n</table>\n<p>3000 rows × 9 columns</p>\n</div>"
     },
     "execution_count": 25,
     "metadata": {},
     "output_type": "execute_result"
    }
   ]
  },
  {
   "cell_type": "code",
   "execution_count": 26,
   "outputs": [
    {
     "data": {
      "text/plain": "<Figure size 432x288 with 0 Axes>"
     },
     "metadata": {},
     "output_type": "display_data"
    },
    {
     "data": {
      "text/plain": "<Figure size 432x288 with 1 Axes>",
      "image/png": "[encoded data removed]"
     },
     "metadata": {
      "needs_background": "light"
     },
     "output_type": "display_data"
    }
   ],
   "source": [
    "plt.figure()\n",
    "df_beta.plot()\n",
    "plt.show()"
   ],
   "metadata": {
    "collapsed": false,
    "pycharm": {
     "name": "#%% Visualizing molecular profiles\n"
    }
   }
  },
  {
   "cell_type": "code",
   "execution_count": 32,
   "outputs": [],
   "source": [
    "def generate_att_bsc_mol(lambda_um, station, time_res='30S'):\n",
    "\t\"\"\"\t \"\"\"\n",
    "\n",
    "\t'''Load daily gdas profiles and convert to backscatter (beta) and extinction (sigma) profiles'''\n",
    "\tmin_height_km = (station.altitude + station.start_bin_height) * 1E-3\n",
    "\ttop_height_km = (station.altitude + station.end_bin_height) * 1E-3\n",
    "\n",
    "\tdf_sigma, df_beta = prep.generate_daily_molecular_profile(\n",
    "\t\tgdas_dst_paths,lambda_um,station.location, station.lat,\n",
    "\t\tstation.lon,min_height_km , top_height_km,station.n_bins)\n",
    "\n",
    "\t''' Interpolate profiles through 24 hrs'''\n",
    "\tinterp_sigma_df=(df_sigma.T.resample(time_res).interpolate(method='linear')[:-1]).T\n",
    "\tinterp_beta_df=(df_beta.T.resample(time_res).interpolate(method='linear')[:-1]).T\n",
    "\theights = np.linspace(station.altitude + station.start_bin_height,\n",
    "                      station.altitude + station.end_bin_height,\n",
    "                      station.n_bins)\n",
    "\tinterp_sigma_df.index = heights\n",
    "\tinterp_sigma_df.columns.freq = None\n",
    "\tinterp_beta_df.index = heights\n",
    "\tinterp_beta_df.columns.freq = None\n",
    "\n",
    "\t'''Calculate the molecular attenuated backscatter as :  beta_mol * exp(-2*tau_mol)'''\n",
    "\te_tau_df = interp_sigma_df.apply(prep.cal_e_tau_df,0,args=(haifa_station.altitude,),result_type='expand')\n",
    "\tatt_bsc_mol_df = interp_beta_df.multiply(e_tau_df)\n",
    "\n",
    "\n",
    "\timport xarray as xr\n",
    "\tmol_xr= xr.DataArray(data=[interp_beta_df,interp_sigma_df,att_bsc_mol_df],\n",
    "                     coords=[['beta','sigma','att_bsc_mol'],interp_beta_df.index,interp_beta_df.columns],\n",
    "                     dims = ['profiles','height','time'],\n",
    "                     name='molecular')#,interp_beta_df.index,interp_beta_df.columns )\n",
    "\n",
    "\n",
    "\n",
    "\treturn att_bsc_mol_df,mol_xr"
   ],
   "metadata": {
    "collapsed": false,
    "pycharm": {
     "name": "#%%\n"
    }
   }
  },
  {
   "cell_type": "code",
   "execution_count": 33,
   "outputs": [
    {
     "name": "stdout",
     "output_type": "stream",
     "text": [
      "df_mol\n"
     ]
    },
    {
     "ename": "AttributeError",
     "evalue": "module 'preprocessing' has no attribute 'cal_e_tau_df'",
     "output_type": "error",
     "traceback": [
      "\u001B[1;31m---------------------------------------------------------------------------\u001B[0m",
      "\u001B[1;31mAttributeError\u001B[0m                            Traceback (most recent call last)",
      "\u001B[1;32m<ipython-input-33-428ca49af648>\u001B[0m in \u001B[0;36m<module>\u001B[1;34m\u001B[0m\n\u001B[0;32m      2\u001B[0m \u001B[0mlambda_um\u001B[0m \u001B[1;33m=\u001B[0m \u001B[0mgs\u001B[0m\u001B[1;33m.\u001B[0m\u001B[0mLAMBDA_um\u001B[0m\u001B[1;33m(\u001B[0m\u001B[1;33m)\u001B[0m\u001B[1;33m.\u001B[0m\u001B[0mG\u001B[0m\u001B[1;33m\u001B[0m\u001B[1;33m\u001B[0m\u001B[0m\n\u001B[0;32m      3\u001B[0m \u001B[0mlocation\u001B[0m \u001B[1;33m=\u001B[0m \u001B[0mhaifa_station\u001B[0m\u001B[1;33m.\u001B[0m\u001B[0mlocation\u001B[0m\u001B[1;33m\u001B[0m\u001B[1;33m\u001B[0m\u001B[0m\n\u001B[1;32m----> 4\u001B[1;33m \u001B[0mmol_df\u001B[0m\u001B[1;33m,\u001B[0m\u001B[0mmol_xr\u001B[0m \u001B[1;33m=\u001B[0m \u001B[0mgenerate_att_bsc_mol\u001B[0m\u001B[1;33m(\u001B[0m\u001B[0mlambda_um\u001B[0m\u001B[1;33m,\u001B[0m \u001B[0mhaifa_station\u001B[0m\u001B[1;33m,\u001B[0m \u001B[0mtime_res\u001B[0m\u001B[1;33m=\u001B[0m\u001B[1;34m'30S'\u001B[0m\u001B[1;33m)\u001B[0m\u001B[1;33m\u001B[0m\u001B[1;33m\u001B[0m\u001B[0m\n\u001B[0m\u001B[0;32m      5\u001B[0m \u001B[0mmol_xr\u001B[0m\u001B[1;33m\u001B[0m\u001B[1;33m\u001B[0m\u001B[0m\n\u001B[0;32m      6\u001B[0m \u001B[1;33m\u001B[0m\u001B[0m\n",
      "\u001B[1;32m<ipython-input-32-5a9c718193da>\u001B[0m in \u001B[0;36mgenerate_att_bsc_mol\u001B[1;34m(lambda_um, station, time_res)\u001B[0m\n\u001B[0;32m     22\u001B[0m \u001B[1;33m\u001B[0m\u001B[0m\n\u001B[0;32m     23\u001B[0m         \u001B[1;34m'''Calculate the molecular attenuated backscatter as :  beta_mol * exp(-2*tau_mol)'''\u001B[0m\u001B[1;33m\u001B[0m\u001B[1;33m\u001B[0m\u001B[0m\n\u001B[1;32m---> 24\u001B[1;33m         \u001B[0me_tau_df\u001B[0m \u001B[1;33m=\u001B[0m \u001B[0minterp_sigma_df\u001B[0m\u001B[1;33m.\u001B[0m\u001B[0mapply\u001B[0m\u001B[1;33m(\u001B[0m\u001B[0mprep\u001B[0m\u001B[1;33m.\u001B[0m\u001B[0mcal_e_tau_df\u001B[0m\u001B[1;33m,\u001B[0m\u001B[1;36m0\u001B[0m\u001B[1;33m,\u001B[0m\u001B[0margs\u001B[0m\u001B[1;33m=\u001B[0m\u001B[1;33m(\u001B[0m\u001B[0mhaifa_station\u001B[0m\u001B[1;33m.\u001B[0m\u001B[0maltitude\u001B[0m\u001B[1;33m,\u001B[0m\u001B[1;33m)\u001B[0m\u001B[1;33m,\u001B[0m\u001B[0mresult_type\u001B[0m\u001B[1;33m=\u001B[0m\u001B[1;34m'expand'\u001B[0m\u001B[1;33m)\u001B[0m\u001B[1;33m\u001B[0m\u001B[1;33m\u001B[0m\u001B[0m\n\u001B[0m\u001B[0;32m     25\u001B[0m         \u001B[0matt_bsc_mol_df\u001B[0m \u001B[1;33m=\u001B[0m \u001B[0minterp_beta_df\u001B[0m\u001B[1;33m.\u001B[0m\u001B[0mmultiply\u001B[0m\u001B[1;33m(\u001B[0m\u001B[0me_tau_df\u001B[0m\u001B[1;33m)\u001B[0m\u001B[1;33m\u001B[0m\u001B[1;33m\u001B[0m\u001B[0m\n\u001B[0;32m     26\u001B[0m \u001B[1;33m\u001B[0m\u001B[0m\n",
      "\u001B[1;31mAttributeError\u001B[0m: module 'preprocessing' has no attribute 'cal_e_tau_df'"
     ]
    }
   ],
   "source": [
    "print('df_mol')\n",
    "lambda_um = gs.LAMBDA_um().G\n",
    "location = haifa_station.location\n",
    "mol_df,mol_xr = generate_att_bsc_mol(lambda_um, haifa_station, time_res='30S')\n",
    "mol_xr\n",
    "\n",
    "# TODO: make sure mol_df units has consistant units 1/m vs 1/km\n",
    "# TODO: define attributes of mol_xr\n",
    "# TODO: create xarray to a daily molecular profile for three channels\n",
    "# TODO: convert from xarray to pytorch"
   ],
   "metadata": {
    "collapsed": false,
    "pycharm": {
     "name": "#%%\n"
    }
   }
  },
  {
   "cell_type": "code",
   "execution_count": 28,
   "outputs": [],
   "source": [],
   "metadata": {
    "collapsed": false,
    "pycharm": {
     "name": "#%%\n"
    }
   }
  },
  {
   "cell_type": "code",
   "execution_count": 29,
   "outputs": [
    {
     "data": {
      "text/plain": "<Figure size 1152x1080 with 2 Axes>",
      "image/png": "[encoded data removed]"
     },
     "metadata": {
      "needs_background": "light"
     },
     "output_type": "display_data"
    }
   ],
   "source": [
    "cur_df= mol_df\n",
    "x_lims = mdates.date2num([cur_df.columns[0],cur_df.columns[-1]])\n",
    "y_lims = [cur_df.index[0]*1E-3, cur_df.index[-1]*1E-3]\n",
    "extent = [x_lims[0],x_lims[1],y_lims[0],y_lims[1] ]\n",
    "fig, ax = plt.subplots(figsize=(16,15))\n",
    "im = ax.imshow(cur_df, origin='lower',aspect='auto',cmap = 'turbo',\n",
    "               extent=extent)#[0,2779,interp_sigma_df.index[0], interp_sigma_df.index[-1]])\n",
    "\n",
    "ax.set_ylabel('Altitude [km]',fontsize =24)\n",
    "ax.set_xlabel('Time',fontsize =24)\n",
    "plt.rc('xtick',labelsize =18)\n",
    "plt.rc('ytick',labelsize=18)\n",
    "fig.colorbar(im,ax= ax)\n",
    "ax.xaxis_date()\n",
    "ax.get_xaxis().set_major_locator(mdates.MinuteLocator(interval=120))\n",
    "xfmt = mdates.DateFormatter('%H:%M')\n",
    "ax.xaxis.set_major_formatter(xfmt)\n",
    "fig.tight_layout()\n",
    "plt.show()"
   ],
   "metadata": {
    "collapsed": false,
    "pycharm": {
     "name": "#%% Visualise att_bsc (range corrected molecular signal without p_const)\n"
    }
   }
  },
  {
   "cell_type": "code",
   "execution_count": 30,
   "outputs": [
    {
     "data": {
      "text/plain": "' Interpolate on molecular profiles on a 2D grid 00:00-23:59 '"
     },
     "execution_count": 30,
     "metadata": {},
     "output_type": "execute_result"
    }
   ],
   "source": [
    "''' read radiosonde at 00:00 and 12:00 and 00:00 (of the day after)'''\n",
    "## radiosonde download and analysis from cameranetwork\n",
    "\n",
    "''' read gdas data for 00:00, 03:00, 06:00, 09:00 ,12:00, 15:00 , 18:00 ,21:00, 24:00'''\n",
    "## use: https://github.com/martin-rdz/ARLreader\n",
    "\n",
    "\n",
    "## AERONET : https://aeronet.gsfc.nasa.gov/cgi-bin/data_display_aod_v3?site=Technion_Haifa_IL&nachal=0&year=2017&month=5&day=19&aero_water=0&level=3&if_day=0&if_err=0&place_code=10&DATA_TYPE=-999&year_or_month=3\n",
    "## it is possible to merge with Terra MODIS or Aqua MODIS -\n",
    "# / TODO: locate the function that does donwload of sunphotometer data to cameranetwork (maybe Shubi knows this)\n",
    "# / TODO: ask about the relevant product from MODIS to our porpose.\n",
    "''' Interpolate on molecular profiles on a 2D grid 00:00-23:59 '''"
   ],
   "metadata": {
    "collapsed": false,
    "pycharm": {
     "name": "#%%\n"
    }
   }
  },
  {
   "cell_type": "code",
   "execution_count": 31,
   "outputs": [],
   "source": [
    "# for the followings :\n",
    "# X = {lidar measurement (range corrected) molecular (range corrected)}\n",
    "# Y = {lidar const, reference height [min,max]}"
   ],
   "metadata": {
    "collapsed": false,
    "pycharm": {
     "name": "#%% Create samples of 30 min acording to 'profiles' times\n"
    }
   }
  }
 ],
 "metadata": {
  "kernelspec": {
   "name": "lidar",
   "language": "python",
   "display_name": "lidar"
  },
  "language_info": {
   "codemirror_mode": {
    "name": "ipython",
    "version": 2
   },
   "file_extension": ".py",
   "mimetype": "text/x-python",
   "name": "python",
   "nbconvert_exporter": "python",
   "pygments_lexer": "ipython2",
   "version": "2.7.6"
  }
 },
 "nbformat": 4,
 "nbformat_minor": 0
}