{
 "cells": [
  {
   "cell_type": "code",
   "execution_count": 1,
   "outputs": [
    {
     "name": "stderr",
     "output_type": "stream",
     "text": [
      "C:\\Users\\addalin\\Dropbox\\Lidar\\code\\miscLidar.py:40: MatplotlibDeprecationWarning: Support for setting the 'text.latex.preamble' or 'pgf.preamble' rcParam to a list of strings is deprecated since 3.3 and will be removed two minor releases later; set it to a single string instead.\n",
      "  plt.rcParams['text.latex.preamble'] = [r\"\\usepackage{amsmath}\"]\n"
     ]
    }
   ],
   "source": [
    "import os,sys\n",
    "import numpy as np\n",
    "import scipy as sp\n",
    "import pandas as pd\n",
    "import matplotlib\n",
    "from datetime import datetime, timedelta, time\n",
    "import glob\n",
    "from generate_atmosphere import LidarProfile,RadiosondeProfile\n",
    "import miscLidar as mscLid\n",
    "from molecular import rayleigh_scattering\n",
    "import global_settings as gs\n",
    "import pandas as pd\n",
    "import preprocessing as prep\n",
    "import matplotlib.dates as mdates\n",
    "import matplotlib.pyplot as plt\n",
    "import xarray as xr\n",
    "%matplotlib inline\n",
    "from IPython.display import display"
   ],
   "metadata": {
    "collapsed": false,
    "pycharm": {
     "name": "#%% Imports\n"
    }
   }
  },
  {
   "cell_type": "code",
   "execution_count": 2,
   "outputs": [],
   "source": [
    "SMALL_SIZE = 12\n",
    "MEDIUM_SIZE = 14\n",
    "BIG_SIZE = 16\n",
    "\n",
    "plt.rc('font', size=SMALL_SIZE)          # controls default text sizes\n",
    "plt.rc('axes', titlesize=BIG_SIZE)       # fontsize of the axes title\n",
    "plt.rc('axes', labelsize=MEDIUM_SIZE)    # fontsize of the x and y labels\n",
    "plt.rc('xtick', labelsize=SMALL_SIZE)    # fontsize of the tick labels\n",
    "plt.rc('ytick', labelsize=SMALL_SIZE)    # fontsize of the tick labels\n",
    "plt.rc('legend', fontsize=SMALL_SIZE)    # legend fontsize\n",
    "plt.rc('figure', titlesize=BIG_SIZE)     # fontsize of the figure title"
   ],
   "metadata": {
    "collapsed": false,
    "pycharm": {
     "name": "#%%\n"
    }
   }
  },
  {
   "cell_type": "code",
   "execution_count": 3,
   "outputs": [],
   "source": [
    "def get_time_slice_dataset(dataset, start_time, end_time):\n",
    "\tsub_ds = dataset.sel(Time =slice(start_time,end_time))\n",
    "\treturn(sub_ds)\n",
    "\n",
    "def humanbytes(B):\n",
    "   'Return the given bytes as a human friendly KB, MB, GB, or TB string'\n",
    "   B = float(B)\n",
    "   KB = float(1024)\n",
    "   MB = float(KB ** 2) # 1,048,576\n",
    "   GB = float(KB ** 3) # 1,073,741,824\n",
    "   TB = float(KB ** 4) # 1,099,511,627,776\n",
    "\n",
    "   if B < KB:\n",
    "      return '{0} {1}'.format(B,'Bytes' if 0 == B > 1 else 'Byte')\n",
    "   elif KB <= B < MB:\n",
    "      return '{0:.2f} KB'.format(B/KB)\n",
    "   elif MB <= B < GB:\n",
    "      return '{0:.2f} MB'.format(B/MB)\n",
    "   elif GB <= B < TB:\n",
    "      return '{0:.2f} GB'.format(B/GB)\n",
    "   elif TB <= B:\n",
    "      return '{0:.2f} TB'.format(B/TB)"
   ],
   "metadata": {
    "collapsed": false,
    "pycharm": {
     "name": "#%%\n"
    }
   }
  },
  {
   "cell_type": "code",
   "execution_count": 4,
   "outputs": [
    {
     "name": "stdout",
     "output_type": "stream",
     "text": [
      "2017-09-13 00:00:00\n"
     ]
    }
   ],
   "source": [
    "'''set day'''\n",
    "day_date = datetime(2017,9,13)\n",
    "print(day_date)"
   ],
   "metadata": {
    "collapsed": false,
    "pycharm": {
     "name": "#%%\n"
    }
   }
  },
  {
   "cell_type": "code",
   "execution_count": 5,
   "outputs": [
    {
     "name": "stdout",
     "output_type": "stream",
     "text": [
      "load station\n"
     ]
    },
    {
     "data": {
      "text/plain": "Station()"
     },
     "execution_count": 5,
     "metadata": {},
     "output_type": "execute_result"
    }
   ],
   "source": [
    "'''set station'''\n",
    "print('load station')\n",
    "haifa_station = gs.Station('Haifa')\n",
    "#haifa_station.location\n",
    "haifa_station"
   ],
   "metadata": {
    "collapsed": false,
    "pycharm": {
     "name": "#%%\n"
    }
   }
  },
  {
   "cell_type": "code",
   "execution_count": 6,
   "outputs": [
    {
     "name": "stdout",
     "output_type": "stream",
     "text": [
      "<class 'global_settings.Station'>: {'name': 'Haifa', 'location': 'Haifa', 'lon': 35.02, 'lat': 32.8, 'altitude': 229.0, 'start_bin_height': 78.75, 'end_bin_height': 22485.66016, 'n_bins': 3000, 'dt': 5.0000000000000004e-08, 'gdas1_folder': 'H:\\\\data_haifa\\\\DATA FROM TROPOS\\\\GDAS\\\\haifa', 'gdastxt_folder': 'H:\\\\data_haifa\\\\DATA FROM TROPOS\\\\GDAS\\\\haifa_preproc', 'lidar_src_folder': 'H:\\\\data_haifa\\\\DATA FROM TROPOS\\\\data\\\\level1a\\\\PollyXT_TROPOS', 'molecular_dataset': 'H:\\\\data_haifa\\\\DATA FROM TROPOS\\\\molecular_dataset', 'lidar_dataset': 'H:\\\\data_haifa\\\\DATA FROM TROPOS\\\\lidar_dataset', 'db_file': 'H:\\\\data_haifa\\\\DATA FROM TROPOS\\\\data\\\\level1a\\\\PollyXT_TROPOS\\\\pollyxt_tropos_calibration.db'}\n"
     ]
    }
   ],
   "source": [
    "''''Set paths for small tests'''\n",
    "#lidar_parent_folder = 'H:\\data_haifa\\DATA FROM TROPOS\\data\\level1a\\PollyXT_TROPOS'\n",
    "#gdas_parent_folder = 'H:\\data_haifa\\DATA FROM TROPOS\\GDAS\\haifa'\n",
    "#lidar_parent_folder = haifa_station.lidar_src_folder\n",
    "# changing the path for dev\n",
    "\n",
    "'''haifa_station.gdas1_folder = os.path.join('.','data examples','gdas')\n",
    "haifa_station.gdastxt_folder  = os.path.join('.','data examples','gdas_txt')\n",
    "haifa_station.molecular_dataset =  os.path.join('.','data examples','molecular_dataset')\n",
    "haifa_station.lidar_dataset = os.path.join('.','data examples','lidar_dataset')\n",
    "haifa_station.lidar_src_folder = os.path.join('.','data examples','netcdf')\n",
    "'''\n",
    "print(haifa_station)"
   ],
   "metadata": {
    "collapsed": false,
    "pycharm": {
     "name": "#%%\n"
    }
   }
  },
  {
   "cell_type": "code",
   "execution_count": 7,
   "outputs": [],
   "source": [
    "CONVERT_GDAS = False\n",
    "SINGLE_DAY = False\n",
    "if CONVERT_GDAS:\n",
    "\tif SINGLE_DAY:\n",
    "\t\t#convert cur day (gdas files from TROPOS to txt)\n",
    "\t\tgdastxt = prep.convert_daily_gdas ( haifa_station, day_date)\n",
    "\t\tprint('gdas_txt',gdastxt)\n",
    "\n",
    "\t\t#convert next day (gdas files from TROPOS to txt)\n",
    "\t\tnext_day = day_date + timedelta ( days = 1 )\n",
    "\t\tgdastxt_nextday = prep.convert_daily_gdas ( haifa_station, next_day )\n",
    "\t\tprint('gdas_txt next day',gdastxt_nextday)\n",
    "\n",
    "\telse:\n",
    "\t\t#%% convert gdas files for a period\n",
    "\t\tstart_day =  datetime(2017,9,1)\n",
    "\t\tend_day = datetime(2017,9,30)\n",
    "\t\tchunk_paths = prep.convert_periodic_gdas(haifa_station,start_day, end_day)\n",
    "\t\tprint(chunk_paths)"
   ],
   "metadata": {
    "collapsed": false,
    "pycharm": {
     "name": "#%% TEST GDAS conversions\n"
    }
   }
  },
  {
   "cell_type": "code",
   "source": [
    "SHOW_MOL_DF = False\n",
    "if SHOW_MOL_DF:\n",
    "\t'''set parameters'''\n",
    "\tlambda_nm = gs.LAMBDA_nm().G\n",
    "\tdf_sigma , df_beta = prep.get_daily_molecular_profiles( haifa_station , day_date , lambda_nm , 'Km' )\n",
    "\t# Visualizing molecular profiles\n",
    "\n",
    "\tplt.figure()\n",
    "\tax = df_beta.plot()\n",
    "\tax.set_ylabel(r'$\\beta_{\\rm mol}[1/m]$')\n",
    "\tplt.show()"
   ],
   "metadata": {
    "collapsed": false,
    "pycharm": {
     "name": "#%% Generate daily molecular profiles from the converted files (above)\n"
    }
   },
   "execution_count": 8,
   "outputs": []
  },
  {
   "cell_type": "code",
   "execution_count": 9,
   "outputs": [],
   "source": [
    "# for profiling un-highlight the line below\n",
    "# %%prun -s cumulative\n",
    "CREATE_MOL_DS = False\n",
    "if CREATE_MOL_DS:\n",
    "\tprint(f\"Create daily molecular dataset for {day_date}\")\n",
    "\tds =  prep.generate_daily_molecular(haifa_station,day_date,optim_size = True)\n",
    "\tprint(ds)"
   ],
   "metadata": {
    "collapsed": false,
    "pycharm": {
     "name": "#%% create daily molecular dataset\n"
    }
   }
  },
  {
   "cell_type": "code",
   "execution_count": 10,
   "outputs": [],
   "source": [
    "SAVE_MOL_DS = False\n",
    "if SAVE_MOL_DS:\n",
    "\tprint('Saving dataset to:')\n",
    "\tnetcdfs = prep.save_molecular_dataset(haifa_station,ds,save_mode='both')\n",
    "\tprint(netcdfs)"
   ],
   "metadata": {
    "collapsed": false,
    "pycharm": {
     "name": "#%% save ds\n"
    }
   }
  },
  {
   "cell_type": "code",
   "execution_count": 11,
   "outputs": [],
   "source": [
    "TEST_LOAD_DS = False\n",
    "if TEST_LOAD_DS:\n",
    "\tnetcdf = netcdfs[-1]\n",
    "\tds_load = prep.load_dataset(netcdf)\n",
    "\tprint(ds_load)"
   ],
   "metadata": {
    "collapsed": false,
    "pycharm": {
     "name": "#%% Load ds  - load all profiles\n"
    }
   }
  },
  {
   "cell_type": "code",
   "execution_count": 12,
   "outputs": [],
   "source": [
    "if TEST_LOAD_DS:\n",
    "\tnetcdf = netcdfs[-2]\n",
    "\tds_load_prof = prep.load_dataset(netcdf)\n",
    "\tprint(ds_load_prof)"
   ],
   "metadata": {
    "collapsed": false,
    "pycharm": {
     "name": "#%% Load profile_ds\n"
    }
   }
  },
  {
   "cell_type": "code",
   "execution_count": 13,
   "outputs": [],
   "source": [
    "VIS_DS = False\n",
    "if VIS_DS:\n",
    "\tprofileTypes = list(ds.data_vars)[0:3]\n",
    "\t#list(ds.data_vars)[3:]\n",
    "\txfmt = mdates.DateFormatter('%H:%M')\n",
    "\ttimetics = ds.Time.dt.strftime('%H:%M')\n",
    "\ttimetics\n",
    "\n",
    "\tfor row,prof in enumerate(profileTypes):\n",
    "\t\tds_var = ds[prof]\n",
    "\t\tg = ds_var.plot(x='Time',y='Height',col='Wavelength',\n",
    "\t\t                  col_wrap = 3,cmap = 'turbo')# , figsize = (5,8)) #TODO: figure out how to enlarge the figsize, it doesn't work properly :-(\n",
    "\t\tfor ax in g.axes.flat:\n",
    "\t\t\tax.xaxis.set_major_formatter(xfmt)\n",
    "\t\t\tax.xaxis_date()\n",
    "\t\t\tax.get_xaxis().set_major_locator(mdates.HourLocator(interval=4))\n",
    "\t\t\tplt.setp( ax.get_xticklabels(), rotation=0,horizontalalignment='center')\n",
    "\t\t\t#if row in [0,1]:\n",
    "\t\t\t#\tax.xaxis.set_ticklabels([])\n",
    "\t\t\t#\tax.set_xlabel(None)\n",
    "\t\t\t#if row in [1,2]:\n",
    "\t\t\t#\tax.set_title(None)\n",
    "\n",
    "\t\tdate_64 = ds.date.values\n",
    "\t\tdate_datetime = datetime.utcfromtimestamp(date_64.tolist()/1e9)\n",
    "\t\tdate_str = date_datetime.strftime('%d/%m/%Y')\n",
    "\t\tplt.suptitle('{} - {} {}'.format(ds_var.attrs['info'],ds.attrs['location'],date_str), y = 1.05)\n",
    "\t\t#plt.tight_layout()\n",
    "\t\tplt.show()"
   ],
   "metadata": {
    "collapsed": false,
    "pycharm": {
     "name": "#%% Visualize the dataset\n"
    }
   }
  },
  {
   "cell_type": "code",
   "execution_count": 14,
   "outputs": [],
   "source": [
    "VIS_ATTBSC = False\n",
    "if VIS_ATTBSC:\n",
    "\twavelengths = ds.Wavelength.values.tolist()\n",
    "\tfor wav in wavelengths:\n",
    "\t\t prep.visualize_ds_profile_chan(ds, wav,profile_type = 'attbsc')"
   ],
   "metadata": {
    "collapsed": false,
    "pycharm": {
     "name": "#%% Visualize profile of attbsc\n"
    }
   }
  },
  {
   "cell_type": "code",
   "execution_count": 15,
   "outputs": [],
   "source": [
    "RUN_PD= False\n",
    "if RUN_PD:\n",
    "\tprint('retrieve a sub-dataframe from a dataset - according wavelength')\n",
    "\tdf_test_beta = ds.beta.sel(Wavelength=355).to_pandas()\n",
    "\tdisplay(df_test_beta)"
   ],
   "metadata": {
    "collapsed": false,
    "pycharm": {
     "name": "#%% retrieve a dataframe from a dataset\n"
    }
   }
  },
  {
   "cell_type": "code",
   "execution_count": 16,
   "outputs": [],
   "source": [
    "RUN_SLICE= False\n",
    "if RUN_SLICE:\n",
    "\tprint('retrieve a sub-dataframe from a dataset - according time slice')\n",
    "\n",
    "\tstart_time = datetime(2017,9,2,0,30)\n",
    "\tend_time = start_time + timedelta(minutes = 29.5) #datetime(2017,9,1,12,30)\n",
    "\ttimestamps = pd.date_range ( start = start_time , end = end_time  ,\n",
    "\t                             freq = timedelta ( seconds = 30 ) )\n",
    "\t#slice_beta= mol_xr.loc['beta'].to_pandas().loc[:,timestamps]\n",
    "\tprint('slicing data set by time')\n",
    "\tsub_ds = get_time_slice_dataset(ds, start_time, end_time)#  timestamps).plot()#=slice(start_time,start_time+timedelta(hours = 6)))\n",
    "\n",
    "\tdisplay(sub_ds)"
   ],
   "metadata": {
    "collapsed": false,
    "pycharm": {
     "name": "#%% slicing dataset by time\n"
    }
   }
  },
  {
   "cell_type": "code",
   "execution_count": 17,
   "outputs": [],
   "source": [
    "CALC_SIZE = False\n",
    "if CALC_SIZE:\n",
    "\tprofiles = list(ds.data_vars)[0:3]\n",
    "\ttotal_size =0\n",
    "\tfor prof in profiles:\n",
    "\t\tfor wav in ds.Wavelength.values:\n",
    "\t\t\ttmp_prof = (ds[prof]).sel(Wavelength=wav).to_pandas()\n",
    "\t\t\tcursize = tmp_prof.memory_usage(deep=True).sum()\n",
    "\t\t\tprint('profile:{}, wavelength: {}, size:{}'.format(prof,wav,humanbytes(cursize)))\n",
    "\t\t\ttotal_size+=cursize\n",
    "\n",
    "\tprint('total size of data set is at least:{}'.format(humanbytes(total_size)))\n"
   ],
   "metadata": {
    "collapsed": false,
    "pycharm": {
     "name": "#%% calculate size of the dataset\n"
    }
   }
  },
  {
   "cell_type": "code",
   "execution_count": 18,
   "outputs": [
    {
     "name": "stdout",
     "output_type": "stream",
     "text": [
      "get range corrected from TROPOS\n"
     ]
    },
    {
     "data": {
      "text/plain": "<xarray.Dataset>\nDimensions:         (Height: 3000, Time: 2880, Wavelength: 3)\nCoordinates:\n  * Time            (Time) datetime64[ns] 2017-09-13 ... 2017-09-13T23:59:30\n  * Height          (Height) float64 0.3088 0.3162 0.3237 ... 22.7 22.71 22.72\n  * Wavelength      (Wavelength) uint64 355 532 1064\nData variables:\n    range_corr      (Wavelength, Height, Time) float32 102790.03 ... -2188765.8\n    lambda_nm       (Wavelength) uint32 355 532 1064\n    plot_min_range  (Wavelength) float64 0.0 0.0 0.0\n    plot_max_range  (Wavelength) float64 9.582e+07 1.276e+08 7.618e+07\n    date            datetime64[ns] 2017-09-13\nAttributes:\n    location:  Haifa\n    info:      Daily range corrected lidar signal",
      "text/html": "<div><svg style=\"position: absolute; width: 0; height: 0; overflow: hidden\">\n<defs>\n<symbol id=\"icon-database\" viewBox=\"0 0 32 32\">\n<path d=\"M16 0c-8.837 0-16 2.239-16 5v4c0 2.761 7.163 5 16 5s16-2.239 16-5v-4c0-2.761-7.163-5-16-5z\"></path>\n<path d=\"M16 17c-8.837 0-16-2.239-16-5v6c0 2.761 7.163 5 16 5s16-2.239 16-5v-6c0 2.761-7.163 5-16 5z\"></path>\n<path d=\"M16 26c-8.837 0-16-2.239-16-5v6c0 2.761 7.163 5 16 5s16-2.239 16-5v-6c0 2.761-7.163 5-16 5z\"></path>\n</symbol>\n<symbol id=\"icon-file-text2\" viewBox=\"0 0 32 32\">\n<path d=\"M28.681 7.159c-0.694-0.947-1.662-2.053-2.724-3.116s-2.169-2.030-3.116-2.724c-1.612-1.182-2.393-1.319-2.841-1.319h-15.5c-1.378 0-2.5 1.121-2.5 2.5v27c0 1.378 1.122 2.5 2.5 2.5h23c1.378 0 2.5-1.122 2.5-2.5v-19.5c0-0.448-0.137-1.23-1.319-2.841zM24.543 5.457c0.959 0.959 1.712 1.825 2.268 2.543h-4.811v-4.811c0.718 0.556 1.584 1.309 2.543 2.268zM28 29.5c0 0.271-0.229 0.5-0.5 0.5h-23c-0.271 0-0.5-0.229-0.5-0.5v-27c0-0.271 0.229-0.5 0.5-0.5 0 0 15.499-0 15.5 0v7c0 0.552 0.448 1 1 1h7v19.5z\"></path>\n<path d=\"M23 26h-14c-0.552 0-1-0.448-1-1s0.448-1 1-1h14c0.552 0 1 0.448 1 1s-0.448 1-1 1z\"></path>\n<path d=\"M23 22h-14c-0.552 0-1-0.448-1-1s0.448-1 1-1h14c0.552 0 1 0.448 1 1s-0.448 1-1 1z\"></path>\n<path d=\"M23 18h-14c-0.552 0-1-0.448-1-1s0.448-1 1-1h14c0.552 0 1 0.448 1 1s-0.448 1-1 1z\"></path>\n</symbol>\n</defs>\n</svg>\n<style>/* CSS stylesheet for displaying xarray objects in jupyterlab.\n *\n */\n\n:root {\n  --xr-font-color0: var(--jp-content-font-color0, rgba(0, 0, 0, 1));\n  --xr-font-color2: var(--jp-content-font-color2, rgba(0, 0, 0, 0.54));\n  --xr-font-color3: var(--jp-content-font-color3, rgba(0, 0, 0, 0.38));\n  --xr-border-color: var(--jp-border-color2, #e0e0e0);\n  --xr-disabled-color: var(--jp-layout-color3, #bdbdbd);\n  --xr-background-color: var(--jp-layout-color0, white);\n  --xr-background-color-row-even: var(--jp-layout-color1, white);\n  --xr-background-color-row-odd: var(--jp-layout-color2, #eeeeee);\n}\n\nhtml[theme=dark],\nbody.vscode-dark {\n  --xr-font-color0: rgba(255, 255, 255, 1);\n  --xr-font-color2: rgba(255, 255, 255, 0.54);\n  --xr-font-color3: rgba(255, 255, 255, 0.38);\n  --xr-border-color: #1F1F1F;\n  --xr-disabled-color: #515151;\n  --xr-background-color: #111111;\n  --xr-background-color-row-even: #111111;\n  --xr-background-color-row-odd: #313131;\n}\n\n.xr-wrap {\n  display: block;\n  min-width: 300px;\n  max-width: 700px;\n}\n\n.xr-text-repr-fallback {\n  /* fallback to plain text repr when CSS is not injected (untrusted notebook) */\n  display: none;\n}\n\n.xr-header {\n  padding-top: 6px;\n  padding-bottom: 6px;\n  margin-bottom: 4px;\n  border-bottom: solid 1px var(--xr-border-color);\n}\n\n.xr-header > div,\n.xr-header > ul {\n  display: inline;\n  margin-top: 0;\n  margin-bottom: 0;\n}\n\n.xr-obj-type,\n.xr-array-name {\n  margin-left: 2px;\n  margin-right: 10px;\n}\n\n.xr-obj-type {\n  color: var(--xr-font-color2);\n}\n\n.xr-sections {\n  padding-left: 0 !important;\n  display: grid;\n  grid-template-columns: 150px auto auto 1fr 20px 20px;\n}\n\n.xr-section-item {\n  display: contents;\n}\n\n.xr-section-item input {\n  display: none;\n}\n\n.xr-section-item input + label {\n  color: var(--xr-disabled-color);\n}\n\n.xr-section-item input:enabled + label {\n  cursor: pointer;\n  color: var(--xr-font-color2);\n}\n\n.xr-section-item input:enabled + label:hover {\n  color: var(--xr-font-color0);\n}\n\n.xr-section-summary {\n  grid-column: 1;\n  color: var(--xr-font-color2);\n  font-weight: 500;\n}\n\n.xr-section-summary > span {\n  display: inline-block;\n  padding-left: 0.5em;\n}\n\n.xr-section-summary-in:disabled + label {\n  color: var(--xr-font-color2);\n}\n\n.xr-section-summary-in + label:before {\n  display: inline-block;\n  content: '►';\n  font-size: 11px;\n  width: 15px;\n  text-align: center;\n}\n\n.xr-section-summary-in:disabled + label:before {\n  color: var(--xr-disabled-color);\n}\n\n.xr-section-summary-in:checked + label:before {\n  content: '▼';\n}\n\n.xr-section-summary-in:checked + label > span {\n  display: none;\n}\n\n.xr-section-summary,\n.xr-section-inline-details {\n  padding-top: 4px;\n  padding-bottom: 4px;\n}\n\n.xr-section-inline-details {\n  grid-column: 2 / -1;\n}\n\n.xr-section-details {\n  display: none;\n  grid-column: 1 / -1;\n  margin-bottom: 5px;\n}\n\n.xr-section-summary-in:checked ~ .xr-section-details {\n  display: contents;\n}\n\n.xr-array-wrap {\n  grid-column: 1 / -1;\n  display: grid;\n  grid-template-columns: 20px auto;\n}\n\n.xr-array-wrap > label {\n  grid-column: 1;\n  vertical-align: top;\n}\n\n.xr-preview {\n  color: var(--xr-font-color3);\n}\n\n.xr-array-preview,\n.xr-array-data {\n  padding: 0 5px !important;\n  grid-column: 2;\n}\n\n.xr-array-data,\n.xr-array-in:checked ~ .xr-array-preview {\n  display: none;\n}\n\n.xr-array-in:checked ~ .xr-array-data,\n.xr-array-preview {\n  display: inline-block;\n}\n\n.xr-dim-list {\n  display: inline-block !important;\n  list-style: none;\n  padding: 0 !important;\n  margin: 0;\n}\n\n.xr-dim-list li {\n  display: inline-block;\n  padding: 0;\n  margin: 0;\n}\n\n.xr-dim-list:before {\n  content: '(';\n}\n\n.xr-dim-list:after {\n  content: ')';\n}\n\n.xr-dim-list li:not(:last-child):after {\n  content: ',';\n  padding-right: 5px;\n}\n\n.xr-has-index {\n  font-weight: bold;\n}\n\n.xr-var-list,\n.xr-var-item {\n  display: contents;\n}\n\n.xr-var-item > div,\n.xr-var-item label,\n.xr-var-item > .xr-var-name span {\n  background-color: var(--xr-background-color-row-even);\n  margin-bottom: 0;\n}\n\n.xr-var-item > .xr-var-name:hover span {\n  padding-right: 5px;\n}\n\n.xr-var-list > li:nth-child(odd) > div,\n.xr-var-list > li:nth-child(odd) > label,\n.xr-var-list > li:nth-child(odd) > .xr-var-name span {\n  background-color: var(--xr-background-color-row-odd);\n}\n\n.xr-var-name {\n  grid-column: 1;\n}\n\n.xr-var-dims {\n  grid-column: 2;\n}\n\n.xr-var-dtype {\n  grid-column: 3;\n  text-align: right;\n  color: var(--xr-font-color2);\n}\n\n.xr-var-preview {\n  grid-column: 4;\n}\n\n.xr-var-name,\n.xr-var-dims,\n.xr-var-dtype,\n.xr-preview,\n.xr-attrs dt {\n  white-space: nowrap;\n  overflow: hidden;\n  text-overflow: ellipsis;\n  padding-right: 10px;\n}\n\n.xr-var-name:hover,\n.xr-var-dims:hover,\n.xr-var-dtype:hover,\n.xr-attrs dt:hover {\n  overflow: visible;\n  width: auto;\n  z-index: 1;\n}\n\n.xr-var-attrs,\n.xr-var-data {\n  display: none;\n  background-color: var(--xr-background-color) !important;\n  padding-bottom: 5px !important;\n}\n\n.xr-var-attrs-in:checked ~ .xr-var-attrs,\n.xr-var-data-in:checked ~ .xr-var-data {\n  display: block;\n}\n\n.xr-var-data > table {\n  float: right;\n}\n\n.xr-var-name span,\n.xr-var-data,\n.xr-attrs {\n  padding-left: 25px !important;\n}\n\n.xr-attrs,\n.xr-var-attrs,\n.xr-var-data {\n  grid-column: 1 / -1;\n}\n\ndl.xr-attrs {\n  padding: 0;\n  margin: 0;\n  display: grid;\n  grid-template-columns: 125px auto;\n}\n\n.xr-attrs dt, dd {\n  padding: 0;\n  margin: 0;\n  float: left;\n  padding-right: 10px;\n  width: auto;\n}\n\n.xr-attrs dt {\n  font-weight: normal;\n  grid-column: 1;\n}\n\n.xr-attrs dt:hover span {\n  display: inline-block;\n  background: var(--xr-background-color);\n  padding-right: 10px;\n}\n\n.xr-attrs dd {\n  grid-column: 2;\n  white-space: pre-wrap;\n  word-break: break-all;\n}\n\n.xr-icon-database,\n.xr-icon-file-text2 {\n  display: inline-block;\n  vertical-align: middle;\n  width: 1em;\n  height: 1.5em !important;\n  stroke-width: 0;\n  stroke: currentColor;\n  fill: currentColor;\n}\n</style><pre class='xr-text-repr-fallback'>&lt;xarray.Dataset&gt;\nDimensions:         (Height: 3000, Time: 2880, Wavelength: 3)\nCoordinates:\n  * Time            (Time) datetime64[ns] 2017-09-13 ... 2017-09-13T23:59:30\n  * Height          (Height) float64 0.3088 0.3162 0.3237 ... 22.7 22.71 22.72\n  * Wavelength      (Wavelength) uint64 355 532 1064\nData variables:\n    range_corr      (Wavelength, Height, Time) float32 102790.03 ... -2188765.8\n    lambda_nm       (Wavelength) uint32 355 532 1064\n    plot_min_range  (Wavelength) float64 0.0 0.0 0.0\n    plot_max_range  (Wavelength) float64 9.582e+07 1.276e+08 7.618e+07\n    date            datetime64[ns] 2017-09-13\nAttributes:\n    location:  Haifa\n    info:      Daily range corrected lidar signal</pre><div class='xr-wrap' hidden><div class='xr-header'><div class='xr-obj-type'>xarray.Dataset</div></div><ul class='xr-sections'><li class='xr-section-item'><input id='section-f5cc5235-793b-466b-a235-b75220c2db1f' class='xr-section-summary-in' type='checkbox' disabled ><label for='section-f5cc5235-793b-466b-a235-b75220c2db1f' class='xr-section-summary'  title='Expand/collapse section'>Dimensions:</label><div class='xr-section-inline-details'><ul class='xr-dim-list'><li><span class='xr-has-index'>Height</span>: 3000</li><li><span class='xr-has-index'>Time</span>: 2880</li><li><span class='xr-has-index'>Wavelength</span>: 3</li></ul></div><div class='xr-section-details'></div></li><li class='xr-section-item'><input id='section-e6f34c7c-2f14-4651-9cc5-30f5fb27913b' class='xr-section-summary-in' type='checkbox'  checked><label for='section-e6f34c7c-2f14-4651-9cc5-30f5fb27913b' class='xr-section-summary' >Coordinates: <span>(3)</span></label><div class='xr-section-inline-details'></div><div class='xr-section-details'><ul class='xr-var-list'><li class='xr-var-item'><div class='xr-var-name'><span class='xr-has-index'>Time</span></div><div class='xr-var-dims'>(Time)</div><div class='xr-var-dtype'>datetime64[ns]</div><div class='xr-var-preview xr-preview'>2017-09-13 ... 2017-09-13T23:59:30</div><input id='attrs-b68edf32-3374-494d-a6e3-baeb4f0ddc2f' class='xr-var-attrs-in' type='checkbox' disabled><label for='attrs-b68edf32-3374-494d-a6e3-baeb4f0ddc2f' title='Show/Hide attributes'><svg class='icon xr-icon-file-text2'><use xlink:href='#icon-file-text2'></use></svg></label><input id='data-33d82c76-d867-421b-a2d9-ce30f4c03e33' class='xr-var-data-in' type='checkbox'><label for='data-33d82c76-d867-421b-a2d9-ce30f4c03e33' title='Show/Hide data repr'><svg class='icon xr-icon-database'><use xlink:href='#icon-database'></use></svg></label><div class='xr-var-attrs'><dl class='xr-attrs'></dl></div><div class='xr-var-data'><pre>array([&#x27;2017-09-13T00:00:00.000000000&#x27;, &#x27;2017-09-13T00:00:30.000000000&#x27;,\n       &#x27;2017-09-13T00:01:00.000000000&#x27;, ..., &#x27;2017-09-13T23:58:30.000000000&#x27;,\n       &#x27;2017-09-13T23:59:00.000000000&#x27;, &#x27;2017-09-13T23:59:30.000000000&#x27;],\n      dtype=&#x27;datetime64[ns]&#x27;)</pre></div></li><li class='xr-var-item'><div class='xr-var-name'><span class='xr-has-index'>Height</span></div><div class='xr-var-dims'>(Height)</div><div class='xr-var-dtype'>float64</div><div class='xr-var-preview xr-preview'>0.3088 0.3162 ... 22.71 22.72</div><input id='attrs-82d4489b-97c1-4c74-93d1-30430c9921d0' class='xr-var-attrs-in' type='checkbox' ><label for='attrs-82d4489b-97c1-4c74-93d1-30430c9921d0' title='Show/Hide attributes'><svg class='icon xr-icon-file-text2'><use xlink:href='#icon-file-text2'></use></svg></label><input id='data-0c8ddb2f-ed75-49ea-b190-32b7d483173b' class='xr-var-data-in' type='checkbox'><label for='data-0c8ddb2f-ed75-49ea-b190-32b7d483173b' title='Show/Hide data repr'><svg class='icon xr-icon-database'><use xlink:href='#icon-database'></use></svg></label><div class='xr-var-attrs'><dl class='xr-attrs'><dt><span>units :</span></dt><dd>Km</dd><dt><span>info :</span></dt><dd>Measurements heights above sea level</dd></dl></div><div class='xr-var-data'><pre>array([ 0.30875 ,  0.316221,  0.323693, ..., 22.700717, 22.708188, 22.71566 ])</pre></div></li><li class='xr-var-item'><div class='xr-var-name'><span class='xr-has-index'>Wavelength</span></div><div class='xr-var-dims'>(Wavelength)</div><div class='xr-var-dtype'>uint64</div><div class='xr-var-preview xr-preview'>355 532 1064</div><input id='attrs-5c49f2ee-23ec-40bf-9b32-5873fe438ce0' class='xr-var-attrs-in' type='checkbox' ><label for='attrs-5c49f2ee-23ec-40bf-9b32-5873fe438ce0' title='Show/Hide attributes'><svg class='icon xr-icon-file-text2'><use xlink:href='#icon-file-text2'></use></svg></label><input id='data-2d0a3ffc-fb87-416f-982b-faef736f8882' class='xr-var-data-in' type='checkbox'><label for='data-2d0a3ffc-fb87-416f-982b-faef736f8882' title='Show/Hide data repr'><svg class='icon xr-icon-database'><use xlink:href='#icon-database'></use></svg></label><div class='xr-var-attrs'><dl class='xr-attrs'><dt><span>long_name :</span></dt><dd>$\\lambda$</dd><dt><span>units :</span></dt><dd>$nm$</dd></dl></div><div class='xr-var-data'><pre>array([ 355,  532, 1064], dtype=uint64)</pre></div></li></ul></div></li><li class='xr-section-item'><input id='section-973ea1ba-a948-4415-9e27-280356d17315' class='xr-section-summary-in' type='checkbox'  checked><label for='section-973ea1ba-a948-4415-9e27-280356d17315' class='xr-section-summary' >Data variables: <span>(5)</span></label><div class='xr-section-inline-details'></div><div class='xr-section-details'><ul class='xr-var-list'><li class='xr-var-item'><div class='xr-var-name'><span>range_corr</span></div><div class='xr-var-dims'>(Wavelength, Height, Time)</div><div class='xr-var-dtype'>float32</div><div class='xr-var-preview xr-preview'>102790.03 127037.086 ... -2188765.8</div><input id='attrs-d9ba3a28-03b1-41d9-86d1-8d4fc83361e4' class='xr-var-attrs-in' type='checkbox' ><label for='attrs-d9ba3a28-03b1-41d9-86d1-8d4fc83361e4' title='Show/Hide attributes'><svg class='icon xr-icon-file-text2'><use xlink:href='#icon-file-text2'></use></svg></label><input id='data-c21153c8-b1b5-441e-be6d-3a6009fa58e0' class='xr-var-data-in' type='checkbox'><label for='data-c21153c8-b1b5-441e-be6d-3a6009fa58e0' title='Show/Hide data repr'><svg class='icon xr-icon-database'><use xlink:href='#icon-database'></use></svg></label><div class='xr-var-attrs'><dl class='xr-attrs'><dt><span>long_name :</span></dt><dd>$LC \\beta \\cdot \\exp(-2\\tau)$</dd><dt><span>units :</span></dt><dd>$photons \\cdot m^2$</dd><dt><span>info :</span></dt><dd>Range corrected lidar signal from attenuated backscatter multiplied by LC</dd></dl></div><div class='xr-var-data'><pre>array([[[  102790.03  ,   127037.086 ,   163451.31  , ...,\n           236436.53  ,   236436.53  ,   218170.66  ],\n        [  145016.89  ,   174104.05  ,   101438.46  , ...,\n           239652.02  ,   261532.67  ,   217787.03  ],\n        [  162656.97  ,   196995.36  ,   145500.12  , ...,\n           257166.73  ,   231366.67  ,   214176.89  ],\n        ...,\n        [       0.    ,        0.    ,        0.    , ...,\n                0.    ,        0.    ,        0.    ],\n        [       0.    ,        0.    ,        0.    , ...,\n                0.    ,        0.    ,        0.    ],\n        [       0.    ,        0.    ,        0.    , ...,\n                0.    ,        0.    ,        0.    ]],\n\n       [[  140645.52  ,    54975.125 ,    67202.125 , ...,\n           263376.2   ,   343382.28  ,   232654.03  ],\n        [   95220.47  ,   109886.81  ,    95220.47  , ...,\n           286257.72  ,   374716.16  ,   308354.7   ],\n        [  138417.48  ,   147080.05  ,   121096.445 , ...,\n           381513.22  ,   416337.1   ,   425046.97  ],\n...\n        [       0.    ,        0.    ,        0.    , ...,\n                0.    ,        0.    ,        0.    ],\n        [       0.    ,        0.    ,        0.    , ...,\n                0.    ,        0.    ,        0.    ],\n        [       0.    ,        0.    ,        0.    , ...,\n                0.    ,        0.    ,        0.    ]],\n\n       [[       0.    ,    12403.125 ,     6201.5625, ...,\n            49558.81  ,    99225.    ,   105399.72  ],\n        [    7434.14  ,    22302.42  ,     7434.14  , ...,\n            74277.04  ,    89209.68  ,    74309.23  ],\n        [       0.    ,     8778.362 ,     8778.362 , ...,\n           105264.35  ,    87783.63  ,   105302.35  ],\n        ...,\n        [       0.    ,        0.    ,        0.    , ...,\n         -4371715.5   ,        0.    , -2185857.8   ],\n        [       0.    ,        0.    ,        0.    , ...,\n         -4374622.5   ,        0.    , -2187311.2   ],\n        [       0.    ,        0.    ,        0.    , ...,\n         -4377531.5   ,        0.    , -2188765.8   ]]], dtype=float32)</pre></div></li><li class='xr-var-item'><div class='xr-var-name'><span>lambda_nm</span></div><div class='xr-var-dims'>(Wavelength)</div><div class='xr-var-dtype'>uint32</div><div class='xr-var-preview xr-preview'>355 532 1064</div><input id='attrs-1bc45020-e26c-4f87-82f4-c573e38dad35' class='xr-var-attrs-in' type='checkbox' disabled><label for='attrs-1bc45020-e26c-4f87-82f4-c573e38dad35' title='Show/Hide attributes'><svg class='icon xr-icon-file-text2'><use xlink:href='#icon-file-text2'></use></svg></label><input id='data-64cad302-cc59-4f2c-9742-2066242cf1b0' class='xr-var-data-in' type='checkbox'><label for='data-64cad302-cc59-4f2c-9742-2066242cf1b0' title='Show/Hide data repr'><svg class='icon xr-icon-database'><use xlink:href='#icon-database'></use></svg></label><div class='xr-var-attrs'><dl class='xr-attrs'></dl></div><div class='xr-var-data'><pre>array([ 355,  532, 1064], dtype=uint32)</pre></div></li><li class='xr-var-item'><div class='xr-var-name'><span>plot_min_range</span></div><div class='xr-var-dims'>(Wavelength)</div><div class='xr-var-dtype'>float64</div><div class='xr-var-preview xr-preview'>0.0 0.0 0.0</div><input id='attrs-760b470a-cb73-4fa1-95d7-d93b70c0c000' class='xr-var-attrs-in' type='checkbox' disabled><label for='attrs-760b470a-cb73-4fa1-95d7-d93b70c0c000' title='Show/Hide attributes'><svg class='icon xr-icon-file-text2'><use xlink:href='#icon-file-text2'></use></svg></label><input id='data-0986fd89-ff36-4373-aefc-0b08bb9727ac' class='xr-var-data-in' type='checkbox'><label for='data-0986fd89-ff36-4373-aefc-0b08bb9727ac' title='Show/Hide data repr'><svg class='icon xr-icon-database'><use xlink:href='#icon-database'></use></svg></label><div class='xr-var-attrs'><dl class='xr-attrs'></dl></div><div class='xr-var-data'><pre>array([0., 0., 0.])</pre></div></li><li class='xr-var-item'><div class='xr-var-name'><span>plot_max_range</span></div><div class='xr-var-dims'>(Wavelength)</div><div class='xr-var-dtype'>float64</div><div class='xr-var-preview xr-preview'>9.582e+07 1.276e+08 7.618e+07</div><input id='attrs-e002dd3e-3656-404a-9c27-bbed00b10268' class='xr-var-attrs-in' type='checkbox' disabled><label for='attrs-e002dd3e-3656-404a-9c27-bbed00b10268' title='Show/Hide attributes'><svg class='icon xr-icon-file-text2'><use xlink:href='#icon-file-text2'></use></svg></label><input id='data-24411790-3068-4c26-be5a-d9eab83d6bd6' class='xr-var-data-in' type='checkbox'><label for='data-24411790-3068-4c26-be5a-d9eab83d6bd6' title='Show/Hide data repr'><svg class='icon xr-icon-database'><use xlink:href='#icon-database'></use></svg></label><div class='xr-var-attrs'><dl class='xr-attrs'></dl></div><div class='xr-var-data'><pre>array([9.58203687e+07, 1.27585914e+08, 7.61784992e+07])</pre></div></li><li class='xr-var-item'><div class='xr-var-name'><span>date</span></div><div class='xr-var-dims'>()</div><div class='xr-var-dtype'>datetime64[ns]</div><div class='xr-var-preview xr-preview'>2017-09-13</div><input id='attrs-84e02fea-bde5-4ee2-be48-445cd7394990' class='xr-var-attrs-in' type='checkbox' disabled><label for='attrs-84e02fea-bde5-4ee2-be48-445cd7394990' title='Show/Hide attributes'><svg class='icon xr-icon-file-text2'><use xlink:href='#icon-file-text2'></use></svg></label><input id='data-e70ac792-ac07-44aa-8c86-eb5d16454dfa' class='xr-var-data-in' type='checkbox'><label for='data-e70ac792-ac07-44aa-8c86-eb5d16454dfa' title='Show/Hide data repr'><svg class='icon xr-icon-database'><use xlink:href='#icon-database'></use></svg></label><div class='xr-var-attrs'><dl class='xr-attrs'></dl></div><div class='xr-var-data'><pre>array(&#x27;2017-09-13T00:00:00.000000000&#x27;, dtype=&#x27;datetime64[ns]&#x27;)</pre></div></li></ul></div></li><li class='xr-section-item'><input id='section-4f6b36c2-535f-444b-bae1-3b7fe9a698e4' class='xr-section-summary-in' type='checkbox'  checked><label for='section-4f6b36c2-535f-444b-bae1-3b7fe9a698e4' class='xr-section-summary' >Attributes: <span>(2)</span></label><div class='xr-section-inline-details'></div><div class='xr-section-details'><dl class='xr-attrs'><dt><span>location :</span></dt><dd>Haifa</dd><dt><span>info :</span></dt><dd>Daily range corrected lidar signal</dd></dl></div></li></ul></div></div>"
     },
     "metadata": {},
     "output_type": "display_data"
    }
   ],
   "source": [
    "CREATE_LIDAR_DS = True\n",
    "if CREATE_LIDAR_DS:\n",
    "\tprint('get range corrected from TROPOS')\n",
    "\tds_range_corr_daily =  prep.get_daily_range_corr(haifa_station, day_date,height_units ='Km',\n",
    "                                                 optim_size = True, verbose = False)\n",
    "\tdisplay(ds_range_corr_daily)"
   ],
   "metadata": {
    "collapsed": false,
    "pycharm": {
     "name": "#%% RANGE CORRECTED from TROPOS\n"
    }
   }
  },
  {
   "cell_type": "code",
   "execution_count": 19,
   "outputs": [
    {
     "name": "stdout",
     "output_type": "stream",
     "text": [
      "Save range corrected dataset\n",
      "['H:\\\\data_haifa\\\\DATA FROM TROPOS\\\\lidar_dataset\\\\2017\\\\09\\\\2017_09_13_Haifa_range_corr_355_lidar.nc', 'H:\\\\data_haifa\\\\DATA FROM TROPOS\\\\lidar_dataset\\\\2017\\\\09\\\\2017_09_13_Haifa_range_corr_532_lidar.nc', 'H:\\\\data_haifa\\\\DATA FROM TROPOS\\\\lidar_dataset\\\\2017\\\\09\\\\2017_09_13_Haifa_range_corr_1064_lidar.nc', 'H:\\\\data_haifa\\\\DATA FROM TROPOS\\\\lidar_dataset\\\\2017\\\\09\\\\2017_09_13_Haifa_range_corr_lidar.nc']\n"
     ]
    }
   ],
   "source": [
    "SAVE_LIDAR_DS= True\n",
    "if SAVE_LIDAR_DS:\n",
    "\tprint('Save range corrected dataset')\n",
    "\tlidar_ncpaths =  prep.save_range_corr_dataset(haifa_station,ds_range_corr_daily,\n",
    "\t                                              save_mode='both')\n",
    "\tprint(lidar_ncpaths)\n"
   ],
   "metadata": {
    "collapsed": false,
    "pycharm": {
     "name": "#%% Save range corrected dataset\n"
    }
   }
  },
  {
   "cell_type": "code",
   "execution_count": 21,
   "outputs": [
    {
     "data": {
      "text/plain": "['H:\\\\data_haifa\\\\DATA FROM TROPOS\\\\lidar_dataset\\\\2017\\\\09\\\\2017_09_13_Haifa_range_corr_1064_lidar.nc',\n 'H:\\\\data_haifa\\\\DATA FROM TROPOS\\\\lidar_dataset\\\\2017\\\\09\\\\2017_09_13_Haifa_range_corr_355_lidar.nc',\n 'H:\\\\data_haifa\\\\DATA FROM TROPOS\\\\lidar_dataset\\\\2017\\\\09\\\\2017_09_13_Haifa_range_corr_532_lidar.nc',\n 'H:\\\\data_haifa\\\\DATA FROM TROPOS\\\\lidar_dataset\\\\2017\\\\09\\\\2017_09_13_Haifa_range_corr_lidar.nc']"
     },
     "execution_count": 21,
     "metadata": {},
     "output_type": "execute_result"
    }
   ],
   "source": [
    "lidar_ncpaths= prep.get_prep_dataset_paths ( haifa_station , day_date , data_source = 'lidar')\n",
    "lidar_ncpaths"
   ],
   "metadata": {
    "collapsed": false,
    "pycharm": {
     "name": "#%%\n"
    }
   }
  },
  {
   "cell_type": "code",
   "execution_count": 22,
   "outputs": [],
   "source": [
    "LOAD_LIDAR_DS = False\n",
    "if LOAD_LIDAR_DS:\n",
    "\tprint( 'Load range corr in all channels')\n",
    "\n",
    "\tnetcdf = lidar_ncpaths[-1]\n",
    "\tds_range_corr_daily =  prep.load_dataset(netcdf)\n",
    "\tprint(ds_range_corr_daily)"
   ],
   "metadata": {
    "collapsed": false,
    "pycharm": {
     "name": "#%% Load ds  - load all profiles\n"
    }
   }
  },
  {
   "cell_type": "code",
   "execution_count": 23,
   "outputs": [],
   "source": [
    "if LOAD_LIDAR_DS:\n",
    "\tprint( 'Load range corr per channel')\n",
    "\tnetcdf = lidar_ncpaths[0]\n",
    "\tds_load_pr2_chan = prep.load_dataset(netcdf)\n",
    "\tprint(ds_load_pr2_chan)"
   ],
   "metadata": {
    "collapsed": false,
    "pycharm": {
     "name": "#%% Load profile_ds\n"
    }
   }
  },
  {
   "cell_type": "code",
   "execution_count": 24,
   "outputs": [],
   "source": [
    "VIS_LIDAR_DS = False\n",
    "if VIS_LIDAR_DS:\n",
    "\tprint('visualizing with range_plot bounding values:')\n",
    "\twavelengths = ds_range_corr_daily.Wavelength.values.tolist()\n",
    "\tfor wav in wavelengths:\n",
    "\n",
    "\t\t prep.visualize_ds_profile_chan(ds_range_corr_daily, wav,profile_type = 'range_corr', USE_RANGE='MID')\n"
   ],
   "metadata": {
    "collapsed": false,
    "pycharm": {
     "name": "#%% VISUALIZE LIDAR DATASET RANGE CORRECTED\n"
    }
   }
  },
  {
   "cell_type": "code",
   "execution_count": 25,
   "outputs": [],
   "source": [
    "TEST_PROFILES_PATHS=False\n",
    "if TEST_PROFILES_PATHS:\n",
    "\tprofiles_paths = prep.get_TROPOS_dataset_paths(haifa_station.lidar_src_folder, day_date, file_type = 'profiles')\n",
    "\tprint(profiles_paths)\n",
    "\tprof_path = profiles_paths[0]"
   ],
   "metadata": {
    "collapsed": false,
    "pycharm": {
     "name": "#%%\n"
    }
   }
  },
  {
   "cell_type": "code",
   "execution_count": 26,
   "outputs": [],
   "source": [
    "## AERONET : https://aeronet.gsfc.nasa.gov/cgi-bin/data_display_aod_v3?site=Technion_Haifa_IL&nachal=0&year=2017&month=5&day=19&aero_water=0&level=3&if_day=0&if_err=0&place_code=10&DATA_TYPE=-999&year_or_month=3\n",
    "## it is possible to merge with Terra MODIS or Aqua MODIS -\n",
    "# / TODO: locate the function that does donwload of sunphotometer data to cameranetwork (maybe Shubi knows this)\n",
    "# / TODO: ask about the relevant product from MODIS to our porpose."
   ],
   "metadata": {
    "collapsed": false,
    "pycharm": {
     "name": "#%% TODOS:\n"
    }
   }
  }
 ],
 "metadata": {
  "kernelspec": {
   "name": "lidar",
   "language": "python",
   "display_name": "lidar"
  },
  "language_info": {
   "codemirror_mode": {
    "name": "ipython",
    "version": 2
   },
   "file_extension": ".py",
   "mimetype": "text/x-python",
   "name": "python",
   "nbconvert_exporter": "python",
   "pygments_lexer": "ipython2",
   "version": "2.7.6"
  }
 },
 "nbformat": 4,
 "nbformat_minor": 0
}