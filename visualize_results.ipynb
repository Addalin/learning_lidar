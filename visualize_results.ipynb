{
 "cells": [
  {
   "cell_type": "code",
   "execution_count": 1,
   "metadata": {
    "pycharm": {
     "is_executing": false
    }
   },
   "outputs": [
    {
     "ename": "KeyError",
     "evalue": "'DISPLAY'",
     "traceback": [
      "\u001b[1;31m\u001b[0m",
      "\u001b[1;31mKeyError\u001b[0mTraceback (most recent call last)",
      "\u001b[1;32m<ipython-input-1-ba0b388e644a>\u001b[0m in \u001b[0;36m<module>\u001b[1;34m()\u001b[0m\n\u001b[0;32m      1\u001b[0m \u001b[1;33m\u001b[0m\u001b[0m\n\u001b[0;32m      2\u001b[0m \u001b[1;32mimport\u001b[0m \u001b[0mos\u001b[0m\u001b[1;33m\u001b[0m\u001b[0m\n\u001b[1;32m----> 3\u001b[1;33m \u001b[1;32mprint\u001b[0m \u001b[0mos\u001b[0m\u001b[1;33m.\u001b[0m\u001b[0menviron\u001b[0m\u001b[1;33m[\u001b[0m\u001b[1;34m\"DISPLAY\"\u001b[0m\u001b[1;33m]\u001b[0m\u001b[1;33m\u001b[0m\u001b[0m\n\u001b[0m\u001b[0;32m      4\u001b[0m \u001b[0mget_ipython\u001b[0m\u001b[1;33m(\u001b[0m\u001b[1;33m)\u001b[0m\u001b[1;33m.\u001b[0m\u001b[0mmagic\u001b[0m\u001b[1;33m(\u001b[0m\u001b[1;34mu'matplotlib inline'\u001b[0m\u001b[1;33m)\u001b[0m\u001b[1;33m\u001b[0m\u001b[0m\n\u001b[0;32m      5\u001b[0m \u001b[1;32mimport\u001b[0m \u001b[0mmatplotlib\u001b[0m\u001b[1;33m.\u001b[0m\u001b[0mpyplot\u001b[0m \u001b[1;32mas\u001b[0m \u001b[0mplt\u001b[0m\u001b[1;33m\u001b[0m\u001b[0m\n",
      "\u001b[1;32mC:\\ProgramData\\Anaconda2\\envs\\pyshdom\\lib\\os.pyc\u001b[0m in \u001b[0;36m__getitem__\u001b[1;34m(self, key)\u001b[0m\n\u001b[0;32m    423\u001b[0m                 \u001b[0mself\u001b[0m\u001b[1;33m.\u001b[0m\u001b[0mdata\u001b[0m\u001b[1;33m[\u001b[0m\u001b[0mkey\u001b[0m\u001b[1;33m.\u001b[0m\u001b[0mupper\u001b[0m\u001b[1;33m(\u001b[0m\u001b[1;33m)\u001b[0m\u001b[1;33m]\u001b[0m \u001b[1;33m=\u001b[0m \u001b[0mitem\u001b[0m\u001b[1;33m\u001b[0m\u001b[0m\n\u001b[0;32m    424\u001b[0m             \u001b[1;32mdef\u001b[0m \u001b[0m__getitem__\u001b[0m\u001b[1;33m(\u001b[0m\u001b[0mself\u001b[0m\u001b[1;33m,\u001b[0m \u001b[0mkey\u001b[0m\u001b[1;33m)\u001b[0m\u001b[1;33m:\u001b[0m\u001b[1;33m\u001b[0m\u001b[0m\n\u001b[1;32m--> 425\u001b[1;33m                 \u001b[1;32mreturn\u001b[0m \u001b[0mself\u001b[0m\u001b[1;33m.\u001b[0m\u001b[0mdata\u001b[0m\u001b[1;33m[\u001b[0m\u001b[0mkey\u001b[0m\u001b[1;33m.\u001b[0m\u001b[0mupper\u001b[0m\u001b[1;33m(\u001b[0m\u001b[1;33m)\u001b[0m\u001b[1;33m]\u001b[0m\u001b[1;33m\u001b[0m\u001b[0m\n\u001b[0m\u001b[0;32m    426\u001b[0m             \u001b[1;32mtry\u001b[0m\u001b[1;33m:\u001b[0m\u001b[1;33m\u001b[0m\u001b[0m\n\u001b[0;32m    427\u001b[0m                 \u001b[0munsetenv\u001b[0m\u001b[1;33m\u001b[0m\u001b[0m\n",
      "\u001b[1;31mKeyError\u001b[0m: 'DISPLAY'"
     ],
     "output_type": "error"
    }
   ],
   "source": [
    "import os\n",
    "print os.environ[\"DISPLAY\"]\n",
    "%matplotlib inline\n",
    "import matplotlib.pyplot as plt\n",
    "import numpy as np\n",
    "plt.rcParams['figure.figsize'] = (8.0, 8.0)\n",
    "import pandas as pd\n",
    "import pickle\n",
    "import scipy.io as sio\n",
    "from shdom.generate_atmosphere import TemperatureProfile\n",
    "from shdom.inverse import *\n",
    "from shdom.sensors import SensorNetwork\n",
    "from shdom.utils import loadRGBmeasurements, setupSimulationParameters"
   ]
  },
  {
   "cell_type": "markdown",
   "metadata": {},
   "source": [
    "## Load the Model "
   ]
  },
  {
   "cell_type": "markdown",
   "metadata": {},
   "source": [
    "Note, there is a need to create a model object before loading it."
   ]
  },
  {
   "cell_type": "code",
   "execution_count": null,
   "metadata": {
    "collapsed": true,
    "pycharm": {
     "is_executing": false
    }
   },
   "outputs": [],
   "source": [
    "DATA_PATH = \"2017_04_22_08_30_00\"\n",
    "SOLAR_FLUX = 1.6658941228097737\n",
    "SHDOM_COEFF = 0.01\n",
    "\n",
    "base_path = os.path.join('../saved_states/camera_network', DATA_PATH)\n",
    "config_path = '../configs/atmospheres/camera_network/phase_from_aeronet.yaml'\n",
    "\n",
    "source_params, temp_profile = setupSimulationParameters(base_path, SOLAR_FLUX)\n",
    "model = InverseModel(\n",
    "    config_path=config_path,\n",
    "    source_params=source_params\n",
    ")\n",
    "model.setGrid(base_path, delxy=0.25, num_cam_thresh=3)\n",
    "camera_network = SensorNetwork(data_dir=base_path)"
   ]
  },
  {
   "cell_type": "code",
   "execution_count": null,
   "metadata": {
    "scrolled": false,
    "pycharm": {
     "is_executing": false
    }
   },
   "outputs": [],
   "source": [
    "#model.load_inversion_state('../tests/results/130+/1705071425_4e5c/inversion_state.pkl')\n",
    "#model.load_inversion_state('../tests/results/130+/1705080309_fac9/inversion_state.pkl')\n",
    "#odel.load_inversion_state('../tests/results/131+/1705081122_53a4/inversion_state.pkl')\n",
    "#model.load_inversion_state('../tests/results/131+/1705081339_aa7f/inversion_state.pkl')\n",
    "#model.load_inversion_state('../tests/results/132+/1705082345_976a/inversion_state.pkl')\n",
    "#model.load_inversion_state('../tests/results/133+/1705090719_ef4f/inversion_state_tmp.pkl')\n",
    "#model.load_inversion_state('../tests/results/133+/1705090720_2cd1/inversion_state_tmp.pkl')\n",
    "#model.load_inversion_state('../scripts/results/134+/1705111513_9ada/inversion_state_tmp.pkl')\n",
    "#model.load_inversion_state('../scripts/results/134+/1705111503_432e/inversion_state_tmp.pkl')\n",
    "#model.load_inversion_state('../scripts/results/134+/1705141437_0636/inversion_state_tmp.pkl')\n",
    "#model.load_inversion_state('../scripts/results/134+/1705141546_ff2a/inversion_state_tmp.pkl')\n",
    "#model.load_inversion_state('../scripts/results/134+/1705141610_d1d9/inversion_state_tmp.pkl')\n",
    "#model.load_inversion_state('../scripts/results/135/1705142119_7a66/inversion_state_tmp.pkl')\n",
    "#model.load_inversion_state('../scripts/results/137+/1705291622_db54/inversion_state_tmp.pkl')\n",
    "#model.load_inversion_state('../scripts/results/137+/1705310137_cc46/inversion_state_tmp.pkl')\n",
    "#model.load_inversion_state('../scripts/results/137+/1705310906_770d/inversion_state_tmp.pkl')\n",
    "#model.load_inversion_state('../scripts/results/137+/1705311128_636a/inversion_state_tmp.pkl')\n",
    "#model.load_inversion_state(\"../scripts/results/137+/1706010051_34b6/inversion_state_tmp.pkl\")\n",
    "#model.load_inversion_state(\"../scripts/results/137+/1706011045_39e6/inversion_state_tmp.pkl\")\n",
    "#model.load_inversion_state(\"../scripts/results/137+/1706011046_3f54/inversion_state_tmp.pkl\")\n",
    "#model.load_inversion_state(\"../scripts/results/138/1706050633_c956/inversion_state_tmp.pkl\")\n",
    "#model.load_inversion_state(\"../scripts/results/138+/1706080722_512c/inversion_state_tmp.pkl\")\n",
    "model.load_inversion_state(\"../scripts/results/138+/1706082324_f17f/inversion_state_tmp.pkl\")"
   ]
  },
  {
   "cell_type": "markdown",
   "metadata": {},
   "source": [
    "### There is a need to create the internal structures of SHDOM"
   ]
  },
  {
   "cell_type": "code",
   "execution_count": null,
   "metadata": {
    "scrolled": true,
    "pycharm": {
     "is_executing": false
    }
   },
   "outputs": [],
   "source": [
    "model.initMieTables(refractive_index_flag=True)\n",
    "model.computeOpticalFields()\n",
    "model.solve()"
   ]
  },
  {
   "cell_type": "markdown",
   "metadata": {},
   "source": [
    "### Load the original measurements"
   ]
  },
  {
   "cell_type": "code",
   "execution_count": null,
   "metadata": {
    "collapsed": true,
    "pycharm": {
     "is_executing": false
    }
   },
   "outputs": [],
   "source": [
    "measurements, masks = loadRGBmeasurements(\n",
    "    base_path, shdom_coeff=SHDOM_COEFF)"
   ]
  },
  {
   "cell_type": "markdown",
   "metadata": {},
   "source": [
    "## Plot the Reconstructed vs. Original Images"
   ]
  },
  {
   "cell_type": "code",
   "execution_count": null,
   "metadata": {
    "collapsed": true,
    "pycharm": {
     "is_executing": false
    }
   },
   "outputs": [],
   "source": [
    "imgs = camera_network.getImages(model)"
   ]
  },
  {
   "cell_type": "code",
   "execution_count": null,
   "metadata": {
    "scrolled": false,
    "pycharm": {
     "is_executing": false
    }
   },
   "outputs": [],
   "source": [
    "#\n",
    "# First calculate a value scale for all images.\n",
    "#\n",
    "vmax = 0\n",
    "for img, measurement, mask in zip(imgs, measurements, masks):\n",
    "    imax = img.max()\n",
    "    mmax = (measurement[0] * mask).max()\n",
    "    vmax = max(vmax, max(imax, mmax))\n",
    "        \n",
    "for img, measurement, mask, camera_id in zip(imgs, measurements, masks, camera_network.camera_ids):\n",
    "    f, axes = plt.subplots(ncols=2, figsize=(16, 8))\n",
    "    axes[0].imshow(img, vmax=vmax/10, origin=\"bottom\")\n",
    "    axes[1].imshow(measurement[0] * mask, vmax=vmax/10, origin=\"bottom\")\n",
    "    f.suptitle(camera_id)"
   ]
  },
  {
   "cell_type": "markdown",
   "metadata": {},
   "source": [
    "### 3D visualization"
   ]
  },
  {
   "cell_type": "code",
   "execution_count": null,
   "metadata": {
    "collapsed": true,
    "pycharm": {
     "is_executing": false
    }
   },
   "outputs": [],
   "source": [
    "import mayavi.mlab as mlab\n",
    "\n",
    "def viz3D(data, model, cameras_data):\n",
    "    mlab.figure()\n",
    "    X, Y, Z = np.meshgrid(model.shdom._xgrid[:-1], model.shdom._ygrid[:-1], model.shdom._zgrid, indexing='ij')\n",
    "    src = mlab.pipeline.scalar_field(X, Y, Z, data)\n",
    "    #src.spacing = [1, 1, 1]\n",
    "    src.update_image_data = True\n",
    "    ipw_x = mlab.pipeline.image_plane_widget(src, plane_orientation='x_axes')\n",
    "    ipw_y = mlab.pipeline.image_plane_widget(src, plane_orientation='y_axes')\n",
    "    ipw_z = mlab.pipeline.image_plane_widget(src, plane_orientation='z_axes')\n",
    "    colorbar = mlab.colorbar(title=r'${\\rm km}^{-1}$', orientation='horizontal', label_fmt = '%.2f')\n",
    "    mlab.outline()\n",
    "\n",
    "    for camera_id, (x, y, z) in cameras_data.items():\n",
    "        #\n",
    "        # Draw a point at the camera center.\n",
    "        #\n",
    "        mlab.points3d(\n",
    "            [x], [y], [z],\n",
    "            color=(1, 0, 0), mode='sphere', scale_mode='scalar', scale_factor=.1,\n",
    "        )\n",
    "\n",
    "        mlab.text3d(x, y, z+0.2, camera_id, color=(0, 0, 0), scale=.1)\n",
    "\n",
    "    mlab.show()"
   ]
  },
  {
   "cell_type": "code",
   "execution_count": null,
   "metadata": {
    "collapsed": true,
    "pycharm": {
     "is_executing": false
    }
   },
   "outputs": [],
   "source": [
    "cameras_data = {}\n",
    "for x, y, z, camera_id in zip(\n",
    "    camera_network.x_array,\n",
    "    camera_network.y_array,\n",
    "    camera_network.z_array,\n",
    "    camera_network.camera_ids,\n",
    "    ):\n",
    "    cameras_data[camera_id] = x.flatten()[0], y.flatten()[0], z.flatten()[0]"
   ]
  },
  {
   "cell_type": "code",
   "execution_count": null,
   "metadata": {
    "collapsed": true,
    "pycharm": {
     "is_executing": false
    }
   },
   "outputs": [],
   "source": [
    "with open(\"2017_04_22_09_10_00_grid_0.25.pkl\", \"wb\") as f:\n",
    "    pickle.dump((model.beta_c, cameras_data, model.shdom._xgrid[:-1], model.shdom._ygrid[:-1], model.shdom._zgrid), f)"
   ]
  },
  {
   "cell_type": "code",
   "execution_count": null,
   "metadata": {
    "collapsed": true,
    "pycharm": {
     "is_executing": false
    }
   },
   "outputs": [],
   "source": [
    "viz3D(model.beta_c, model, cameras_data)"
   ]
  },
  {
   "cell_type": "code",
   "execution_count": null,
   "metadata": {
    "collapsed": true,
    "pycharm": {
     "is_executing": false
    }
   },
   "outputs": [],
   "source": [
    "from ipywidgets import interact, interactive, fixed, interact_manual\n",
    "import ipywidgets as widgets"
   ]
  },
  {
   "cell_type": "code",
   "execution_count": null,
   "metadata": {
    "pycharm": {
     "is_executing": false
    }
   },
   "outputs": [],
   "source": [
    "@interact(depth=(0, model.beta_c.shape[-1]-1))\n",
    "def z_slice(depth):\n",
    "    plt.figure()\n",
    "    plt.imshow(model.beta_c[..., depth], origin=\"bottom\")\n",
    "    plt.show()"
   ]
  },
  {
   "cell_type": "markdown",
   "metadata": {},
   "source": [
    "## Average the grid along X-Y plane"
   ]
  },
  {
   "cell_type": "code",
   "execution_count": null,
   "metadata": {
    "pycharm": {
     "is_executing": false
    }
   },
   "outputs": [],
   "source": [
    "plt.plot(model.shdom._zgrid, model.beta_c.mean(axis=0).mean(axis=0))\n",
    "plt.xlabel(\"Height [km]\")\n",
    "plt.ylabel(\"Extinction [1/km]\")\n",
    "plt.xlim(0, 10)\n",
    "plt.ylim(0, 0.14)"
   ]
  },
  {
   "cell_type": "code",
   "execution_count": null,
   "metadata": {
    "pycharm": {
     "is_executing": false
    }
   },
   "outputs": [],
   "source": [
    "def gaussian(center_x, center_y, height=1., width_x=0.1, width_y=0.1):\n",
    "    \"\"\"Returns a gaussian function with the given parameters\"\"\"\n",
    "\n",
    "    def foo(x, y):\n",
    "        g = height*np.exp(-(((center_x-x)/width_x)**2+((center_y-y)/width_y)**2)/2)\n",
    "        return g/g.sum()\n",
    "    \n",
    "    return foo\n",
    "\n",
    "\n",
    "X, Y = np.meshgrid(np.arange(-25, 24), np.arange(-25, 24))\n",
    "g = gaussian(0, 0, width_x=4, width_y=4)(X, Y)\n",
    "plt.imshow(g)\n",
    "print g.sum()"
   ]
  },
  {
   "cell_type": "code",
   "execution_count": null,
   "metadata": {
    "pycharm": {
     "is_executing": false
    }
   },
   "outputs": [],
   "source": [
    "profile = []\n",
    "for i in range(model.beta_c.shape[-1]):\n",
    "    profile.append((g * model.beta_c[:,:,i]).sum())\n",
    "    \n",
    "plt.plot(model.shdom._zgrid, profile)\n",
    "plt.xlabel(\"Height [km]\")\n",
    "plt.ylabel(\"Extinction [1/km]\")\n",
    "plt.xlim(0, 10)"
   ]
  },
  {
   "cell_type": "markdown",
   "metadata": {},
   "source": [
    "## Cost"
   ]
  },
  {
   "cell_type": "code",
   "execution_count": null,
   "metadata": {
    "pycharm": {
     "is_executing": false
    }
   },
   "outputs": [],
   "source": [
    "plt.plot(model.cost)\n",
    "plt.xlabel(\"Iteration\")\n",
    "plt.ylabel(\"Cost\")"
   ]
  },
  {
   "cell_type": "markdown",
   "metadata": {},
   "source": [
    "## Ground truth LIDAR data"
   ]
  },
  {
   "cell_type": "code",
   "execution_count": null,
   "metadata": {
    "pycharm": {
     "is_executing": false
    }
   },
   "outputs": [],
   "source": [
    "lidar_df = pd.read_csv(r\"../../cameranetwork/data/lidar/2017_04_22/-20170422_0800-0900-21smooth.txt\", delimiter=\"\\t\", index_col=0)\n",
    "lidar_df.head()"
   ]
  },
  {
   "cell_type": "code",
   "execution_count": null,
   "metadata": {
    "pycharm": {
     "is_executing": false
    }
   },
   "outputs": [],
   "source": [
    "plt.figure()\n",
    "lidar_df[lidar_df[\"alpha532 (Mm^-1 sr^-1):\"]<0] = 0\n",
    "plt.plot(lidar_df[\"alpha532 (Mm^-1 sr^-1):\"].index, lidar_df[\"alpha532 (Mm^-1 sr^-1):\"]/1000, label=\"LIDAR data\")\n",
    "plt.plot(model.shdom._zgrid, profile, label=\"Narrow mean\")\n",
    "plt.plot(model.shdom._zgrid, model.beta_c.mean(axis=0).mean(axis=0), label=\"Full mean\")\n",
    "plt.ylabel(\"Extinction [1/km]\", fontsize=20)\n",
    "plt.xlabel(\"Height [km]\", fontsize=20)\n",
    "plt.xlim(0, 6)\n",
    "plt.legend()"
   ]
  },
  {
   "cell_type": "code",
   "execution_count": null,
   "metadata": {
    "collapsed": true,
    "pycharm": {
     "is_executing": false
    }
   },
   "outputs": [],
   "source": []
  }
 ],
 "metadata": {
  "anaconda-cloud": {},
  "kernelspec": {
   "display_name": "Python 2",
   "language": "python",
   "name": "python2"
  },
  "language_info": {
   "codemirror_mode": {
    "name": "ipython",
    "version": 2
   },
   "file_extension": ".py",
   "mimetype": "text/x-python",
   "name": "python",
   "nbconvert_exporter": "python",
   "pygments_lexer": "ipython2",
   "version": "2.7.15"
  }
 },
 "nbformat": 4,
 "nbformat_minor": 1
}